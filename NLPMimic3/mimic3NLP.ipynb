{
 "cells": [
  {
   "cell_type": "code",
   "execution_count": 1,
   "metadata": {},
   "outputs": [
    {
     "data": {
      "text/plain": [
       "['Collecting https://s3-us-west-2.amazonaws.com/ai2-s2-scispacy/releases/v0.5.4/en_ner_bc5cdr_md-0.5.4.tar.gz',\n",
       " '  Using cached https://s3-us-west-2.amazonaws.com/ai2-s2-scispacy/releases/v0.5.4/en_ner_bc5cdr_md-0.5.4.tar.gz (119.8 MB)',\n",
       " '  Preparing metadata (setup.py): started',\n",
       " \"  Preparing metadata (setup.py): finished with status 'done'\",\n",
       " 'Requirement already satisfied: psycopg2-binary in c:\\\\users\\\\hazim\\\\appdata\\\\local\\\\programs\\\\python\\\\python311\\\\lib\\\\site-packages (2.9.6)',\n",
       " 'Requirement already satisfied: pandas in c:\\\\users\\\\hazim\\\\appdata\\\\local\\\\programs\\\\python\\\\python311\\\\lib\\\\site-packages (1.5.2)',\n",
       " 'Requirement already satisfied: medspacy in c:\\\\users\\\\hazim\\\\appdata\\\\local\\\\programs\\\\python\\\\python311\\\\lib\\\\site-packages (1.3.1)',\n",
       " 'Requirement already satisfied: gensim in c:\\\\users\\\\hazim\\\\appdata\\\\local\\\\programs\\\\python\\\\python311\\\\lib\\\\site-packages (4.3.3)',\n",
       " 'Requirement already satisfied: sklearn in c:\\\\users\\\\hazim\\\\appdata\\\\local\\\\programs\\\\python\\\\python311\\\\lib\\\\site-packages (0.0.post1)',\n",
       " 'Requirement already satisfied: matplotlib in c:\\\\users\\\\hazim\\\\appdata\\\\local\\\\programs\\\\python\\\\python311\\\\lib\\\\site-packages (3.6.2)',\n",
       " 'Requirement already satisfied: spacy in c:\\\\users\\\\hazim\\\\appdata\\\\local\\\\programs\\\\python\\\\python311\\\\lib\\\\site-packages (3.7.5)',\n",
       " 'Requirement already satisfied: scispacy in c:\\\\users\\\\hazim\\\\appdata\\\\local\\\\programs\\\\python\\\\python311\\\\lib\\\\site-packages (0.5.5)',\n",
       " 'Requirement already satisfied: plotly in c:\\\\users\\\\hazim\\\\appdata\\\\local\\\\programs\\\\python\\\\python311\\\\lib\\\\site-packages (6.0.0)',\n",
       " 'Requirement already satisfied: python-dateutil>=2.8.1 in c:\\\\users\\\\hazim\\\\appdata\\\\local\\\\programs\\\\python\\\\python311\\\\lib\\\\site-packages (from pandas) (2.8.2)',\n",
       " 'Requirement already satisfied: pytz>=2020.1 in c:\\\\users\\\\hazim\\\\appdata\\\\local\\\\programs\\\\python\\\\python311\\\\lib\\\\site-packages (from pandas) (2022.6)',\n",
       " 'Requirement already satisfied: numpy>=1.21.0 in c:\\\\users\\\\hazim\\\\appdata\\\\local\\\\programs\\\\python\\\\python311\\\\lib\\\\site-packages (from pandas) (1.23.5)',\n",
       " 'Requirement already satisfied: PyRuSH>=1.0.8 in c:\\\\users\\\\hazim\\\\appdata\\\\local\\\\programs\\\\python\\\\python311\\\\lib\\\\site-packages (from medspacy) (1.0.9)',\n",
       " 'Requirement already satisfied: pysbd==0.3.4 in c:\\\\users\\\\hazim\\\\appdata\\\\local\\\\programs\\\\python\\\\python311\\\\lib\\\\site-packages (from medspacy) (0.3.4)',\n",
       " 'Requirement already satisfied: jsonschema in c:\\\\users\\\\hazim\\\\appdata\\\\local\\\\programs\\\\python\\\\python311\\\\lib\\\\site-packages (from medspacy) (4.17.1)',\n",
       " 'Requirement already satisfied: medspacy_quickumls==3.2 in c:\\\\users\\\\hazim\\\\appdata\\\\local\\\\programs\\\\python\\\\python311\\\\lib\\\\site-packages (from medspacy) (3.2)',\n",
       " 'Requirement already satisfied: unidecode>=0.4.19 in c:\\\\users\\\\hazim\\\\appdata\\\\local\\\\programs\\\\python\\\\python311\\\\lib\\\\site-packages (from medspacy_quickumls==3.2->medspacy) (1.3.8)',\n",
       " 'Requirement already satisfied: nltk>=3.3 in c:\\\\users\\\\hazim\\\\appdata\\\\local\\\\programs\\\\python\\\\python311\\\\lib\\\\site-packages (from medspacy_quickumls==3.2->medspacy) (3.7)',\n",
       " 'Requirement already satisfied: pysimstring in c:\\\\users\\\\hazim\\\\appdata\\\\local\\\\programs\\\\python\\\\python311\\\\lib\\\\site-packages (from medspacy_quickumls==3.2->medspacy) (1.2.1)',\n",
       " 'Requirement already satisfied: medspacy-unqlite>=0.8.1 in c:\\\\users\\\\hazim\\\\appdata\\\\local\\\\programs\\\\python\\\\python311\\\\lib\\\\site-packages (from medspacy_quickumls==3.2->medspacy) (0.9.6)',\n",
       " 'Requirement already satisfied: pytest>=6 in c:\\\\users\\\\hazim\\\\appdata\\\\local\\\\programs\\\\python\\\\python311\\\\lib\\\\site-packages (from medspacy_quickumls==3.2->medspacy) (8.3.4)',\n",
       " 'Requirement already satisfied: six in c:\\\\users\\\\hazim\\\\appdata\\\\local\\\\programs\\\\python\\\\python311\\\\lib\\\\site-packages (from medspacy_quickumls==3.2->medspacy) (1.16.0)',\n",
       " 'Requirement already satisfied: scipy<1.14.0,>=1.7.0 in c:\\\\users\\\\hazim\\\\appdata\\\\local\\\\programs\\\\python\\\\python311\\\\lib\\\\site-packages (from gensim) (1.9.3)',\n",
       " 'Requirement already satisfied: smart-open>=1.8.1 in c:\\\\users\\\\hazim\\\\appdata\\\\local\\\\programs\\\\python\\\\python311\\\\lib\\\\site-packages (from gensim) (7.1.0)',\n",
       " 'Requirement already satisfied: contourpy>=1.0.1 in c:\\\\users\\\\hazim\\\\appdata\\\\local\\\\programs\\\\python\\\\python311\\\\lib\\\\site-packages (from matplotlib) (1.0.6)',\n",
       " 'Requirement already satisfied: cycler>=0.10 in c:\\\\users\\\\hazim\\\\appdata\\\\local\\\\programs\\\\python\\\\python311\\\\lib\\\\site-packages (from matplotlib) (0.11.0)',\n",
       " 'Requirement already satisfied: fonttools>=4.22.0 in c:\\\\users\\\\hazim\\\\appdata\\\\local\\\\programs\\\\python\\\\python311\\\\lib\\\\site-packages (from matplotlib) (4.38.0)',\n",
       " 'Requirement already satisfied: kiwisolver>=1.0.1 in c:\\\\users\\\\hazim\\\\appdata\\\\local\\\\programs\\\\python\\\\python311\\\\lib\\\\site-packages (from matplotlib) (1.4.4)',\n",
       " 'Requirement already satisfied: packaging>=20.0 in c:\\\\users\\\\hazim\\\\appdata\\\\local\\\\programs\\\\python\\\\python311\\\\lib\\\\site-packages (from matplotlib) (21.3)',\n",
       " 'Requirement already satisfied: pillow>=6.2.0 in c:\\\\users\\\\hazim\\\\appdata\\\\local\\\\programs\\\\python\\\\python311\\\\lib\\\\site-packages (from matplotlib) (10.4.0)',\n",
       " 'Requirement already satisfied: pyparsing>=2.2.1 in c:\\\\users\\\\hazim\\\\appdata\\\\local\\\\programs\\\\python\\\\python311\\\\lib\\\\site-packages (from matplotlib) (3.0.9)',\n",
       " 'Requirement already satisfied: spacy-legacy<3.1.0,>=3.0.11 in c:\\\\users\\\\hazim\\\\appdata\\\\local\\\\programs\\\\python\\\\python311\\\\lib\\\\site-packages (from spacy) (3.0.12)',\n",
       " 'Requirement already satisfied: spacy-loggers<2.0.0,>=1.0.0 in c:\\\\users\\\\hazim\\\\appdata\\\\local\\\\programs\\\\python\\\\python311\\\\lib\\\\site-packages (from spacy) (1.0.5)',\n",
       " 'Requirement already satisfied: murmurhash<1.1.0,>=0.28.0 in c:\\\\users\\\\hazim\\\\appdata\\\\local\\\\programs\\\\python\\\\python311\\\\lib\\\\site-packages (from spacy) (1.0.12)',\n",
       " 'Requirement already satisfied: cymem<2.1.0,>=2.0.2 in c:\\\\users\\\\hazim\\\\appdata\\\\local\\\\programs\\\\python\\\\python311\\\\lib\\\\site-packages (from spacy) (2.0.11)',\n",
       " 'Requirement already satisfied: preshed<3.1.0,>=3.0.2 in c:\\\\users\\\\hazim\\\\appdata\\\\local\\\\programs\\\\python\\\\python311\\\\lib\\\\site-packages (from spacy) (3.0.9)',\n",
       " 'Requirement already satisfied: thinc<8.3.0,>=8.2.2 in c:\\\\users\\\\hazim\\\\appdata\\\\local\\\\programs\\\\python\\\\python311\\\\lib\\\\site-packages (from spacy) (8.2.5)',\n",
       " 'Requirement already satisfied: wasabi<1.2.0,>=0.9.1 in c:\\\\users\\\\hazim\\\\appdata\\\\local\\\\programs\\\\python\\\\python311\\\\lib\\\\site-packages (from spacy) (1.1.3)',\n",
       " 'Requirement already satisfied: srsly<3.0.0,>=2.4.3 in c:\\\\users\\\\hazim\\\\appdata\\\\local\\\\programs\\\\python\\\\python311\\\\lib\\\\site-packages (from spacy) (2.5.1)',\n",
       " 'Requirement already satisfied: catalogue<2.1.0,>=2.0.6 in c:\\\\users\\\\hazim\\\\appdata\\\\local\\\\programs\\\\python\\\\python311\\\\lib\\\\site-packages (from spacy) (2.0.10)',\n",
       " 'Requirement already satisfied: weasel<0.5.0,>=0.1.0 in c:\\\\users\\\\hazim\\\\appdata\\\\local\\\\programs\\\\python\\\\python311\\\\lib\\\\site-packages (from spacy) (0.4.1)',\n",
       " 'Requirement already satisfied: typer<1.0.0,>=0.3.0 in c:\\\\users\\\\hazim\\\\appdata\\\\local\\\\programs\\\\python\\\\python311\\\\lib\\\\site-packages (from spacy) (0.15.1)',\n",
       " 'Requirement already satisfied: tqdm<5.0.0,>=4.38.0 in c:\\\\users\\\\hazim\\\\appdata\\\\local\\\\programs\\\\python\\\\python311\\\\lib\\\\site-packages (from spacy) (4.64.1)',\n",
       " 'Requirement already satisfied: requests<3.0.0,>=2.13.0 in c:\\\\users\\\\hazim\\\\appdata\\\\local\\\\programs\\\\python\\\\python311\\\\lib\\\\site-packages (from spacy) (2.28.1)',\n",
       " 'Requirement already satisfied: pydantic!=1.8,!=1.8.1,<3.0.0,>=1.7.4 in c:\\\\users\\\\hazim\\\\appdata\\\\local\\\\programs\\\\python\\\\python311\\\\lib\\\\site-packages (from spacy) (1.10.9)',\n",
       " 'Requirement already satisfied: jinja2 in c:\\\\users\\\\hazim\\\\appdata\\\\local\\\\programs\\\\python\\\\python311\\\\lib\\\\site-packages (from spacy) (3.1.2)',\n",
       " 'Requirement already satisfied: setuptools in c:\\\\users\\\\hazim\\\\appdata\\\\local\\\\programs\\\\python\\\\python311\\\\lib\\\\site-packages (from spacy) (65.5.0)',\n",
       " 'Requirement already satisfied: langcodes<4.0.0,>=3.2.0 in c:\\\\users\\\\hazim\\\\appdata\\\\local\\\\programs\\\\python\\\\python311\\\\lib\\\\site-packages (from spacy) (3.5.0)',\n",
       " 'Requirement already satisfied: conllu in c:\\\\users\\\\hazim\\\\appdata\\\\local\\\\programs\\\\python\\\\python311\\\\lib\\\\site-packages (from scispacy) (6.0.0)',\n",
       " 'Requirement already satisfied: joblib in c:\\\\users\\\\hazim\\\\appdata\\\\local\\\\programs\\\\python\\\\python311\\\\lib\\\\site-packages (from scispacy) (1.2.0)',\n",
       " 'Requirement already satisfied: scikit-learn>=0.20.3 in c:\\\\users\\\\hazim\\\\appdata\\\\local\\\\programs\\\\python\\\\python311\\\\lib\\\\site-packages (from scispacy) (1.1.3)',\n",
       " 'Requirement already satisfied: nmslib-metabrainz==2.1.3 in c:\\\\users\\\\hazim\\\\appdata\\\\local\\\\programs\\\\python\\\\python311\\\\lib\\\\site-packages (from scispacy) (2.1.3)',\n",
       " 'Requirement already satisfied: pybind11>=2.2.3 in c:\\\\users\\\\hazim\\\\appdata\\\\local\\\\programs\\\\python\\\\python311\\\\lib\\\\site-packages (from nmslib-metabrainz==2.1.3->scispacy) (2.13.6)',\n",
       " 'Requirement already satisfied: psutil in c:\\\\users\\\\hazim\\\\appdata\\\\local\\\\programs\\\\python\\\\python311\\\\lib\\\\site-packages (from nmslib-metabrainz==2.1.3->scispacy) (5.9.4)',\n",
       " 'Requirement already satisfied: narwhals>=1.15.1 in c:\\\\users\\\\hazim\\\\appdata\\\\local\\\\programs\\\\python\\\\python311\\\\lib\\\\site-packages (from plotly) (1.27.1)',\n",
       " 'Requirement already satisfied: language-data>=1.2 in c:\\\\users\\\\hazim\\\\appdata\\\\local\\\\programs\\\\python\\\\python311\\\\lib\\\\site-packages (from langcodes<4.0.0,>=3.2.0->spacy) (1.3.0)',\n",
       " 'Requirement already satisfied: typing-extensions>=4.2.0 in c:\\\\users\\\\hazim\\\\appdata\\\\local\\\\programs\\\\python\\\\python311\\\\lib\\\\site-packages (from pydantic!=1.8,!=1.8.1,<3.0.0,>=1.7.4->spacy) (4.9.0)',\n",
       " 'Requirement already satisfied: Cython in c:\\\\users\\\\hazim\\\\appdata\\\\local\\\\programs\\\\python\\\\python311\\\\lib\\\\site-packages (from PyRuSH>=1.0.8->medspacy) (3.0.11)',\n",
       " 'Requirement already satisfied: PyFastNER>=1.0.8 in c:\\\\users\\\\hazim\\\\appdata\\\\local\\\\programs\\\\python\\\\python311\\\\lib\\\\site-packages (from PyRuSH>=1.0.8->medspacy) (1.0.10)',\n",
       " 'Requirement already satisfied: quicksectx>=0.3.5 in c:\\\\users\\\\hazim\\\\appdata\\\\local\\\\programs\\\\python\\\\python311\\\\lib\\\\site-packages (from PyRuSH>=1.0.8->medspacy) (0.4.0)',\n",
       " 'Requirement already satisfied: charset-normalizer<3,>=2 in c:\\\\users\\\\hazim\\\\appdata\\\\local\\\\programs\\\\python\\\\python311\\\\lib\\\\site-packages (from requests<3.0.0,>=2.13.0->spacy) (2.1.1)',\n",
       " 'Requirement already satisfied: idna<4,>=2.5 in c:\\\\users\\\\hazim\\\\appdata\\\\local\\\\programs\\\\python\\\\python311\\\\lib\\\\site-packages (from requests<3.0.0,>=2.13.0->spacy) (3.4)',\n",
       " 'Requirement already satisfied: urllib3<1.27,>=1.21.1 in c:\\\\users\\\\hazim\\\\appdata\\\\local\\\\programs\\\\python\\\\python311\\\\lib\\\\site-packages (from requests<3.0.0,>=2.13.0->spacy) (1.26.12)',\n",
       " 'Requirement already satisfied: certifi>=2017.4.17 in c:\\\\users\\\\hazim\\\\appdata\\\\local\\\\programs\\\\python\\\\python311\\\\lib\\\\site-packages (from requests<3.0.0,>=2.13.0->spacy) (2022.9.24)',\n",
       " 'Requirement already satisfied: threadpoolctl>=2.0.0 in c:\\\\users\\\\hazim\\\\appdata\\\\local\\\\programs\\\\python\\\\python311\\\\lib\\\\site-packages (from scikit-learn>=0.20.3->scispacy) (3.1.0)',\n",
       " 'Requirement already satisfied: wrapt in c:\\\\users\\\\hazim\\\\appdata\\\\local\\\\programs\\\\python\\\\python311\\\\lib\\\\site-packages (from smart-open>=1.8.1->gensim) (1.17.2)',\n",
       " 'Requirement already satisfied: blis<0.8.0,>=0.7.8 in c:\\\\users\\\\hazim\\\\appdata\\\\local\\\\programs\\\\python\\\\python311\\\\lib\\\\site-packages (from thinc<8.3.0,>=8.2.2->spacy) (0.7.11)',\n",
       " 'Requirement already satisfied: confection<1.0.0,>=0.0.1 in c:\\\\users\\\\hazim\\\\appdata\\\\local\\\\programs\\\\python\\\\python311\\\\lib\\\\site-packages (from thinc<8.3.0,>=8.2.2->spacy) (0.1.5)',\n",
       " 'Requirement already satisfied: colorama in c:\\\\users\\\\hazim\\\\appdata\\\\local\\\\programs\\\\python\\\\python311\\\\lib\\\\site-packages (from tqdm<5.0.0,>=4.38.0->spacy) (0.4.6)',\n",
       " 'Requirement already satisfied: click>=8.0.0 in c:\\\\users\\\\hazim\\\\appdata\\\\local\\\\programs\\\\python\\\\python311\\\\lib\\\\site-packages (from typer<1.0.0,>=0.3.0->spacy) (8.1.3)',\n",
       " 'Requirement already satisfied: shellingham>=1.3.0 in c:\\\\users\\\\hazim\\\\appdata\\\\local\\\\programs\\\\python\\\\python311\\\\lib\\\\site-packages (from typer<1.0.0,>=0.3.0->spacy) (1.5.4)',\n",
       " 'Requirement already satisfied: rich>=10.11.0 in c:\\\\users\\\\hazim\\\\appdata\\\\local\\\\programs\\\\python\\\\python311\\\\lib\\\\site-packages (from typer<1.0.0,>=0.3.0->spacy) (13.9.4)',\n",
       " 'Requirement already satisfied: cloudpathlib<1.0.0,>=0.7.0 in c:\\\\users\\\\hazim\\\\appdata\\\\local\\\\programs\\\\python\\\\python311\\\\lib\\\\site-packages (from weasel<0.5.0,>=0.1.0->spacy) (0.20.0)',\n",
       " 'Requirement already satisfied: MarkupSafe>=2.0 in c:\\\\users\\\\hazim\\\\appdata\\\\local\\\\programs\\\\python\\\\python311\\\\lib\\\\site-packages (from jinja2->spacy) (2.1.1)',\n",
       " 'Requirement already satisfied: attrs>=17.4.0 in c:\\\\users\\\\hazim\\\\appdata\\\\local\\\\programs\\\\python\\\\python311\\\\lib\\\\site-packages (from jsonschema->medspacy) (22.1.0)',\n",
       " 'Requirement already satisfied: pyrsistent!=0.17.0,!=0.17.1,!=0.17.2,>=0.14.0 in c:\\\\users\\\\hazim\\\\appdata\\\\local\\\\programs\\\\python\\\\python311\\\\lib\\\\site-packages (from jsonschema->medspacy) (0.19.2)',\n",
       " 'Requirement already satisfied: marisa-trie>=1.1.0 in c:\\\\users\\\\hazim\\\\appdata\\\\local\\\\programs\\\\python\\\\python311\\\\lib\\\\site-packages (from language-data>=1.2->langcodes<4.0.0,>=3.2.0->spacy) (1.2.1)',\n",
       " 'Requirement already satisfied: regex>=2021.8.3 in c:\\\\users\\\\hazim\\\\appdata\\\\local\\\\programs\\\\python\\\\python311\\\\lib\\\\site-packages (from nltk>=3.3->medspacy_quickumls==3.2->medspacy) (2022.10.31)',\n",
       " 'Requirement already satisfied: iniconfig in c:\\\\users\\\\hazim\\\\appdata\\\\local\\\\programs\\\\python\\\\python311\\\\lib\\\\site-packages (from pytest>=6->medspacy_quickumls==3.2->medspacy) (2.0.0)',\n",
       " 'Requirement already satisfied: pluggy<2,>=1.5 in c:\\\\users\\\\hazim\\\\appdata\\\\local\\\\programs\\\\python\\\\python311\\\\lib\\\\site-packages (from pytest>=6->medspacy_quickumls==3.2->medspacy) (1.5.0)',\n",
       " 'Requirement already satisfied: markdown-it-py>=2.2.0 in c:\\\\users\\\\hazim\\\\appdata\\\\local\\\\programs\\\\python\\\\python311\\\\lib\\\\site-packages (from rich>=10.11.0->typer<1.0.0,>=0.3.0->spacy) (3.0.0)',\n",
       " 'Requirement already satisfied: pygments<3.0.0,>=2.13.0 in c:\\\\users\\\\hazim\\\\appdata\\\\local\\\\programs\\\\python\\\\python311\\\\lib\\\\site-packages (from rich>=10.11.0->typer<1.0.0,>=0.3.0->spacy) (2.13.0)',\n",
       " 'Requirement already satisfied: mdurl~=0.1 in c:\\\\users\\\\hazim\\\\appdata\\\\local\\\\programs\\\\python\\\\python311\\\\lib\\\\site-packages (from markdown-it-py>=2.2.0->rich>=10.11.0->typer<1.0.0,>=0.3.0->spacy) (0.1.2)',\n",
       " '',\n",
       " '[notice] A new release of pip is available: 24.1.2 -> 25.0.1',\n",
       " '[notice] To update, run: python.exe -m pip install --upgrade pip']"
      ]
     },
     "execution_count": 1,
     "metadata": {},
     "output_type": "execute_result"
    }
   ],
   "source": [
    "!!pip install psycopg2-binary pandas medspacy gensim sklearn matplotlib spacy scispacy plotly https://s3-us-west-2.amazonaws.com/ai2-s2-scispacy/releases/v0.5.4/en_ner_bc5cdr_md-0.5.4.tar.gz"
   ]
  },
  {
   "cell_type": "markdown",
   "metadata": {},
   "source": [
    "### Loading Relevant Notes from Postgres Mimic III DB"
   ]
  },
  {
   "cell_type": "code",
   "execution_count": 2,
   "metadata": {},
   "outputs": [],
   "source": [
    "import getpass\n",
    "pg_pass = getpass.getpass(prompt=\"Postgres DB Password: \")"
   ]
  },
  {
   "cell_type": "code",
   "execution_count": 36,
   "metadata": {},
   "outputs": [
    {
     "name": "stderr",
     "output_type": "stream",
     "text": [
      "<timed exec>:19: UserWarning:\n",
      "\n",
      "pandas only supports SQLAlchemy connectable (engine/connection) or database string URI or sqlite3 DBAPI2 connection. Other DBAPI2 objects are not tested. Please consider using SQLAlchemy.\n",
      "\n"
     ]
    },
    {
     "name": "stdout",
     "output_type": "stream",
     "text": [
      "Retrieved 11942 migrane-related notes\n",
      "CPU times: total: 250 ms\n",
      "Wall time: 2.69 s\n"
     ]
    }
   ],
   "source": [
    "%%time\n",
    "import psycopg2\n",
    "import pandas as pd\n",
    "\n",
    "# Replace with your actual database credentials\n",
    "conn = psycopg2.connect(\n",
    "    dbname=\"mimic\",\n",
    "    user=\"postgres\",\n",
    "    password=pg_pass,\n",
    "    host=\"localhost\"\n",
    ")\n",
    "\n",
    "query = \"\"\"\n",
    "SELECT ne.*\n",
    "FROM mimiciii.NOTEEVENTS ne\n",
    "JOIN mimiciii.DIAGNOSES_ICD di ON ne.hadm_id = di.hadm_id\n",
    "WHERE di.icd9_code LIKE '346%'\n",
    "\"\"\"\n",
    "\n",
    "df_notes = pd.read_sql(query, conn)\n",
    "conn.close()\n",
    "\n",
    "print(f\"Retrieved {len(df_notes)} migrane-related notes\")"
   ]
  },
  {
   "cell_type": "code",
   "execution_count": 10,
   "metadata": {},
   "outputs": [
    {
     "name": "stdout",
     "output_type": "stream",
     "text": [
      "Final df has 5200 entries\n"
     ]
    }
   ],
   "source": [
    "# Sample a subset of the retrieved notes:\n",
    "df_notes = df_notes.sample(n=5200, random_state=42)\n",
    "print(f\"Final df has {len(df_notes)} entries\")\n"
   ]
  },
  {
   "cell_type": "code",
   "execution_count": 11,
   "metadata": {},
   "outputs": [
    {
     "name": "stdout",
     "output_type": "stream",
     "text": [
      "65 yo F w/ hx of 4mm L MCA aneurysm s/p failed stent ([**3-18**]) now s/p\n",
      "   left craniotomy for clipping of left MCA aneurysm w/ expressive aphasia\n",
      "   starting 2 days post-op.\n",
      "   PMHx:\n",
      "   PMH: migraines, HTN, gerd, DM2 (diet control), hx of MI ([**2182**]), high\n",
      "   cholesterol\n",
      "   PSH: cholecystectomy, kidney fistula repair, hysterectomy, trigger\n",
      "   finger surgery\n",
      "   Aneurysm, other\n",
      "   Assessment:\n",
      "   A&OX1 Able to state name. When asked birthdate states name w/ jumbled\n",
      "   numbers and numbers when asked where she is. Aware she has difficulty\n",
      "   word finding saying, Oh I can\n",
      "t say it.\n",
      "   MAE no drift noted. Tongue midline no facial droop noted. When states\n",
      "   name speech clear.\n",
      "   C/O headache this afternoon.\n",
      "   Staple D&I. old bruising around eyes.\n",
      "   Difficulty this am swallowing pills. Able to tolerate thin liquids.\n",
      "   Action:\n",
      "   Sicu team notified of swallowing diff. Meds held and changed to IV.\n",
      "   Eval ordered and completed.\n",
      "   Q4hr neuro checks.\n",
      "   CTA/CTP of the head ordered and completed.\n",
      "   Response:\n",
      "   Continues to have expressive aphasia.\n",
      "   Ct stable no changes.\n",
      "   Diet changed to take pills whole in puree. Can have thin liq.\n",
      "   Family spoke w/ Dr. [**First Name (STitle) 363**] re prognosis.\n",
      "   Plan:\n",
      "   Neuro checks as ordered.\n",
      "   TX to floor when bed available.\n",
      "   Demographics\n",
      "   Attending MD:\n",
      "   [**First Name4 (NamePattern1) **] [**Last Name (NamePattern1) 629**] J.\n",
      "   Admit diagnosis:\n",
      "   LEFT MIDDLE CEREBRAL ARTERY ANEURYSM/SDA\n",
      "   Code status:\n",
      "   Height:\n",
      "   Admission weight:\n",
      "   60 kg\n",
      "   Daily weight:\n",
      "   59.7 kg\n",
      "   Allergies/Reactions:\n",
      "   No Known Drug Allergies\n",
      "   Precautions:\n",
      "   PMH:\n",
      "   CV-PMH:  Hypertension, MI\n",
      "   Additional history: GERD, Arthritis, Migraines, Mild coagulopathy\n",
      "   Surgery / Procedure and date:\n",
      "   Latest Vital Signs and I/O\n",
      "   Non-invasive BP:\n",
      "   S:113\n",
      "   D:55\n",
      "   Temperature:\n",
      "   98.8\n",
      "   Arterial BP:\n",
      "   S:114\n",
      "   D:110\n",
      "   Respiratory rate:\n",
      "   16 insp/min\n",
      "   Heart Rate:\n",
      "   55 bpm\n",
      "   Heart rhythm:\n",
      "   SB (Sinus Bradycardia)\n",
      "   O2 delivery device:\n",
      "   None\n",
      "   O2 saturation:\n",
      "   98% %\n",
      "   O2 flow:\n",
      "   2 L/min\n",
      "   FiO2 set:\n",
      "   40% %\n",
      "   24h total in:\n",
      "   153 mL\n",
      "   24h total out:\n",
      "   610 mL\n",
      "   Pertinent Lab Results:\n",
      "   Sodium:\n",
      "   140 mEq/L\n",
      "   [**2190-6-29**] 03:05 AM\n",
      "   Potassium:\n",
      "   4.1 mEq/L\n",
      "   [**2190-6-29**] 03:05 AM\n",
      "   Chloride:\n",
      "   102 mEq/L\n",
      "   [**2190-6-29**] 03:05 AM\n",
      "   CO2:\n",
      "   30 mEq/L\n",
      "   [**2190-6-29**] 03:05 AM\n",
      "   BUN:\n",
      "   14 mg/dL\n",
      "   [**2190-6-29**] 03:05 AM\n",
      "   Creatinine:\n",
      "   0.6 mg/dL\n",
      "   [**2190-6-29**] 03:05 AM\n",
      "   Glucose:\n",
      "   188 mg/dL\n",
      "   [**2190-6-29**] 03:05 AM\n",
      "   Hematocrit:\n",
      "   28.3 %\n",
      "   [**2190-6-28**] 02:21 AM\n",
      "   Finger Stick Glucose:\n",
      "   129\n",
      "   [**2190-6-28**] 10:00 PM\n",
      "   Valuables / Signature\n",
      "   Patient valuables:\n",
      "   Other valuables:\n",
      "   Clothes:  Transferred with patient\n",
      "   Wallet / Money:\n",
      "   No money / wallet\n",
      "   Cash / Credit cards sent home with:\n",
      "   Jewelry:\n",
      "   Transferred from: SICU 696\n",
      "   Transferred to: [**Hospital Ward Name 408**] 1121\n",
      "   Date & time of Transfer: [**2190-6-29**] 09:00 PM\n",
      "\n",
      "*****************************************\n",
      "Chief Complaint:\n",
      "   24 Hour Events:\n",
      "   - Sedated, intubated\n",
      "   Allergies:\n",
      "   Ciprofloxacin\n",
      "   Unknown;\n",
      "   Last dose of Antibiotics:\n",
      "   Infusions:\n",
      "   Propofol - 61.6 mcg/Kg/min\n",
      "   Other ICU medications:\n",
      "   Pantoprazole (Protonix) - [**2186-3-18**] 11:20 AM\n",
      "   Metoprolol - [**2186-3-19**] 06:13 AM\n",
      "   Other medications:\n",
      "   Changes to medical and family history:\n",
      "   Review of systems is unchanged from admission except as noted below\n",
      "   Review of systems:\n",
      "   Flowsheet Data as of  [**2186-3-19**] 07:17 AM\n",
      "   Vital signs\n",
      "   Hemodynamic monitoring\n",
      "   Fluid balance\n",
      "                                                                  24 hours\n",
      "                                                               Since [**88**] AM\n",
      "   Tmax: 37.7\n",
      "C (99.8\n",
      "   Tcurrent: 37.4\n",
      "C (99.4\n",
      "   HR: 105 (85 - 127) bpm\n",
      "   BP: 137/73(86) {118/63(76) - 158/97(107)} mmHg\n",
      "   RR: 22 (14 - 25) insp/min\n",
      "   SpO2: 98%\n",
      "   Heart rhythm: ST (Sinus Tachycardia)\n",
      "   Height: 70 Inch\n",
      "    300 cc out of [**Last Name (LF) **], [**First Name3 (LF) **] blood, attg ortho aware\n",
      "   Had 400 cc EBL in OR\n",
      "   +4.7 L LOS\n",
      "   Total In:\n",
      "                                                                  4,224 mL\n",
      "                                                                  1,589 mL\n",
      "   PO:\n",
      "   TF:\n",
      "                                                                    380 mL\n",
      "                                                                    572 mL\n",
      "   IVF:\n",
      "                                                                  3,744 mL\n",
      "                                                                    917 mL\n",
      "   Blood products:\n",
      "   Total out:\n",
      "                                                                  1,455 mL\n",
      "                                                                    650 mL\n",
      "   Urine:\n",
      "                                                                  1,270 mL\n",
      "                                                                    550 mL\n",
      "   NG:\n",
      "   Stool:\n",
      "   Drains:\n",
      "                                                                    185 mL\n",
      "                                                                    100 mL\n",
      "   Balance:\n",
      "                                                                  2,769 mL\n",
      "                                                                    939 mL\n",
      "   Respiratory support\n",
      "   O2 Delivery Device: Endotracheal tube\n",
      "   Ventilator mode: CMV/ASSIST/AutoFlow\n",
      "   Vt (Set): 500 (500 - 500) mL\n",
      "   RR (Set): 14\n",
      "   RR (Spontaneous): 0\n",
      "   PEEP: 5 cmH2O\n",
      "   FiO2: 30%\n",
      "   RSBI: 46\n",
      "   RSBI Deferred: Agitated\n",
      "   PIP: 19 cmH2O\n",
      "   Plateau: 17 cmH2O\n",
      "   SpO2: 98%\n",
      "   ABG: 7.53/37/123/27/8\n",
      "   Ve: 12.5 L/min\n",
      "   PaO2 / FiO2: 410\n",
      "   Physical Examination\n",
      "   Intubated, sedated\n",
      "   S1 S2 no murmur\n",
      "   CTAB\n",
      "   Soft NT ND, dressing C/D/I\n",
      "   [**First Name3 (LF) **] 300 cc [**First Name3 (LF) **] red blood\n",
      "   No edema\n",
      "   Labs / Radiology\n",
      "   273 K/uL\n",
      "   11.0 g/dL\n",
      "   182 mg/dL\n",
      "   0.6 mg/dL\n",
      "   27 mEq/L\n",
      "   3.9 mEq/L\n",
      "   9 mg/dL\n",
      "   107 mEq/L\n",
      "   139 mEq/L\n",
      "   31.7 %\n",
      "   10.6 K/uL\n",
      "        [image002.jpg]\n",
      "                             [**2186-3-16**]  10:03 PM\n",
      "                             [**2186-3-17**]  03:53 AM\n",
      "                             [**2186-3-17**]  04:25 PM\n",
      "                             [**2186-3-17**]  06:43 PM\n",
      "                             [**2186-3-18**]  03:23 AM\n",
      "                             [**2186-3-19**]  03:20 AM\n",
      "                             [**2186-3-19**]  04:48 AM\n",
      "   WBC\n",
      "   16.1\n",
      "   15.0\n",
      "   10.0\n",
      "   10.6\n",
      "   Hct\n",
      "   38.5\n",
      "   38.0\n",
      "   33.3\n",
      "   31.7\n",
      "   Plt\n",
      "   194\n",
      "   175\n",
      "   228\n",
      "   273\n",
      "   Cr\n",
      "   0.7\n",
      "   0.7\n",
      "   0.6\n",
      "   0.6\n",
      "   0.6\n",
      "   TCO2\n",
      "   28\n",
      "   32\n",
      "   Glucose\n",
      "   119\n",
      "   122\n",
      "   102\n",
      "   96\n",
      "   182\n",
      "   Other labs: PT / PTT / INR:11.3/27.3/0.9, CK / CKMB /\n",
      "   Troponin-T:360/5/, ALT / AST:69/49, Alk Phos / T Bili:49/0.6,\n",
      "   Differential-Neuts:84.8 %, Lymph:7.1 %, Mono:7.4 %, Eos:0.5 %,\n",
      "   Albumin:3.6 g/dL, Ca++:7.9 mg/dL, Mg++:1.9 mg/dL, PO4:2.3 mg/dL\n",
      "   Assessment and Plan\n",
      "   47M s/p elective spinal surgery (anterior and posterior LIFs),\n",
      "   intubated for altered MS and inadequate w/d treatment even with high\n",
      "   levels of benzos\n",
      "    # EtOH withdrawal: Pt intubated and sedated, now s/p surgery. Diazepam\n",
      "   d/c\n",
      "d prior to intubation, in favor of Propofol. As Propofol weans,\n",
      "   patient becomes agitated, tachy, hypertensive. Seems to be undertreated\n",
      "   with benzos.\n",
      "   - Restart Diazepam via NGT, 40 mg NG q 2 hours\n",
      "   - Wean Propofol by 5 mcg/kg/hr and watch for withdrawal symptoms\n",
      "   - Goal is to transition patient to PO benzos for w/d management\n",
      "   # Spinal surgery: Completed 2nd stage of surgery yesterday\n",
      "   - f/u surgery recs\n",
      "   - extubate when sedation and paralytics weaned\n",
      "   - avoiding anti-coagulation at this time\n",
      "   - weight bearing orders per surgery preferences\n",
      "   # Hyponatremia: Resolved\n",
      "   # Hepatitis C: Following LFTs. Poor outpatient follow-up in the past\n",
      "   # FEN: Repleting lytes, IV fluid boluses PRN; starting Tube feeds today\n",
      "   # Access: PIV x2\n",
      "   # Ppx: Pneumoboots\n",
      "   # Code: Full\n",
      "   # Dispo: ICU pending above\n",
      "   ICU Care\n",
      "   Nutrition:\n",
      "   Nutren 2.0 (Full) - [**2186-3-19**] 07:06 AM 45 mL/hour\n",
      "   Glycemic Control:\n",
      "   Lines:\n",
      "   18 Gauge - [**2186-3-17**] 01:25 PM\n",
      "   20 Gauge - [**2186-3-17**] 04:31 PM\n",
      "   Prophylaxis:\n",
      "   DVT:\n",
      "   Stress ulcer:\n",
      "   VAP:\n",
      "   Comments:\n",
      "   Communication:  Comments:\n",
      "   Code status:\n",
      "   Disposition:\n",
      "\n",
      "*****************************************\n",
      "42 YO F with headache for 16 days. Pt was put on abx  coverage for\n",
      "   sinus infection. Pt with increased HA last night (pt states [**11-22**] pain)\n",
      "   and called EMS. Pt taken to OSH where CTA showed L supraclinoid ICA\n",
      "   aneurysm. Pt's left eye is dilated and non-reactive with ptosis and is\n",
      "   unable to open. Pt transferred to TSICU for further intervention.\n",
      "   [**3-1**]- Pt taken to neuro angio for possible coiling\n",
      "   Aneurysm, other\n",
      "   Assessment:\n",
      "   Pt is A&OX3, pleasant and cooperative. Follows all commands and moves\n",
      "   all extremities with good strength. Right pupil 3mm, briskly reactive.\n",
      "   Left pupil fully dilated and non-reactive. Pt is unable to open left\n",
      "   eye. When left eye is open, ptosis is present.\n",
      "   Action:\n",
      "   Labs drawn, neuro assessment monitored, foley placed. Pt taken to neuro\n",
      "   angio at 1630 for possible coiling.\n",
      "   Response:\n",
      "   Neuro exam remains unchanged. Pt currently in angio.\n",
      "   Plan:\n",
      "   Monitor neuro exam\n",
      "\n",
      "*****************************************\n",
      "[**2152-12-20**] 7:47 PM\n",
      " SKULL (AP, [**Last Name (un) 2941**] & LAT) TRAUMA                                 Clip # [**Clip Number (Radiology) 82759**]\n",
      " Reason: PLEASE DO A LATERAL SKULL X-RAY (was not a choice in poe [**Last Name (un) **]\n",
      " ______________________________________________________________________________\n",
      " [**Hospital 4**] MEDICAL CONDITION:\n",
      "  58 year old man with pneumocephaly s/p fall.\n",
      " REASON FOR THIS EXAMINATION:\n",
      "  PLEASE DO A LATERAL SKULL X-RAY (was not a choice in poe orders) evaluate\n",
      "  pneumocephaly\n",
      " ______________________________________________________________________________\n",
      "                                 FINAL REPORT\n",
      " INDICATION:  Follow up for pneumocephaly.\n",
      "\n",
      " AP and lateral views of the skull demonstrate a large amount of intrcranial\n",
      " air in the anterior skull, which appears unchanged from prior CT head exam of\n",
      " [**2152-12-19**]. Fluid density is noted in the ethmoid, sphenoid, and frontal sinuses,\n",
      " greater on the right side.\n",
      "\n",
      "\n",
      "\n",
      "*****************************************\n",
      "TITLE:\n",
      "   Chief Complaint:\n",
      "   24 Hour Events:\n",
      "   -Hct stable (28.0 in afternoon, 28.5 at night).\n",
      "   Allergies:\n",
      "   Penicillins\n",
      "   Unknown; Hives;\n",
      "   Aspirin\n",
      "   Hives;\n",
      "   Lipitor (Oral) (Atorvastatin Calcium)\n",
      "   hair loss;\n",
      "   Glucophage (Oral) (Metformin Hcl)\n",
      "   hair loss;\n",
      "   Last dose of Antibiotics:\n",
      "   Infusions:\n",
      "   Other ICU medications:\n",
      "   Pantoprazole (Protonix) - [**2185-12-2**] 08:06 PM\n",
      "   Other medications:\n",
      "   Changes to medical and family history:\n",
      "   Review of systems is unchanged from admission except as noted below\n",
      "   Review of systems:\n",
      "   Flowsheet Data as of  [**2185-12-3**] 07:19 AM\n",
      "   Vital signs\n",
      "   Hemodynamic monitoring\n",
      "   Fluid balance\n",
      "                                                                  24 hours\n",
      "                                                               Since 12 AM\n",
      "   Tmax: 36.8\n",
      "C (98.3\n",
      "   Tcurrent: 36.6\n",
      "C (97.8\n",
      "   HR: 93 (70 - 93) bpm\n",
      "   BP: 164/78(99) {116/56(70) - 169/92(114)} mmHg\n",
      "   RR: 14 (10 - 22) insp/min\n",
      "   SpO2: 98%\n",
      "   Heart rhythm: SR (Sinus Rhythm)\n",
      "   Wgt (current): 114.8 kg (admission): 113.5 kg\n",
      "   Height: 67 Inch\n",
      "             Total In:\n",
      "                                                                  3,155 mL\n",
      "                                                                    730 mL\n",
      "   PO:\n",
      "                                                                    300 mL\n",
      "             TF:\n",
      "   IVF:\n",
      "                                                                  2,400 mL\n",
      "                                                                    730 mL\n",
      "   Blood products:\n",
      "                                                                    455 mL\n",
      "   Total out:\n",
      "                                                                  1,150 mL\n",
      "                                                                  1,200 mL\n",
      "   Urine:\n",
      "                                                                  1,150 mL\n",
      "                                                                  1,200 mL\n",
      "   NG:\n",
      "   Stool:\n",
      "   Drains:\n",
      "   Balance:\n",
      "                                                                  2,005 mL\n",
      "                                                                   -470 mL\n",
      "   Respiratory support\n",
      "   O2 Delivery Device: Nasal cannula\n",
      "   SpO2: 98%\n",
      "   ABG: ///25/\n",
      "   Physical Examination\n",
      "   General Appearance: Well nourished, obese African American female in\n",
      "   NAD\n",
      "   Eyes  PERRLA, no conj edema or scleral icterus\n",
      "   Head, Ears, Nose, Throat:  normocephalic, o/p dry, poor dentition\n",
      "   CV: normal S1, S2 no murmurs appreciated, regular rate and rhythm\n",
      "   Respiratory / Chest: symmetric, clear anterior and lateral exam without\n",
      "   wheeze or crackles\n",
      "   Abdominal: Soft, obese, +distended, , Bowel sounds present TTO RLQ w/\n",
      "   some rebound, vol guarding, diffuse epigastric tenderness\n",
      "   Extremities: no B/L LE edema, no cyanosis or clubbing, robust distal\n",
      "   pulses\n",
      "   Neurologic: A&Ox3, pleasant appropriate\n",
      "   Labs / Radiology\n",
      "   397 K/uL\n",
      "   8.8 g/dL\n",
      "   160 mg/dL\n",
      "   0.8 mg/dL\n",
      "   25 mEq/L\n",
      "   3.8 mEq/L\n",
      "   8 mg/dL\n",
      "   103 mEq/L\n",
      "   139 mEq/L\n",
      "   30.6 %\n",
      "   5.1 K/uL\n",
      "        [image002.jpg]\n",
      "                            [**2185-12-1**]  08:18 PM\n",
      "                            [**2185-12-2**]  03:47 AM\n",
      "                            [**2185-12-2**]  12:21 PM\n",
      "                            [**2185-12-2**]  07:44 PM\n",
      "                            [**2185-12-3**]  04:20 AM\n",
      "   WBC\n",
      "   5.3\n",
      "   5.3\n",
      "   5.1\n",
      "   Hct\n",
      "   23.1\n",
      "   29.5\n",
      "   28.0\n",
      "   28.5\n",
      "   30.6\n",
      "   Plt\n",
      "   [**Telephone/Fax (3) 10837**]\n",
      "   Cr\n",
      "   0.9\n",
      "   0.8\n",
      "   Glucose\n",
      "   162\n",
      "   160\n",
      "   Other labs: PT / PTT / INR:13.4/22.5/1.1, Ca++:8.5 mg/dL, Mg++:2.0\n",
      "   mg/dL, PO4:3.7 mg/dL\n",
      "   Assessment and Plan\n",
      "   Ms. [**Known lastname 8194**] is a 54 year old female with hx GIB from Upper GI AVM's,\n",
      "   w/ multiple GI studies, on coumadin for extensive DVT s/p IVC filter,\n",
      "   DM, Asthma, OSA who presents with 2 days of dark stools,\n",
      "   lightheadedness, decreased HCT concerning for recurrent GIB.\n",
      "   .\n",
      "   # Acute on Chronic Blood Loss anemia: likely due to repeat upper GI\n",
      "   bleeding from AVMs as has had recurrent GIB from AVM's in the past. BP\n",
      "   stable, HR stable but on BB at home. She has now received one unit FFP\n",
      "   and Vit K 10mg in the ED to reverse her coumadin/INR. Concern for\n",
      "   hereditary telangiectasias are raised such as Osler-[**Doctor Last Name 643**]-Rendu\n",
      "   syndrome.\n",
      "   -- appreciate GI consult\n",
      "   -- pt is s/p 2u pRBC w appropriate rise in HCT\n",
      "   -- plan for EGD today\n",
      "   -- maintain adequte access (2 PIVs) and active T+S at all times\n",
      "   -- coumadin reversed in ED, INR now 1.6\n",
      "   -- hold lasix, BB, isosorbide, lisinopril\n",
      "   -- c/o to floor s/p EGD\n",
      "   .\n",
      "   # Hx DVT:\n",
      "   -- coumadin reversed in [**Last Name (LF) **], [**First Name3 (LF) 178**] be difficult to anticoagulate in near\n",
      "   future\n",
      "   -- has IVC filter in place\n",
      "   -- no anticoag for now\n",
      "   .\n",
      "   # Asthma: still smoking\n",
      "   -- cont albuterol and flovent\n",
      "   -- cont nicotine patch\n",
      "   .\n",
      "   # OSA:\n",
      "   -- CPAP at night with 2L O2 per home settings\n",
      "   .\n",
      "   # DM:\n",
      "   -- is on 75mg of glargine at noon and bedtime, 80% if NPO, with HISS\n",
      "   -- FSG qid\n",
      "   .\n",
      "   # HTN\n",
      "   -- hold all antihypertensives inclusing metoprolol, lisinopril, imdur,\n",
      "   and lasix\n",
      "   .\n",
      "   # Chronic pain: [**2-21**] neuropathy\n",
      "   -- cont oxycodone and gabapentine\n",
      "   -- cont cymbalta\n",
      "   .\n",
      "   # Delayed gastric emptying:\n",
      "   -- cont reglan\n",
      "   .\n",
      "   # hypercholesterolemia:\n",
      "   -- cont simvastatin\n",
      "   ICU Care\n",
      "   Nutrition: NPO for EGD in AM\n",
      "   Glycemic Control: Regular insulin sliding scale\n",
      "   Lines:\n",
      "   18 Gauge - [**2185-12-1**] 07:27 PM\n",
      "   20 Gauge - [**2185-12-1**] 07:27 PM\n",
      "   Prophylaxis:\n",
      "   DVT: Boots\n",
      "   Stress ulcer: PPI\n",
      "   VAP:\n",
      "   Comments:\n",
      "   Communication: ICU consent signed Comments:\n",
      "   Code status: Full code\n",
      "   Disposition: ICU\n",
      "\n",
      "*****************************************\n"
     ]
    }
   ],
   "source": [
    "for row in df_notes['text'].head():\n",
    "    print(row)\n",
    "    print('*****************************************')"
   ]
  },
  {
   "cell_type": "markdown",
   "metadata": {},
   "source": [
    "### Using Spacy/Scispacy to extract entities"
   ]
  },
  {
   "cell_type": "code",
   "execution_count": null,
   "metadata": {},
   "outputs": [
    {
     "name": "stdout",
     "output_type": "stream",
     "text": [
      "CPU times: total: 5.84 s\n",
      "Wall time: 5.91 s\n"
     ]
    }
   ],
   "source": [
    "import scispacy\n",
    "import en_ner_bc5cdr_md\n",
    "\n",
    "nlp = en_ner_bc5cdr_md.load()"
   ]
  },
  {
   "cell_type": "code",
   "execution_count": 18,
   "metadata": {},
   "outputs": [
    {
     "name": "stdout",
     "output_type": "stream",
     "text": [
      "                                                    text  \\\n",
      "6932   65 yo F w/ hx of 4mm L MCA aneurysm s/p failed...   \n",
      "8548   Chief Complaint:\\n   24 Hour Events:\\n   - Sed...   \n",
      "11195  42 YO F with headache for 16 days. Pt was put ...   \n",
      "357    [**2152-12-20**] 7:47 PM\\n SKULL (AP, [**Last ...   \n",
      "3753   TITLE:\\n   Chief Complaint:\\n   24 Hour Events...   \n",
      "\n",
      "                                                entities  \n",
      "6932   [(aneurysm, DISEASE), (aphasia, DISEASE), (mig...  \n",
      "8548   [(Allergies, DISEASE), (Ciprofloxacin, CHEMICA...  \n",
      "11195  [(headache, DISEASE), (sinus infection, DISEAS...  \n",
      "357    [(pneumocephaly, DISEASE), (pneumocephaly, DIS...  \n",
      "3753   [(Allergies, DISEASE), (Penicillins, CHEMICAL)...  \n",
      "CPU times: total: 5min 34s\n",
      "Wall time: 5min 39s\n"
     ]
    }
   ],
   "source": [
    "%%time\n",
    "\n",
    "def extract_entities(text):\n",
    "    doc = nlp(text)\n",
    "    return [(ent.text, ent.label_) for ent in doc.ents]\n",
    "\n",
    "df_notes['entities'] = df_notes['text'].apply(extract_entities)\n",
    "\n",
    "print(df_notes[['text', 'entities']].head())"
   ]
  },
  {
   "cell_type": "code",
   "execution_count": 20,
   "metadata": {},
   "outputs": [
    {
     "name": "stderr",
     "output_type": "stream",
     "text": [
      "C:\\Users\\hazim\\AppData\\Local\\Temp\\ipykernel_6380\\2942360673.py:2: DeprecationWarning: Importing display from IPython.core.display is deprecated since IPython 7.14, please import from IPython display\n",
      "  from IPython.core.display import display, HTML\n"
     ]
    },
    {
     "data": {
      "text/html": [
       "<span class=\"tex2jax_ignore\"><div class=\"entities\" style=\"line-height: 2.5; direction: ltr\">65 yo F w/ hx of 4mm L MCA \n",
       "<mark class=\"entity\" style=\"background: #ddd; padding: 0.45em 0.6em; margin: 0 0.25em; line-height: 1; border-radius: 0.35em;\">\n",
       "    aneurysm\n",
       "    <span style=\"font-size: 0.8em; font-weight: bold; line-height: 1; border-radius: 0.35em; vertical-align: middle; margin-left: 0.5rem\">DISEASE</span>\n",
       "</mark>\n",
       " s/p failed stent ([**3-18**]) now s/p<br>   left craniotomy for clipping of left MCA aneurysm w/ expressive \n",
       "<mark class=\"entity\" style=\"background: #ddd; padding: 0.45em 0.6em; margin: 0 0.25em; line-height: 1; border-radius: 0.35em;\">\n",
       "    aphasia\n",
       "    <span style=\"font-size: 0.8em; font-weight: bold; line-height: 1; border-radius: 0.35em; vertical-align: middle; margin-left: 0.5rem\">DISEASE</span>\n",
       "</mark>\n",
       "<br>   starting 2 days post-op.<br>   PMHx:<br>   PMH: \n",
       "<mark class=\"entity\" style=\"background: #ddd; padding: 0.45em 0.6em; margin: 0 0.25em; line-height: 1; border-radius: 0.35em;\">\n",
       "    migraines\n",
       "    <span style=\"font-size: 0.8em; font-weight: bold; line-height: 1; border-radius: 0.35em; vertical-align: middle; margin-left: 0.5rem\">DISEASE</span>\n",
       "</mark>\n",
       ", \n",
       "<mark class=\"entity\" style=\"background: #ddd; padding: 0.45em 0.6em; margin: 0 0.25em; line-height: 1; border-radius: 0.35em;\">\n",
       "    HTN\n",
       "    <span style=\"font-size: 0.8em; font-weight: bold; line-height: 1; border-radius: 0.35em; vertical-align: middle; margin-left: 0.5rem\">DISEASE</span>\n",
       "</mark>\n",
       ", gerd, DM2 (diet control), hx of MI ([**2182**]), high<br>   \n",
       "<mark class=\"entity\" style=\"background: #ddd; padding: 0.45em 0.6em; margin: 0 0.25em; line-height: 1; border-radius: 0.35em;\">\n",
       "    cholesterol\n",
       "    <span style=\"font-size: 0.8em; font-weight: bold; line-height: 1; border-radius: 0.35em; vertical-align: middle; margin-left: 0.5rem\">CHEMICAL</span>\n",
       "</mark>\n",
       "<br>   \n",
       "<mark class=\"entity\" style=\"background: #ddd; padding: 0.45em 0.6em; margin: 0 0.25em; line-height: 1; border-radius: 0.35em;\">\n",
       "    PSH\n",
       "    <span style=\"font-size: 0.8em; font-weight: bold; line-height: 1; border-radius: 0.35em; vertical-align: middle; margin-left: 0.5rem\">CHEMICAL</span>\n",
       "</mark>\n",
       ": cholecystectomy, \n",
       "<mark class=\"entity\" style=\"background: #ddd; padding: 0.45em 0.6em; margin: 0 0.25em; line-height: 1; border-radius: 0.35em;\">\n",
       "    kidney fistula\n",
       "    <span style=\"font-size: 0.8em; font-weight: bold; line-height: 1; border-radius: 0.35em; vertical-align: middle; margin-left: 0.5rem\">DISEASE</span>\n",
       "</mark>\n",
       " repair, hysterectomy, trigger<br>   finger surgery<br>   \n",
       "<mark class=\"entity\" style=\"background: #ddd; padding: 0.45em 0.6em; margin: 0 0.25em; line-height: 1; border-radius: 0.35em;\">\n",
       "    Aneurysm\n",
       "    <span style=\"font-size: 0.8em; font-weight: bold; line-height: 1; border-radius: 0.35em; vertical-align: middle; margin-left: 0.5rem\">DISEASE</span>\n",
       "</mark>\n",
       ", other<br>   Assessment:<br>   A&amp;OX1 Able to state name. When asked birthdate states name w/ jumbled<br>   numbers and numbers when asked where she is. Aware she has difficulty<br>   word finding saying, Oh I can<br>t say it.<br>   MAE no drift noted. Tongue midline no facial droop noted. When states<br>   name speech clear.<br>   C/O \n",
       "<mark class=\"entity\" style=\"background: #ddd; padding: 0.45em 0.6em; margin: 0 0.25em; line-height: 1; border-radius: 0.35em;\">\n",
       "    headache\n",
       "    <span style=\"font-size: 0.8em; font-weight: bold; line-height: 1; border-radius: 0.35em; vertical-align: middle; margin-left: 0.5rem\">DISEASE</span>\n",
       "</mark>\n",
       " this afternoon.<br>   Staple D&amp;I. old \n",
       "<mark class=\"entity\" style=\"background: #ddd; padding: 0.45em 0.6em; margin: 0 0.25em; line-height: 1; border-radius: 0.35em;\">\n",
       "    bruising\n",
       "    <span style=\"font-size: 0.8em; font-weight: bold; line-height: 1; border-radius: 0.35em; vertical-align: middle; margin-left: 0.5rem\">DISEASE</span>\n",
       "</mark>\n",
       " around eyes.<br>   Difficulty this am swallowing pills. Able to tolerate thin liquids.<br>   Action:<br>   Sicu team notified of swallowing diff. Meds held and changed to IV.<br>   Eval ordered and completed.<br>   Q4hr neuro checks.<br>   CTA/CTP of the head ordered and completed.<br>   Response:<br>   Continues to have expressive \n",
       "<mark class=\"entity\" style=\"background: #ddd; padding: 0.45em 0.6em; margin: 0 0.25em; line-height: 1; border-radius: 0.35em;\">\n",
       "    aphasia\n",
       "    <span style=\"font-size: 0.8em; font-weight: bold; line-height: 1; border-radius: 0.35em; vertical-align: middle; margin-left: 0.5rem\">DISEASE</span>\n",
       "</mark>\n",
       ".<br>   Ct stable no changes.<br>   Diet changed to take pills whole in puree. Can have \n",
       "<mark class=\"entity\" style=\"background: #ddd; padding: 0.45em 0.6em; margin: 0 0.25em; line-height: 1; border-radius: 0.35em;\">\n",
       "    thin\n",
       "    <span style=\"font-size: 0.8em; font-weight: bold; line-height: 1; border-radius: 0.35em; vertical-align: middle; margin-left: 0.5rem\">CHEMICAL</span>\n",
       "</mark>\n",
       " liq.<br>   Family spoke w/ Dr. [**First Name (STitle) 363**] re prognosis.<br>   Plan:<br>   Neuro checks as ordered.<br>   TX to floor when bed available.<br>   Demographics<br>   Attending MD:<br>   [**First Name4 (NamePattern1) **] [**Last Name (NamePattern1) 629**] J.<br>   Admit diagnosis:<br>   LEFT MIDDLE CEREBRAL ARTERY ANEURYSM/SDA<br>   Code status:<br>   Height:<br>   Admission weight:<br>   60 kg<br>   Daily weight:<br>   59.7 kg<br>   Allergies/Reactions:<br>   No Known Drug \n",
       "<mark class=\"entity\" style=\"background: #ddd; padding: 0.45em 0.6em; margin: 0 0.25em; line-height: 1; border-radius: 0.35em;\">\n",
       "    Allergies\n",
       "    <span style=\"font-size: 0.8em; font-weight: bold; line-height: 1; border-radius: 0.35em; vertical-align: middle; margin-left: 0.5rem\">DISEASE</span>\n",
       "</mark>\n",
       "<br>   Precautions:<br>   PMH:<br>   CV-PMH:  \n",
       "<mark class=\"entity\" style=\"background: #ddd; padding: 0.45em 0.6em; margin: 0 0.25em; line-height: 1; border-radius: 0.35em;\">\n",
       "    Hypertension\n",
       "    <span style=\"font-size: 0.8em; font-weight: bold; line-height: 1; border-radius: 0.35em; vertical-align: middle; margin-left: 0.5rem\">DISEASE</span>\n",
       "</mark>\n",
       ", MI<br>   Additional history: \n",
       "<mark class=\"entity\" style=\"background: #ddd; padding: 0.45em 0.6em; margin: 0 0.25em; line-height: 1; border-radius: 0.35em;\">\n",
       "    GERD\n",
       "    <span style=\"font-size: 0.8em; font-weight: bold; line-height: 1; border-radius: 0.35em; vertical-align: middle; margin-left: 0.5rem\">DISEASE</span>\n",
       "</mark>\n",
       ", \n",
       "<mark class=\"entity\" style=\"background: #ddd; padding: 0.45em 0.6em; margin: 0 0.25em; line-height: 1; border-radius: 0.35em;\">\n",
       "    Arthritis\n",
       "    <span style=\"font-size: 0.8em; font-weight: bold; line-height: 1; border-radius: 0.35em; vertical-align: middle; margin-left: 0.5rem\">DISEASE</span>\n",
       "</mark>\n",
       ", \n",
       "<mark class=\"entity\" style=\"background: #ddd; padding: 0.45em 0.6em; margin: 0 0.25em; line-height: 1; border-radius: 0.35em;\">\n",
       "    Migraines\n",
       "    <span style=\"font-size: 0.8em; font-weight: bold; line-height: 1; border-radius: 0.35em; vertical-align: middle; margin-left: 0.5rem\">DISEASE</span>\n",
       "</mark>\n",
       ", Mild \n",
       "<mark class=\"entity\" style=\"background: #ddd; padding: 0.45em 0.6em; margin: 0 0.25em; line-height: 1; border-radius: 0.35em;\">\n",
       "    coagulopathy\n",
       "    <span style=\"font-size: 0.8em; font-weight: bold; line-height: 1; border-radius: 0.35em; vertical-align: middle; margin-left: 0.5rem\">DISEASE</span>\n",
       "</mark>\n",
       "<br>   Surgery / Procedure and date:<br>   Latest Vital Signs and I/O<br>   Non-invasive BP:<br>   S:113<br>   D:55<br>   Temperature:<br>   98.8<br>   Arterial BP:<br>   S:114<br>   D:110<br>   Respiratory rate:<br>   16 insp/min<br>   Heart Rate:<br>   55 bpm<br>   Heart rhythm:<br>   \n",
       "<mark class=\"entity\" style=\"background: #ddd; padding: 0.45em 0.6em; margin: 0 0.25em; line-height: 1; border-radius: 0.35em;\">\n",
       "    SB\n",
       "    <span style=\"font-size: 0.8em; font-weight: bold; line-height: 1; border-radius: 0.35em; vertical-align: middle; margin-left: 0.5rem\">CHEMICAL</span>\n",
       "</mark>\n",
       " (\n",
       "<mark class=\"entity\" style=\"background: #ddd; padding: 0.45em 0.6em; margin: 0 0.25em; line-height: 1; border-radius: 0.35em;\">\n",
       "    Sinus Bradycardia\n",
       "    <span style=\"font-size: 0.8em; font-weight: bold; line-height: 1; border-radius: 0.35em; vertical-align: middle; margin-left: 0.5rem\">DISEASE</span>\n",
       "</mark>\n",
       ")<br>   \n",
       "<mark class=\"entity\" style=\"background: #ddd; padding: 0.45em 0.6em; margin: 0 0.25em; line-height: 1; border-radius: 0.35em;\">\n",
       "    O2\n",
       "    <span style=\"font-size: 0.8em; font-weight: bold; line-height: 1; border-radius: 0.35em; vertical-align: middle; margin-left: 0.5rem\">CHEMICAL</span>\n",
       "</mark>\n",
       " delivery device:<br>   None<br>   \n",
       "<mark class=\"entity\" style=\"background: #ddd; padding: 0.45em 0.6em; margin: 0 0.25em; line-height: 1; border-radius: 0.35em;\">\n",
       "    O2 saturation\n",
       "    <span style=\"font-size: 0.8em; font-weight: bold; line-height: 1; border-radius: 0.35em; vertical-align: middle; margin-left: 0.5rem\">CHEMICAL</span>\n",
       "</mark>\n",
       ":<br>   98% %<br>   \n",
       "<mark class=\"entity\" style=\"background: #ddd; padding: 0.45em 0.6em; margin: 0 0.25em; line-height: 1; border-radius: 0.35em;\">\n",
       "    O2 flow\n",
       "    <span style=\"font-size: 0.8em; font-weight: bold; line-height: 1; border-radius: 0.35em; vertical-align: middle; margin-left: 0.5rem\">CHEMICAL</span>\n",
       "</mark>\n",
       ":<br>   2 L/min<br>   \n",
       "<mark class=\"entity\" style=\"background: #ddd; padding: 0.45em 0.6em; margin: 0 0.25em; line-height: 1; border-radius: 0.35em;\">\n",
       "    FiO2\n",
       "    <span style=\"font-size: 0.8em; font-weight: bold; line-height: 1; border-radius: 0.35em; vertical-align: middle; margin-left: 0.5rem\">CHEMICAL</span>\n",
       "</mark>\n",
       " set:<br>   40% %<br>   24h total in:<br>   153 mL<br>   24h total out:<br>   610 mL<br>   Pertinent Lab Results:<br>   \n",
       "<mark class=\"entity\" style=\"background: #ddd; padding: 0.45em 0.6em; margin: 0 0.25em; line-height: 1; border-radius: 0.35em;\">\n",
       "    Sodium\n",
       "    <span style=\"font-size: 0.8em; font-weight: bold; line-height: 1; border-radius: 0.35em; vertical-align: middle; margin-left: 0.5rem\">CHEMICAL</span>\n",
       "</mark>\n",
       ":<br>   \n",
       "<mark class=\"entity\" style=\"background: #ddd; padding: 0.45em 0.6em; margin: 0 0.25em; line-height: 1; border-radius: 0.35em;\">\n",
       "    140\n",
       "    <span style=\"font-size: 0.8em; font-weight: bold; line-height: 1; border-radius: 0.35em; vertical-align: middle; margin-left: 0.5rem\">CHEMICAL</span>\n",
       "</mark>\n",
       " mEq/L<br>   [**2190-6-29**] 03:05 AM<br>   \n",
       "<mark class=\"entity\" style=\"background: #ddd; padding: 0.45em 0.6em; margin: 0 0.25em; line-height: 1; border-radius: 0.35em;\">\n",
       "    Potassium\n",
       "    <span style=\"font-size: 0.8em; font-weight: bold; line-height: 1; border-radius: 0.35em; vertical-align: middle; margin-left: 0.5rem\">CHEMICAL</span>\n",
       "</mark>\n",
       ":<br>   4.1 mEq/L<br>   [**2190-6-29**] 03:05 AM<br>   \n",
       "<mark class=\"entity\" style=\"background: #ddd; padding: 0.45em 0.6em; margin: 0 0.25em; line-height: 1; border-radius: 0.35em;\">\n",
       "    Chloride\n",
       "    <span style=\"font-size: 0.8em; font-weight: bold; line-height: 1; border-radius: 0.35em; vertical-align: middle; margin-left: 0.5rem\">CHEMICAL</span>\n",
       "</mark>\n",
       ":<br>   102 mEq/L<br>   [**2190-6-29**] 03:05 AM<br>   \n",
       "<mark class=\"entity\" style=\"background: #ddd; padding: 0.45em 0.6em; margin: 0 0.25em; line-height: 1; border-radius: 0.35em;\">\n",
       "    CO2\n",
       "    <span style=\"font-size: 0.8em; font-weight: bold; line-height: 1; border-radius: 0.35em; vertical-align: middle; margin-left: 0.5rem\">CHEMICAL</span>\n",
       "</mark>\n",
       ":<br>   30 mEq/L<br>   [**2190-6-29**] 03:05 AM<br>   BUN:<br>   14 mg/dL<br>   [**2190-6-29**] 03:05 AM<br>   \n",
       "<mark class=\"entity\" style=\"background: #ddd; padding: 0.45em 0.6em; margin: 0 0.25em; line-height: 1; border-radius: 0.35em;\">\n",
       "    Creatinine\n",
       "    <span style=\"font-size: 0.8em; font-weight: bold; line-height: 1; border-radius: 0.35em; vertical-align: middle; margin-left: 0.5rem\">CHEMICAL</span>\n",
       "</mark>\n",
       ":<br>   0.6 mg/dL<br>   [**2190-6-29**] 03:05 AM<br>   \n",
       "<mark class=\"entity\" style=\"background: #ddd; padding: 0.45em 0.6em; margin: 0 0.25em; line-height: 1; border-radius: 0.35em;\">\n",
       "    Glucose\n",
       "    <span style=\"font-size: 0.8em; font-weight: bold; line-height: 1; border-radius: 0.35em; vertical-align: middle; margin-left: 0.5rem\">CHEMICAL</span>\n",
       "</mark>\n",
       ":<br>   188 mg/dL<br>   [**2190-6-29**] 03:05 AM<br>   Hematocrit:<br>   28.3 %<br>   [**2190-6-28**] 02:21 AM<br>   Finger Stick \n",
       "<mark class=\"entity\" style=\"background: #ddd; padding: 0.45em 0.6em; margin: 0 0.25em; line-height: 1; border-radius: 0.35em;\">\n",
       "    Glucose\n",
       "    <span style=\"font-size: 0.8em; font-weight: bold; line-height: 1; border-radius: 0.35em; vertical-align: middle; margin-left: 0.5rem\">CHEMICAL</span>\n",
       "</mark>\n",
       ":<br>   129<br>   [**2190-6-28**] 10:00 PM<br>   Valuables / Signature<br>   Patient valuables:<br>   Other valuables:<br>   Clothes:  Transferred with patient<br>   Wallet / Money:<br>   No money / wallet<br>   Cash / Credit cards sent home with:<br>   Jewelry:<br>   Transferred from: SICU 696<br>   Transferred to: [**Hospital Ward Name 408**] 1121<br>   Date &amp; time of Transfer: [**2190-6-29**] 09:00 PM<br></div></span>"
      ],
      "text/plain": [
       "<IPython.core.display.HTML object>"
      ]
     },
     "metadata": {},
     "output_type": "display_data"
    },
    {
     "data": {
      "text/plain": [
       "<IPython.core.display.HTML object>"
      ]
     },
     "metadata": {},
     "output_type": "display_data"
    },
    {
     "data": {
      "text/html": [
       "<span class=\"tex2jax_ignore\"><div class=\"entities\" style=\"line-height: 2.5; direction: ltr\">Chief Complaint:<br>   24 Hour Events:<br>   - Sedated, intubated<br>   \n",
       "<mark class=\"entity\" style=\"background: #ddd; padding: 0.45em 0.6em; margin: 0 0.25em; line-height: 1; border-radius: 0.35em;\">\n",
       "    Allergies\n",
       "    <span style=\"font-size: 0.8em; font-weight: bold; line-height: 1; border-radius: 0.35em; vertical-align: middle; margin-left: 0.5rem\">DISEASE</span>\n",
       "</mark>\n",
       ":<br>   \n",
       "<mark class=\"entity\" style=\"background: #ddd; padding: 0.45em 0.6em; margin: 0 0.25em; line-height: 1; border-radius: 0.35em;\">\n",
       "    Ciprofloxacin\n",
       "    <span style=\"font-size: 0.8em; font-weight: bold; line-height: 1; border-radius: 0.35em; vertical-align: middle; margin-left: 0.5rem\">CHEMICAL</span>\n",
       "</mark>\n",
       "<br>   Unknown;<br>   Last dose of Antibiotics:<br>   Infusions:<br>   \n",
       "<mark class=\"entity\" style=\"background: #ddd; padding: 0.45em 0.6em; margin: 0 0.25em; line-height: 1; border-radius: 0.35em;\">\n",
       "    Propofol\n",
       "    <span style=\"font-size: 0.8em; font-weight: bold; line-height: 1; border-radius: 0.35em; vertical-align: middle; margin-left: 0.5rem\">CHEMICAL</span>\n",
       "</mark>\n",
       " - 61.6 mcg/Kg/min<br>   Other ICU medications:<br>   \n",
       "<mark class=\"entity\" style=\"background: #ddd; padding: 0.45em 0.6em; margin: 0 0.25em; line-height: 1; border-radius: 0.35em;\">\n",
       "    Pantoprazole\n",
       "    <span style=\"font-size: 0.8em; font-weight: bold; line-height: 1; border-radius: 0.35em; vertical-align: middle; margin-left: 0.5rem\">CHEMICAL</span>\n",
       "</mark>\n",
       " (\n",
       "<mark class=\"entity\" style=\"background: #ddd; padding: 0.45em 0.6em; margin: 0 0.25em; line-height: 1; border-radius: 0.35em;\">\n",
       "    Protonix\n",
       "    <span style=\"font-size: 0.8em; font-weight: bold; line-height: 1; border-radius: 0.35em; vertical-align: middle; margin-left: 0.5rem\">CHEMICAL</span>\n",
       "</mark>\n",
       ") - [**2186-3-18**] 11:20 AM<br>   \n",
       "<mark class=\"entity\" style=\"background: #ddd; padding: 0.45em 0.6em; margin: 0 0.25em; line-height: 1; border-radius: 0.35em;\">\n",
       "    Metoprolol\n",
       "    <span style=\"font-size: 0.8em; font-weight: bold; line-height: 1; border-radius: 0.35em; vertical-align: middle; margin-left: 0.5rem\">CHEMICAL</span>\n",
       "</mark>\n",
       " - [**2186-3-19**] 06:13 AM<br>   Other medications:<br>   Changes to medical and family history:<br>   Review of systems is unchanged from admission except as noted below<br>   Review of systems:<br>   Flowsheet Data as of  [**2186-3-19**] 07:17 AM<br>   Vital signs<br>   Hemodynamic monitoring<br>   Fluid balance<br>                                                                  24 hours<br>                                                               Since [**88**] AM<br>   Tmax: 37.7<br>C (99.8<br>   Tcurrent: 37.4<br>C (99.4<br>   HR: 105 (85 - 127) bpm<br>   BP: 137/73(86) {118/63(76) - 158/97(107)} mmHg<br>   RR: 22 (14 - 25) insp/min<br>   SpO2: 98%<br>   Heart rhythm: ST (\n",
       "<mark class=\"entity\" style=\"background: #ddd; padding: 0.45em 0.6em; margin: 0 0.25em; line-height: 1; border-radius: 0.35em;\">\n",
       "    Sinus Tachycardia\n",
       "    <span style=\"font-size: 0.8em; font-weight: bold; line-height: 1; border-radius: 0.35em; vertical-align: middle; margin-left: 0.5rem\">DISEASE</span>\n",
       "</mark>\n",
       ")<br>   Height: 70 Inch<br>    300 cc out of [**Last Name (LF) **], [**First Name3 (LF) **] blood, attg ortho aware<br>   Had 400 cc EBL in OR<br>   +4.7 L LOS<br>   Total In:<br>                                                                  4,224 mL<br>                                                                  1,589 mL<br>   PO:<br>   TF:<br>                                                                    380 mL<br>                                                                    572 mL<br>   IVF:<br>                                                                  3,744 mL<br>                                                                    917 mL<br>   Blood products:<br>   Total out:<br>                                                                  1,455 mL<br>                                                                    650 mL<br>   Urine:<br>                                                                  1,270 mL<br>                                                                    550 mL<br>   \n",
       "<mark class=\"entity\" style=\"background: #ddd; padding: 0.45em 0.6em; margin: 0 0.25em; line-height: 1; border-radius: 0.35em;\">\n",
       "    NG\n",
       "    <span style=\"font-size: 0.8em; font-weight: bold; line-height: 1; border-radius: 0.35em; vertical-align: middle; margin-left: 0.5rem\">CHEMICAL</span>\n",
       "</mark>\n",
       ":<br>   Stool:<br>   Drains:<br>                                                                    185 mL<br>                                                                    100 mL<br>   Balance:<br>                                                                  2,769 mL<br>                                                                    939 mL<br>   Respiratory support<br>   \n",
       "<mark class=\"entity\" style=\"background: #ddd; padding: 0.45em 0.6em; margin: 0 0.25em; line-height: 1; border-radius: 0.35em;\">\n",
       "    O2\n",
       "    <span style=\"font-size: 0.8em; font-weight: bold; line-height: 1; border-radius: 0.35em; vertical-align: middle; margin-left: 0.5rem\">CHEMICAL</span>\n",
       "</mark>\n",
       " Delivery Device: Endotracheal tube<br>   Ventilator mode: CMV/ASSIST/AutoFlow<br>   Vt (Set): 500 (500 - 500) mL<br>   RR (Set): 14<br>   RR (Spontaneous): 0<br>   \n",
       "<mark class=\"entity\" style=\"background: #ddd; padding: 0.45em 0.6em; margin: 0 0.25em; line-height: 1; border-radius: 0.35em;\">\n",
       "    PEEP\n",
       "    <span style=\"font-size: 0.8em; font-weight: bold; line-height: 1; border-radius: 0.35em; vertical-align: middle; margin-left: 0.5rem\">CHEMICAL</span>\n",
       "</mark>\n",
       ": 5 cmH2O<br>   \n",
       "<mark class=\"entity\" style=\"background: #ddd; padding: 0.45em 0.6em; margin: 0 0.25em; line-height: 1; border-radius: 0.35em;\">\n",
       "    FiO2\n",
       "    <span style=\"font-size: 0.8em; font-weight: bold; line-height: 1; border-radius: 0.35em; vertical-align: middle; margin-left: 0.5rem\">CHEMICAL</span>\n",
       "</mark>\n",
       ": 30%<br>   RSBI: 46<br>   RSBI Deferred: Agitated<br>   PIP: 19 cmH2O<br>   Plateau: 17 cmH2O<br>   SpO2: 98%<br>   ABG: 7.53/37/123/27/8<br>   Ve: 12.5 L/min<br>   PaO2 / \n",
       "<mark class=\"entity\" style=\"background: #ddd; padding: 0.45em 0.6em; margin: 0 0.25em; line-height: 1; border-radius: 0.35em;\">\n",
       "    FiO2\n",
       "    <span style=\"font-size: 0.8em; font-weight: bold; line-height: 1; border-radius: 0.35em; vertical-align: middle; margin-left: 0.5rem\">CHEMICAL</span>\n",
       "</mark>\n",
       ": 410<br>   Physical Examination<br>   Intubated, sedated<br>   S1 S2 no murmur<br>   \n",
       "<mark class=\"entity\" style=\"background: #ddd; padding: 0.45em 0.6em; margin: 0 0.25em; line-height: 1; border-radius: 0.35em;\">\n",
       "    CTAB\n",
       "    <span style=\"font-size: 0.8em; font-weight: bold; line-height: 1; border-radius: 0.35em; vertical-align: middle; margin-left: 0.5rem\">CHEMICAL</span>\n",
       "</mark>\n",
       "<br>   Soft NT ND, dressing C/D/I<br>   [**First Name3 (LF) **] 300 cc [**First Name3 (LF) **] red blood<br>   No \n",
       "<mark class=\"entity\" style=\"background: #ddd; padding: 0.45em 0.6em; margin: 0 0.25em; line-height: 1; border-radius: 0.35em;\">\n",
       "    edema\n",
       "    <span style=\"font-size: 0.8em; font-weight: bold; line-height: 1; border-radius: 0.35em; vertical-align: middle; margin-left: 0.5rem\">DISEASE</span>\n",
       "</mark>\n",
       "<br>   Labs / Radiology<br>   273 K/uL<br>   11.0 g/dL<br>   182 mg/dL<br>   0.6 mg/dL<br>   27 mEq/L<br>   3.9 mEq/L<br>   9 mg/dL<br>   107 mEq/L<br>   139 mEq/L<br>   31.7 %<br>   10.6 K/uL<br>        [image002.jpg]<br>                             [**2186-3-16**]  10:03 PM<br>                             [**2186-3-17**]  03:53 AM<br>                             [**2186-3-17**]  04:25 PM<br>                             [**2186-3-17**]  06:43 PM<br>                             [**2186-3-18**]  03:23 AM<br>                             [**2186-3-19**]  03:20 AM<br>                             [**2186-3-19**]  04:48 AM<br>   WBC<br>   16.1<br>   15.0<br>   10.0<br>   10.6<br>   Hct<br>   38.5<br>   38.0<br>   33.3<br>   31.7<br>   Plt<br>   194<br>   175<br>   228<br>   273<br>   \n",
       "<mark class=\"entity\" style=\"background: #ddd; padding: 0.45em 0.6em; margin: 0 0.25em; line-height: 1; border-radius: 0.35em;\">\n",
       "    Cr\n",
       "    <span style=\"font-size: 0.8em; font-weight: bold; line-height: 1; border-radius: 0.35em; vertical-align: middle; margin-left: 0.5rem\">CHEMICAL</span>\n",
       "</mark>\n",
       "<br>   0.7<br>   0.7<br>   0.6<br>   0.6<br>   0.6<br>   \n",
       "<mark class=\"entity\" style=\"background: #ddd; padding: 0.45em 0.6em; margin: 0 0.25em; line-height: 1; border-radius: 0.35em;\">\n",
       "    TCO2\n",
       "    <span style=\"font-size: 0.8em; font-weight: bold; line-height: 1; border-radius: 0.35em; vertical-align: middle; margin-left: 0.5rem\">CHEMICAL</span>\n",
       "</mark>\n",
       "<br>   28<br>   32<br>   \n",
       "<mark class=\"entity\" style=\"background: #ddd; padding: 0.45em 0.6em; margin: 0 0.25em; line-height: 1; border-radius: 0.35em;\">\n",
       "    Glucose\n",
       "    <span style=\"font-size: 0.8em; font-weight: bold; line-height: 1; border-radius: 0.35em; vertical-align: middle; margin-left: 0.5rem\">CHEMICAL</span>\n",
       "</mark>\n",
       "<br>   119<br>   122<br>   102<br>   96<br>   182<br>   Other labs: PT / PTT / INR:11.3/27.3/0.9, CK / CKMB /<br>   Troponin-T:360/5/, ALT / AST:69/49, Alk Phos / T Bili:49/0.6,<br>   Differential-Neuts:84.8 %, Lymph:7.1 %, Mono:7.4 %, Eos:0.5 %,<br>   Albumin:3.6 g/dL, Ca++:7.9 mg/dL, Mg++:1.9 mg/dL, PO4:2.3 mg/dL<br>   Assessment and Plan<br>   47M s/p elective spinal surgery (anterior and posterior LIFs),<br>   intubated for altered MS and inadequate w/d treatment even with high<br>   levels of benzos<br>    # \n",
       "<mark class=\"entity\" style=\"background: #ddd; padding: 0.45em 0.6em; margin: 0 0.25em; line-height: 1; border-radius: 0.35em;\">\n",
       "    EtOH\n",
       "    <span style=\"font-size: 0.8em; font-weight: bold; line-height: 1; border-radius: 0.35em; vertical-align: middle; margin-left: 0.5rem\">CHEMICAL</span>\n",
       "</mark>\n",
       " withdrawal: Pt intubated and sedated, now s/p surgery. \n",
       "<mark class=\"entity\" style=\"background: #ddd; padding: 0.45em 0.6em; margin: 0 0.25em; line-height: 1; border-radius: 0.35em;\">\n",
       "    Diazepam\n",
       "    <span style=\"font-size: 0.8em; font-weight: bold; line-height: 1; border-radius: 0.35em; vertical-align: middle; margin-left: 0.5rem\">CHEMICAL</span>\n",
       "</mark>\n",
       "<br>   d/c<br>d prior to intubation, in favor of \n",
       "<mark class=\"entity\" style=\"background: #ddd; padding: 0.45em 0.6em; margin: 0 0.25em; line-height: 1; border-radius: 0.35em;\">\n",
       "    Propofol\n",
       "    <span style=\"font-size: 0.8em; font-weight: bold; line-height: 1; border-radius: 0.35em; vertical-align: middle; margin-left: 0.5rem\">CHEMICAL</span>\n",
       "</mark>\n",
       ". As \n",
       "<mark class=\"entity\" style=\"background: #ddd; padding: 0.45em 0.6em; margin: 0 0.25em; line-height: 1; border-radius: 0.35em;\">\n",
       "    Propofol\n",
       "    <span style=\"font-size: 0.8em; font-weight: bold; line-height: 1; border-radius: 0.35em; vertical-align: middle; margin-left: 0.5rem\">CHEMICAL</span>\n",
       "</mark>\n",
       " weans,<br>   patient becomes agitated, tachy, \n",
       "<mark class=\"entity\" style=\"background: #ddd; padding: 0.45em 0.6em; margin: 0 0.25em; line-height: 1; border-radius: 0.35em;\">\n",
       "    hypertensive\n",
       "    <span style=\"font-size: 0.8em; font-weight: bold; line-height: 1; border-radius: 0.35em; vertical-align: middle; margin-left: 0.5rem\">DISEASE</span>\n",
       "</mark>\n",
       ". Seems to be undertreated<br>   with benzos.<br>   - Restart \n",
       "<mark class=\"entity\" style=\"background: #ddd; padding: 0.45em 0.6em; margin: 0 0.25em; line-height: 1; border-radius: 0.35em;\">\n",
       "    Diazepam\n",
       "    <span style=\"font-size: 0.8em; font-weight: bold; line-height: 1; border-radius: 0.35em; vertical-align: middle; margin-left: 0.5rem\">CHEMICAL</span>\n",
       "</mark>\n",
       " via NGT, 40 mg NG q 2 hours<br>   - Wean \n",
       "<mark class=\"entity\" style=\"background: #ddd; padding: 0.45em 0.6em; margin: 0 0.25em; line-height: 1; border-radius: 0.35em;\">\n",
       "    Propofol\n",
       "    <span style=\"font-size: 0.8em; font-weight: bold; line-height: 1; border-radius: 0.35em; vertical-align: middle; margin-left: 0.5rem\">CHEMICAL</span>\n",
       "</mark>\n",
       " by 5 mcg/kg/hr and watch for withdrawal symptoms<br>   - Goal is to transition patient to PO benzos for w/d management<br>   # Spinal surgery: Completed 2nd stage of surgery yesterday<br>   - f/u surgery recs<br>   - extubate when sedation and paralytics weaned<br>   - avoiding anti-coagulation at this time<br>   - weight bearing orders per surgery preferences<br>   # \n",
       "<mark class=\"entity\" style=\"background: #ddd; padding: 0.45em 0.6em; margin: 0 0.25em; line-height: 1; border-radius: 0.35em;\">\n",
       "    Hyponatremia\n",
       "    <span style=\"font-size: 0.8em; font-weight: bold; line-height: 1; border-radius: 0.35em; vertical-align: middle; margin-left: 0.5rem\">DISEASE</span>\n",
       "</mark>\n",
       ": Resolved<br>   # Hepatitis C: Following LFTs. Poor outpatient follow-up in the past<br>   # \n",
       "<mark class=\"entity\" style=\"background: #ddd; padding: 0.45em 0.6em; margin: 0 0.25em; line-height: 1; border-radius: 0.35em;\">\n",
       "    FEN\n",
       "    <span style=\"font-size: 0.8em; font-weight: bold; line-height: 1; border-radius: 0.35em; vertical-align: middle; margin-left: 0.5rem\">CHEMICAL</span>\n",
       "</mark>\n",
       ": Repleting lytes, IV fluid boluses PRN; starting Tube feeds today<br>   # Access: PIV x2<br>   # Ppx: Pneumoboots<br>   # Code: Full<br>   # Dispo: ICU pending above<br>   ICU Care<br>   Nutrition:<br>   Nutren 2.0 (Full) - [**2186-3-19**] 07:06 AM 45 mL/hour<br>   Glycemic Control:<br>   Lines:<br>   18 Gauge - [**2186-3-17**] 01:25 PM<br>   20 Gauge - [**2186-3-17**] 04:31 PM<br>   Prophylaxis:<br>   \n",
       "<mark class=\"entity\" style=\"background: #ddd; padding: 0.45em 0.6em; margin: 0 0.25em; line-height: 1; border-radius: 0.35em;\">\n",
       "    DVT\n",
       "    <span style=\"font-size: 0.8em; font-weight: bold; line-height: 1; border-radius: 0.35em; vertical-align: middle; margin-left: 0.5rem\">DISEASE</span>\n",
       "</mark>\n",
       ":<br>   \n",
       "<mark class=\"entity\" style=\"background: #ddd; padding: 0.45em 0.6em; margin: 0 0.25em; line-height: 1; border-radius: 0.35em;\">\n",
       "    Stress ulcer\n",
       "    <span style=\"font-size: 0.8em; font-weight: bold; line-height: 1; border-radius: 0.35em; vertical-align: middle; margin-left: 0.5rem\">DISEASE</span>\n",
       "</mark>\n",
       ":<br>   \n",
       "<mark class=\"entity\" style=\"background: #ddd; padding: 0.45em 0.6em; margin: 0 0.25em; line-height: 1; border-radius: 0.35em;\">\n",
       "    VAP\n",
       "    <span style=\"font-size: 0.8em; font-weight: bold; line-height: 1; border-radius: 0.35em; vertical-align: middle; margin-left: 0.5rem\">DISEASE</span>\n",
       "</mark>\n",
       ":<br>   Comments:<br>   Communication:  Comments:<br>   Code status:<br>   Disposition:<br></div></span>"
      ],
      "text/plain": [
       "<IPython.core.display.HTML object>"
      ]
     },
     "metadata": {},
     "output_type": "display_data"
    },
    {
     "data": {
      "text/plain": [
       "<IPython.core.display.HTML object>"
      ]
     },
     "metadata": {},
     "output_type": "display_data"
    },
    {
     "data": {
      "text/html": [
       "<span class=\"tex2jax_ignore\"><div class=\"entities\" style=\"line-height: 2.5; direction: ltr\">42 YO F with \n",
       "<mark class=\"entity\" style=\"background: #ddd; padding: 0.45em 0.6em; margin: 0 0.25em; line-height: 1; border-radius: 0.35em;\">\n",
       "    headache\n",
       "    <span style=\"font-size: 0.8em; font-weight: bold; line-height: 1; border-radius: 0.35em; vertical-align: middle; margin-left: 0.5rem\">DISEASE</span>\n",
       "</mark>\n",
       " for 16 days. Pt was put on abx  coverage for<br>   \n",
       "<mark class=\"entity\" style=\"background: #ddd; padding: 0.45em 0.6em; margin: 0 0.25em; line-height: 1; border-radius: 0.35em;\">\n",
       "    sinus infection\n",
       "    <span style=\"font-size: 0.8em; font-weight: bold; line-height: 1; border-radius: 0.35em; vertical-align: middle; margin-left: 0.5rem\">DISEASE</span>\n",
       "</mark>\n",
       ". Pt with increased HA last night (pt states [**11-22**] \n",
       "<mark class=\"entity\" style=\"background: #ddd; padding: 0.45em 0.6em; margin: 0 0.25em; line-height: 1; border-radius: 0.35em;\">\n",
       "    pain\n",
       "    <span style=\"font-size: 0.8em; font-weight: bold; line-height: 1; border-radius: 0.35em; vertical-align: middle; margin-left: 0.5rem\">DISEASE</span>\n",
       "</mark>\n",
       ")<br>   and called EMS. Pt taken to OSH where CTA showed L supraclinoid ICA<br>   \n",
       "<mark class=\"entity\" style=\"background: #ddd; padding: 0.45em 0.6em; margin: 0 0.25em; line-height: 1; border-radius: 0.35em;\">\n",
       "    aneurysm\n",
       "    <span style=\"font-size: 0.8em; font-weight: bold; line-height: 1; border-radius: 0.35em; vertical-align: middle; margin-left: 0.5rem\">DISEASE</span>\n",
       "</mark>\n",
       ". \n",
       "<mark class=\"entity\" style=\"background: #ddd; padding: 0.45em 0.6em; margin: 0 0.25em; line-height: 1; border-radius: 0.35em;\">\n",
       "    Pt's left eye\n",
       "    <span style=\"font-size: 0.8em; font-weight: bold; line-height: 1; border-radius: 0.35em; vertical-align: middle; margin-left: 0.5rem\">CHEMICAL</span>\n",
       "</mark>\n",
       " is dilated and non-reactive with \n",
       "<mark class=\"entity\" style=\"background: #ddd; padding: 0.45em 0.6em; margin: 0 0.25em; line-height: 1; border-radius: 0.35em;\">\n",
       "    ptosis\n",
       "    <span style=\"font-size: 0.8em; font-weight: bold; line-height: 1; border-radius: 0.35em; vertical-align: middle; margin-left: 0.5rem\">DISEASE</span>\n",
       "</mark>\n",
       " and is<br>   unable to open. Pt transferred to TSICU for further intervention.<br>   [**3-1**]- Pt taken to neuro angio for possible coiling<br>   \n",
       "<mark class=\"entity\" style=\"background: #ddd; padding: 0.45em 0.6em; margin: 0 0.25em; line-height: 1; border-radius: 0.35em;\">\n",
       "    Aneurysm\n",
       "    <span style=\"font-size: 0.8em; font-weight: bold; line-height: 1; border-radius: 0.35em; vertical-align: middle; margin-left: 0.5rem\">DISEASE</span>\n",
       "</mark>\n",
       ", other<br>   Assessment:<br>   \n",
       "<mark class=\"entity\" style=\"background: #ddd; padding: 0.45em 0.6em; margin: 0 0.25em; line-height: 1; border-radius: 0.35em;\">\n",
       "    Pt\n",
       "    <span style=\"font-size: 0.8em; font-weight: bold; line-height: 1; border-radius: 0.35em; vertical-align: middle; margin-left: 0.5rem\">CHEMICAL</span>\n",
       "</mark>\n",
       " is A&amp;OX3, pleasant and cooperative. Follows all commands and moves<br>   all extremities with good strength. Right pupil 3mm, briskly reactive.<br>   Left pupil fully dilated and non-reactive. \n",
       "<mark class=\"entity\" style=\"background: #ddd; padding: 0.45em 0.6em; margin: 0 0.25em; line-height: 1; border-radius: 0.35em;\">\n",
       "    Pt\n",
       "    <span style=\"font-size: 0.8em; font-weight: bold; line-height: 1; border-radius: 0.35em; vertical-align: middle; margin-left: 0.5rem\">CHEMICAL</span>\n",
       "</mark>\n",
       " is unable to open left<br>   eye. When left eye is open, \n",
       "<mark class=\"entity\" style=\"background: #ddd; padding: 0.45em 0.6em; margin: 0 0.25em; line-height: 1; border-radius: 0.35em;\">\n",
       "    ptosis\n",
       "    <span style=\"font-size: 0.8em; font-weight: bold; line-height: 1; border-radius: 0.35em; vertical-align: middle; margin-left: 0.5rem\">DISEASE</span>\n",
       "</mark>\n",
       " is present.<br>   Action:<br>   Labs drawn, neuro assessment monitored, foley placed. Pt taken to neuro<br>   \n",
       "<mark class=\"entity\" style=\"background: #ddd; padding: 0.45em 0.6em; margin: 0 0.25em; line-height: 1; border-radius: 0.35em;\">\n",
       "    angio\n",
       "    <span style=\"font-size: 0.8em; font-weight: bold; line-height: 1; border-radius: 0.35em; vertical-align: middle; margin-left: 0.5rem\">CHEMICAL</span>\n",
       "</mark>\n",
       " at 1630 for possible coiling.<br>   Response:<br>   Neuro exam remains unchanged. Pt currently in angio.<br>   Plan:<br>   Monitor neuro exam<br></div></span>"
      ],
      "text/plain": [
       "<IPython.core.display.HTML object>"
      ]
     },
     "metadata": {},
     "output_type": "display_data"
    },
    {
     "data": {
      "text/plain": [
       "<IPython.core.display.HTML object>"
      ]
     },
     "metadata": {},
     "output_type": "display_data"
    }
   ],
   "source": [
    "from spacy import displacy\n",
    "from IPython.core.display import display, HTML\n",
    "\n",
    "sample_notes = df_notes['text'].head(3)\n",
    "\n",
    "for i, note in enumerate(sample_notes):\n",
    "    doc = nlp(note)\n",
    "    html = displacy.render(doc, style=\"ent\", jupyter=True)\n",
    "    display(HTML(html))\n"
   ]
  },
  {
   "cell_type": "markdown",
   "metadata": {},
   "source": [
    "### Word2Vec and tSNE"
   ]
  },
  {
   "cell_type": "code",
   "execution_count": null,
   "metadata": {},
   "outputs": [
    {
     "data": {
      "text/plain": [
       "[['aneurysm',\n",
       "  'aphasia',\n",
       "  'migraines',\n",
       "  'htn',\n",
       "  'cholesterol',\n",
       "  'psh',\n",
       "  'kidney fistula',\n",
       "  'aneurysm',\n",
       "  'headache',\n",
       "  'bruising',\n",
       "  'aphasia',\n",
       "  'thin',\n",
       "  'allergies',\n",
       "  'hypertension',\n",
       "  'gerd',\n",
       "  'arthritis',\n",
       "  'migraines',\n",
       "  'coagulopathy',\n",
       "  'sb',\n",
       "  'sinus bradycardia',\n",
       "  'o2',\n",
       "  'o2 saturation',\n",
       "  'o2 flow',\n",
       "  'fio2',\n",
       "  'sodium',\n",
       "  'potassium',\n",
       "  'chloride',\n",
       "  'co2',\n",
       "  'creatinine',\n",
       "  'glucose',\n",
       "  'glucose'],\n",
       " ['allergies',\n",
       "  'ciprofloxacin',\n",
       "  'propofol',\n",
       "  'pantoprazole',\n",
       "  'protonix',\n",
       "  'metoprolol',\n",
       "  'sinus tachycardia',\n",
       "  'ng',\n",
       "  'o2',\n",
       "  'peep',\n",
       "  'fio2',\n",
       "  'fio2',\n",
       "  'ctab',\n",
       "  'edema',\n",
       "  'cr',\n",
       "  'tco2',\n",
       "  'glucose',\n",
       "  'etoh',\n",
       "  'diazepam',\n",
       "  'propofol',\n",
       "  'propofol',\n",
       "  'hypertensive',\n",
       "  'diazepam',\n",
       "  'propofol',\n",
       "  'hyponatremia',\n",
       "  'fen',\n",
       "  'dvt',\n",
       "  'stress ulcer',\n",
       "  'vap'],\n",
       " ['headache',\n",
       "  'sinus infection',\n",
       "  'pain',\n",
       "  'aneurysm',\n",
       "  'pts left eye',\n",
       "  'ptosis',\n",
       "  'aneurysm',\n",
       "  'pt',\n",
       "  'pt',\n",
       "  'ptosis',\n",
       "  'angio']]"
      ]
     },
     "execution_count": 22,
     "metadata": {},
     "output_type": "execute_result"
    }
   ],
   "source": [
    "import string\n",
    "\n",
    "def process_entities(entities):\n",
    "    tokens = []\n",
    "    translator = str.maketrans('', '', string.punctuation)\n",
    "    for ent_text, ent_label in entities:\n",
    "        token = ent_text.lower().translate(translator)\n",
    "        if token and not token.isdigit():\n",
    "            tokens.append(token)\n",
    "    return tokens\n",
    "\n",
    "entity_sentences = df_notes['entities'].apply(process_entities).tolist()\n",
    "entity_sentences[:3]"
   ]
  },
  {
   "cell_type": "code",
   "execution_count": 23,
   "metadata": {},
   "outputs": [],
   "source": [
    "from gensim.models import Word2Vec\n",
    "\n",
    "w2v_model = Word2Vec(\n",
    "    entity_sentences,\n",
    "    vector_size=100,\n",
    "    window=5,\n",
    "    min_count=1,\n",
    "    workers=4\n",
    ")\n",
    "\n",
    "words = list(w2v_model.wv.index_to_key)\n",
    "word_vectors = w2v_model.wv[words]"
   ]
  },
  {
   "cell_type": "code",
   "execution_count": 24,
   "metadata": {},
   "outputs": [
    {
     "name": "stderr",
     "output_type": "stream",
     "text": [
      "c:\\Users\\hazim\\AppData\\Local\\Programs\\Python\\Python311\\Lib\\site-packages\\sklearn\\manifold\\_t_sne.py:800: FutureWarning: The default initialization in TSNE will change from 'random' to 'pca' in 1.2.\n",
      "  warnings.warn(\n",
      "c:\\Users\\hazim\\AppData\\Local\\Programs\\Python\\Python311\\Lib\\site-packages\\sklearn\\manifold\\_t_sne.py:810: FutureWarning: The default learning rate in TSNE will change from 200.0 to 'auto' in 1.2.\n",
      "  warnings.warn(\n"
     ]
    }
   ],
   "source": [
    "from sklearn.manifold import TSNE\n",
    "tsne = TSNE(n_components=2, random_state=42)\n",
    "word_vecs_2d = tsne.fit_transform(word_vectors)\n"
   ]
  },
  {
   "cell_type": "code",
   "execution_count": null,
   "metadata": {},
   "outputs": [
    {
     "data": {
      "application/vnd.plotly.v1+json": {
       "config": {
        "plotlyServerURL": "https://plot.ly"
       },
       "data": [
        {
         "customdata": [
          [
           "pain"
          ],
          [
           "edema"
          ],
          [
           "heparin"
          ],
          [
           "pt"
          ],
          [
           "o2"
          ],
          [
           "allergies"
          ],
          [
           "headache"
          ],
          [
           "ng"
          ],
          [
           "dvt"
          ],
          [
           "glucose"
          ],
          [
           "dilaudid"
          ],
          [
           "fever"
          ],
          [
           "pneumonia"
          ],
          [
           "nausea"
          ],
          [
           "fio2"
          ],
          [
           "cough"
          ],
          [
           "bleeding"
          ],
          [
           "stress ulcer"
          ],
          [
           "vap"
          ],
          [
           "hypotension"
          ],
          [
           "infection"
          ],
          [
           "abdominal pain"
          ],
          [
           "lasix"
          ],
          [
           "htn"
          ],
          [
           "morphine"
          ],
          [
           "propofol"
          ],
          [
           "rash"
          ],
          [
           "hypertension"
          ],
          [
           "vancomycin"
          ],
          [
           "migraines"
          ],
          [
           "seizure"
          ],
          [
           "chest pain"
          ],
          [
           "aneurysm"
          ],
          [
           "fentanyl"
          ],
          [
           "tylenol"
          ],
          [
           "creatinine"
          ],
          [
           "hemorrhage"
          ],
          [
           "atelectasis"
          ],
          [
           "peep"
          ],
          [
           "pneumothorax"
          ],
          [
           "aspirin"
          ],
          [
           "pleural effusion"
          ],
          [
           "sah"
          ],
          [
           "pericardial effusion"
          ],
          [
           "hematoma"
          ],
          [
           "anemia"
          ],
          [
           "alcohol"
          ],
          [
           "sodium"
          ],
          [
           "tachycardia"
          ],
          [
           "k"
          ],
          [
           "dyspnea"
          ],
          [
           "pleural effusions"
          ],
          [
           "sinus tachycardia"
          ],
          [
           "constipation"
          ],
          [
           "seizures"
          ],
          [
           "pe"
          ],
          [
           "dilantin"
          ],
          [
           "pcp"
          ],
          [
           "diarrhea"
          ],
          [
           "depression"
          ],
          [
           "coumadin"
          ],
          [
           "tco2"
          ],
          [
           "chronic pain"
          ],
          [
           "dka"
          ],
          [
           "anxiety"
          ],
          [
           "metoprolol"
          ],
          [
           "ativan"
          ],
          [
           "migraine"
          ],
          [
           "pantoprazole"
          ],
          [
           "heparin sodium"
          ],
          [
           "vanco"
          ],
          [
           "hypertensive"
          ],
          [
           "q6h"
          ],
          [
           "no"
          ],
          [
           "copd"
          ],
          [
           "sepsis"
          ],
          [
           "pulmonary edema"
          ],
          [
           "tenderness"
          ],
          [
           "lisinopril"
          ],
          [
           "abscess"
          ],
          [
           "esrd"
          ],
          [
           "shortness of breath"
          ],
          [
           "acetaminophen"
          ],
          [
           "gerd"
          ],
          [
           "stenosis"
          ],
          [
           "hd"
          ],
          [
           "chf"
          ],
          [
           "acute pain"
          ],
          [
           "potassium"
          ],
          [
           "famotidine"
          ],
          [
           "protonix"
          ],
          [
           "acute distress"
          ],
          [
           "levofloxacin"
          ],
          [
           "zofran"
          ],
          [
           "labetalol"
          ],
          [
           "cr"
          ],
          [
           "respiratory failure"
          ],
          [
           "oxycodone"
          ],
          [
           "albuterol"
          ],
          [
           "subarachnoid hemorrhage"
          ],
          [
           "fracture"
          ],
          [
           "co2"
          ],
          [
           "fen"
          ],
          [
           "pancreatitis"
          ],
          [
           "lactate"
          ],
          [
           "sob"
          ],
          [
           "steroids"
          ],
          [
           "emesis"
          ],
          [
           "dm"
          ],
          [
           "ards"
          ],
          [
           "vomiting"
          ],
          [
           "valium"
          ],
          [
           "respiratory distress"
          ],
          [
           "lll"
          ],
          [
           "stroke"
          ],
          [
           "oxygen"
          ],
          [
           "hydromorphone"
          ],
          [
           "hernia"
          ],
          [
           "shock"
          ],
          [
           "levophed"
          ],
          [
           "nad"
          ],
          [
           "etoh"
          ],
          [
           "hydralazine"
          ],
          [
           "mitral regurgitation"
          ],
          [
           "gi bleed"
          ],
          [
           "headaches"
          ],
          [
           "prednisone"
          ],
          [
           "gib"
          ],
          [
           "cad"
          ],
          [
           "q8h"
          ],
          [
           "tablets"
          ],
          [
           "ciprofloxacin"
          ],
          [
           "penicillins"
          ],
          [
           "q4h"
          ],
          [
           "atrial fibrillation"
          ],
          [
           "effusion"
          ],
          [
           "methadone"
          ],
          [
           "hypoxia"
          ],
          [
           "ra"
          ],
          [
           "ua"
          ],
          [
           "bacteremia"
          ],
          [
           "pd"
          ],
          [
           "flagyl"
          ],
          [
           "ceftriaxone"
          ],
          [
           "furosemide"
          ],
          [
           "cyanosis"
          ],
          [
           "gabapentin"
          ],
          [
           "plavix"
          ],
          [
           "agitation"
          ],
          [
           "asthma"
          ],
          [
           "name9"
          ],
          [
           "hydrocephalus"
          ],
          [
           "infarct"
          ],
          [
           "nsr"
          ],
          [
           "hypotensive"
          ],
          [
           "wheezing"
          ],
          [
           "rhonchi"
          ],
          [
           "swelling"
          ],
          [
           "metoprolol tartrate"
          ],
          [
           "infarction"
          ],
          [
           "gastroparesis"
          ],
          [
           "renal failure"
          ],
          [
           "afebrile"
          ],
          [
           "trauma"
          ],
          [
           "tumor"
          ],
          [
           "read"
          ],
          [
           "hemoptysis"
          ],
          [
           "arf"
          ],
          [
           "vasospasm"
          ],
          [
           "febrile"
          ],
          [
           "ibuprofen"
          ],
          [
           "midazolam"
          ],
          [
           "lymphadenopathy"
          ],
          [
           "chills"
          ],
          [
           "palpitations"
          ],
          [
           "compazine"
          ],
          [
           "osa"
          ],
          [
           "confusion"
          ],
          [
           "migraine headaches"
          ],
          [
           "qhs"
          ],
          [
           "aortic regurgitation"
          ],
          [
           "ischemia"
          ],
          [
           "calcium"
          ],
          [
           "bleed"
          ],
          [
           "fatigue"
          ],
          [
           "cipro"
          ],
          [
           "critically ill"
          ],
          [
           "diabetes"
          ],
          [
           "obesity"
          ],
          [
           "intracranial hemorrhage"
          ],
          [
           "keppra"
          ],
          [
           "datetime"
          ],
          [
           "leukocytosis"
          ],
          [
           "lightheadedness"
          ],
          [
           "amiodarone"
          ],
          [
           "opacity"
          ],
          [
           "versed"
          ],
          [
           "nv"
          ],
          [
           "qid"
          ],
          [
           "pulmonary embolism"
          ],
          [
           "o2 sats"
          ],
          [
           "sodium chloride"
          ],
          [
           "mannitol"
          ],
          [
           "lorazepam"
          ],
          [
           "cva"
          ],
          [
           "fractures"
          ],
          [
           "ich"
          ],
          [
           "hyperlipidemia"
          ],
          [
           "normocephalic"
          ],
          [
           "bradycardia"
          ],
          [
           "diazepam"
          ],
          [
           "nimodipine"
          ],
          [
           "avm"
          ],
          [
           "cp"
          ],
          [
           "ctab"
          ],
          [
           "magnesium"
          ],
          [
           "cancer"
          ],
          [
           "lovenox"
          ],
          [
           "mmoll"
          ],
          [
           "metformin"
          ],
          [
           "potassium chloride"
          ],
          [
           "piperacillintazobactam"
          ],
          [
           "dic"
          ],
          [
           "la"
          ],
          [
           "dysuria"
          ],
          [
           "numbness"
          ],
          [
           "thrombus"
          ],
          [
           "haldol"
          ],
          [
           "dizziness"
          ],
          [
           "sinusitis"
          ],
          [
           "codeine"
          ],
          [
           "delirium"
          ],
          [
           "meningitis"
          ],
          [
           "o2 sat"
          ],
          [
           "w"
          ],
          [
           "clonidine"
          ],
          [
           "warfarin"
          ],
          [
           "organomegaly"
          ],
          [
           "tachypnea"
          ],
          [
           "hypercholesterolemia"
          ],
          [
           "lactulose"
          ],
          [
           "gastritis"
          ],
          [
           "erythema"
          ],
          [
           "lopressor"
          ],
          [
           "toradol"
          ],
          [
           "acute renal failure"
          ],
          [
           "myasthenia"
          ],
          [
           "cardiomegaly"
          ],
          [
           "pepcid"
          ],
          [
           "jaundice"
          ],
          [
           "hypothyroidism"
          ],
          [
           "reglan"
          ],
          [
           "hctz"
          ],
          [
           "clubbing"
          ],
          [
           "ampicillin"
          ],
          [
           "mr"
          ],
          [
           "gastrointestinal bleed"
          ],
          [
           "apnea"
          ],
          [
           "aortic stenosis"
          ],
          [
           "po2"
          ],
          [
           "cmh2o"
          ],
          [
           "labetolol"
          ],
          [
           "na"
          ],
          [
           "op"
          ],
          [
           "chloride"
          ],
          [
           "fevers"
          ],
          [
           "depressed"
          ],
          [
           "myalgias"
          ],
          [
           "sinus bradycardia"
          ],
          [
           "solumedrol"
          ],
          [
           "hyponatremia"
          ],
          [
           "lidocaine"
          ],
          [
           "hyperglycemia"
          ],
          [
           "phenylephrine"
          ],
          [
           "simvastatin"
          ],
          [
           "atenolol"
          ],
          [
           "malignancy"
          ],
          [
           "lantus"
          ],
          [
           "iron"
          ],
          [
           "nrb"
          ],
          [
           "omeprazole"
          ],
          [
           "percocet"
          ],
          [
           "dexamethasone"
          ],
          [
           "o2 saturation"
          ],
          [
           "cholecystitis"
          ],
          [
           "clonazepam"
          ],
          [
           "diverticulitis"
          ],
          [
           "pyelonephritis"
          ],
          [
           "lower extremity"
          ],
          [
           "bibasilar atelectasis"
          ],
          [
           "ondansetron"
          ],
          [
           "diplopia"
          ],
          [
           "hydronephrosis"
          ],
          [
           "hco3"
          ],
          [
           "ventricular hypertrophy"
          ],
          [
           "redness"
          ],
          [
           "mca"
          ],
          [
           "phenytoin"
          ],
          [
           "acyclovir"
          ],
          [
           "metronidazole"
          ],
          [
           "jp"
          ],
          [
           "asa"
          ],
          [
           "pneumocephalus"
          ],
          [
           "nicotine"
          ],
          [
           "ascites"
          ],
          [
           "q12h"
          ],
          [
           "tamponade"
          ],
          [
           "nicardipine"
          ],
          [
           "diltiazem"
          ],
          [
           "opacification"
          ],
          [
           "mg"
          ],
          [
           "nauseavomiting"
          ],
          [
           "colitis"
          ],
          [
           "overweight  obese"
          ],
          [
           "endocarditis"
          ],
          [
           "azithromycin"
          ],
          [
           "hypoxemia"
          ],
          [
           "allergy"
          ],
          [
           "bronchitis"
          ],
          [
           "vertigo"
          ],
          [
           "angio"
          ],
          [
           "contin"
          ],
          [
           "glargine"
          ],
          [
           "weight loss"
          ],
          [
           "psychiatric"
          ],
          [
           "acidosis"
          ],
          [
           "levothyroxine"
          ],
          [
           "diabetic ketoacidosis"
          ],
          [
           "o2 flow"
          ],
          [
           "calcium gluconate"
          ],
          [
           "be"
          ],
          [
           "atorvastatin"
          ],
          [
           "intraventricular hemorrhage"
          ],
          [
           "dysarthria"
          ],
          [
           "overdose"
          ],
          [
           "all"
          ],
          [
           "ranitidine"
          ],
          [
           "atrial septal defect"
          ],
          [
           "volume overload"
          ],
          [
           "itching"
          ],
          [
           "statin"
          ],
          [
           "flolan"
          ],
          [
           "verapamil"
          ],
          [
           "steroid"
          ],
          [
           "erythromycin"
          ],
          [
           "norepinephrine"
          ],
          [
           "atn"
          ],
          [
           "encephalopathy"
          ],
          [
           "metoclopramide"
          ],
          [
           "herniation"
          ],
          [
           "mitral valve prolapse"
          ],
          [
           "sp"
          ],
          [
           "atheroma"
          ],
          [
           "cefipime"
          ],
          [
           "hematemesis"
          ],
          [
           "cefepime"
          ],
          [
           "kcl"
          ],
          [
           "cefazolin"
          ],
          [
           "septic"
          ],
          [
           "thrombocytopenia"
          ],
          [
           "arthritis"
          ],
          [
           "wnl"
          ],
          [
           "hyperkalemia"
          ],
          [
           "inflammation"
          ],
          [
           "vasopressin"
          ],
          [
           "orthopnea"
          ],
          [
           "diabetes mellitus"
          ],
          [
           "docusate sodium"
          ],
          [
           "sweats"
          ],
          [
           "insomnia"
          ],
          [
           "gout"
          ],
          [
           "levaquin"
          ],
          [
           "syncope"
          ],
          [
           "magnesium sulfate"
          ],
          [
           "nystagmus"
          ],
          [
           "coagulopathy"
          ],
          [
           "tremors"
          ],
          [
           "hyperthermia"
          ],
          [
           "akinetic"
          ],
          [
           "ams"
          ],
          [
           "ptx"
          ],
          [
           "hematuria"
          ],
          [
           "itp"
          ],
          [
           "pea"
          ],
          [
           "gadolinium"
          ],
          [
           "abx"
          ],
          [
           "bilious"
          ],
          [
           "fluconazole"
          ],
          [
           "hypovolemia"
          ],
          [
           "fistula"
          ],
          [
           "pyrexia"
          ],
          [
           "infections"
          ],
          [
           "bicarb"
          ],
          [
           "amlodipine"
          ],
          [
           "hepatitis"
          ],
          [
           "laryngeal edema"
          ],
          [
           "dehydration"
          ],
          [
           "nsurg"
          ],
          [
           "hypoglycemia"
          ],
          [
           "bisacodyl"
          ],
          [
           "motrin"
          ],
          [
           "somnolent"
          ],
          [
           "thiamine"
          ],
          [
           "cerebral edema"
          ],
          [
           "psh"
          ],
          [
           "cholelithiasis"
          ],
          [
           "folate"
          ],
          [
           "milrinone"
          ],
          [
           "delirium tremens"
          ],
          [
           "spasm"
          ],
          [
           "fentanyl citrate"
          ],
          [
           "losartan"
          ],
          [
           "nitroglycerin"
          ],
          [
           "ppx"
          ],
          [
           "lle"
          ],
          [
           "clindamycin"
          ],
          [
           "cortisol"
          ],
          [
           "nausea and vomiting"
          ],
          [
           "albuterol sulfate"
          ],
          [
           "coronary artery disease"
          ],
          [
           "vasculitis"
          ],
          [
           "neurontin"
          ],
          [
           "vitamin k"
          ],
          [
           "calcification"
          ],
          [
           "amitriptyline"
          ],
          [
           "pfo"
          ],
          [
           "nstemi"
          ],
          [
           "hypertrophy"
          ],
          [
           "bilirubin"
          ],
          [
           "necrosis"
          ],
          [
           "hypokalemia"
          ],
          [
           "min"
          ],
          [
           "epinephrine"
          ],
          [
           "tramadol"
          ],
          [
           "abdominal tenderness"
          ],
          [
           "gluconate"
          ],
          [
           "breast cancer"
          ],
          [
           "wheeze"
          ],
          [
           "pac"
          ],
          [
           "b12"
          ],
          [
           "tb"
          ],
          [
           "crf"
          ],
          [
           "topamax"
          ],
          [
           "pulmonary artery systolic pressure"
          ],
          [
           "blood loss"
          ],
          [
           "heart failure"
          ],
          [
           "low back pain"
          ],
          [
           "cellulitis"
          ],
          [
           "pres"
          ],
          [
           "polysubstance abuse"
          ],
          [
           "meropenem"
          ],
          [
           "gentamicin"
          ],
          [
           "lethargy"
          ],
          [
           "acute lung injury"
          ],
          [
           "ileus"
          ],
          [
           "splenomegaly"
          ],
          [
           "epistaxis"
          ],
          [
           "rashes"
          ],
          [
           "thrombosis"
          ],
          [
           "rigors"
          ],
          [
           "cardiomyopathy"
          ],
          [
           "icterus"
          ],
          [
           "nitro"
          ],
          [
           "calcifications"
          ],
          [
           "lipitor"
          ],
          [
           "og"
          ],
          [
           "ca"
          ],
          [
           "nausea vomiting"
          ],
          [
           "tetracycline"
          ],
          [
           "emphysema"
          ],
          [
           "bactrim"
          ],
          [
           "linezolid"
          ],
          [
           "aortic valve stenosis"
          ],
          [
           "citalopram"
          ],
          [
           "dsd"
          ],
          [
           "unasyn"
          ],
          [
           "mcgkgmin"
          ],
          [
           "sulfonamide"
          ],
          [
           "ho"
          ],
          [
           "cocaine"
          ],
          [
           "ipratropium bromide"
          ],
          [
           "5fu"
          ],
          [
           "oxycontin"
          ],
          [
           "left ventricular systolic function"
          ],
          [
           "dyslipidemia"
          ],
          [
           "anaphylaxis"
          ],
          [
           "pseudoaneurysm"
          ],
          [
           "malignant neoplasm"
          ],
          [
           "infarcts"
          ],
          [
           "restless"
          ],
          [
           "dysphagia"
          ],
          [
           "septic shock"
          ],
          [
           "neosynephrine"
          ],
          [
           "pulmonary hypertension"
          ],
          [
           "iodine"
          ],
          [
           "gen"
          ],
          [
           "dermatitis"
          ],
          [
           "mestinon"
          ],
          [
           "dispo"
          ],
          [
           "topiramate"
          ],
          [
           "abcess"
          ],
          [
           "melena"
          ],
          [
           "chronic renal failure"
          ],
          [
           "tpa"
          ],
          [
           "dry mouth"
          ],
          [
           "aneurysms"
          ],
          [
           "rle"
          ],
          [
           "av block"
          ],
          [
           "nitroprusside"
          ],
          [
           "ulcers"
          ],
          [
           "decadron"
          ],
          [
           "nph"
          ],
          [
           "lupus"
          ],
          [
           "cirrhosis"
          ],
          [
           "pea arrest"
          ],
          [
           "atropine"
          ],
          [
           "atrial flutter"
          ],
          [
           "dislocation"
          ],
          [
           "cholesterol"
          ],
          [
           "ultram"
          ],
          [
           "chronic back pain"
          ],
          [
           "rhinorrhea"
          ],
          [
           "pulm edema"
          ],
          [
           "trazodone"
          ],
          [
           "peg"
          ],
          [
           "small bowel obstruction"
          ],
          [
           "piperacillin"
          ],
          [
           "polyp"
          ],
          [
           "transaminitis"
          ],
          [
           "folic acid"
          ],
          [
           "colace"
          ],
          [
           "ntg"
          ],
          [
           "allopurinol"
          ],
          [
           "docusate"
          ],
          [
           "xrt"
          ],
          [
           "ulcer"
          ],
          [
           "organ dysfunction"
          ],
          [
           "hypoactive bowel"
          ],
          [
           "nif"
          ],
          [
           "fluoxetine"
          ],
          [
           "ttp"
          ],
          [
           "tremor"
          ],
          [
           "acetylcysteine"
          ],
          [
           "vasogenic edema"
          ],
          [
           "asterixis"
          ],
          [
           "tca"
          ],
          [
           "urinary tract infection"
          ],
          [
           "als"
          ],
          [
           "tachypneic"
          ],
          [
           "metabolic acidosis"
          ],
          [
           "venlafaxine"
          ],
          [
           "dnr"
          ],
          [
           "osteoporosis"
          ],
          [
           "adenopathy"
          ],
          [
           "pulmonary artery systolic hypertension"
          ],
          [
           "ketamine"
          ],
          [
           "hydrocortisone"
          ],
          [
           "ulcerative colitis"
          ],
          [
           "hypercarbia"
          ],
          [
           "chb"
          ],
          [
           "weakness"
          ],
          [
           "blurred vision"
          ],
          [
           "volume loss"
          ],
          [
           "ivh"
          ],
          [
           "tld"
          ],
          [
           "atherosclerotic"
          ],
          [
           "vascular congestion"
          ],
          [
           "shortness"
          ],
          [
           "zolpidem"
          ],
          [
           "breast reduction"
          ],
          [
           "sertraline"
          ],
          [
           "nipride"
          ],
          [
           "cramping"
          ],
          [
           "clopidogrel"
          ],
          [
           "status epilepticus"
          ],
          [
           "ventricular septal defect"
          ],
          [
           "augmentin"
          ],
          [
           "nac"
          ],
          [
           "propranolol"
          ],
          [
           "fluticasone"
          ],
          [
           "liver disease"
          ],
          [
           "sleep apnea"
          ],
          [
           "po"
          ],
          [
           "alcoholic pancreatitis"
          ],
          [
           "diverticulosis"
          ],
          [
           "zyprexa"
          ],
          [
           "neuropathy"
          ],
          [
           "demerol"
          ],
          [
           "lcx"
          ],
          [
           "fioricet"
          ],
          [
           "diaphoresis"
          ],
          [
           "gtts"
          ],
          [
           "benadryl"
          ],
          [
           "meningioma"
          ],
          [
           "hypercarbic respiratory failure"
          ],
          [
           "lower lobe atelectasis"
          ],
          [
           "end stage renal disease"
          ],
          [
           "chlorhexidine gluconate"
          ],
          [
           "myocardial infarction"
          ],
          [
           "narcan"
          ],
          [
           "depressions"
          ],
          [
           "cdi"
          ],
          [
           "throat"
          ],
          [
           "desaturation"
          ],
          [
           "delirious"
          ],
          [
           "captopril"
          ],
          [
           "seroquel"
          ],
          [
           "smoking"
          ],
          [
           "lvh"
          ],
          [
           "toprol"
          ],
          [
           "nystatin"
          ],
          [
           "migraine headache"
          ],
          [
           "atrophy"
          ],
          [
           "levetiracetam"
          ],
          [
           "albuterolipratropium"
          ],
          [
           "photophobia"
          ],
          [
           "vitamin d"
          ],
          [
           "q3h"
          ],
          [
           "bacterial meningitis"
          ],
          [
           "tachy"
          ],
          [
           "alcohol abuse"
          ],
          [
           "prerenal"
          ],
          [
           "oliguria"
          ],
          [
           "flecainide"
          ],
          [
           "malnutrition"
          ],
          [
           "perforation"
          ],
          [
           "pneumomediastinum"
          ],
          [
           "sarcoidosis"
          ],
          [
           "empyema"
          ],
          [
           "congestion"
          ],
          [
           "scoliosis"
          ],
          [
           "adrenal insufficiency"
          ],
          [
           "aids"
          ],
          [
           "fibrillation"
          ],
          [
           "traumatic"
          ],
          [
           "etoh abuse"
          ],
          [
           "fibrosis"
          ],
          [
           "metoprolol succinate"
          ],
          [
           "addl"
          ],
          [
           "nafcillin"
          ],
          [
           "sirs"
          ],
          [
           "pulmonary vascular congestion"
          ],
          [
           "lactic"
          ],
          [
           "left ventricular systolic dysfunction"
          ],
          [
           "arrhythmia"
          ],
          [
           "chemo"
          ],
          [
           "egd"
          ],
          [
           "tinnitus"
          ],
          [
           "ketones"
          ],
          [
           "vomitting"
          ],
          [
           "advil"
          ],
          [
           "valsartan"
          ],
          [
           "ambien"
          ],
          [
           "xanthomas"
          ],
          [
           "carotidcerebral"
          ],
          [
           "phosphate"
          ],
          [
           "supraclavicular wnl"
          ],
          [
           "muscle wasting"
          ],
          [
           "atorvastatin calcium"
          ],
          [
           "na140"
          ],
          [
           "nausea  vomiting"
          ],
          [
           "sulfonamides"
          ],
          [
           "albumin28"
          ],
          [
           "rp bleed"
          ],
          [
           "ceftazidime"
          ],
          [
           "death"
          ],
          [
           "hemolysis"
          ],
          [
           "substance abuse"
          ],
          [
           "head trauma"
          ],
          [
           "phenytoin sodium"
          ],
          [
           "cellcept"
          ],
          [
           "vit k"
          ],
          [
           "ipratropium"
          ],
          [
           "urinary retention"
          ],
          [
           "aphasia"
          ],
          [
           "palsy"
          ],
          [
           "eosinophilia"
          ],
          [
           "hematomas"
          ],
          [
           "mae"
          ],
          [
           "amio"
          ],
          [
           "pruritis"
          ],
          [
           "peripheral edema"
          ],
          [
           "aha endocarditis"
          ],
          [
           "namepattern1"
          ],
          [
           "glipizide"
          ],
          [
           "prilosec"
          ],
          [
           "penicillin"
          ],
          [
           "pud"
          ],
          [
           "prochlorperazine"
          ],
          [
           "mitral\nregurgitation"
          ],
          [
           "tamiflu"
          ],
          [
           "diamox"
          ],
          [
           "uremia"
          ],
          [
           "intracerebral hemorrhage"
          ],
          [
           "autoimmune hemolytic anemia"
          ],
          [
           "svg"
          ],
          [
           "history"
          ],
          [
           "obstructive sleep apnea"
          ],
          [
           "inhaler"
          ],
          [
           "head bleed"
          ],
          [
           "had"
          ],
          [
           "extraocular movements"
          ],
          [
           "statins"
          ],
          [
           "upper gi bleed"
          ],
          [
           "vicodin"
          ],
          [
           "multivitamin"
          ],
          [
           "serosanguinous"
          ],
          [
           "adverse drug reactions"
          ],
          [
           "pyridostigmine"
          ],
          [
           "huo"
          ],
          [
           "gigu"
          ],
          [
           "mssa"
          ],
          [
           "malalignment"
          ],
          [
           "des"
          ],
          [
           "gpc"
          ],
          [
           "chronic kidney\n   disease"
          ],
          [
           "lansoprazole"
          ],
          [
           "embolism"
          ],
          [
           "congestive heart failure"
          ],
          [
           "pulmonary artery systolic"
          ],
          [
           "haloperidol"
          ],
          [
           "ckd"
          ],
          [
           "ovarian mass"
          ],
          [
           "metabolic alkalosis"
          ],
          [
           "mirtazapine"
          ],
          [
           "artery aneurysm"
          ],
          [
           "melanoma"
          ],
          [
           "frontoparietal ivh"
          ],
          [
           "miconazole"
          ],
          [
           "mixed venous o2"
          ],
          [
           "potassium phosphate"
          ],
          [
           "neutropenic"
          ],
          [
           "cbd"
          ],
          [
           "atrial abnormality"
          ],
          [
           "coags"
          ],
          [
           "respiratory\n   distress"
          ],
          [
           "propfol"
          ],
          [
           "hypoactive"
          ],
          [
           "q2h"
          ],
          [
           "alkalosis"
          ],
          [
           "vanc"
          ],
          [
           "hiatal hernia"
          ],
          [
           "cyclobenzaprine"
          ],
          [
           "strokes"
          ],
          [
           "dvts"
          ],
          [
           "cephalosporins"
          ],
          [
           "interstitial edema"
          ],
          [
           "able"
          ],
          [
           "trace aortic regurgitation"
          ],
          [
           "ranitidine hcl"
          ],
          [
           "suppository"
          ],
          [
           "psv"
          ],
          [
           "chronic obstructive pulmonary disease"
          ],
          [
           "lactic acid16"
          ],
          [
           "patent foramen ovale"
          ],
          [
           "q24h"
          ],
          [
           "acute cholecystitis"
          ],
          [
           "titrate"
          ],
          [
           "naproxen"
          ],
          [
           "nifedipine"
          ],
          [
           "necrotic"
          ],
          [
           "benzo"
          ],
          [
           "palate"
          ],
          [
           "prochlorperazine maleate"
          ],
          [
           "renal toxicity"
          ],
          [
           "uti"
          ],
          [
           "norvasc"
          ],
          [
           "sore throat"
          ],
          [
           "gallstones"
          ],
          [
           "doxycycline"
          ],
          [
           "ros"
          ],
          [
           "eo"
          ],
          [
           "dry mm"
          ],
          [
           "bipolar disorder"
          ],
          [
           "somnolence"
          ],
          [
           "povidoneiodine"
          ],
          [
           "sat"
          ],
          [
           "arteriovenous malformation"
          ],
          [
           "barium"
          ],
          [
           "temp"
          ],
          [
           "ibs"
          ],
          [
           "methimazole"
          ],
          [
           "sotalol"
          ],
          [
           "stoma"
          ],
          [
           "glucophage"
          ],
          [
           "epilepsy"
          ],
          [
           "desaturated"
          ],
          [
           "fatty liver"
          ],
          [
           "qd"
          ],
          [
           "bowel obstruction"
          ],
          [
           "nitrofurantoinnitrofuran"
          ],
          [
           "air"
          ],
          [
           "mpgn"
          ],
          [
           "mwf"
          ],
          [
           "pad"
          ],
          [
           "pcomm aneurysm"
          ],
          [
           "dm type ii"
          ],
          [
           "liver failure"
          ],
          [
           "sb"
          ],
          [
           "mca aneurysm"
          ],
          [
           "pulmonary embolus"
          ],
          [
           "dopamine"
          ],
          [
           "acute coronary syndrome"
          ],
          [
           "cc"
          ],
          [
           "nortriptyline"
          ],
          [
           "nitrofurantoin"
          ],
          [
           "meperidine hcl"
          ],
          [
           "ble"
          ],
          [
           "ro dvt"
          ],
          [
           "paraesophageal hernia"
          ],
          [
           "zoloft"
          ],
          [
           "osteomyelitis"
          ],
          [
           "left ventricular hypertrophy"
          ],
          [
           "prostate"
          ],
          [
           "hypercarbic"
          ],
          [
           "scds"
          ],
          [
           "tizanidine"
          ],
          [
           "femoral bruits"
          ],
          [
           "nephrolithiasis"
          ],
          [
           "groin"
          ],
          [
           "thyromegaly"
          ],
          [
           "tightness"
          ],
          [
           "retroperitoneal bleed"
          ],
          [
           "advair"
          ],
          [
           "intestinal obstruction"
          ],
          [
           "airway obstruction"
          ],
          [
           "esophagitis"
          ],
          [
           "paroxetine hcl"
          ],
          [
           "obstruction"
          ],
          [
           "precedex"
          ],
          [
           "pleural\n effusion"
          ],
          [
           "mets"
          ],
          [
           "purulent"
          ],
          [
           "calcium carbonate"
          ],
          [
           "hemorrhagic"
          ],
          [
           "anasarca"
          ],
          [
           "dementia"
          ],
          [
           "image002jpg\n   "
          ],
          [
           "zantac"
          ],
          [
           "apap"
          ],
          [
           "aztreonam"
          ],
          [
           "venous thrombosis"
          ],
          [
           "hepatitis c"
          ],
          [
           "amox trpotassium clavulanate"
          ],
          [
           "zosyn"
          ],
          [
           "shortness of\nbreath"
          ],
          [
           "appetite"
          ],
          [
           "nuchal rigidity"
          ],
          [
           "bloating"
          ],
          [
           "groundglass"
          ],
          [
           "pivs"
          ],
          [
           "atelectatic"
          ],
          [
           "lung cancer"
          ],
          [
           "ruptured ovarian cyst"
          ],
          [
           "alcoholism"
          ],
          [
           "ptosis"
          ],
          [
           "hair loss"
          ],
          [
           "overweight"
          ],
          [
           "hemothorax"
          ],
          [
           "cardiac dysrhythmia"
          ],
          [
           "meclizine"
          ],
          [
           "calcium acetate"
          ],
          [
           "pericardiocentesis"
          ],
          [
           "lethargic"
          ],
          [
           "sch"
          ],
          [
           "watery"
          ],
          [
           "enema"
          ],
          [
           "hallucinations"
          ],
          [
           "wheezes or rhonchi"
          ],
          [
           "pallor"
          ],
          [
           "gi bleeding"
          ],
          [
           "colchicine"
          ],
          [
           "presyncope"
          ],
          [
           "baclofen"
          ],
          [
           "carbamazepine"
          ],
          [
           "ferrous sulfate"
          ],
          [
           "incontinence"
          ],
          [
           "xanax"
          ],
          [
           "bruising"
          ],
          [
           "cardiogenic shock"
          ],
          [
           "grimacing"
          ],
          [
           "ca76"
          ],
          [
           "uri"
          ],
          [
           "mg24"
          ],
          [
           "ruq pain"
          ],
          [
           "bronchiectasis"
          ],
          [
           "klonopin"
          ],
          [
           "tachypnic"
          ],
          [
           "betablocker"
          ],
          [
           "hap"
          ],
          [
           "sigmoid cancer"
          ],
          [
           "ugib"
          ],
          [
           "stemi"
          ],
          [
           "fasciculations"
          ],
          [
           "levo"
          ],
          [
           "blood loss anemia"
          ],
          [
           "ethanol"
          ],
          [
           "crohn"
          ],
          [
           "pansinusitis"
          ],
          [
           "cream"
          ],
          [
           "alk"
          ],
          [
           "duodenal perforation"
          ],
          [
           "duodenal ulcer"
          ],
          [
           "tia"
          ],
          [
           "discitis"
          ],
          [
           "alprazolam"
          ],
          [
           "intraabdominal"
          ],
          [
           "thrush"
          ],
          [
           "depakote"
          ],
          [
           "hodgkins lymphoma"
          ],
          [
           "glyburide"
          ],
          [
           "traumatic brain injury"
          ],
          [
           "thrombocytosis"
          ],
          [
           "opacities"
          ],
          [
           "qam"
          ],
          [
           "sp breast reduction"
          ],
          [
           "incisional hernia"
          ],
          [
           "respiratory acidosis"
          ],
          [
           "smoke"
          ],
          [
           "gm"
          ],
          [
           "persantine"
          ],
          [
           "lamictal"
          ],
          [
           "muscle spasm"
          ],
          [
           "ecchymosis"
          ],
          [
           "aao"
          ],
          [
           "bloody"
          ],
          [
           "conjunctival edema"
          ],
          [
           "nephropathy"
          ],
          [
           "right bundlebranch block"
          ],
          [
           "tramadol hcl"
          ],
          [
           "acs"
          ],
          [
           "pcos"
          ],
          [
           "protamine"
          ],
          [
           "catecholamine"
          ],
          [
           "arthralgias"
          ],
          [
           "icteric"
          ],
          [
           "prozac"
          ],
          [
           "ama"
          ],
          [
           "mmm"
          ],
          [
           "ca92"
          ],
          [
           "type ii"
          ],
          [
           "gentamycin"
          ],
          [
           "heart disease"
          ],
          [
           "commands"
          ],
          [
           "nitro gtt"
          ],
          [
           "cpt"
          ],
          [
           "imdur"
          ],
          [
           "trached"
          ],
          [
           "diabetic diet"
          ],
          [
           "decreased breath"
          ],
          [
           "quetiapine"
          ],
          [
           "neoplasm"
          ],
          [
           "epi"
          ],
          [
           "hyperintensity"
          ],
          [
           "hypoperfusion"
          ],
          [
           "vomit"
          ],
          [
           "zocor"
          ],
          [
           "fexofenadine"
          ],
          [
           "nimv"
          ],
          [
           "denies fever"
          ],
          [
           "sulfasalazine"
          ],
          [
           "ankle edema"
          ],
          [
           "simethicone"
          ],
          [
           "hit"
          ],
          [
           "coags wnl"
          ],
          [
           "nephrotoxins"
          ],
          [
           "lymphoma"
          ],
          [
           "hypernatremia"
          ],
          [
           "adenoma"
          ],
          [
           "dulcolax"
          ],
          [
           "ss"
          ],
          [
           "loss of vision"
          ],
          [
           "droperidol"
          ],
          [
           "dm2"
          ],
          [
           "glucagon"
          ],
          [
           "hypovolemic"
          ],
          [
           "unstable angina"
          ],
          [
           "lactic acid11 mmoll"
          ],
          [
           "blisters"
          ],
          [
           "serous"
          ],
          [
           "o2\n   "
          ],
          [
           "vp"
          ],
          [
           "abnormal movements"
          ],
          [
           "pulm htn"
          ],
          [
           "brady"
          ],
          [
           "amoxicillin"
          ],
          [
           "preop weight0 lbs   0 kgs"
          ],
          [
           "hypokalemic"
          ],
          [
           "enteritis"
          ],
          [
           "meningismus"
          ],
          [
           "colon cancer"
          ],
          [
           "nonbloody"
          ],
          [
           "tingling weakness"
          ],
          [
           "trileptal"
          ],
          [
           "inh"
          ],
          [
           "rifaximin"
          ],
          [
           "cardiac arrest"
          ],
          [
           "paralysis"
          ],
          [
           "systolic dysfunction"
          ],
          [
           "esp"
          ],
          [
           "hypoactive bs"
          ],
          [
           "osteoarthritis"
          ],
          [
           "diabetic"
          ],
          [
           "dobutamine"
          ],
          [
           "zolpidem tartrate"
          ],
          [
           "sodium bicarbonate"
          ],
          [
           "vessel ischemic disease"
          ],
          [
           "spironolactone"
          ],
          [
           "fluid overload"
          ],
          [
           "zomig"
          ],
          [
           "fm"
          ],
          [
           "conjunctival pallor"
          ],
          [
           "lgib"
          ],
          [
           "flutter"
          ],
          [
           "dry"
          ],
          [
           "sulfamethoxazoletrimethoprim"
          ],
          [
           "diastolic dysfunction"
          ],
          [
           "bibasilar opacities"
          ],
          [
           "keflex"
          ],
          [
           "dipyridamole"
          ],
          [
           "hcl"
          ],
          [
           "spiriva"
          ],
          [
           "back pain"
          ],
          [
           "quinapril"
          ],
          [
           "cyanotic"
          ],
          [
           "albuterol inhaler"
          ],
          [
           "oligoastrocytoma"
          ],
          [
           "intraparenchymal hemorrhage"
          ],
          [
           "atherosclerotic disease"
          ],
          [
           "acute hemorrhage"
          ],
          [
           "haziness"
          ],
          [
           "nifs"
          ],
          [
           "airway disease"
          ],
          [
           "tricuspid regurgitation"
          ],
          [
           "metoclopramide hcl"
          ],
          [
           "cholangitis"
          ],
          [
           "peptic ulcer disease"
          ],
          [
           "ileitis"
          ],
          [
           "duloxetine"
          ],
          [
           "encephalitis"
          ],
          [
           "hepatic encephalopathy"
          ],
          [
           "vein thrombosis"
          ],
          [
           "hemorrhoids"
          ],
          [
           "embolus"
          ],
          [
           "vaginal bleeding"
          ],
          [
           "burns"
          ],
          [
           "strabismus"
          ],
          [
           "seizures  abuse relatedlast 6 weeks prior\n   psh"
          ],
          [
           "ketonuria"
          ],
          [
           "qod"
          ],
          [
           "myocardial ischemia"
          ],
          [
           "weight gain"
          ],
          [
           "cisatracurium"
          ],
          [
           "interstitial pulmonary edema"
          ],
          [
           "sinus tenderness"
          ],
          [
           "dextrose"
          ],
          [
           "excoriated"
          ],
          [
           "subglottic stenosis"
          ],
          [
           "rv dysfunction"
          ],
          [
           "throbbing"
          ],
          [
           "valvular abnormality"
          ],
          [
           "thrombophlebitis"
          ],
          [
           "orthostatic"
          ],
          [
           "renal cell carcinoma"
          ],
          [
           "polysubstance"
          ],
          [
           "ciprofloxacin lactate"
          ],
          [
           "extraaxial hemorrhage"
          ],
          [
           "tias"
          ],
          [
           "esmolol"
          ],
          [
           "ill"
          ],
          [
           "microperforation"
          ],
          [
           "senna"
          ],
          [
           "vascular malformation"
          ],
          [
           "pneumothoraces"
          ],
          [
           "aneurysmal"
          ],
          [
           "thyroid disease"
          ],
          [
           "optiray"
          ],
          [
           "daytime somnolence"
          ],
          [
           "hepatosplenomegaly"
          ],
          [
           "pyschosis"
          ],
          [
           "ptsd"
          ],
          [
           "aloe first name4"
          ],
          [
           "lactic acid15"
          ],
          [
           "pravastatin"
          ],
          [
           "fri"
          ],
          [
           "pains"
          ],
          [
           "acei"
          ],
          [
           "neck pain"
          ],
          [
           "phenergan"
          ],
          [
           "peripheral neuropathy"
          ],
          [
           "allergic"
          ],
          [
           "lamotrigine"
          ],
          [
           "abilify"
          ],
          [
           "ssri"
          ],
          [
           "dofetilide"
          ],
          [
           "systolic chf"
          ],
          [
           "chronic disease"
          ],
          [
           "fiorinal"
          ],
          [
           "sinus infection"
          ],
          [
           "hematochezia"
          ],
          [
           "gu"
          ],
          [
           "denies headache"
          ],
          [
           "gvhd"
          ],
          [
           "pansensitive"
          ],
          [
           "glu"
          ],
          [
           "apricot beazor"
          ],
          [
           "atrovent"
          ],
          [
           "intracranial bleed"
          ],
          [
           "groundglass opacities"
          ],
          [
           "image002jpg\n   assessment"
          ],
          [
           "subdural hemorrhage"
          ],
          [
           "pyridostigmine bromide"
          ],
          [
           "gemfibrozil"
          ],
          [
           "suboxone"
          ],
          [
           "tremulous"
          ],
          [
           "tylenol overdose"
          ],
          [
           "attendinglast"
          ],
          [
           "hypertrophic cardiomyopathy"
          ],
          [
           "chlorhexidine"
          ],
          [
           "cholangiocarcinoma"
          ],
          [
           "denies arthralgias"
          ],
          [
           "lithium"
          ],
          [
           "brain injury"
          ],
          [
           "gallbladder wall edema"
          ],
          [
           "ganciclovir"
          ],
          [
           "levothyroxine sodium"
          ],
          [
           "flecanide"
          ],
          [
           "neuromuscular weakness"
          ],
          [
           "aml"
          ],
          [
           "q8"
          ],
          [
           "djd"
          ],
          [
           "kyphosis"
          ],
          [
           "fibroids"
          ],
          [
           "absent bowel sounds"
          ],
          [
           "malabsorption"
          ],
          [
           "lactose"
          ],
          [
           "lowdose"
          ],
          [
           "pericarditis"
          ],
          [
           "denies pain"
          ],
          [
           "benzonatate"
          ],
          [
           "cardiogenic"
          ],
          [
           "cymbalta"
          ],
          [
           "streptomycin"
          ],
          [
           "normoactive bowel"
          ],
          [
           "pneumatosis"
          ],
          [
           "coronary artery disease sp"
          ],
          [
           "digoxin"
          ],
          [
           "diastolic heart failure"
          ],
          [
           "penicillamine"
          ],
          [
           "coronary ischemia"
          ],
          [
           "aicd"
          ],
          [
           "integrilin"
          ],
          [
           "endometriosis"
          ],
          [
           "aggressive bowel regimen"
          ],
          [
           "mass lesion"
          ],
          [
           "ai"
          ],
          [
           "prophylaxis dvt"
          ],
          [
           "right groin"
          ],
          [
           "bacterial infection"
          ],
          [
           "vitamin d3"
          ],
          [
           "cmh2o\n                                   "
          ],
          [
           "tarry"
          ],
          [
           "infectious"
          ],
          [
           "put"
          ],
          [
           "macrolide"
          ],
          [
           "sarcoma"
          ],
          [
           "hyperintensities"
          ],
          [
           "bipolar"
          ],
          [
           "multivitamin "
          ],
          [
           "montelukast"
          ],
          [
           "vq"
          ],
          [
           "mec"
          ],
          [
           "gastric ulcer"
          ],
          [
           "dry cough"
          ],
          [
           "polyethylene glycol 3350"
          ],
          [
           "sumatriptan"
          ],
          [
           "trazadone"
          ],
          [
           "carcinoma"
          ],
          [
           "brbpr"
          ],
          [
           "arm"
          ],
          [
           "pylori"
          ],
          [
           "aspergillosis"
          ],
          [
           "yeast infection"
          ],
          [
           "cyclosporine"
          ],
          [
           "wheezy"
          ],
          [
           "chest tightness"
          ],
          [
           "70s"
          ],
          [
           "bypassgtubecholehiatial hernia"
          ],
          [
           "thiamine hcl"
          ],
          [
           "ovarian cyst"
          ],
          [
           "sp aneurysm"
          ],
          [
           "heroin"
          ],
          [
           "h2o"
          ],
          [
           "promethazine"
          ],
          [
           "bs"
          ],
          [
           "ffp"
          ],
          [
           "bowel obstructions"
          ],
          [
           "sinus arrhythmia"
          ],
          [
           "left anterior fascicular block"
          ],
          [
           "angioedema"
          ],
          [
           "anicteric"
          ],
          [
           "ckmbnotdone"
          ],
          [
           "lactic acid"
          ],
          [
           "epinephrine hcl"
          ],
          [
           "cluster headaches"
          ],
          [
           "coma"
          ],
          [
           "psychosis"
          ],
          [
           "wellbutrin"
          ],
          [
           "glioblastoma"
          ],
          [
           "ao"
          ],
          [
           "ritonavir"
          ],
          [
           "petechiae"
          ],
          [
           "fibromyalgia"
          ],
          [
           "hypothyroid"
          ],
          [
           "quetiapine fumarate"
          ],
          [
           "charcoal"
          ],
          [
           "bibasilar airspace\n   disease"
          ],
          [
           "proteinuria"
          ],
          [
           "zolmitriptan"
          ],
          [
           "lispro"
          ],
          [
           "bronchodilators"
          ],
          [
           "thrombi"
          ],
          [
           "ventriculomegaly"
          ],
          [
           "enlargement of the cardiac"
          ],
          [
           "musculoskeletal"
          ],
          [
           "citrate"
          ],
          [
           "cx"
          ],
          [
           "sp avr"
          ],
          [
           "ca90"
          ],
          [
           "voice"
          ],
          [
           "dexmedetomidine"
          ],
          [
           "hypercalcemia"
          ],
          [
           "throat pain"
          ],
          [
           "urinary\n   retention"
          ],
          [
           "paresthesias"
          ],
          [
           "disp10"
          ],
          [
           "stridor"
          ],
          [
           "isosorbide"
          ],
          [
           "colorectal colon cancer"
          ],
          [
           "irritable bowel syndrome"
          ],
          [
           "sucralfate enemas"
          ],
          [
           "neutropenia"
          ],
          [
           "rebleeds"
          ],
          [
           "ugi bleeding"
          ],
          [
           "abdominal abscess"
          ],
          [
           "neostigmine"
          ],
          [
           "mitral valve chordae"
          ],
          [
           "cholecalciferol"
          ],
          [
           "pulm"
          ],
          [
           "abdominal cramping"
          ],
          [
           "left ventricular systolic"
          ],
          [
           "hypercoagulable"
          ],
          [
           "erosions"
          ],
          [
           "hyperthyroidism"
          ],
          [
           "palpable"
          ],
          [
           "metolazone"
          ],
          [
           "reflux"
          ],
          [
           "plaquenil"
          ],
          [
           "small pericardial effusion"
          ],
          [
           "ep"
          ],
          [
           "dyspneic"
          ],
          [
           "etoposide"
          ],
          [
           "vegetationmass"
          ],
          [
           "cataracts"
          ],
          [
           "hemangioblastoma"
          ],
          [
           "ventricular premature beats"
          ],
          [
           "glycopyrrolate"
          ],
          [
           "buttock hematoma"
          ],
          [
           "doxazosin"
          ],
          [
           "ntgheparin"
          ],
          [
           "sclerae"
          ],
          [
           "ptld"
          ],
          [
           "liver lesion"
          ],
          [
           "trans"
          ],
          [
           "ho renal failure"
          ],
          [
           "gastrinomas"
          ],
          [
           "meperidine"
          ],
          [
           "nausea vomitting"
          ],
          [
           "frontal headache"
          ],
          [
           "tartrate"
          ],
          [
           "discontinue"
          ],
          [
           "cmo"
          ],
          [
           "hepatomegaly"
          ],
          [
           "excedrin"
          ],
          [
           "wheeze\n   gastrointestinal"
          ],
          [
           "consolidations"
          ],
          [
           "cap"
          ],
          [
           "airway obstruction sp trach"
          ],
          [
           "lactulose enema"
          ],
          [
           "aleve"
          ],
          [
           "hsq"
          ],
          [
           "abg"
          ],
          [
           "l sided"
          ],
          [
           "viral illness"
          ],
          [
           "lower extremity edema"
          ],
          [
           "pancytopenia"
          ],
          [
           "angina"
          ],
          [
           "vit"
          ],
          [
           "ppf"
          ],
          [
           "parkinsons disease"
          ],
          [
           "dated"
          ],
          [
           "utis"
          ],
          [
           "vitamin b12"
          ],
          [
           "olanzapine"
          ],
          [
           "denies chest pain"
          ],
          [
           "esophageal tear"
          ],
          [
           "osteodiscitis"
          ],
          [
           "cardiac ischemia"
          ],
          [
           "arrest"
          ],
          [
           "mn"
          ],
          [
           "atazanavir"
          ],
          [
           "atrial ectopy"
          ],
          [
           "inferior myocardial infarction"
          ],
          [
           "thirst"
          ],
          [
           "posturing"
          ],
          [
           "prostate cancer"
          ],
          [
           "ica aneurysm"
          ],
          [
           "viral infection"
          ],
          [
           "pleural\n effusions"
          ],
          [
           "tegretol"
          ],
          [
           "vessel disease"
          ],
          [
           "wed"
          ],
          [
           "54yearold"
          ],
          [
           "25mcg"
          ],
          [
           "awaiting"
          ],
          [
           "phonophobia"
          ],
          [
           "familial hypertrophic"
          ],
          [
           "calculus"
          ],
          [
           "atrial premature beats"
          ],
          [
           "methylprednisolone"
          ],
          [
           "37f w"
          ],
          [
           "glioblastoma multiforme"
          ],
          [
           "lactic acid07"
          ],
          [
           "cva tenderness"
          ],
          [
           "airleak"
          ],
          [
           "diovan"
          ],
          [
           "toxicity"
          ],
          [
           "bandemia"
          ],
          [
           "pen"
          ],
          [
           "fibroid"
          ],
          [
           "biliary obstruction"
          ],
          [
           "differentialneuts789"
          ],
          [
           "isradipine"
          ],
          [
           "hypoxic respiratory failure"
          ],
          [
           "calcitriol"
          ],
          [
           "anteroseptal myocardial infarction"
          ],
          [
           "panic disorder"
          ],
          [
           "hemorrhagic stroke"
          ],
          [
           "myalgia"
          ],
          [
           "cardiac disease"
          ],
          [
           "bipolar disease"
          ],
          [
           "gut syndrome"
          ],
          [
           "dysmetria"
          ],
          [
           "valve prolapse"
          ],
          [
           "overhydration"
          ],
          [
           "sore"
          ],
          [
           " gastric bypass"
          ],
          [
           "metformin hcl"
          ],
          [
           "pah"
          ],
          [
           "guaifenesin"
          ],
          [
           "simvastatin 10 mg"
          ],
          [
           "fatty infiltration"
          ],
          [
           "compartment syndrome"
          ],
          [
           "canal stenosis"
          ],
          [
           "hemorrhages"
          ],
          [
           "budesonide"
          ],
          [
           "paroxetine"
          ],
          [
           "benzodiazepines"
          ],
          [
           "aortic valve disease"
          ],
          [
           "pulmonary artery hypertension"
          ],
          [
           "diverticula"
          ],
          [
           "tiotropium bromide"
          ],
          [
           "ardsnet"
          ],
          [
           "infectious disease"
          ],
          [
           "disability"
          ],
          [
           "small bowel"
          ],
          [
           "svt"
          ],
          [
           "diabetic polyneuropathy"
          ],
          [
           "apraxia"
          ],
          [
           "mitral annular calcification"
          ],
          [
           "diabetes mellitis"
          ],
          [
           "fasciitis"
          ],
          [
           "acute systolic congestive heart failure"
          ],
          [
           "lower gi bleed"
          ],
          [
           "coronary artery\n   disease"
          ],
          [
           "poisoning  overdose"
          ],
          [
           "tracheomalacia"
          ],
          [
           "lower extremity dvt"
          ],
          [
           "thin"
          ],
          [
           "pleural\n   effusion"
          ],
          [
           "tracheobronchomalacia"
          ],
          [
           "nexium"
          ],
          [
           "sp hemicraniectomy"
          ],
          [
           "pneumonitis"
          ],
          [
           "milk of magnesia"
          ],
          [
           "lactic acid13 mmoll"
          ],
          [
           "phospholipid syndrome"
          ],
          [
           "fdp"
          ],
          [
           "fibrinogen"
          ],
          [
           "nausea or vomiting"
          ],
          [
           "denies nausea vomiting"
          ],
          [
           "hydrochlorothiazide"
          ],
          [
           "infectionsepsis"
          ],
          [
           "goiter"
          ],
          [
           "hydrate"
          ],
          [
           "suicidality"
          ],
          [
           "acetaminophen overdose"
          ],
          [
           "singulair"
          ],
          [
           "acute kidney injury"
          ],
          [
           "pneumocephaly"
          ],
          [
           "gall stones"
          ],
          [
           "lucency"
          ],
          [
           "pituitary adenoma"
          ],
          [
           "pelvic pain"
          ],
          [
           "wheezes"
          ],
          [
           "proctitis"
          ],
          [
           "enemas"
          ],
          [
           "o2 100"
          ],
          [
           "heart block"
          ],
          [
           "haloperidol lactate"
          ],
          [
           "intracranial abnormalities"
          ],
          [
           "pulmonary hemorrhage"
          ],
          [
           "polycystic kidney disease"
          ],
          [
           "creat"
          ],
          [
           "adhesions"
          ],
          [
           "aloe vesta cream"
          ],
          [
           "dm ii"
          ],
          [
           "dilt"
          ],
          [
           "gallbladder edema"
          ],
          [
           "fosphenytoin"
          ],
          [
           "ventricular ectopy"
          ],
          [
           "divalproex"
          ],
          [
           "granulomas"
          ],
          [
           "thrombocytopenic"
          ],
          [
           "ugi bleed"
          ],
          [
           "allergic reaction"
          ],
          [
           "minoxidil"
          ],
          [
           "ps"
          ],
          [
           "ota"
          ],
          [
           "peritonitis"
          ],
          [
           "ddx"
          ],
          [
           "propoxyphene"
          ],
          [
           "lle dvt"
          ],
          [
           "white matter hypodensities"
          ],
          [
           "b cell lymphoma"
          ],
          [
           "cholestasis"
          ],
          [
           "bbs"
          ],
          [
           "naprosyn"
          ],
          [
           "pvd"
          ],
          [
           "albumin29"
          ],
          [
           "chest wall deformities"
          ],
          [
           "cryptitis"
          ],
          [
           "bicuspid aortic valve"
          ],
          [
           "cm"
          ],
          [
           "atovaquone"
          ],
          [
           "osteopenia"
          ],
          [
           "disopyramide"
          ],
          [
           "hypodensities"
          ],
          [
           "nodding"
          ],
          [
           "misoprostol"
          ],
          [
           "top"
          ],
          [
           "mitral valve disease"
          ],
          [
           "back injury"
          ],
          [
           "valvular regurgitation"
          ],
          [
           "vitamin b"
          ],
          [
           "myoclonus"
          ],
          [
           "prolonged qt"
          ],
          [
           "hypoventilation"
          ],
          [
           "gastroesophageal reflux disease"
          ],
          [
           "aches"
          ],
          [
           "sulfate"
          ],
          [
           "aml sp allo"
          ],
          [
           "tobacco abuse"
          ],
          [
           "30cchr"
          ],
          [
           "liver lesions"
          ],
          [
           "hepatitis b"
          ],
          [
           "o2 requirement"
          ],
          [
           "eating disorder"
          ],
          [
           "aripiprazole"
          ],
          [
           "ket"
          ],
          [
           "advair diskus"
          ],
          [
           "ho malignant hypertension"
          ],
          [
           "sl"
          ],
          [
           "pulmonary\n edema"
          ],
          [
           "delerium"
          ],
          [
           "rituximab"
          ],
          [
           "right shoulder pain"
          ],
          [
           "anterior cerebral artery"
          ],
          [
           "pt febrile"
          ],
          [
           "loculated anterior pericardial effusion"
          ],
          [
           "babinski"
          ],
          [
           "acid07 mmoll"
          ],
          [
           "idiopathic colitis"
          ],
          [
           "dvt  boots"
          ],
          [
           "jejunal ulcer"
          ],
          [
           "orbital floor fracture"
          ],
          [
           "mm dry"
          ],
          [
           "coarctation"
          ],
          [
           "tetanus"
          ],
          [
           "nimbex"
          ],
          [
           "ampicillinsulbactam"
          ],
          [
           "sp coiling"
          ],
          [
           "h1n1"
          ],
          [
           "r groin"
          ],
          [
           "leukopenia"
          ],
          [
           "daptomycin"
          ],
          [
           "sbp140"
          ],
          [
           "neb"
          ],
          [
           "communityacquired pneumonia"
          ],
          [
           "eczema"
          ],
          [
           "serotonin"
          ],
          [
           "blinks"
          ],
          [
           "rigidity"
          ],
          [
           "proteus"
          ],
          [
           "loratadine"
          ],
          [
           "ugib rt avms"
          ],
          [
           "lactic acidosis"
          ],
          [
           "dim"
          ],
          [
           "graves disease and hep c"
          ],
          [
           "nitric oxide"
          ],
          [
           "dysplasia"
          ],
          [
           "strep"
          ],
          [
           "celexa"
          ],
          [
           "histiocytosis x sp thymectomy"
          ],
          [
           "anion"
          ],
          [
           "afib"
          ],
          [
           "cough nausea vomiting and shortness of breath"
          ],
          [
           "triazolam"
          ],
          [
           "gda"
          ],
          [
           "reflex sympathetic dystrophy"
          ],
          [
           "adnexa"
          ],
          [
           "drug abuse"
          ],
          [
           "scopolamine"
          ],
          [
           "pmhx"
          ],
          [
           "glaucoma"
          ],
          [
           "difficile colitis"
          ],
          [
           "esophageal perforation"
          ],
          [
           "aortic injury"
          ],
          [
           "gastrointestinal bleeding"
          ],
          [
           "nerve palsy"
          ],
          [
           "gi recs"
          ],
          [
           "kefzol"
          ],
          [
           "temodar"
          ],
          [
           "abdominalback pain"
          ],
          [
           "multisystem organ failure"
          ],
          [
           "ventricular systolic dysfunction"
          ],
          [
           "ag"
          ],
          [
           "chronic renal insufficiency"
          ],
          [
           "o2 weaned"
          ],
          [
           "hem"
          ],
          [
           "fib"
          ],
          [
           "dx"
          ],
          [
           "av fistula"
          ],
          [
           "niddm"
          ],
          [
           "loss of consciousness"
          ],
          [
           "urinary incontinence"
          ],
          [
           "atherosclerotic calcifications"
          ],
          [
           "hyperpotassemia"
          ],
          [
           "doxepin"
          ],
          [
           "lupus nephritis"
          ],
          [
           "left bundle branch block"
          ],
          [
           "benztropine"
          ],
          [
           "fluticasonesalmeterol"
          ],
          [
           "familial hypertrophic cm"
          ],
          [
           "umbilical hernia"
          ],
          [
           "fentanyl gtts"
          ],
          [
           "left bundlebranch block"
          ],
          [
           "pelvic lymphadenopathy"
          ],
          [
           "effexor"
          ],
          [
           "bundlebranch block"
          ],
          [
           "detrol"
          ],
          [
           "cefpodoxime"
          ],
          [
           "ceftriazone"
          ],
          [
           "niv"
          ],
          [
           "encephalopathic"
          ],
          [
           "tumors"
          ],
          [
           "nephritis"
          ],
          [
           "mm"
          ],
          [
           "temozolomide"
          ],
          [
           "ovale"
          ],
          [
           "dvtpe"
          ],
          [
           "diverticular bleed"
          ],
          [
           "tg"
          ],
          [
           "epigastric pain"
          ],
          [
           "hyperactive"
          ],
          [
           "left basilar atelectasis"
          ],
          [
           "hypergastrinemia"
          ],
          [
           "supermorbid obesity"
          ],
          [
           "primidone"
          ],
          [
           "tremor stable"
          ],
          [
           "sumatriptan succinate"
          ],
          [
           "basilar migraine"
          ],
          [
           "ventriculitis"
          ],
          [
           "thoracolumbar"
          ],
          [
           "aortic valve leaflets"
          ],
          [
           "she was"
          ],
          [
           "intermittent headache"
          ],
          [
           "ideation"
          ],
          [
           "hypodensity"
          ],
          [
           "diltiazem hcl"
          ],
          [
           "subfalcine herniation"
          ],
          [
           "nephrotic syndrome"
          ],
          [
           "pelvic abscess"
          ],
          [
           "murmurs"
          ],
          [
           "hyperemesis"
          ],
          [
           "methylphenidate"
          ],
          [
           "ach"
          ],
          [
           "tc"
          ],
          [
           "retrocardiac atelectasis"
          ],
          [
           "resp distress"
          ],
          [
           "gdc"
          ],
          [
           "truvada"
          ],
          [
           "glucose finger stick"
          ],
          [
           "papilledema"
          ],
          [
           "lower extremity weakness"
          ],
          [
           "risperidone"
          ],
          [
           "wound infection"
          ],
          [
           "reddened"
          ],
          [
           "cdiff colitis"
          ],
          [
           "viral meningoencephalitis"
          ],
          [
           "acute blood loss anemia"
          ],
          [
           "colestipol"
          ],
          [
           "fe"
          ],
          [
           "abpa"
          ],
          [
           "saturated"
          ],
          [
           "type ii diabetes"
          ],
          [
           "percodan"
          ],
          [
           "intracranial aneurysm"
          ],
          [
           "crampy"
          ],
          [
           "autoimmune disease"
          ],
          [
           "seroma"
          ],
          [
           "felodipine"
          ],
          [
           "cocci"
          ],
          [
           "can"
          ],
          [
           "esophagus"
          ],
          [
           "incisors"
          ],
          [
           "gpc septic"
          ],
          [
           "anorexia"
          ],
          [
           "cerebral aneurysm"
          ],
          [
           "tol"
          ],
          [
           "cpap"
          ],
          [
           "kidney stones"
          ],
          [
           "seizure disorder"
          ],
          [
           "tbi"
          ],
          [
           "hypoglycemic"
          ],
          [
           "aortic aneurysm"
          ],
          [
           "pain disorder"
          ],
          [
           "sternal pain"
          ],
          [
           "methotrexate"
          ],
          [
           "cystic lesion"
          ],
          [
           "atropineepi"
          ],
          [
           "dmii"
          ],
          [
           "nonrebreather"
          ],
          [
           "weepy"
          ],
          [
           "wheeze\n   gastrointestinal abdominal pain"
          ],
          [
           "uri w"
          ],
          [
           "myocarditis"
          ],
          [
           "renal disease"
          ],
          [
           "underlying illness"
          ],
          [
           "hypernatremic"
          ],
          [
           "cardioembolic"
          ],
          [
           "siadh"
          ],
          [
           "hcap"
          ],
          [
           "torsemide"
          ],
          [
           "sbo requiring bowel resection"
          ],
          [
           "slurred"
          ],
          [
           "combivent"
          ],
          [
           "pafib esophageal spasm"
          ],
          [
           "vac"
          ],
          [
           "right hydronephrosis"
          ],
          [
           "cryoglobulinemia"
          ],
          [
           "bicarbonate"
          ],
          [
           "allergic rhinitis"
          ],
          [
           "pyridoxine"
          ],
          [
           "hypovolemic hyponatremia"
          ],
          [
           "solucortef"
          ],
          [
           "angioplasty"
          ],
          [
           "benzodiazepine"
          ],
          [
           "did"
          ],
          [
           "avastin"
          ],
          [
           "ursodiol"
          ],
          [
           "autoimmune hepatitis"
          ],
          [
           "renal artery stenosis"
          ],
          [
           "mildly dilated ra"
          ],
          [
           "acid24"
          ],
          [
           "multiorgan failure"
          ],
          [
           "dm type"
          ],
          [
           "rupture"
          ],
          [
           "infectious colitis"
          ],
          [
           "elavil"
          ],
          [
           "amitriptyline hcl"
          ],
          [
           "halcion"
          ],
          [
           "resp failure"
          ],
          [
           "pneumobilia"
          ],
          [
           "amphetaminedextroamphetamine"
          ],
          [
           "atrial"
          ],
          [
           "phenobarbital"
          ],
          [
           "acute respiratory failure"
          ],
          [
           "vasogenic"
          ],
          [
           "aortic insufficiency"
          ],
          [
           "denies cough"
          ],
          [
           "cystitis"
          ],
          [
           "radiculopathy"
          ],
          [
           "cerebral infarction"
          ],
          [
           "hlh"
          ],
          [
           "gall bladder"
          ],
          [
           "nitroprusside sodium"
          ],
          [
           "rebleed"
          ],
          [
           "ro rp bleed"
          ],
          [
           "granuloma"
          ],
          [
           "cerebellar bleed"
          ],
          [
           "mycin"
          ],
          [
           "naproxen sodium"
          ],
          [
           "leg edema"
          ],
          [
           "rle dvt"
          ],
          [
           "ovarian cancer"
          ],
          [
           "supraventricular tachycardia"
          ],
          [
           "per"
          ],
          [
           "ergocalciferol"
          ],
          [
           "remeron"
          ],
          [
           "firstname"
          ],
          [
           "hydroureter"
          ],
          [
           "feverschills"
          ],
          [
           "nembutal sodium"
          ],
          [
           "asacol"
          ],
          [
           "mssa endocarditis"
          ],
          [
           "bupropion"
          ],
          [
           "intrahepatic biliary ductal dilatation"
          ],
          [
           "add"
          ],
          [
           "pulmonary disease"
          ],
          [
           "lovastatin"
          ],
          [
           "traumatic stress disorder"
          ],
          [
           "humalog"
          ],
          [
           "conjunctival hemorrhage"
          ],
          [
           "loose stools"
          ],
          [
           "kidney injury"
          ],
          [
           "abrasions"
          ],
          [
           "4pt leather restraints"
          ],
          [
           "ideations"
          ],
          [
           "balsalazide"
          ],
          [
           "lbp"
          ],
          [
           "intracranial abnormality"
          ],
          [
           "upper lobe pneumonia"
          ],
          [
           "oxycodone hclaspirin"
          ],
          [
           "pentobarbital sodium"
          ],
          [
           "pedvt"
          ],
          [
           "appreciate renal recs"
          ],
          [
           "dbc"
          ],
          [
           "degenerative disease"
          ],
          [
           "thyroid goiter"
          ],
          [
           "prempro"
          ],
          [
           "highgrade stenosis"
          ],
          [
           "atrial enlargement"
          ],
          [
           "titrated"
          ],
          [
           "hepatic failure"
          ],
          [
           "restless leg syndrome"
          ],
          [
           "palp"
          ],
          [
           "cordisintroducer  21321031 0816 am"
          ],
          [
           "neb soln 1 neb"
          ],
          [
           "phtn"
          ],
          [
           "an"
          ],
          [
           "retinopathy"
          ],
          [
           "head pain"
          ],
          [
           "pm"
          ],
          [
           "o2\n   sats"
          ],
          [
           "contusion"
          ],
          [
           "rimantadine"
          ],
          [
           "beta lactam"
          ],
          [
           "toxicmetabolic"
          ],
          [
           "cordisintroducer  2132114 0130 pm"
          ],
          [
           "retroperitoneal hemorrhage"
          ],
          [
           "fluticasone 110"
          ],
          [
           "dli"
          ],
          [
           "intertrigo"
          ],
          [
           "ciprofloxacin hcl"
          ],
          [
           "levothyroxine 100mcg"
          ],
          [
           "tamsulosin"
          ],
          [
           "acute gi bleed"
          ],
          [
           "0950am"
          ],
          [
           "nauseaus"
          ],
          [
           "frontoparietal hemorrhage"
          ],
          [
           "parkinsons"
          ],
          [
           "tremens"
          ],
          [
           "avms"
          ],
          [
           "left ptosis"
          ],
          [
           "rheumatic heart disease"
          ],
          [
           "pleural or pericardial effusion"
          ],
          [
           "ctx"
          ],
          [
           "finasteride"
          ],
          [
           "mildly coarse breath"
          ],
          [
           "nonfluent aphasia"
          ],
          [
           "lung disease"
          ],
          [
           "rv failure"
          ],
          [
           "ttphus"
          ],
          [
           "acute bleed"
          ],
          [
           "sesha"
          ],
          [
           "pcom"
          ],
          [
           "na137"
          ],
          [
           "atherosclerotic calcification"
          ],
          [
           "embolic"
          ],
          [
           "aureus bacteremia"
          ],
          [
           "idiopathic malignancy"
          ],
          [
           "uterine cancer"
          ],
          [
           "history meningioma"
          ],
          [
           "viral gastroenteritis"
          ],
          [
           "pulmonary\n   edema"
          ],
          [
           "retroperitoneal hematoma"
          ],
          [
           "obstructive hydrocephalus"
          ],
          [
           "history eating disorder"
          ],
          [
           "congenital hepatic fibrosis"
          ],
          [
           "rcc"
          ],
          [
           "lul pneumonia"
          ],
          [
           "viral pericarditis"
          ],
          [
           "phos"
          ],
          [
           "groin hematoma"
          ],
          [
           "contactname"
          ],
          [
           "arrived"
          ],
          [
           "tiotropium"
          ],
          [
           "mgkghour"
          ],
          [
           "acute blood loss"
          ],
          [
           "night sweats"
          ],
          [
           "aricept"
          ],
          [
           "iron deficiency"
          ],
          [
           "po411"
          ],
          [
           "anterior wall myocardial infarction"
          ],
          [
           "iodineiodine"
          ],
          [
           "highdose mtx"
          ],
          [
           "ldh274"
          ],
          [
           "headachesmigraines"
          ],
          [
           "antiphospholipid syndrome"
          ],
          [
           "branch occlusion"
          ],
          [
           "kidney disease"
          ],
          [
           "alcoholic hepatitis"
          ],
          [
           "pvcs"
          ],
          [
           "transcath"
          ],
          [
           "enoxaparin"
          ],
          [
           "hazy"
          ],
          [
           "renal insufficiency"
          ],
          [
           "ventricular aneurysm"
          ],
          [
           "gastroenteritis"
          ],
          [
           "100mcg"
          ],
          [
           "dex"
          ],
          [
           "tetracyclines"
          ],
          [
           "dullness"
          ],
          [
           "lower back pain"
          ],
          [
           "upper gi avm"
          ],
          [
           "hyoscyamine sulfate"
          ],
          [
           "lbbb"
          ],
          [
           "rpe"
          ],
          [
           "opacifications"
          ],
          [
           "cozaar"
          ],
          [
           "hip"
          ],
          [
           "obtunded"
          ],
          [
           "epileptic"
          ],
          [
           "uo"
          ],
          [
           "miconazole nitrate"
          ],
          [
           "ataxia"
          ],
          [
           "benzocaine"
          ],
          [
           "cisatracurium besylate"
          ],
          [
           "fainting"
          ],
          [
           "nonbloody diarrhea"
          ],
          [
           "intermittent nausea"
          ],
          [
           "renal dysfunction"
          ],
          [
           "sevelamer"
          ],
          [
           "lower lobe pneumonia"
          ],
          [
           "hydroxyzine hcl"
          ],
          [
           "bili5603"
          ],
          [
           "ro bleed"
          ],
          [
           "bloody bowel"
          ],
          [
           "mtx"
          ],
          [
           "coag"
          ],
          [
           "muscle ache"
          ],
          [
           "coldness"
          ],
          [
           "appendicitis"
          ],
          [
           "subarachnoid\n hemorrhage"
          ],
          [
           "fungal infection"
          ],
          [
           "dsg"
          ],
          [
           "carotid artery stenosis"
          ],
          [
           "insulin"
          ],
          [
           "sigmoid diverticulitis"
          ],
          [
           "restenosis"
          ],
          [
           "rusb"
          ],
          [
           "usoh"
          ],
          [
           "coronary disease"
          ],
          [
           "injuries"
          ],
          [
           "flexeril"
          ],
          [
           "cardiomediastinal"
          ],
          [
           "extrahepatic biliary ductal dilatation"
          ],
          [
           "ain"
          ],
          [
           "gs"
          ],
          [
           "carotid artery disease"
          ],
          [
           "uc"
          ],
          [
           "liver mets"
          ],
          [
           "hemorrhagic transformation"
          ],
          [
           "cerebellar embolic cva"
          ],
          [
           "ldh195"
          ],
          [
           "abortions"
          ],
          [
           "knee pain"
          ],
          [
           "cpm"
          ],
          [
           "graves disease"
          ],
          [
           "septic embolic"
          ],
          [
           "pleural thickening"
          ],
          [
           "intraabdominal ascites"
          ],
          [
           "psyllium"
          ],
          [
           "floxin"
          ],
          [
           "buttock"
          ],
          [
           "oseltamivir"
          ],
          [
           "cord injury"
          ],
          [
           "folic"
          ],
          [
           "flagyl q8"
          ],
          [
           "oxycodoneacetaminophen"
          ],
          [
           "chol"
          ],
          [
           "gancyclovir"
          ],
          [
           "glargine qhs"
          ],
          [
           "creat10"
          ],
          [
           "ritalin"
          ],
          [
           "acute illness"
          ],
          [
           "lower lung atelectasis"
          ],
          [
           "right pleural effusion"
          ],
          [
           "plegia"
          ],
          [
           "voriconazole"
          ],
          [
           "frontal lobe lesion"
          ],
          [
           "polyps"
          ],
          [
           "intraabdominal bleeding"
          ],
          [
           "right basilar atelectasis"
          ],
          [
           "trops"
          ],
          [
           "type 2 dm"
          ],
          [
           "lll pneumonia"
          ],
          [
           "t wave abnormalities"
          ],
          [
           "crohns"
          ],
          [
           "divalproex sodium"
          ],
          [
           "mildly dilated"
          ],
          [
           "schizoaffective disorder"
          ],
          [
           "image002jpg\n                            2124"
          ],
          [
           "given"
          ],
          [
           "carotid stenosis"
          ],
          [
           " b12"
          ],
          [
           "vf"
          ],
          [
           "hydroxychloroquine"
          ],
          [
           "sbo pw sbo"
          ],
          [
           "dialy"
          ],
          [
           "sah sp aneurysm"
          ],
          [
           "liver abcess"
          ],
          [
           "infected stone"
          ],
          [
           "ica"
          ],
          [
           "trivial mitral regurgitation"
          ],
          [
           "sinus tachy"
          ],
          [
           "chronic vertigo pw"
          ],
          [
           "hypoactive bowel sounds"
          ],
          [
           "highdose"
          ],
          [
           "nadolol"
          ],
          [
           "mandibular fracture"
          ],
          [
           "aneurysmal bleed"
          ],
          [
           "labored"
          ],
          [
           "heartburn"
          ],
          [
           "amphetamine"
          ],
          [
           "carotid bruit"
          ],
          [
           "avr"
          ],
          [
           "aggressive pulmonary toilet"
          ],
          [
           "valvular aortic stenosis"
          ],
          [
           "pulmonary edemaheart failure"
          ],
          [
           "nhl"
          ],
          [
           "perrl"
          ],
          [
           "assess pain"
          ],
          [
           "spondylolisthesis"
          ],
          [
           "ketoacidosis"
          ],
          [
           "hypophosphatemia"
          ],
          [
           "ca gluconate"
          ],
          [
           "q6hr"
          ],
          [
           "vicodin overdose"
          ],
          [
           "chronically ill"
          ],
          [
           "hazy opacities"
          ],
          [
           "io"
          ],
          [
           "cerebral vasospasm"
          ],
          [
           "tracheobronchitis"
          ],
          [
           "nippv"
          ],
          [
           "aminoglycosides"
          ],
          [
           "tortuosity"
          ],
          [
           "macrocytic anemia"
          ],
          [
           "angioectasias"
          ],
          [
           "calculi"
          ],
          [
           "carbamazapine"
          ],
          [
           " recurrent small bowel obstructions"
          ],
          [
           "odynophagia"
          ],
          [
           "meningoencephalitis"
          ],
          [
           "atherosclerosis"
          ],
          [
           "w dilaudid"
          ],
          [
           "aortic valve abscess"
          ],
          [
           "stt wave abnormalities"
          ],
          [
           "dm1 pulmonary htn"
          ],
          [
           "breast reduction sugery"
          ],
          [
           "spinal stenosis"
          ],
          [
           "typelast"
          ],
          [
           "lowdose heparin"
          ],
          [
           "mucomyst"
          ],
          [
           "pp"
          ],
          [
           "airway edema"
          ],
          [
           "neb soln"
          ],
          [
           "premature atrial contractions"
          ],
          [
           "right sah"
          ],
          [
           "inrpt15"
          ],
          [
           "intracranial hypotension"
          ],
          [
           "ffps"
          ],
          [
           "hcv cirrhosis"
          ],
          [
           "erosion"
          ],
          [
           "abnormal septal motionposition"
          ],
          [
           "slurred speech"
          ],
          [
           "hernias"
          ],
          [
           "bloody bowel movements"
          ],
          [
           "levoflagyl"
          ],
          [
           "renal\n   failure"
          ],
          [
           "progesterone"
          ],
          [
           "proscar"
          ],
          [
           "lactose intolerance\n   temporomandibular disease"
          ],
          [
           "npdrfirst"
          ],
          [
           "aneurysmal sah"
          ],
          [
           "thrombocytopeniahit"
          ],
          [
           "srst"
          ],
          [
           "pt grimacing"
          ],
          [
           "respiratory alkalosis"
          ],
          [
           "nonsmall cell lung cancer"
          ],
          [
           "cerebellar edema"
          ],
          [
           "brain bleed"
          ],
          [
           "chiari malformation"
          ],
          [
           "snoring"
          ],
          [
           "nsclc"
          ],
          [
           "hypodense lesion"
          ],
          [
           "sodium phosphate"
          ],
          [
           "acetaminophen aspirin"
          ],
          [
           "crohn\ns ileitiscolitis"
          ],
          [
           "antisialogogue"
          ],
          [
           "bipap"
          ],
          [
           "dizzyness"
          ],
          [
           "luminal"
          ],
          [
           "ro infection"
          ],
          [
           "memory\n   deficits from hypoxiahypoperfusion"
          ],
          [
           "etiology"
          ],
          [
           "wweight gain sp gastric bypass"
          ],
          [
           "sp revision gastric\n   "
          ],
          [
           "intraventricular hemorrhages"
          ],
          [
           "numb"
          ],
          [
           "dm1"
          ],
          [
           "ng q6h"
          ],
          [
           "artery disease"
          ],
          [
           "methylene blue"
          ],
          [
           "neuroendocrine tumor"
          ],
          [
           "atrial tachycardia"
          ],
          [
           "normoactive bowel sounds"
          ],
          [
           "chronic headache"
          ],
          [
           "antiphospholipid"
          ],
          [
           "numbnesstingling"
          ],
          [
           "headache pain"
          ],
          [
           "ste"
          ],
          [
           "ho obstructive sleep apnea"
          ],
          [
           "gtc seizures"
          ],
          [
           "sinus congestion"
          ],
          [
           "memory deficit"
          ],
          [
           "lyrica"
          ],
          [
           "intracranial lesion"
          ],
          [
           "bipolar gastritis"
          ],
          [
           "carotid disease"
          ],
          [
           "caspofungin"
          ],
          [
           "pulmonary contusion"
          ],
          [
           "ketorolac"
          ],
          [
           "37f"
          ],
          [
           "amb"
          ],
          [
           "glycopyrolate"
          ],
          [
           "nonrebreather o2"
          ],
          [
           "bloody bowel movement"
          ],
          [
           "mycobacterium avium"
          ],
          [
           "congestive hepatopathy"
          ],
          [
           "overdosed"
          ],
          [
           "sinus brady"
          ],
          [
           "encephalomalacia"
          ],
          [
           "adenosine"
          ],
          [
           "eo dic"
          ],
          [
           "glomerulonephritis"
          ],
          [
           "throat swelling"
          ],
          [
           "mpgn sp renal transplant"
          ],
          [
           "loperamide"
          ],
          [
           "chronic eosinophilic pneumonia"
          ],
          [
           "occlusive thrombus"
          ],
          [
           "dm ho alcoholism"
          ],
          [
           "noc"
          ],
          [
           "purulence"
          ],
          [
           "silicosis"
          ],
          [
           "multivitamins"
          ],
          [
           "noncontrast"
          ],
          [
           "cancers"
          ],
          [
           "paresthesia"
          ],
          [
           "pelvic mass"
          ],
          [
           "denies dysuria"
          ],
          [
           "vascular disease"
          ],
          [
           "nms"
          ],
          [
           "antihtn"
          ],
          [
           "acid16"
          ],
          [
           "effusions"
          ],
          [
           "ant"
          ],
          [
           "chloroquine"
          ],
          [
           "mylagias"
          ],
          [
           "hypertrophic cm"
          ],
          [
           "sp aicd"
          ],
          [
           "nitric"
          ],
          [
           "sulfonate"
          ],
          [
           "adnexal"
          ],
          [
           "fullness"
          ],
          [
           "dilated bowel"
          ],
          [
           "right cerebellar bleed"
          ],
          [
           "sorafenib"
          ],
          [
           "left sided weakness"
          ],
          [
           "ketoconazole"
          ],
          [
           "choking"
          ],
          [
           "ranexa"
          ],
          [
           "benign prostatic hypertrophy"
          ],
          [
           "leukemia"
          ],
          [
           "nonfocal"
          ],
          [
           "prn"
          ],
          [
           "chlamydia"
          ],
          [
           "milk of magnesia 17"
          ],
          [
           "paroxysmal afib"
          ],
          [
           "bibasal atelectasis"
          ],
          [
           "via"
          ],
          [
           "ca89"
          ],
          [
           "flovent"
          ],
          [
           "intracellulare"
          ],
          [
           "lv systolic dysfunction"
          ],
          [
           "frothy"
          ],
          [
           "hypoxic respiratory distress"
          ],
          [
           "fl"
          ],
          [
           "intracranial\n hemorrhage"
          ],
          [
           "bso"
          ],
          [
           "diabetic gastroparesis"
          ],
          [
           "graves disease and hepatitis c"
          ],
          [
           "adderall"
          ],
          [
           "cyanocobalamin"
          ],
          [
           "cor"
          ],
          [
           "schizophrenia"
          ],
          [
           "coarse rhonchi left"
          ],
          [
           "pubic"
          ],
          [
           "carvedilol"
          ],
          [
           "basilar migraines"
          ],
          [
           "intolerance to\n   fosamaxgastroesophageal reflux disease"
          ],
          [
           "arrhythmias"
          ],
          [
           "gd"
          ],
          [
           "tamoxifen"
          ],
          [
           "cerebral venous sinus thrombosis"
          ],
          [
           "liver abscess"
          ],
          [
           "atrial septal aneurysm"
          ],
          [
           "atalectasis"
          ],
          [
           "gallbladder disease"
          ],
          [
           "ambulating gait steady\n"
          ],
          [
           "vascular occlusion"
          ],
          [
           "type ii dm"
          ],
          [
           "nasal congestion"
          ],
          [
           "denies diarrhea"
          ],
          [
           "vitamin d2"
          ],
          [
           "listerine"
          ],
          [
           "penicillin g potassium"
          ],
          [
           "left facial droop"
          ],
          [
           "cortisone"
          ],
          [
           "cystic lesion left paracentral cerebellum"
          ],
          [
           "tha"
          ],
          [
           "av malformations"
          ],
          [
           "gonorrhea"
          ],
          [
           "isosorbide mononitrate"
          ],
          [
           "trach"
          ],
          [
           "ppi"
          ],
          [
           "neurologic deficits"
          ],
          [
           "nitrate"
          ],
          [
           "astelin"
          ],
          [
           "cvas"
          ],
          [
           "failure on chest xray"
          ],
          [
           "upper extremity dvt"
          ],
          [
           "hcg"
          ],
          [
           "astrocytoma"
          ],
          [
           "avascular"
          ],
          [
           "intrabdominal abcess"
          ],
          [
           "unsteadiness"
          ],
          [
           "mibi"
          ],
          [
           "testosterone"
          ],
          [
           " prod cough"
          ],
          [
           "vzv"
          ],
          [
           "amitryptiline"
          ],
          [
           "eosinophillic"
          ],
          [
           "breast hematoma"
          ],
          [
           "scm"
          ],
          [
           "ofloxacin"
          ],
          [
           "blood pressures"
          ],
          [
           "ventral hernia"
          ],
          [
           "intracranial venous thrombosis"
          ],
          [
           "menigitis"
          ],
          [
           "abdominal ascites"
          ],
          [
           "possiblility"
          ],
          [
           "vitb12"
          ],
          [
           "acute pulmonary embolism"
          ],
          [
           "cough suppressant"
          ],
          [
           "pancreatic cancer"
          ],
          [
           "amiodorone"
          ],
          [
           "loculated empyema"
          ],
          [
           "dl r basilic"
          ],
          [
           "prograf"
          ],
          [
           "pulmonic regurgitation"
          ],
          [
           "bcell lymphoma"
          ],
          [
           "multiorgan system failure"
          ],
          [
           "intraabdominal injuries"
          ],
          [
           "differentialneuts870"
          ],
          [
           "viseral"
          ],
          [
           "aspartame"
          ],
          [
           "aggressive pain"
          ],
          [
           "coughnausea and vomiting"
          ],
          [
           "postangio"
          ],
          [
           "o2 status"
          ],
          [
           "hcc"
          ],
          [
           "feverchills"
          ],
          [
           "chlorthalidone"
          ],
          [
           "r frontalparietal sah"
          ],
          [
           "cns lymphoma"
          ],
          [
           "aluminum hydroxide"
          ],
          [
           "cephalexin"
          ],
          [
           "ca74"
          ],
          [
           "airspace disease"
          ],
          [
           "moxifloxacin"
          ],
          [
           "gallstone"
          ],
          [
           "milk of magnesia\n   "
          ],
          [
           "hydroxychloroquine sulfate"
          ],
          [
           "isoniazid"
          ],
          [
           "sarcoid lung disease"
          ],
          [
           "hypopotassemia"
          ],
          [
           "pursed lip breathing"
          ],
          [
           "head injury"
          ],
          [
           "anxiety disorder"
          ],
          [
           "mirapex"
          ],
          [
           "crohns possible uc"
          ],
          [
           "aps"
          ],
          [
           "sinus syndrome"
          ],
          [
           "atrovent mdi"
          ],
          [
           "lower extremity cellulitis"
          ],
          [
           "dng"
          ],
          [
           "embolic stroke"
          ],
          [
           "barbiturates"
          ],
          [
           "injury is small left\n   orbital wall fracture"
          ],
          [
           "urosepsis"
          ],
          [
           "coarse rhonchi"
          ],
          [
           "zelboraf"
          ],
          [
           "lyme disease"
          ],
          [
           "lupus fibromyalgia"
          ],
          [
           "miscarriages"
          ],
          [
           "bibasilar pneumonia"
          ],
          [
           "cardiac enlargement"
          ],
          [
           "anuric"
          ],
          [
           "feso4"
          ],
          [
           "methocarbamol"
          ],
          [
           "acute infection"
          ],
          [
           "osteomyelitisdiscitis"
          ],
          [
           "skin impairments"
          ],
          [
           "she"
          ],
          [
           "cerebellar swelling"
          ],
          [
           "enterovaginal fistula"
          ],
          [
           "loculated effusion"
          ],
          [
           "mssa bacteremia"
          ],
          [
           "hemolytic anemia"
          ],
          [
           "allograftplate"
          ],
          [
           "idiopathic history of tpn gj tube for gastroparesis po\n   intake supported by tube feeds  supraclavicular clot 2110723 "
          ],
          [
           "sciatica"
          ],
          [
           "laxative\n   abuse"
          ],
          [
           "leaks"
          ],
          [
           "crestor"
          ],
          [
           "dss"
          ],
          [
           "methadone overdose"
          ],
          [
           "phleboliths"
          ],
          [
           "stable"
          ],
          [
           "6am"
          ],
          [
           "left ventricle  septal wall thickness"
          ],
          [
           "ventricular tachycardia"
          ],
          [
           "provigil"
          ],
          [
           "solids"
          ],
          [
           "memory loss"
          ],
          [
           "asymmetric pulmonary edema"
          ],
          [
           "retroperitoneal abscess"
          ],
          [
           "loose"
          ],
          [
           "chronic infection"
          ],
          [
           "flulike illness"
          ],
          [
           "hypocalcemiahypomagnesiemia"
          ],
          [
           "sp r pontinecaudate stroke"
          ],
          [
           "gbs meningitis"
          ],
          [
           "cavernous ica aneurysm"
          ],
          [
           "groundglass opacification"
          ],
          [
           "irritable"
          ],
          [
           "k of 27transferred"
          ],
          [
           "overshunting"
          ],
          [
           "dob"
          ],
          [
           "groin pain"
          ],
          [
           "bacterial pneumonia"
          ],
          [
           "referred"
          ],
          [
           "left cerebellar lesion"
          ],
          [
           "aggressive bowel"
          ],
          [
           "taxotere"
          ],
          [
           "diasylate"
          ],
          [
           "pt ao"
          ],
          [
           "ventricular outflow tract obstruction"
          ],
          [
           "acute liver failure"
          ],
          [
           "smallbowel obstruction"
          ],
          [
           "micafungin"
          ],
          [
           "electrolyte abnormalities"
          ],
          [
           "hypercapnia"
          ],
          [
           "vertebral artery aneurysm"
          ],
          [
           "cyclosporin"
          ],
          [
           "granulomatous disease"
          ],
          [
           "to"
          ],
          [
           "visual disturbance"
          ],
          [
           "thromboembolic"
          ],
          [
           "valvular disease"
          ],
          [
           "hiv or tb"
          ],
          [
           "oseltamavir"
          ],
          [
           "ovarian primary"
          ],
          [
           "bilious vomiting"
          ],
          [
           "hyperstimulation"
          ],
          [
           "hemetemesis"
          ],
          [
           "multiple bowel movements"
          ],
          [
           "pleuritic pain"
          ],
          [
           "b12folate"
          ],
          [
           "ecoli"
          ],
          [
           "duodenitis"
          ],
          [
           "ho anorexia"
          ],
          [
           "personality disorder"
          ],
          [
           "pcn"
          ],
          [
           "o2 "
          ],
          [
           "accidentseizures"
          ],
          [
           "intraabdominal hemorrhage"
          ],
          [
           "12ns"
          ],
          [
           "image002jpg\n                            21131112  0400 pm\n                            21131113  0430 am\n                            21131113  0238"
          ],
          [
           "dysphagia  pt immunocopromised"
          ],
          [
           "psoriasis"
          ],
          [
           "esld"
          ],
          [
           "asymmetric edema"
          ],
          [
           "triamcinolone acetonide"
          ],
          [
           "sp tahxrt"
          ],
          [
           "bioprosthetic valve"
          ],
          [
           "central depression"
          ],
          [
           "retroperitoneal hematomas"
          ],
          [
           "etomidate"
          ],
          [
           "hyperkalemic"
          ],
          [
           "hemodilution"
          ],
          [
           "nephrotoxicity"
          ],
          [
           "cocaine abuse"
          ],
          [
           "dm1 cb gastro paresis"
          ],
          [
           "pituitary macroadenoma"
          ],
          [
           "macroadenoma"
          ],
          [
           "temporal hematoma"
          ],
          [
           "ramantadine"
          ],
          [
           "amphetamines"
          ],
          [
           "theophylline"
          ],
          [
           "lactic acid08"
          ],
          [
           "oral contraceptives"
          ],
          [
           "excoriations"
          ],
          [
           "end stage renal\n   disease"
          ],
          [
           "quinolones"
          ],
          [
           "takotsubo"
          ],
          [
           "cardiovascular disease"
          ],
          [
           "phlegmon"
          ],
          [
           "meningeal irritation"
          ],
          [
           "line infection"
          ],
          [
           "chronic pulmonary disease"
          ],
          [
           "cordisintroducer  2176131 0836 pm"
          ],
          [
           "acute gi bleeding"
          ],
          [
           "sertraline hcl"
          ],
          [
           "thrombotic"
          ],
          [
           "pleural\n   effusions"
          ],
          [
           "febrile neutropenia"
          ],
          [
           "dp"
          ],
          [
           "pericardial tamponade"
          ],
          [
           "ventricular dilatation"
          ],
          [
           "nash"
          ],
          [
           "venous sinus thrombosis"
          ],
          [
           "tuberculosis"
          ],
          [
           "systemic lupus erythematosus"
          ],
          [
           "obstructive cardiogenic shock"
          ],
          [
           "phosphorous"
          ],
          [
           "exertional buttock"
          ],
          [
           "30cchr amber"
          ],
          [
           "productive cough"
          ],
          [
           "left hemiparesis"
          ],
          [
           "miacalcin"
          ],
          [
           "fibromuscular dysplasia"
          ],
          [
           "tolterodine tartrate"
          ],
          [
           "amlodipine besylate"
          ],
          [
           "itchiness"
          ],
          [
           "basilar aneurysm"
          ],
          [
           "unruptured\n   basilar aneurysm"
          ],
          [
           "signif"
          ],
          [
           "rotatory subluxation"
          ],
          [
           "meropenum"
          ],
          [
           "neurogenic bladder"
          ],
          [
           "succinate"
          ],
          [
           "ecchymotic"
          ],
          [
           "pyuria"
          ],
          [
           "ap"
          ],
          [
           "creatine"
          ],
          [
           "chronic renal disease"
          ],
          [
           "etoh 2 nipsday"
          ],
          [
           "esophageal spasm"
          ],
          [
           "complaints of abdominal distension"
          ],
          [
           "concerta"
          ],
          [
           "amaurosis fugax"
          ],
          [
           "glioma"
          ],
          [
           "right arm weakness"
          ],
          [
           "foscarnet"
          ],
          [
           "graves disease sp rai 2129\n   5"
          ],
          [
           "mitral valve\n   prolapse"
          ],
          [
           "adhd"
          ],
          [
           "cardiac decompensation"
          ],
          [
           "urinary stress incontinence"
          ],
          [
           "valacyclovir"
          ],
          [
           "pleuritis"
          ],
          [
           "ast6"
          ],
          [
           "sepsis ketamine"
          ],
          [
           "clostridium difficle"
          ],
          [
           "reexpansion"
          ],
          [
           "hypercoagulability"
          ],
          [
           "ekgst depressions"
          ],
          [
           "disorientation"
          ],
          [
           "chronic microvascular ischemia"
          ],
          [
           "procedurelaparascopic"
          ],
          [
           "atrovent hfa"
          ],
          [
           "pulseless"
          ],
          [
           "endorgan malperfusion"
          ],
          [
           "etoh toxicity"
          ],
          [
           "cardiac arrhythmias"
          ],
          [
           "imodium"
          ],
          [
           "base deficit"
          ],
          [
           "lymes disease"
          ],
          [
           "jp 2 darker"
          ],
          [
           "dm1 esrd"
          ],
          [
           "aneursym"
          ],
          [
           "shingles"
          ],
          [
           "ph70"
          ],
          [
           "pedis"
          ],
          [
           "diflucan"
          ],
          [
           "prbc"
          ],
          [
           "rheumatoid arthritis"
          ],
          [
           "hyperchloremic"
          ],
          [
           "dilated colon"
          ],
          [
           "magnesium hydroxide"
          ],
          [
           "vasovagal syncope"
          ],
          [
           "tlso"
          ],
          [
           "tacrolimus"
          ],
          [
           "haemophilus"
          ],
          [
           "mycophenolate mofetil"
          ],
          [
           "tobramycin"
          ],
          [
           "neisseria meningitidis"
          ],
          [
           "nitr"
          ],
          [
           "gynonc recs"
          ],
          [
           "intraabdominal abscess"
          ],
          [
           "bile duct stone"
          ],
          [
           "paxil"
          ],
          [
           "av malformation"
          ],
          [
           "acute lymphoblastic leukemia"
          ],
          [
           "abdominal hernia"
          ],
          [
           "thoracic scoliosis"
          ],
          [
           "tof"
          ],
          [
           "rib fracture"
          ],
          [
           "postobstructive"
          ],
          [
           "abnormal sensation"
          ],
          [
           "o2 via"
          ],
          [
           "image002jpg\n                            21681117  0257 am\n                            21681117  0515 am\n                            21681117  1008 am\n                            21681117  1120 am\n                            21681117  0907"
          ],
          [
           "sudden cardiac death"
          ],
          [
           "cardiomyopathies"
          ],
          [
           "mitral\n   regurgitation"
          ],
          [
           "perinephric"
          ],
          [
           "sp gastric bypass"
          ],
          [
           "pounding"
          ],
          [
           "lymph37"
          ],
          [
           "abdominal bloating"
          ],
          [
           "lvot obstruction"
          ],
          [
           "dm1 cb  11565 presents"
          ],
          [
           "pls"
          ],
          [
           "nausea wo"
          ],
          [
           "ruq tenderness"
          ],
          [
           "subfalcine"
          ],
          [
           "cordisintroducer  21681123 0423 pm"
          ],
          [
           "myelitis"
          ],
          [
           "interstitial opacities"
          ],
          [
           "endobronchial lesion"
          ],
          [
           "dm type 2"
          ],
          [
           "intrabdominal abscess"
          ],
          [
           "frontal headaches"
          ],
          [
           "conjunctivalscleral hemorrhage"
          ],
          [
           "bibasilar\n atelectasis"
          ],
          [
           "raloxifene"
          ],
          [
           "sp sah"
          ],
          [
           "transudative"
          ],
          [
           "nss"
          ],
          [
           "ventricular dysfunction"
          ],
          [
           "depressionanxiety"
          ],
          [
           "inferior vena cava"
          ],
          [
           "vascular anomaly"
          ],
          [
           "hemispheric edema"
          ],
          [
           "acne"
          ],
          [
           "latanoprost"
          ],
          [
           "head ache"
          ],
          [
           "cerebral anuerysm repair"
          ],
          [
           "di"
          ],
          [
           "pt trached"
          ],
          [
           "abdominal ischemia"
          ],
          [
           "dsds"
          ],
          [
           "thyroid disorder"
          ],
          [
           "congestive failure"
          ],
          [
           "aortic valve\n   leaflets 3 are mildly thickened"
          ],
          [
           "mcgkgmin levophed"
          ],
          [
           "carboplatin"
          ],
          [
           "image002jpg\n                            22001018  0941 am"
          ],
          [
           "gi bleeds"
          ],
          [
           "ammonia"
          ],
          [
           "bic"
          ],
          [
           "montelukast sodium"
          ],
          [
           "sinus thrombosis"
          ],
          [
           "hydrocodone"
          ],
          [
           "vaginal fistula"
          ],
          [
           "seizures  abuse relatedlast 6 weeks prior ivda\n   current medications\n   "
          ],
          [
           "hydroureteronephrosis"
          ],
          [
           "steatosis"
          ],
          [
           "3pain"
          ],
          [
           "upper extremity pain"
          ],
          [
           "lobulated softtissue lesion"
          ],
          [
           "magnesium citrate"
          ],
          [
           "monitor pain"
          ],
          [
           "mitral valve\n   fibroelastoma"
          ],
          [
           "ws"
          ],
          [
           "crohns disease"
          ],
          [
           "otc"
          ],
          [
           "k27"
          ],
          [
           "droop"
          ],
          [
           "reduced pain"
          ],
          [
           "50mcg"
          ],
          [
           "dilated ascending aorta"
          ],
          [
           "peripheral artery disease"
          ],
          [
           "pyelitis"
          ],
          [
           "50mcg fentanyl"
          ],
          [
           "septal defect"
          ],
          [
           "aggressive pd"
          ],
          [
           "tachypenia"
          ],
          [
           "empiema"
          ],
          [
           "decitabine"
          ],
          [
           "pulmonary infection"
          ],
          [
           "leukoencephalopathy"
          ],
          [
           "nitroglycerine"
          ],
          [
           "preload dependence"
          ],
          [
           "heart\n   failure"
          ],
          [
           "neurological deficits"
          ],
          [
           "neurosx"
          ],
          [
           "sacroiliitis"
          ],
          [
           "right cerebellar hemorrhage"
          ],
          [
           "alf"
          ],
          [
           "ruq abdominal pain"
          ],
          [
           "empyemas"
          ],
          [
           "gastric motility"
          ],
          [
           "cspine injury"
          ],
          [
           "gall bladder\n   ultrasound negative  consult hepatology today\n   nutrition  restart tf"
          ],
          [
           "dystonic"
          ],
          [
           "hypokinesis of\n   the basal to mid anterior wall and anterior septum"
          ],
          [
           "alendronate"
          ],
          [
           "albuterol nebs q6prn"
          ],
          [
           "arthritic pain"
          ],
          [
           "chronic macrocytic anemia"
          ],
          [
           "sodium bicarb"
          ],
          [
           "occipital lesion"
          ],
          [
           "bladder incontinence"
          ],
          [
           "asystolic"
          ],
          [
           "zofrancompazine"
          ],
          [
           "cerebellar infarction"
          ],
          [
           "chocolate flavor"
          ],
          [
           "gastrograffin"
          ],
          [
           "sp hernia"
          ],
          [
           "acidotic"
          ],
          [
           "hacking"
          ],
          [
           "volume overload or electrolyte\n   abnormalities"
          ],
          [
           "nash cirrhosis"
          ],
          [
           "herpes"
          ],
          [
           "vit d3"
          ],
          [
           "orthostasis"
          ],
          [
           "ceftazadime"
          ],
          [
           "sp avrasc aorta"
          ],
          [
           "hd cath r chest"
          ],
          [
           "chronic kidney disease"
          ],
          [
           "excedrin migraine"
          ],
          [
           "asthma sp"
          ],
          [
           "hsv encephalitis"
          ],
          [
           "coarse breath"
          ],
          [
           "hyperactive bowel"
          ],
          [
           "clubbing or cyanosis"
          ],
          [
           "spondylosis"
          ],
          [
           "ginger"
          ],
          [
           "nightsweats"
          ],
          [
           "drug allergies"
          ],
          [
           "arachnoid cyst"
          ],
          [
           "diabetic nephropathy"
          ],
          [
           "o2 4l"
          ],
          [
           "hypoalbuminemia"
          ],
          [
           "gastric varicies"
          ],
          [
           "bronchiolitis"
          ],
          [
           "sah sp pcom aneursym"
          ],
          [
           "right bundlebranch"
          ],
          [
           " renal failure"
          ],
          [
           "midodrine"
          ],
          [
           "pneumopericardium"
          ],
          [
           "desipramine"
          ],
          [
           "carafate enemas"
          ],
          [
           "panus"
          ],
          [
           "visual aura"
          ],
          [
           "hyoscyamine"
          ],
          [
           "muscle weakness"
          ],
          [
           "bic tri"
          ],
          [
           "pcom aneurysm"
          ],
          [
           "blindness"
          ],
          [
           "vecuronium"
          ],
          [
           "pulmonary abscess"
          ],
          [
           "dm 2"
          ],
          [
           "promethazine hcl"
          ],
          [
           "kayexalate"
          ],
          [
           "betablockers"
          ],
          [
           "mesenteric ischemia"
          ],
          [
           "cirrhosis gastric\n   varices"
          ],
          [
           "esophagus rupture"
          ],
          [
           "vit b12"
          ],
          [
           "ro bowel obstruction"
          ],
          [
           "shoulder pain"
          ],
          [
           "aortic root abscess"
          ],
          [
           "intraabdominal bleed"
          ],
          [
           "salmeterol"
          ],
          [
           "sevelamer hcl"
          ],
          [
           "myelopathy"
          ],
          [
           "compressive atelectasis"
          ],
          [
           "profopol"
          ],
          [
           "procardia"
          ],
          [
           "sp avj"
          ],
          [
           "esophageal stricture"
          ],
          [
           "bupropion hcl"
          ],
          [
           "dialysis"
          ],
          [
           "fevermyalgias flu"
          ],
          [
           "peritoneal infection"
          ],
          [
           "stress cardiomyopathy"
          ],
          [
           "cream 1 appl tp hospital1 "
          ],
          [
           "clonzaepam"
          ],
          [
           "vwd"
          ],
          [
           "sp hiatal hernia"
          ],
          [
           "fu"
          ],
          [
           "rosuvastatin"
          ],
          [
           "flu"
          ],
          [
           " active bleeding"
          ],
          [
           "lexapro"
          ],
          [
           "dopa"
          ],
          [
           "cyanide toxicity"
          ],
          [
           "dpm"
          ],
          [
           "hazy opacity"
          ],
          [
           "candidiasis"
          ],
          [
           "obesity hypoventilation"
          ],
          [
           "lymph442"
          ],
          [
           "pancreaititis"
          ],
          [
           "clinicallysignificant valvular\n   disease seen"
          ],
          [
           "renal stones"
          ],
          [
           "qhs gabapentin"
          ],
          [
           "acute stroke"
          ],
          [
           "hemmorrhage"
          ],
          [
           "gb"
          ],
          [
           "bone marrow suppression"
          ],
          [
           "hodgkins disease"
          ],
          [
           "fecal impaction"
          ],
          [
           "anterior myocardial infarction"
          ],
          [
           "iddm and pulmonary sarcoid"
          ],
          [
           "oliguric renal failure"
          ],
          [
           "sphenoid sinus obliteration"
          ],
          [
           "hemor"
          ],
          [
           "right sphenoid sinus fracture"
          ],
          [
           "indomethacin"
          ],
          [
           "image002jpg\n                            21321027  0204 pm"
          ],
          [
           "apnea pulmonary htn"
          ],
          [
           "cervical adenopathy"
          ],
          [
           "left hemiplegia"
          ],
          [
           "frontal intracranial hemorrhage"
          ],
          [
           "37f pmh pw"
          ],
          [
           "left basal ganglia lesion"
          ],
          [
           "toxic alcohol"
          ],
          [
           "amp"
          ],
          [
           "atherosclerotic narrowings"
          ],
          [
           "cortical venous thrombosis"
          ],
          [
           "l cerebellar mass"
          ],
          [
           "obstruction stone"
          ],
          [
           "acute cardiopulmonary disease"
          ],
          [
           "hepatitis pw"
          ],
          [
           "lat"
          ],
          [
           "msk chest pain"
          ],
          [
           "hemoconcentration"
          ],
          [
           "painburning"
          ],
          [
           "administered"
          ],
          [
           "neuropathic"
          ],
          [
           "fever  infection"
          ],
          [
           "middle lobe atelectasis"
          ],
          [
           "co back pain"
          ],
          [
           "lung infection"
          ],
          [
           "hepatic biliary ductal dilation"
          ],
          [
           "sp seizure"
          ],
          [
           "idiopathic thrombocytopenic purpura"
          ],
          [
           "vte"
          ],
          [
           "plv"
          ],
          [
           "2am"
          ],
          [
           "hepatorenal syndrome"
          ],
          [
           "acute tubular necrosis"
          ],
          [
           "intravascular volume depletion"
          ],
          [
           "premature coronary artery disease"
          ],
          [
           "meloxicam"
          ],
          [
           "pedal edema"
          ],
          [
           "amino"
          ],
          [
           "lupron"
          ],
          [
           "eo acute intracranial"
          ],
          [
           "respir"
          ],
          [
           "aa"
          ],
          [
           "acalculous"
          ],
          [
           "hypercapnea"
          ],
          [
           "cdiff"
          ],
          [
           "platinum"
          ],
          [
           "pulmonary congestion"
          ],
          [
           "gpc bacteremia"
          ],
          [
           "pt o2 sats"
          ],
          [
           "maxalt"
          ],
          [
           "ruptured aneurysm"
          ],
          [
           "acetaminophencodeine"
          ],
          [
           "vaginitis"
          ],
          [
           "reflux disease"
          ],
          [
           "bevacizumab"
          ],
          [
           "r pleuritic chest pain"
          ],
          [
           "right aica aneurysm"
          ],
          [
           "rehydrate"
          ],
          [
           "traumatic injury"
          ],
          [
           "l sided stone"
          ],
          [
           "ca acetate"
          ],
          [
           "10mgkg"
          ],
          [
           "sp coiling basilar tip aneurysm"
          ],
          [
           "ami"
          ],
          [
           "had a"
          ],
          [
           "lorazapam"
          ],
          [
           "inappropriate behavior"
          ],
          [
           "vascular injury"
          ],
          [
           "pulmonary opacities"
          ],
          [
           "sclerae anicteric"
          ],
          [
           "urinary or bowel symptoms"
          ],
          [
           "overweight\n    obese"
          ],
          [
           "nonaneurysmal subarachnoid hemorrhage"
          ],
          [
           "frail"
          ],
          [
           "decreased cerebellar swelling"
          ],
          [
           "paroxsymal afib"
          ],
          [
           "r arm sp"
          ],
          [
           "hypocalcemia"
          ],
          [
           "vascular malformations"
          ],
          [
           "enlargement"
          ],
          [
           "tensilon"
          ],
          [
           "vasospasms"
          ],
          [
           "sbt"
          ],
          [
           "spasticity"
          ],
          [
           "denies sob"
          ],
          [
           "perimesencephalic"
          ],
          [
           "delayed gastric emptying"
          ],
          [
           "renal azotemia"
          ],
          [
           "duodenal av"
          ],
          [
           "kidney stone"
          ],
          [
           "q4h nifs"
          ],
          [
           " restlessness"
          ],
          [
           "hyperinflated"
          ],
          [
           "cerebral palsy"
          ],
          [
           "ptosis l  r"
          ],
          [
           "blood transfusions"
          ],
          [
           "tracheal stenosis"
          ],
          [
           "image002jpg\n                            21551030  0917"
          ],
          [
           "voice mildly hoarse"
          ],
          [
           "lip"
          ],
          [
           "renal recs"
          ],
          [
           "isordil"
          ],
          [
           "austrian syndrome"
          ],
          [
           "delusions"
          ],
          [
           "bacterial menigitis"
          ],
          [
           "buncreat"
          ],
          [
           "succinylcholine"
          ],
          [
           "cataract"
          ],
          [
           "infertility"
          ],
          [
           "paranoid delusions"
          ],
          [
           "hbig"
          ],
          [
           "postintubation hypotension"
          ],
          [
           "nitrite"
          ],
          [
           "uptitrated"
          ],
          [
           "lithium carbonate"
          ],
          [
           "brain damage"
          ],
          [
           "nonobstructive bowel"
          ],
          [
           "o2 off"
          ],
          [
           "dens"
          ],
          [
           "pantoprazole sodium"
          ],
          [
           "cerebellar lesion"
          ],
          [
           "pt pain"
          ],
          [
           "image002jpg\n                            21681121  1031 pm\n                            21681122  0427 am\n                            21681122  0354 pm"
          ],
          [
           "denies suicidal ideation"
          ],
          [
           "rlq pain"
          ],
          [
           "glucose\n   124\n   111\n   other labs pt  ptt  inr13824212"
          ],
          [
           "complained"
          ],
          [
           "photophonophobia"
          ],
          [
           "glucosamine"
          ],
          [
           "abd pain"
          ],
          [
           "octreotide"
          ],
          [
           "trali"
          ],
          [
           "chronic diastolic congestive heart failure"
          ],
          [
           "clavulanate"
          ],
          [
           "abdominal abnormalities"
          ],
          [
           "abdominal distention"
          ],
          [
           "uptitrate"
          ],
          [
           "left kidney necrosis"
          ],
          [
           "cysts"
          ],
          [
           "mvp"
          ],
          [
           "pressors"
          ],
          [
           "sinus disease"
          ],
          [
           "left cerebellar infarct"
          ],
          [
           "hypoxic failure"
          ],
          [
           "right arm pain"
          ],
          [
           "hypoalbenemia"
          ],
          [
           "dizzinesslightheadedness"
          ],
          [
           "pulm infection"
          ],
          [
           "xopenex"
          ],
          [
           "oxcarbazepine"
          ],
          [
           "gi avm"
          ],
          [
           "valve stenosis"
          ],
          [
           "auditory or visual\n   "
          ],
          [
           "deep breath"
          ],
          [
           "winfected stone"
          ],
          [
           "amio gtt"
          ],
          [
           "sp av"
          ],
          [
           "decompensation"
          ],
          [
           "carbatrol"
          ],
          [
           "prn dilaudid"
          ],
          [
           "sr"
          ],
          [
           "piperacillintazobactam na"
          ],
          [
           "hemorrhagic conjunctivitis"
          ],
          [
           "hypercarbic resp failure"
          ],
          [
           "osseous lesion"
          ],
          [
           "ho atrial fibrillation"
          ],
          [
           "clotting disorder"
          ],
          [
           "impingement"
          ],
          [
           "vincristine"
          ],
          [
           "markedly dilated ra"
          ],
          [
           "bulimia"
          ],
          [
           "qpm"
          ],
          [
           "uterine adhesions"
          ],
          [
           "levofloxacin 750"
          ],
          [
           "descending aorta"
          ],
          [
           "abnormal systolic septal motionposition"
          ],
          [
           "darunavir"
          ],
          [
           "tan"
          ],
          [
           "kidney fistula"
          ],
          [
           "neck stiffness"
          ],
          [
           "bloodtr"
          ],
          [
           "aneurysm rupture"
          ],
          [
           "nvd"
          ],
          [
           "aneurysmanesthesia"
          ],
          [
           "renal vein thrombosis"
          ],
          [
           "left hemineglect"
          ],
          [
           "aorta"
          ],
          [
           "headach"
          ],
          [
           "ischemiainfarction"
          ],
          [
           "pseudoephedrine hcl"
          ],
          [
           "na 140"
          ],
          [
           "androgel"
          ],
          [
           "teeth"
          ],
          [
           "urea"
          ],
          [
           "cerebellar infarcts"
          ],
          [
           "co head ache"
          ],
          [
           "cpuld"
          ],
          [
           "biliary ductal abnormalities"
          ],
          [
           "wall edema"
          ],
          [
           "ascorbic acid"
          ],
          [
           "upper lobe groundglass opacity"
          ],
          [
           "asymmetric congestive heart failure"
          ],
          [
           "aortic valve"
          ],
          [
           "aorta  sinus"
          ],
          [
           "ro pneumonia"
          ],
          [
           "right cranioplasty"
          ],
          [
           "dm\n\n"
          ],
          [
           "extensive dural calcification"
          ],
          [
           "qac"
          ],
          [
           "norflex"
          ],
          [
           "postoperative hemorrhage"
          ],
          [
           "viral syndrome"
          ],
          [
           "lowdensity lesion"
          ],
          [
           "amytriptyline"
          ],
          [
           "pe  ivc filter"
          ],
          [
           "bells palsy"
          ],
          [
           "glargine insulin"
          ],
          [
           "pitressin"
          ],
          [
           "pituitary lesion"
          ],
          [
           "obstructive\n   ureterolithiasis"
          ],
          [
           "zyprexa qhs"
          ],
          [
           "mycotic aneurisms"
          ],
          [
           "vasospasmstroke"
          ],
          [
           "brain neoplasm"
          ],
          [
           "perinephric abscess"
          ],
          [
           "thunderclap headache"
          ],
          [
           "nacetylcysteine"
          ],
          [
           "metabolic alkolosis"
          ],
          [
           "bileaflet mitral valve prolapse"
          ],
          [
           "vasovagal"
          ],
          [
           "600ml"
          ],
          [
           "bacitracin"
          ],
          [
           "venous abnormalities"
          ],
          [
           "gtc seizure"
          ],
          [
           "oligodendroglioma"
          ],
          [
           "osd"
          ],
          [
           "sp bladder"
          ],
          [
           "temporomandibular joint disease"
          ],
          [
           "midrin"
          ],
          [
           "carotid artery aneurysm"
          ],
          [
           "actinomycosis"
          ],
          [
           "denies numbnesstingling"
          ],
          [
           "tonicclonic"
          ],
          [
           "man sp fall"
          ],
          [
           "image002jpg\n                            2132116  0350 pm"
          ],
          [
           "prs"
          ],
          [
           "right frontal arachnoid cyst"
          ],
          [
           "sp cardiac arrest"
          ],
          [
           "ro endocarditis"
          ],
          [
           "hemorrhagic cysts"
          ],
          [
           "complaints of nauseatinnitus\n             tolerating diet"
          ],
          [
           "paranoid behavior"
          ],
          [
           "intracerebellar hemorrhage"
          ],
          [
           "attendingname8"
          ],
          [
           "ligamentous injury"
          ],
          [
           "avmanesthesia"
          ],
          [
           "bupivicaine"
          ],
          [
           "borderline personality disorder"
          ],
          [
           "hepatic lesions"
          ],
          [
           "interstitial lung disease"
          ],
          [
           "devoloped"
          ],
          [
           "frontal hemorrhage"
          ],
          [
           "tricor"
          ],
          [
           "gi distress"
          ],
          [
           "hydrostatic edema"
          ],
          [
           "amicar"
          ],
          [
           " rlq pain"
          ],
          [
           "fluticasone 50mcg"
          ],
          [
           "highgrade temps"
          ],
          [
           "maintain"
          ],
          [
           "orthostatic hypotension"
          ],
          [
           "ret"
          ],
          [
           "small leftsided pleural effusion"
          ],
          [
           "ronchi"
          ],
          [
           "niacin"
          ],
          [
           "leiomyosarcoma"
          ],
          [
           "myxoma"
          ],
          [
           "vascular\n congestion"
          ],
          [
           "brbpr w clots x 1 this"
          ],
          [
           "propafol"
          ],
          [
           "vasotec"
          ],
          [
           "pneumonias"
          ],
          [
           "esophageal dysmotility"
          ],
          [
           "pt sp tpa"
          ],
          [
           "esophagram"
          ],
          [
           "myoclonic jerks"
          ],
          [
           "acidemia"
          ],
          [
           "loss of appetite"
          ],
          [
           "sodium furosemide"
          ],
          [
           "bleeds"
          ],
          [
           "obese nontender bowel sounds\n   extrem warm no edema"
          ],
          [
           "anastrozole"
          ],
          [
           "renal\n failure"
          ],
          [
           "skin cancer"
          ],
          [
           "qhd"
          ],
          [
           "81f"
          ],
          [
           "blurry vision"
          ],
          [
           "hypodense liver lesions"
          ],
          [
           "liver cirrhosis"
          ],
          [
           "asthma regimen"
          ],
          [
           "gastricduodenal obstruction"
          ],
          [
           "sp r shoulder surgery"
          ],
          [
           "gurgling breath"
          ],
          [
           "throbocytopenia"
          ],
          [
           "fsbg"
          ],
          [
           "occult malignancy"
          ],
          [
           "evlauate"
          ],
          [
           "bipolar do"
          ],
          [
           "microangiopathic hemolytic anemia"
          ],
          [
           "amenia"
          ],
          [
           "tpo"
          ],
          [
           "thyrombocytopenia"
          ],
          [
           "neurological deficit or deterioration"
          ],
          [
           "r hip"
          ],
          [
           "fracture posttraumatic sp closed reduction"
          ],
          [
           "image002jpg\n                            21259"
          ],
          [
           "cholitis"
          ],
          [
           "peripheral vbg"
          ],
          [
           "troponins"
          ],
          [
           "hypoattenuation"
          ],
          [
           "nausea\n   vomiting"
          ],
          [
           "chronic pain w"
          ],
          [
           "white matter hypodensity"
          ],
          [
           "asplenia"
          ],
          [
           "ble edema"
          ],
          [
           "interstitial pulmonary abnormality"
          ],
          [
           "refeeding syndrome"
          ],
          [
           "rizatriptan"
          ],
          [
           "biliary cancer"
          ],
          [
           "renal cell cancer"
          ],
          [
           "anoxic"
          ],
          [
           "brain cancer"
          ],
          [
           "hpylori"
          ],
          [
           "leni"
          ],
          [
           "asd"
          ],
          [
           "ocp"
          ],
          [
           "hepatic congestion"
          ],
          [
           "lbb"
          ],
          [
           "hemorrhagic  conjunctivitis"
          ],
          [
           "azotemia"
          ],
          [
           "acidbase disorder"
          ],
          [
           "amitrityline"
          ],
          [
           "throat cancer"
          ],
          [
           "cerebritis"
          ],
          [
           "simvastatin 40 mg tablet"
          ],
          [
           "gemtuzumab"
          ],
          [
           "pelvic ascites"
          ],
          [
           "polyethylene glycol"
          ],
          [
           "graves disease sp rai"
          ],
          [
           "trisomy"
          ],
          [
           "conjunctivitis"
          ],
          [
           "100mcg fentanyl"
          ],
          [
           "ss bleeding"
          ],
          [
           "left effusion"
          ],
          [
           "gbp"
          ],
          [
           "drug fever"
          ],
          [
           "tteeffusion"
          ],
          [
           "skin impairment"
          ],
          [
           "splenic infarct"
          ],
          [
           "phlebitis"
          ],
          [
           "sahiphaneurysm"
          ],
          [
           "systolic congestive heart failure"
          ],
          [
           "celebrex"
          ],
          [
           "painful leg cramping"
          ],
          [
           "tendonitis"
          ],
          [
           "trivial mitral"
          ],
          [
           "pulmonary arterial hypertension"
          ],
          [
           "ziprasidone hcl"
          ],
          [
           "premarin"
          ],
          [
           "headaches neck pain"
          ],
          [
           "name"
          ],
          [
           "down to or this afternoon at approx 1600 for bilateral burr\n   holes"
          ],
          [
           "o2 2l"
          ],
          [
           "aliskerin"
          ],
          [
           "procrit"
          ],
          [
           "neurotin"
          ],
          [
           "o2 sat 9598 desats"
          ],
          [
           "sinus pain"
          ],
          [
           "pruritus"
          ],
          [
           "hepatitis a"
          ],
          [
           "dropped"
          ],
          [
           "peripheral vision"
          ],
          [
           "increasing"
          ],
          [
           "distal small bowel"
          ],
          [
           "anxietydepression"
          ],
          [
           "denies rashes or skin changes"
          ],
          [
           "intermitently"
          ],
          [
           "claustrophobia"
          ],
          [
           "inferior wall myocardial infarction"
          ],
          [
           "diabetic education"
          ],
          [
           "bowel movements"
          ],
          [
           "sudden unsteadiness"
          ],
          [
           "occult blood"
          ],
          [
           "bleeding aneurysm"
          ],
          [
           "k35 cl104"
          ],
          [
           "jbre"
          ],
          [
           "vomits"
          ],
          [
           "convulsions"
          ],
          [
           "stricture"
          ],
          [
           "w thin"
          ],
          [
           "talkambulate"
          ],
          [
           "tegaserod"
          ],
          [
           "interstitial pulmonary\n edema"
          ],
          [
           "propranalol"
          ],
          [
           "bipolar\n    continue outpt meds for now\n    consider psych consult for managment of underlying agitation"
          ],
          [
           "prolonged qt 125 hospital 8596"
          ],
          [
           "multiple injuries"
          ],
          [
           "chronic back pain pain"
          ],
          [
           "sp\n   gastric bypass"
          ],
          [
           "pal"
          ],
          [
           "taxol"
          ],
          [
           "neutropenic fever"
          ],
          [
           "illness"
          ],
          [
           "bp 140"
          ],
          [
           "subgaleal"
          ],
          [
           "clumsiness"
          ],
          [
           "sle enteritis"
          ],
          [
           "intraventricular hemorrhagic"
          ],
          [
           "weight gain sp gastric bypass"
          ],
          [
           "right flank abscess"
          ],
          [
           "prolapse"
          ],
          [
           "aspart"
          ],
          [
           "image002jpg\n                            21181118  0924 pm"
          ],
          [
           "fascicular block"
          ],
          [
           "chronic loss  hct"
          ],
          [
           "right ventricular pressure overload"
          ],
          [
           "crohns flare \n   last dose of antibiotics\n   "
          ],
          [
           "jj"
          ],
          [
           "acute kidney failure"
          ],
          [
           "uremiaend stage"
          ],
          [
           "lactic acid18"
          ],
          [
           "impaired functional mobility\n   2"
          ],
          [
           "liver mass"
          ],
          [
           "liverlung lesions"
          ],
          [
           "tham"
          ],
          [
           "suicide attempt sp overdose"
          ],
          [
           "vfib arrest"
          ],
          [
           "sp hypoxic hypercarbic respiratory failure"
          ],
          [
           "truncal ataxia"
          ],
          [
           "neosynephine"
          ],
          [
           "diabetes regimen"
          ],
          [
           "phospholipids syndrome"
          ],
          [
           "left retrocardiac atelectasis"
          ],
          [
           "status tahbso"
          ],
          [
           "cardizem"
          ],
          [
           "osteophyte"
          ],
          [
           "ftn"
          ],
          [
           "premarin cream"
          ],
          [
           "ho hysterectomy"
          ],
          [
           "ho abdominal hernia"
          ],
          [
           "euthyroid"
          ],
          [
           "hemiplegia"
          ],
          [
           "miscarriage"
          ],
          [
           "tiredness"
          ],
          [
           "betablocker overdose"
          ],
          [
           "parasthesias"
          ],
          [
           "venous outlet obstruction"
          ],
          [
           "amebiasis"
          ],
          [
           "polymicrobial"
          ],
          [
           "liver\n   failure"
          ],
          [
           "acute respiratory alkalosis"
          ],
          [
           "hemangiomas"
          ],
          [
           "right renal cyst"
          ],
          [
           "eet"
          ],
          [
           "hypoxemic resp failure"
          ],
          [
           "extrahepatic biliary ductal"
          ],
          [
           "bact"
          ],
          [
           "rpe\n   supine\n   \n   "
          ],
          [
           "image002jpg\n                            21931127  0530 am\n                            21931127  0639 am\n                            21931127  1128 am\n                            21931127  0305"
          ],
          [
           "taa"
          ],
          [
           "pleural abnormalities"
          ],
          [
           "sevelamer carbonate"
          ],
          [
           "chfrespiratory failure"
          ],
          [
           "renal calculi"
          ],
          [
           "troponincpk"
          ],
          [
           "zetia"
          ],
          [
           "corneal impaired"
          ],
          [
           "paranoid"
          ],
          [
           "tri"
          ],
          [
           "nutritional deficiency"
          ],
          [
           "dyskinesia"
          ],
          [
           "amphetamine toxicity"
          ],
          [
           "bile duct injury"
          ],
          [
           "hhv6"
          ],
          [
           "levalbuterol"
          ],
          [
           "upper lobe opacities"
          ],
          [
           "abs cd81101"
          ],
          [
           "abs cd31347 cd412"
          ],
          [
           "intraabdominal injury"
          ],
          [
           "cisplatin"
          ],
          [
           "retinoschisis"
          ],
          [
           "end stage liver disease"
          ],
          [
           "gemcitabine"
          ],
          [
           "dronabinol"
          ],
          [
           "choledocholithiasis"
          ],
          [
           "ro aneursym"
          ],
          [
           "malignant melanoma"
          ],
          [
           "tid"
          ],
          [
           "cerebral\n edema"
          ],
          [
           "ptt252"
          ],
          [
           "oxybutynin chloride"
          ],
          [
           "white matter edema"
          ],
          [
           "handihaler"
          ],
          [
           "l facial droop"
          ],
          [
           "tardive dyskinesia"
          ],
          [
           "ir"
          ],
          [
           "whiplash"
          ],
          [
           "phlegmonous"
          ],
          [
           "carmol"
          ],
          [
           "pseudoaneursym"
          ],
          [
           "simvastatin 40 mg tablet sig"
          ],
          [
           "hemorrhagic from acute blood loss"
          ],
          [
           "ro vasculitis"
          ],
          [
           "left leg pain"
          ],
          [
           "ventricular\n   aneurysm"
          ],
          [
           "b cell lymphoma sp sct"
          ],
          [
           "supraclavicular lymphadenopathy"
          ],
          [
           "pod1  sp"
          ],
          [
           "verapramil"
          ],
          [
           "28mm"
          ],
          [
           "concussion"
          ],
          [
           "fms"
          ],
          [
           "myoclonic posturing"
          ],
          [
           "mediastinum"
          ],
          [
           "carpal tunnel syndrome"
          ],
          [
           "small pneumobilia"
          ],
          [
           "image002jpg\n                            2185"
          ],
          [
           "snapping"
          ],
          [
           "etoh wd"
          ],
          [
           "expressive aphasia"
          ],
          [
           "campath"
          ],
          [
           "vitamin"
          ],
          [
           "d b t"
          ],
          [
           "cavernous sinus thrombosis"
          ],
          [
           "lv dysfunction"
          ],
          [
           "rchop"
          ],
          [
           "hemophagocytic"
          ],
          [
           "vasopressors"
          ],
          [
           "chestabdpelvis"
          ],
          [
           "buspirone"
          ],
          [
           "nuc"
          ],
          [
           "breasts"
          ],
          [
           "aberrancy"
          ],
          [
           "ten"
          ],
          [
           "reflux esophagitis"
          ],
          [
           "derrangement"
          ],
          [
           "right ventricular systolic function"
          ],
          [
           "tcas"
          ],
          [
           "urinary urgency"
          ],
          [
           "tracheal sarcoma"
          ],
          [
           "abduction"
          ],
          [
           "bacterial illness"
          ],
          [
           "q6hr coags"
          ],
          [
           "npn"
          ],
          [
           "sennosides"
          ],
          [
           "mycotic aneurism"
          ],
          [
           "complaints of 77"
          ],
          [
           "groundglass opacity"
          ],
          [
           "cachexia"
          ],
          [
           "cephalosporin"
          ],
          [
           "encephalitismeningitis"
          ],
          [
           "alkolosis"
          ],
          [
           "nonocclusive thrombus"
          ],
          [
           "lateral rectus palsy"
          ],
          [
           "blood clots"
          ],
          [
           "lower extremity sarcoma"
          ],
          [
           "renal infarction"
          ],
          [
           "menorrhagia"
          ],
          [
           "hiv hepatitis"
          ],
          [
           "ingestions"
          ],
          [
           "herpes simplex"
          ],
          [
           "warmth"
          ],
          [
           "hypertriglyceridemia"
          ],
          [
           "etomodate"
          ],
          [
           "poly"
          ],
          [
           "depressionbipolar disorder"
          ],
          [
           "hyperostosis"
          ],
          [
           "dysdiadochokinesia"
          ],
          [
           "aldactone"
          ],
          [
           "diabetic\nketoacidosis"
          ],
          [
           "liver dysfunction"
          ],
          [
           "ph734"
          ],
          [
           "hemangioma"
          ],
          [
           "denies difficulties"
          ],
          [
           "hemoglobinuria"
          ],
          [
           "came"
          ],
          [
           "hemophagocytic lymphohistiocytosis"
          ],
          [
           "extraaxial lesion"
          ],
          [
           "perihemorrhagic edema"
          ],
          [
           "inhaler  2 puffs"
          ],
          [
           "thoracic aortic aneurysm"
          ],
          [
           "photophobia or neck stiffness"
          ],
          [
           "tca overdose"
          ],
          [
           "arthropathy"
          ],
          [
           "crohns pe"
          ],
          [
           "cspine"
          ],
          [
           "dilated\n   head ears nose"
          ],
          [
           "aloe doctor"
          ],
          [
           "cefaclor"
          ],
          [
           "obstructive mass"
          ],
          [
           "pt overdosed"
          ],
          [
           "zestril"
          ],
          [
           "uri symptoms"
          ],
          [
           "levemir"
          ],
          [
           "gait unsteadiness"
          ],
          [
           "ddavp"
          ],
          [
           "bibasilar consolidations"
          ],
          [
           "lymph124"
          ],
          [
           "claritin"
          ],
          [
           "pulmonary effusions"
          ],
          [
           "image002jpg\n                            2161112  0400 am\n                             2161113  0243 am\n                             2161115  0218"
          ],
          [
           "renal infarct"
          ],
          [
           "cyst"
          ],
          [
           "neurological\n deficit or deterioration"
          ],
          [
           "gmdb"
          ],
          [
           "ertapenem"
          ],
          [
           "esophageal strictures"
          ],
          [
           "lymphadenitis"
          ],
          [
           "flank pain"
          ],
          [
           "image002jpg\n   fluid"
          ],
          [
           "loop of bowel"
          ],
          [
           "valvular heart disease"
          ],
          [
           "preprocedure"
          ],
          [
           "ruq "
          ],
          [
           "barbituates"
          ],
          [
           "lre"
          ],
          [
           "drymouth"
          ],
          [
           "shortness or breath"
          ],
          [
           "dry mmm"
          ],
          [
           "embolic cardiopathy"
          ],
          [
           "descending thoracic aorta"
          ],
          [
           "urinary tract injury"
          ],
          [
           "hydro"
          ],
          [
           "sp tonsillectomy\n   sp laparoscopy 2170  2172 endometriosisabd mass\n   last name"
          ],
          [
           "gastrographin"
          ],
          [
           "ro avmaneurysm"
          ],
          [
           "pivs right"
          ],
          [
           "asthma  copd"
          ],
          [
           "dm1 cb gastroparesis"
          ],
          [
           "vaginal itching"
          ],
          [
           "venous anomaly"
          ],
          [
           "multiple myeloma"
          ],
          [
           "mult"
          ],
          [
           "bgs"
          ],
          [
           "sp bilateral breast reduction"
          ],
          [
           "nsaidinduced gastritis"
          ],
          [
           "prostatic hypertrophy"
          ],
          [
           "aggrenox"
          ],
          [
           "hand"
          ],
          [
           "image002jpg\n                            2138113  0721 pm"
          ],
          [
           "nitroprusside  5 mcgkgmin"
          ],
          [
           "mitral valve prosthesis"
          ],
          [
           "sulfa"
          ],
          [
           "postoperative anemia"
          ],
          [
           "fibromuscu"
          ],
          [
           "femoral cordis"
          ],
          [
           "nif30"
          ],
          [
           "primary polydipsia"
          ],
          [
           "acute pulmonary insult"
          ],
          [
           "chronic obstructive disease"
          ],
          [
           "se"
          ],
          [
           "aldosterone"
          ],
          [
           "dbt"
          ],
          [
           "pcomma"
          ],
          [
           "ro stroke"
          ],
          [
           "pericardial effusions"
          ],
          [
           "rectosigmoid adenocarcinoma"
          ],
          [
           "sp bicycle"
          ],
          [
           "lvot"
          ],
          [
           "timolol maleate"
          ],
          [
           "image002jpg\n                            2129127  0521 am"
          ],
          [
           "image002jpg\n                            2129124  1122 am\n                            2129124  0449"
          ],
          [
           "painless"
          ],
          [
           "riboflavin"
          ],
          [
           "protonix  2123829 0255"
          ],
          [
           "frontal intraparenchymal hemorrhage"
          ],
          [
           "coronary artery calcification"
          ],
          [
           "vtvf arrest"
          ],
          [
           "dp           right"
          ],
          [
           "opacity "
          ],
          [
           "desvenlafaxine"
          ],
          [
           "pancreatic inflammation"
          ],
          [
           "hearing vision"
          ],
          [
           "sp emesis"
          ],
          [
           "nonaerosol"
          ],
          [
           "discoid atelectasis"
          ],
          [
           "gadopentetate"
          ],
          [
           "multiple myocardial infarctions"
          ],
          [
           "bomb"
          ],
          [
           "rv stroke"
          ],
          [
           "50cchr"
          ],
          [
           "scoliosis of the thoracic"
          ],
          [
           "sp cataract"
          ],
          [
           "cholangiopancreatography"
          ],
          [
           "generalized weakness"
          ],
          [
           "lv thrombus"
          ],
          [
           "pulmonary opacifications"
          ],
          [
           "glucose\n   124\n   111\n   62\n   other labs pt  ptt"
          ],
          [
           "crohns flare \n   last dose of antibiotics\n   vancomycin  2155410 0830 am"
          ],
          [
           "ai sp"
          ],
          [
           "norvir"
          ],
          [
           "conjunctival"
          ],
          [
           "ppm"
          ],
          [
           "highgrade"
          ],
          [
           "vertebrobasilar stenosis"
          ],
          [
           "2mi"
          ],
          [
           "visual hallucinations"
          ],
          [
           "acinetobacter"
          ],
          [
           "multiforme"
          ],
          [
           "nitroglycerinlabetalolhydrazine"
          ],
          [
           "inferior infarct"
          ],
          [
           "ventricular outflow obstruction"
          ],
          [
           "polydypsia"
          ],
          [
           "ehlersdanlos syndrome"
          ],
          [
           "sp tonsillectomy\n   sp laparoscopy 2170  2172 endometriosisabd mass\n   \n   medications"
          ],
          [
           "haze"
          ],
          [
           "sialadenitis"
          ],
          [
           "scooter"
          ],
          [
           "magnesium oxide"
          ],
          [
           "rhabdomyolysis"
          ],
          [
           "liver injury"
          ],
          [
           "ipratropium q"
          ],
          [
           "small sore"
          ],
          [
           "hallucinating"
          ],
          [
           "embolic event"
          ],
          [
           "neoral"
          ],
          [
           "ph744"
          ],
          [
           "flaccidity"
          ],
          [
           "hyperphosphatemia"
          ],
          [
           "primary pulmonary hypertension"
          ],
          [
           "demyelinating disease"
          ],
          [
           "nonresectable cholangiocarcinoma"
          ],
          [
           "kernig"
          ],
          [
           "clotrimazole"
          ],
          [
           "ogt"
          ],
          [
           "temporal hemorrhage"
          ],
          [
           "danlos"
          ],
          [
           "ventilatorassociated pneumonia"
          ],
          [
           "paresis"
          ],
          [
           "cousin"
          ],
          [
           "rectalvaginal bleeding"
          ],
          [
           "iddm\n   home regimen"
          ],
          [
           "cerebellar infarct"
          ],
          [
           "acute agitation"
          ],
          [
           "teacolored"
          ],
          [
           "hyperparathyroidism"
          ],
          [
           "glucotrol"
          ],
          [
           "leftsided weakness"
          ],
          [
           "bullae"
          ],
          [
           "pulmonary htn"
          ],
          [
           "ues"
          ],
          [
           "munchausen\ns syndrome"
          ],
          [
           "posttransfusion"
          ],
          [
           "hemorrhoid"
          ],
          [
           "asthma pulmonary hypertension"
          ],
          [
           "colon polyps"
          ],
          [
           "sp fall\n\n"
          ],
          [
           "k47"
          ],
          [
           "shortness of breathchf"
          ],
          [
           "cellulitus"
          ],
          [
           "jugular venous distention"
          ],
          [
           "helminth infection"
          ],
          [
           "rp bleeding"
          ],
          [
           "hyperventilate"
          ],
          [
           "vascular abnormalities"
          ],
          [
           "wheezes to"
          ],
          [
           "levaquin 750"
          ],
          [
           "innominate vein laceration"
          ],
          [
           "shakes"
          ],
          [
           "cord compression"
          ],
          [
           "l sided weakness"
          ],
          [
           "asystole"
          ],
          [
           "concussionwhiplash injury\n   2186 secondary"
          ],
          [
           "sma branch"
          ],
          [
           "hip flexion"
          ],
          [
           "left hemispheric edema"
          ],
          [
           "eom"
          ],
          [
           "3rd nerve palsy"
          ],
          [
           "ce"
          ],
          [
           "hemopericardium"
          ],
          [
           "mag"
          ],
          [
           "absess"
          ],
          [
           "cord edema"
          ],
          [
           "cavitary lesion"
          ],
          [
           "rhinitis"
          ],
          [
           "ro abscess"
          ],
          [
           "zoster"
          ],
          [
           "deeper neck injury"
          ],
          [
           "eo infection"
          ],
          [
           "mucositis"
          ],
          [
           "dural venous sinus thrombosis"
          ],
          [
           "apraxia or neglect"
          ],
          [
           "status\n\n"
          ],
          [
           "cathedno obstructive"
          ],
          [
           "tapazole"
          ],
          [
           "ro renal artery stenosis"
          ],
          [
           "bezoar"
          ],
          [
           "systemic lupus"
          ],
          [
           "ammvrr"
          ],
          [
           "denies rash"
          ],
          [
           "neurological deficit"
          ],
          [
           "partial obstruction"
          ],
          [
           "acetominophen"
          ],
          [
           "po4"
          ],
          [
           "inability to breath"
          ],
          [
           "napping"
          ],
          [
           "panic"
          ],
          [
           "lower extremity swelling"
          ],
          [
           "pulmonary artery\nsystolic hypertension"
          ],
          [
           "right pcom aneurysm"
          ],
          [
           "ibw"
          ],
          [
           "granulomatous infection"
          ],
          [
           "bili"
          ],
          [
           "labored breathing"
          ],
          [
           "fq"
          ],
          [
           "diarrhoea"
          ],
          [
           "albumin"
          ],
          [
           "eo edema"
          ],
          [
           "migraine pain"
          ],
          [
           "lumbar radiculopathy"
          ],
          [
           "expectorate"
          ],
          [
           "stridorous"
          ],
          [
           "triglyceride"
          ],
          [
           "pregabalin"
          ],
          [
           "infectioninflammation"
          ],
          [
           "polyuria"
          ],
          [
           "dminsulin"
          ],
          [
           "lv endsystolic volume"
          ],
          [
           "image002jpg\n                            21681121  0259 am\n                            21681121  1019 am"
          ],
          [
           "anterior fascicular block"
          ],
          [
           "lv stroke"
          ],
          [
           "hd qmwf"
          ],
          [
           "choroidal origin aneurysm"
          ],
          [
           "epogen"
          ],
          [
           "cardiac failure"
          ],
          [
           "occlusion or highgrade stenosis"
          ],
          [
           "felbatol"
          ],
          [
           "primary cardiac tumor"
          ],
          [
           "venous infarct"
          ],
          [
           "visine"
          ],
          [
           "o2\n   3"
          ],
          [
           "lv endsystolic"
          ],
          [
           "a breath"
          ],
          [
           "sp pericardiocentesis"
          ],
          [
           "10mcg"
          ],
          [
           "tranxene"
          ],
          [
           "anisocoria"
          ],
          [
           "left necrotic kidney"
          ],
          [
           "reyataz"
          ],
          [
           "thyroid problems"
          ],
          [
           "rv enddiastolic volume"
          ],
          [
           "rv endsystolic volume"
          ],
          [
           "embolic source sbps 180\n   hydralazinemetoprolol"
          ],
          [
           "ascities"
          ],
          [
           "left pica cerebellar infarct"
          ],
          [
           "microhemorrhages"
          ],
          [
           "gddtpa"
          ],
          [
           "ptt227"
          ],
          [
           "transverse aorta"
          ],
          [
           "fomepizole"
          ],
          [
           "intracranial vasospasm"
          ],
          [
           "bloodtinged"
          ],
          [
           "vancomycingentamicin"
          ],
          [
           "exertional"
          ],
          [
           "cerebellar stroke"
          ],
          [
           "s140"
          ],
          [
           "left arm flaccid"
          ],
          [
           "cerebral stroke"
          ],
          [
           "denies abdominal pain"
          ],
          [
           "l sided ptx"
          ],
          [
           "intuba"
          ],
          [
           "myocardial fatty infiltration"
          ],
          [
           "bibasilar pleural effusions"
          ],
          [
           "vessel coronary artery disease"
          ],
          [
           "distal obstruction"
          ],
          [
           "left arm weakness"
          ],
          [
           "cranial defect"
          ],
          [
           "suprasellar meningioma"
          ],
          [
           "better pain"
          ],
          [
           "osseous abnormality"
          ],
          [
           "amiodaroneinduced lung toxicity"
          ],
          [
           "maxair"
          ],
          [
           "left hydronephrosis"
          ],
          [
           "nsaidinduced ulcer"
          ],
          [
           "osseous abnormalities"
          ],
          [
           "cancers of git\n\n"
          ],
          [
           "fatty"
          ],
          [
           "adamts13"
          ],
          [
           "ptt244"
          ],
          [
           "xopenexipratropium"
          ],
          [
           "crohns sp\n   partial sbcolon resection"
          ],
          [
           "antiphospholipid\n   syndrome"
          ],
          [
           "hematologic malignancy"
          ],
          [
           "coffeeground emesis"
          ],
          [
           "afo"
          ],
          [
           "antiphospholid syndrome"
          ],
          [
           "sp r"
          ],
          [
           "erythema esophagus"
          ],
          [
           "crohns flare worse compared to last ct cholilithiasis\n   "
          ],
          [
           "intracranial aneurysms"
          ],
          [
           "supraclavicular lad\n\n"
          ],
          [
           "ho breast cancer"
          ],
          [
           "ho trigeminal neuralgia"
          ],
          [
           "ho migraine headaches"
          ],
          [
           "leptomeningeal or dural enhancement"
          ],
          [
           "methyl prednisolone"
          ],
          [
           "infection  redness"
          ],
          [
           "ocreotide"
          ],
          [
           "nitrites"
          ],
          [
           "thyroid cancer"
          ],
          [
           "upper extremity fistula"
          ],
          [
           "ast1512"
          ],
          [
           "nacl"
          ],
          [
           "ngt"
          ],
          [
           "bromide"
          ],
          [
           "differentialneuts468"
          ],
          [
           "flexes"
          ],
          [
           "uremic pericarditis"
          ],
          [
           "epigastric tenderness"
          ],
          [
           "sp laprascopic"
          ],
          [
           "loculated leftsided pleural effusion"
          ],
          [
           "postmenopausal bleeding"
          ],
          [
           "acylovir"
          ],
          [
           "hyperbilirubinemia"
          ],
          [
           "ventricular bigeminy"
          ],
          [
           "dislocations"
          ],
          [
           "image002jpg\n                            21241110  0747"
          ],
          [
           "apidra"
          ],
          [
           "glulisine"
          ],
          [
           "anorexiabulimia"
          ],
          [
           "cerebellar dysfunction"
          ],
          [
           "gait disturbance"
          ],
          [
           "ibd"
          ],
          [
           "renal osteodystrophy"
          ],
          [
           "dilated thoracic aorta"
          ],
          [
           "anterolateral injury"
          ],
          [
           "bite block"
          ],
          [
           "cholestipol"
          ],
          [
           "migrainous headaches"
          ],
          [
           "active behaviors"
          ],
          [
           "uptitrate labetalol"
          ],
          [
           "fibrillationatrial tachycardia"
          ],
          [
           "dilaudid q 2 3"
          ],
          [
           "left rib fractures"
          ],
          [
           " renal recs"
          ],
          [
           "bileaflet mitral valve"
          ],
          [
           "ocd"
          ],
          [
           "ventolin"
          ],
          [
           "intrahepatic biliary dilation"
          ],
          [
           "neurogenic bladder\n\n"
          ],
          [
           "fluroquinolone"
          ],
          [
           "vitamin k steroids"
          ],
          [
           "supratherapeutic"
          ],
          [
           "crohns flare"
          ],
          [
           "d76"
          ],
          [
           "serous mucousy"
          ],
          [
           "perrl 45cm"
          ],
          [
           "ro cerebral bleed"
          ],
          [
           "lungs rhonchi"
          ],
          [
           "cerebral bleed"
          ],
          [
           "bloodsputumurine cx"
          ],
          [
           "oi"
          ],
          [
           "atropine bedside"
          ],
          [
           "cord impingement"
          ],
          [
           "l leg pain"
          ],
          [
           "rightsided neck pain"
          ],
          [
           "stoolcharcoal"
          ],
          [
           "6the"
          ],
          [
           "folliculitis"
          ],
          [
           "dipyridimole"
          ],
          [
           "pt orthostatic"
          ],
          [
           "ibuprofen 400"
          ],
          [
           "diminished breath"
          ],
          [
           "bactermia"
          ],
          [
           "right opacified sphenoidal sinus"
          ],
          [
           "right cerebellar hemispheric hematoma"
          ],
          [
           "intracranial vascular abnormalities"
          ],
          [
           "hemisphere hematoma"
          ],
          [
           "quadriplegic"
          ],
          [
           "chronic hepatitis c"
          ],
          [
           "septic thrombophlebitis"
          ],
          [
           "ventricular obstruction"
          ],
          [
           "aortic valve sclerosis"
          ],
          [
           "pt sp extubation"
          ],
          [
           "left scapular fracture"
          ],
          [
           "doubt obstructive"
          ],
          [
           "clonidin"
          ],
          [
           "penumothorax"
          ],
          [
           "dissolve  hospital1  prn nausea"
          ],
          [
           "t\n\n\n\n\n   supine "
          ],
          [
           "bos"
          ],
          [
           "calcipotriene"
          ],
          [
           "left headache"
          ],
          [
           "5hrs"
          ],
          [
           "glucose intolerance"
          ],
          [
           "lunesta"
          ],
          [
           "actinic keratosis"
          ],
          [
           " retinopathy"
          ],
          [
           "brain aneurisms"
          ],
          [
           "active infection"
          ],
          [
           "pe sp gastric bypass"
          ],
          [
           "vascular calcification"
          ],
          [
           "hand swollen blisters"
          ],
          [
           "decreased breath sounds"
          ],
          [
           "cognitive deficits"
          ],
          [
           "hypokinesis"
          ],
          [
           "tibial edema"
          ],
          [
           "lactic acid27 mmoll"
          ],
          [
           "abdominal syndrome"
          ],
          [
           "premature coronary disease"
          ],
          [
           "palpitation"
          ],
          [
           "myopathy"
          ],
          [
           "plan"
          ],
          [
           "r"
          ],
          [
           "o2 pleth extremities"
          ],
          [
           "hr 140"
          ],
          [
           "skull defect"
          ],
          [
           "hepatitis b viral"
          ],
          [
           "diltizam"
          ],
          [
           "intraventricular\n hemorrhage"
          ],
          [
           "right ica stenosis"
          ],
          [
           "benzo toxicity"
          ],
          [
           "normoactive bs"
          ],
          [
           "edema r wrist varicose vein"
          ],
          [
           "imh"
          ],
          [
           "infected r ij"
          ],
          [
           "chronic collagen vascular disease"
          ],
          [
           "infarcts of varying ages"
          ],
          [
           "supraventricular tachyarrhythmia"
          ],
          [
           "image002jpg   6am"
          ],
          [
           "baceria"
          ],
          [
           "small bowel hernia"
          ],
          [
           "hyperemia"
          ],
          [
           "increased lantus"
          ],
          [
           "glucose finger stick\n   133\n   21811017 1000 pm"
          ],
          [
           "left frontal headache"
          ],
          [
           "atarax"
          ],
          [
           "chronic microvascular disease"
          ],
          [
           "intraabdominal infection"
          ],
          [
           "pe sp ivc filter"
          ],
          [
           "ro ileus"
          ],
          [
           "friable"
          ],
          [
           "itchy"
          ],
          [
           "pansinus disease"
          ],
          [
           "cw lymphoma"
          ],
          [
           "hemianopsia"
          ],
          [
           "bites"
          ],
          [
           "ventricular decompensation"
          ],
          [
           "image002jpg\n   inr 11\n   2174921 cxr"
          ],
          [
           "hemorrhoidal bleeding"
          ],
          [
           "pancreatits"
          ],
          [
           "traumatic neck injury"
          ],
          [
           "anterior pleural effusion"
          ],
          [
           "aortogram"
          ],
          [
           "slurring"
          ],
          [
           "mouthwash"
          ],
          [
           "uterine bleeding"
          ],
          [
           "atlantoaxial articulation"
          ],
          [
           "tissue injury"
          ],
          [
           "mma"
          ],
          [
           "lantus  54u"
          ],
          [
           "temporal lobe hemorrhage"
          ],
          [
           "three bowel movements"
          ],
          [
           "polyethylene glycol 17 g pong"
          ],
          [
           "nosebleed"
          ],
          [
           "vad"
          ],
          [
           "arrythmia"
          ],
          [
           "cp gi"
          ],
          [
           "nonoliguric"
          ],
          [
           "pulm bleed"
          ],
          [
           "patientmotrin"
          ],
          [
           "atrial bigeminy"
          ],
          [
           "right kidney hydronephrosis"
          ],
          [
           "obstructive airway disease"
          ],
          [
           "enlargement of the left adrenal gland"
          ],
          [
           "nimv 11001430"
          ],
          [
           "1telephonefax"
          ],
          [
           "image002jpg\n                            21931128  0630 pm\n                            21931129  0415 am\n                            21931129  0421 am\n                            21931129  0830 am\n                            21931129  0315 pm\n                            21931130  0358 am\n                            2193121  0218 am\n                            2193121  0719 am"
          ],
          [
           "mitral valve fibroelastoma"
          ],
          [
           "blood bowel movements"
          ],
          [
           "rlq"
          ],
          [
           "bps"
          ],
          [
           "shortness of\n   breath"
          ],
          [
           "ro appendicitis"
          ],
          [
           "t3 n3"
          ],
          [
           "adrenal lesion"
          ],
          [
           "cerebral hypoperfusion"
          ],
          [
           "prop"
          ],
          [
           "cramps"
          ],
          [
           "castleman\n   disease"
          ],
          [
           "cardiopulmonary disease"
          ],
          [
           "increaed"
          ],
          [
           "schwannoma"
          ],
          [
           "mycophenolate"
          ],
          [
           "cordis"
          ],
          [
           "hyponatremic"
          ],
          [
           "pod1  sp r"
          ],
          [
           "unasyn  213634 1221 am"
          ],
          [
           "bruise"
          ],
          [
           "blood\n   loss anemia"
          ],
          [
           "prn ativan"
          ],
          [
           "eating small"
          ],
          [
           "bid"
          ],
          [
           "vomiting neck pain"
          ],
          [
           "extrahepatic biliary dilatation"
          ],
          [
           "iddm"
          ],
          [
           "fistulization"
          ],
          [
           "posttraumatic deformity"
          ],
          [
           "diabetes heart disease"
          ],
          [
           "multiple suicide"
          ],
          [
           "bipolarantisocial personalityimpulserage disorders"
          ],
          [
           "febrile illness"
          ],
          [
           "dht"
          ],
          [
           "softeners"
          ],
          [
           "tremulousness"
          ],
          [
           "angiomyolipoma"
          ],
          [
           "salicylate"
          ],
          [
           "ethylene glycol"
          ],
          [
           "rib pain"
          ],
          [
           "seizure do"
          ],
          [
           "barbiturate"
          ],
          [
           "cough prod"
          ],
          [
           "300mcg"
          ],
          [
           "azygos distention"
          ],
          [
           "acute rp bleed"
          ],
          [
           "left renal stone"
          ],
          [
           "4the ascending aorta"
          ],
          [
           "gnrpseudomonas"
          ],
          [
           "6the mitral valve leaflets"
          ],
          [
           "urine"
          ],
          [
           "eo atn"
          ],
          [
           "depressed mental status"
          ],
          [
           "bradycardic iivi systolic murmur heart"
          ],
          [
           "reflex sympathetic dystrophy of\n   the r arm sp forearm amputation"
          ],
          [
           "gi and cutaneous bleeding"
          ],
          [
           "left pcomm aneurysm"
          ],
          [
           "tingling sensation"
          ],
          [
           "cld"
          ],
          [
           "hepatic htn"
          ],
          [
           "n92 band0"
          ],
          [
           "lactulose 3 tablespoons"
          ],
          [
           "hyrdonephrosis"
          ],
          [
           "multiple abnormalities"
          ],
          [
           "diskus"
          ],
          [
           "interparenchymal hemorrhage"
          ],
          [
           "peripheral eosinophilia"
          ],
          [
           "right thyroid calcification"
          ],
          [
           "aortic valve  lvot"
          ],
          [
           "hospital1 "
          ],
          [
           "abx regimen"
          ],
          [
           "hirshsprungs disease sp colostomy takedown"
          ],
          [
           "angioneurotic edema"
          ],
          [
           "mmm oropharynx clear\n   neck supple rij line"
          ],
          [
           "she had"
          ],
          [
           "caries"
          ],
          [
           "6u"
          ],
          [
           "abdominal\n   distention"
          ],
          [
           "meropenam"
          ],
          [
           "hemorrhagic shock"
          ],
          [
           "neostigmineglycopyrolate"
          ],
          [
           "intestine pseudoobstruction"
          ],
          [
           "breast mass"
          ],
          [
           "mesenteric vessel bleed"
          ],
          [
           "ccyttubesbrparastomal hernia"
          ],
          [
           "basilar artery aneurysm"
          ],
          [
           "desaturations"
          ],
          [
           "pelvic hernias"
          ],
          [
           "complaint of"
          ],
          [
           "green bile"
          ],
          [
           "coagulopathic"
          ],
          [
           "pansensitive psuedomonas"
          ],
          [
           "acv"
          ],
          [
           "head and neck to"
          ],
          [
           "betamethasone cream"
          ],
          [
           "na147"
          ],
          [
           "fentversedins"
          ],
          [
           "itch"
          ],
          [
           "nimodipin"
          ],
          [
           "cardiac complaints"
          ],
          [
           "bleeding ro"
          ],
          [
           "hydrocortison"
          ],
          [
           "intercerebral hemorrhage"
          ],
          [
           "increased metoprolol"
          ],
          [
           "mycotic aneurysm"
          ],
          [
           "vitamin\n   k"
          ],
          [
           "frontal bleed"
          ],
          [
           "o2\n "
          ],
          [
           "blistering on right arm"
          ],
          [
           "tagamet"
          ],
          [
           "thoracic aorta"
          ],
          [
           "aspirin allergy"
          ],
          [
           "cefrtriaxone"
          ],
          [
           "intracranial mass"
          ],
          [
           "sudden increase"
          ],
          [
           "prophylaxis"
          ],
          [
           "cr wnl"
          ],
          [
           "shortness of br\n   bacitracinpolymyxin b sulfate"
          ],
          [
           "ho eating\n   disorder"
          ],
          [
           "somatoform disorder"
          ],
          [
           "image002jpg\n   serm tox  "
          ],
          [
           "image002jpg\n                            211113  0211 am"
          ],
          [
           "charchol"
          ],
          [
           "right hand weakness"
          ],
          [
           "ho alcohol abuse"
          ],
          [
           "medroxyprogesterone"
          ],
          [
           "methylprednisone"
          ],
          [
           "escitalopram"
          ],
          [
           "flu\n    ortho"
          ],
          [
           "lomotil"
          ],
          [
           "nitrodopamine"
          ],
          [
           "right hand"
          ],
          [
           "oxycodonemethadone"
          ],
          [
           "right facial droop"
          ],
          [
           "q4h asa"
          ],
          [
           "borderline clubbing"
          ],
          [
           "paravalvular leak"
          ],
          [
           "wellseated bioprosthretic valve"
          ],
          [
           "bpd"
          ],
          [
           "effusin"
          ],
          [
           "seizures  abuse relatedlast 6 weeks prior\n   ho small bowel obstruction"
          ],
          [
           "clubbing cyanosis"
          ],
          [
           "lactic acid22 mmoll"
          ],
          [
           "acetoacetate"
          ],
          [
           "overcorrection"
          ],
          [
           "cough of thin white frothy"
          ],
          [
           "awaiting sister name ni 1094 to"
          ],
          [
           "dryness"
          ],
          [
           "femoral groin"
          ],
          [
           "distal branch"
          ],
          [
           "shadows"
          ],
          [
           "epidermoid sp right"
          ],
          [
           "appendiceal cystic lesion"
          ],
          [
           "still febrile"
          ],
          [
           "tox recs"
          ],
          [
           "mrsa infection"
          ],
          [
           "frontal lobe dysfunction"
          ],
          [
           "crohns disease and respiratory failure"
          ],
          [
           "mainright pulmonary artery"
          ],
          [
           "upper lobe groundglass opacities"
          ],
          [
           "no sob"
          ],
          [
           "visual disturbances"
          ],
          [
           "denies visual"
          ],
          [
           "hypoplastic left vertebral artery"
          ],
          [
           "peritoneal diasylate"
          ],
          [
           "unsteady gait"
          ],
          [
           "crohns dx"
          ],
          [
           "embolic phenomenon"
          ],
          [
           "left pcom aneurysm"
          ],
          [
           "pt sp ppm"
          ],
          [
           "congestive heart\n failure"
          ],
          [
           "tinglingnumbness"
          ],
          [
           "syrup"
          ],
          [
           "vitamin e"
          ],
          [
           "peridex"
          ],
          [
           "calcium citrate"
          ],
          [
           "cavitary lung lesion"
          ],
          [
           "wegeners or bacterial"
          ],
          [
           "pulmonaryrenal syndrome"
          ],
          [
           "pulm infections"
          ],
          [
           "neutrophilia"
          ],
          [
           "bleedingbruising"
          ],
          [
           "nasal fracture"
          ],
          [
           "penumonia"
          ],
          [
           "bacitracin polymicin ointment"
          ],
          [
           "codiene q 4"
          ],
          [
           " soles"
          ],
          [
           "simvastatin vancomycin"
          ],
          [
           "postnasal"
          ],
          [
           "aggressiveness"
          ],
          [
           "po bowel regimen"
          ],
          [
           "cerebral atrophy"
          ],
          [
           "hyperchloremia"
          ],
          [
           "subopt"
          ],
          [
           "gemtuzumab ozogamicin"
          ],
          [
           "azacitidine"
          ],
          [
           "was"
          ],
          [
           "macrocytosis"
          ],
          [
           "aberrancy tachycardia"
          ],
          [
           "posaconazole"
          ],
          [
           "xr"
          ],
          [
           "pancreatic neuroendocrine tumor"
          ],
          [
           "bevacizumabtemodar"
          ],
          [
           "bone marrow aspirate"
          ],
          [
           "fludarabine"
          ],
          [
           "nonicteric"
          ],
          [
           "image002jpg\n   hct 40 to"
          ],
          [
           "mrms"
          ],
          [
           "right knee pain"
          ],
          [
           "acute leukemia"
          ],
          [
           "toenail"
          ],
          [
           "hyperplasia"
          ],
          [
           "duodenal avm"
          ],
          [
           "methylprednisolone sodium"
          ],
          [
           "pelvic inflammatory disease"
          ],
          [
           "migrainous"
          ],
          [
           "expiratory wheeze"
          ],
          [
           "percocetmorphine"
          ],
          [
           "sertaline"
          ],
          [
           "fibrinogen260"
          ],
          [
           "nausea and"
          ],
          [
           "dilated proximal esophagus"
          ],
          [
           "probable left small effusion"
          ],
          [
           "lactic acid24"
          ],
          [
           "opisthorchiasis"
          ],
          [
           "hob chlorhex"
          ],
          [
           " gi distress"
          ],
          [
           "mural calcification"
          ],
          [
           "wideneck aneurysm"
          ],
          [
           "ro effusion"
          ],
          [
           "nsvt"
          ],
          [
           "cisatricurium"
          ],
          [
           "rest angina"
          ],
          [
           "vasospam"
          ],
          [
           "cs"
          ],
          [
           "effusions pulmonary edema"
          ],
          [
           "bld"
          ],
          [
           "bm overnite 91 maroon colored"
          ],
          [
           "etoh cirrhosis"
          ],
          [
           "postoperative pneumocephalus"
          ],
          [
           "had no"
          ],
          [
           "ptca"
          ],
          [
           "str"
          ],
          [
           "complains of headache"
          ],
          [
           "citalopram hydrobromide"
          ],
          [
           "temporal arteritis"
          ],
          [
           "shortness of\n  breath"
          ],
          [
           "db"
          ],
          [
           "asbestosis"
          ],
          [
           "pneumoniapneumonitis"
          ],
          [
           "gastric outlet obstruction"
          ],
          [
           "liver shock"
          ],
          [
           "recx"
          ],
          [
           "skull fracture"
          ],
          [
           "bladder cancer"
          ],
          [
           "hearing loss"
          ],
          [
           "saccular aneurysm"
          ],
          [
           "arachnoid cyst anterior"
          ],
          [
           "myconazole"
          ],
          [
           "biatrial abnormality"
          ],
          [
           "image002jpg\n                            21131112  0400 pm\n                            21131113  0430 am"
          ],
          [
           "hepatic abcess"
          ],
          [
           "5316ine"
          ],
          [
           "du ulcer"
          ],
          [
           "ca65"
          ],
          [
           "milk of magnesia 16"
          ],
          [
           "r aica aneurysm"
          ],
          [
           "nausea or vomitting"
          ],
          [
           "diabetic diet\n   glycemic control"
          ],
          [
           "metab acidosis"
          ],
          [
           "be7"
          ],
          [
           "cefazolin docusate sodium"
          ],
          [
           "chronic bronchitis"
          ],
          [
           "smoking bu tnot"
          ],
          [
           "dry skin\n   neurologic"
          ],
          [
           "thatn sinus tachycardia"
          ],
          [
           "eclamptic seizure"
          ],
          [
           "ate"
          ],
          [
           "right atrial abnormality"
          ],
          [
           "apneahypoxemia"
          ],
          [
           "pancytopenic"
          ],
          [
           "dystonia"
          ],
          [
           "o2 flow2"
          ],
          [
           "hypodense hepatic lesions"
          ],
          [
           "dm type 2 diet"
          ],
          [
           "sleep disorder"
          ],
          [
           "sdhepidural hemorrhage"
          ],
          [
           "rll pneumonia"
          ],
          [
           "normallymidline"
          ],
          [
           "benzodiazepine toxicity"
          ],
          [
           "gi\n   cramps"
          ],
          [
           "visionhearing"
          ],
          [
           "parenchymal hemorrhage"
          ],
          [
           "overdiuresis"
          ],
          [
           "clonic movements"
          ],
          [
           "prerenal failure"
          ],
          [
           "partiallyocclusive thrombus"
          ],
          [
           "basilar atelectasis"
          ],
          [
           "gabapentin 400"
          ],
          [
           "denies rashes or skin"
          ],
          [
           "septal myocardial infarction"
          ],
          [
           "vitamin d 400"
          ],
          [
           "t2 hyperintensity"
          ],
          [
           "bowel obstruction or bowel wall thickening"
          ],
          [
           "ga"
          ],
          [
           "caliceal diverticulum"
          ],
          [
           "trivial pericardial effusion"
          ],
          [
           "sigmoid colitis"
          ],
          [
           "intrahepatic\n   ductal\n   dilatation"
          ],
          [
           "abs"
          ],
          [
           "fluoxetin"
          ],
          [
           "migraines with visual aura"
          ],
          [
           "oxycodone hcl"
          ],
          [
           "ceftrioxone"
          ],
          [
           "ivf"
          ],
          [
           "hemoperitoneum"
          ],
          [
           "cachectic"
          ],
          [
           "quinolone"
          ],
          [
           "chronic illness  normal\n   free t4"
          ],
          [
           "cyclobenazaprine"
          ],
          [
           "tca toxicity"
          ],
          [
           "metabolic derrangements"
          ],
          [
           "ivf  infection"
          ],
          [
           "ehlersdanlos"
          ],
          [
           "small bowel incarceration"
          ],
          [
           "borderline dilated"
          ],
          [
           "fecalized small bowel loop"
          ],
          [
           "pts left eye"
          ],
          [
           "right rib pain"
          ],
          [
           "xanthochromia"
          ],
          [
           "nicoderm"
          ],
          [
           "transverse fracture"
          ],
          [
           "nyquil"
          ],
          [
           "dispalced segmental fracture"
          ],
          [
           "movements"
          ],
          [
           "infarcts demyelinating disease"
          ],
          [
           "gn"
          ],
          [
           "malignantappearing osseous lesions"
          ],
          [
           "compression fracture"
          ],
          [
           "fentanyl 25mcg"
          ],
          [
           "myocardial infarctions"
          ],
          [
           "hydrobromide"
          ],
          [
           "bioprosthetic"
          ],
          [
           "ventricular preexcitation"
          ],
          [
           "cardiac tamponade"
          ],
          [
           "milk of magnesia 20"
          ],
          [
           "impaired ventricular"
          ],
          [
           "calm"
          ],
          [
           "o2 sat wnl"
          ],
          [
           "methadone hydrochloride"
          ],
          [
           "upper gi bleeding"
          ],
          [
           "floor"
          ],
          [
           " pulmonary embolism"
          ],
          [
           "arrhythmiapalp"
          ],
          [
           "pirbuterol acetate"
          ],
          [
           "maxair autohaler"
          ],
          [
           "shortness of br\n   "
          ],
          [
           "rhy"
          ],
          [
           "lung abnormalities"
          ],
          [
           "hob"
          ],
          [
           "1mcgkgmin nipride"
          ],
          [
           "jbre wed"
          ],
          [
           "hypoxic injury"
          ],
          [
           "ro massmets"
          ],
          [
           "neoadjuvand chemo"
          ],
          [
           "mgm"
          ],
          [
           "left fibula fracture"
          ],
          [
           "hypervolemia"
          ],
          [
           "diminshed"
          ],
          [
           "pda\n\n"
          ],
          [
           "mevacor"
          ],
          [
           "o2 2l nc"
          ],
          [
           "interstitial abnormality"
          ],
          [
           "prerenal azotemia"
          ],
          [
           "agitationdelirium"
          ],
          [
           "normocytic anemia"
          ],
          [
           "danlos syndrome"
          ],
          [
           "pt mae"
          ],
          [
           "inferior tonsillar displacement"
          ],
          [
           "dobuatmine"
          ],
          [
           "right groin pseudoaneurysm"
          ],
          [
           "centrilobular emphysema"
          ],
          [
           "abdominal distension"
          ],
          [
           "30cchr\n    change flagyl"
          ],
          [
           "monos33"
          ],
          [
           "levophedphenylephrine"
          ],
          [
           "bruisinghematoma"
          ],
          [
           "temperatues"
          ],
          [
           "extrahepatic biliary duct"
          ],
          [
           "hepatic cirrhosis"
          ],
          [
           "right frontal hemorrhage"
          ],
          [
           "hypercapneic respiratory failure"
          ],
          [
           "hemopneumothorax"
          ],
          [
           "sigmoid bleed"
          ],
          [
           "phlegm"
          ],
          [
           "ropinirole"
          ],
          [
           "t 974 hr 124 bp 13180 rr 20"
          ],
          [
           "prilosec otc"
          ],
          [
           "denies alcohol"
          ],
          [
           "image002jpg\n                                  21281129\n                                   233 a"
          ],
          [
           "sp right tka"
          ],
          [
           "knee arthroplasty"
          ],
          [
           "image002jpg\n                            21561214  1029 pm"
          ],
          [
           "lowgrade"
          ],
          [
           "orthostatic blood pressures"
          ],
          [
           "lido"
          ],
          [
           "low blood pressures"
          ],
          [
           "appeared"
          ],
          [
           "ca69"
          ],
          [
           "nausea or"
          ],
          [
           "vivonex"
          ],
          [
           "pulsatile bleeding"
          ],
          [
           "consistenly"
          ],
          [
           "eo bleeding"
          ],
          [
           "pseudocyst"
          ],
          [
           "o2 wean"
          ],
          [
           "presep"
          ],
          [
           "bicuspid"
          ],
          [
           "duodenal wire loop communication"
          ],
          [
           "dihydroergotamine"
          ],
          [
           "right basal ganglia infarction"
          ],
          [
           "protonix 40 hospital1 "
          ],
          [
           "albuterol mdi 2 puffs"
          ],
          [
           "codein"
          ],
          [
           "hyperextension"
          ],
          [
           "co leg cramps"
          ],
          [
           " orthostatic hypotension"
          ],
          [
           "assult"
          ],
          [
           "o2 saturations"
          ],
          [
           "dilated aortic sinus"
          ],
          [
           "l cerebellar"
          ],
          [
           "cholestoff otc"
          ],
          [
           "bmday"
          ],
          [
           "cauda equina"
          ],
          [
           "befo"
          ],
          [
           "toothache"
          ],
          [
           "intestinal ischemia"
          ],
          [
           "azithro"
          ],
          [
           "ua w"
          ],
          [
           "memory\n   impairment"
          ],
          [
           "image002jpg\n   vanc"
          ],
          [
           "volume overload from mucus plugging"
          ],
          [
           "osa sp splenectomy now\n   presents with fever"
          ],
          [
           "albuterolipratroprium"
          ],
          [
           "polyarthralgias"
          ],
          [
           "glucose qid"
          ],
          [
           "wbc84"
          ],
          [
           "hypovolemic shock"
          ],
          [
           "ph75"
          ],
          [
           "multi joint pain"
          ],
          [
           "respiratory decline"
          ],
          [
           "sp laprascopic reduction of hiatal hernia"
          ],
          [
           "mitral valve"
          ],
          [
           "fentanylversedpropofol"
          ],
          [
           "abg 7416213541"
          ],
          [
           "diabetes insipidus"
          ],
          [
           "bibasilar opacification"
          ],
          [
           "sbp 140"
          ],
          [
           "mds"
          ],
          [
           "bundle branch block"
          ],
          [
           "head to ro phlegmon"
          ],
          [
           "right plantar fasciitis"
          ],
          [
           "fcs"
          ],
          [
           "infectionhemorhageinterval"
          ],
          [
           "gastrografin"
          ],
          [
           "loop obstructive physiology"
          ],
          [
           "alcoholic pancreatitis sp"
          ],
          [
           "attempted grilled cheese"
          ],
          [
           "basilar opacification"
          ],
          [
           "obstructions"
          ],
          [
           "osm"
          ],
          [
           "o2 increased"
          ],
          [
           "830am"
          ],
          [
           "aortic injuries"
          ],
          [
           "painpain"
          ],
          [
           "lantus  100 unitml cartridge  75"
          ],
          [
           "flovent hfa  110 mcgactuation aerosol  2 puffs"
          ],
          [
           "upper gi bleeds"
          ],
          [
           "malformations"
          ],
          [
           "awake"
          ],
          [
           "basilar artery occlusion"
          ],
          [
           "migraine disorder"
          ],
          [
           "chronic microvascular infarction"
          ],
          [
           "microvascular ischemic disease"
          ],
          [
           "gi sarcoma"
          ],
          [
           "multinodular goiter"
          ],
          [
           "osteomalacia 211 vitamin d deficiency"
          ],
          [
           "nesidioblastosis"
          ],
          [
           "cycle cardiac"
          ],
          [
           "islet cell hyperplasia of the pancreas\n5"
          ],
          [
           "tetrabenazine"
          ],
          [
           "tardive"
          ],
          [
           "clozapine"
          ],
          [
           "triptan"
          ],
          [
           "mood disorder"
          ],
          [
           "percocet 2 po"
          ],
          [
           "refused"
          ],
          [
           "wd"
          ],
          [
           "anxious"
          ],
          [
           "nas"
          ],
          [
           "costochondritis"
          ],
          [
           "lidoderm"
          ],
          [
           "capsaicin cream"
          ],
          [
           "ismn"
          ],
          [
           "calcitonin"
          ],
          [
           "chronic abdominal pain"
          ],
          [
           "inferior vena cava filter and iliac vein"
          ],
          [
           "left arm pain"
          ],
          [
           "lupus hemoptysis"
          ],
          [
           "upper extremity swelling"
          ],
          [
           "phenegran"
          ],
          [
           "ferrous gluconate"
          ],
          [
           "fatty foods"
          ],
          [
           "rofecoxib"
          ],
          [
           "n24"
          ],
          [
           "bleeding ulcer"
          ],
          [
           "sinus arrest"
          ],
          [
           "vioxx"
          ],
          [
           "menometrorrhagia"
          ],
          [
           "mobic"
          ],
          [
           "asacol 400"
          ],
          [
           "pravachol"
          ],
          [
           "floor sp"
          ],
          [
           "imi"
          ],
          [
           "gabapentine"
          ],
          [
           "1min"
          ],
          [
           "bisphosphonate"
          ],
          [
           "arouses"
          ],
          [
           "drug overdose"
          ],
          [
           "clotting disorders"
          ],
          [
           "ankle cellulitis"
          ],
          [
           "drooling"
          ],
          [
           "hypercoaguable"
          ],
          [
           "ssi"
          ],
          [
           "fhx"
          ],
          [
           "evisceration"
          ],
          [
           "sp bowel perforation"
          ],
          [
           "nevi"
          ],
          [
           "irinotecan"
          ],
          [
           "vomitted"
          ],
          [
           "hereditary telangiectasias"
          ],
          [
           "lad disease"
          ],
          [
           "avapro"
          ],
          [
           "42123829\n   blood culture\n   blood"
          ],
          [
           "duodenal diverticulum"
          ],
          [
           "nebs"
          ],
          [
           "ctsah"
          ],
          [
           "levoscoliosis"
          ],
          [
           "hd catheter infection"
          ],
          [
           "endometrial cancer"
          ],
          [
           "nl"
          ],
          [
           "shotty"
          ],
          [
           "continue q"
          ],
          [
           "anticiagulate"
          ],
          [
           "volvulus"
          ],
          [
           "teary"
          ],
          [
           "large bowel obstruction"
          ],
          [
           "mso4"
          ],
          [
           "spirits mae"
          ],
          [
           "sphenoid inflammation"
          ],
          [
           "excessive edema"
          ],
          [
           "ahve"
          ],
          [
           "pseudomonal"
          ],
          [
           "active hepatic vascular hemorrhage"
          ],
          [
           "seizures  abuse relatedlast 6 weeks prior\n   current medications\n   hydromorphone"
          ],
          [
           "ciliary disease"
          ],
          [
           "itching of skin w"
          ],
          [
           "segmental pulmonary embolism"
          ],
          [
           "by2176"
          ],
          [
           "ro pulmonary edema"
          ],
          [
           "fosamax"
          ],
          [
           "creatnine"
          ],
          [
           "na 139 k"
          ],
          [
           "e2"
          ],
          [
           "aortic valve prosthesis"
          ],
          [
           "insufficiency"
          ],
          [
           "image002jpg\n                            2174923  0504 am\n                            2174923  0407 pm"
          ],
          [
           " mouth"
          ],
          [
           "chronic vent dependencerespiratory failure"
          ],
          [
           "do"
          ],
          [
           "image002jpg\n                            220412  0340 am"
          ],
          [
           "lightheadnessdizziness"
          ],
          [
           "retinal artery occlusion"
          ],
          [
           "intraparenchymal bleed"
          ],
          [
           "image002jpg\n                            21931124  0307 am"
          ],
          [
           "r uncal herniation"
          ],
          [
           "pulm hypertension"
          ],
          [
           "necrotic pyelonephritis"
          ],
          [
           "estrogen"
          ],
          [
           "diabetic neuropathy"
          ],
          [
           "cordisintroducer  21761119 1100 am\n   "
          ],
          [
           "frequent bowel obstruction"
          ],
          [
           "avnrt"
          ],
          [
           "bileaflet prolapse"
          ],
          [
           " urinary tract infection"
          ],
          [
           "expectoration"
          ],
          [
           "basal ganglia\n   mass biopsy"
          ],
          [
           "image002jpg\n                            21761119  0952 am"
          ],
          [
           "confusional"
          ],
          [
           "pheochromocytoma"
          ],
          [
           "left adrenal pheochromocytoma"
          ],
          [
           "cough of thick secretions"
          ],
          [
           "reassess pain"
          ],
          [
           "toxidrome"
          ],
          [
           "fungal mass"
          ],
          [
           "il2"
          ],
          [
           "b12 defeciency"
          ],
          [
           "ro avm"
          ],
          [
           "disulfiram"
          ],
          [
           "colazal"
          ],
          [
           "gastropathy"
          ],
          [
           "hypotention"
          ],
          [
           "serosanguineous"
          ],
          [
           "ho palpitations"
          ],
          [
           "sarcoma of right proximal thigh sp chemotherapy"
          ],
          [
           "small subgaleal hematoma"
          ],
          [
           "arrythmogenic"
          ],
          [
           "bowelbladder loss"
          ],
          [
           "autonomic dysfunction"
          ],
          [
           "neurosurg recs"
          ],
          [
           " normocytic anemiathrombocytopenia"
          ],
          [
           "glimepride"
          ],
          [
           "acom aneurysm"
          ],
          [
           "na143"
          ],
          [
           "bite"
          ],
          [
           "intraoperative bleeding"
          ],
          [
           "obstructive disease"
          ],
          [
           "kcl 40meq"
          ],
          [
           "hydrocortisonepramoxine"
          ],
          [
           "lymphoproliferative disorder"
          ],
          [
           "lindau disease"
          ],
          [
           "retinal hemangiomas"
          ],
          [
           "multiple spine hemangiomas"
          ],
          [
           "lindau"
          ],
          [
           "oligodenrioglioma"
          ],
          [
           "cisplatinum"
          ],
          [
           "pnapulm fever"
          ],
          [
           "injury to blood vessels"
          ],
          [
           "bronchospasm"
          ],
          [
           "mesalamine"
          ],
          [
           "hypersensitivity"
          ],
          [
           "crohns disease sp multiple sbr"
          ],
          [
           "frequent bowel obstructions"
          ],
          [
           "dolasetron"
          ],
          [
           "cerebral artery aneurysm"
          ],
          [
           "upper gib"
          ],
          [
           "respiratory depression"
          ],
          [
           "mof"
          ],
          [
           "cll"
          ],
          [
           "fluctuance"
          ],
          [
           "necrotic lymphadenopathy"
          ],
          [
           "intraabdominal hematoma"
          ],
          [
           "prednisolone acetate"
          ],
          [
           "taxolsorafenib"
          ],
          [
           "antidepressant overdose"
          ],
          [
           "pva"
          ],
          [
           "obstructive\n   diuresis from the percutaneous nephrostomy tube placed today\n   ivf boluses until rehydrated"
          ],
          [
           "complaint of abdominal pain"
          ],
          [
           "evista"
          ],
          [
           "bone pain"
          ],
          [
           "labetalol gtts"
          ],
          [
           "dcd"
          ],
          [
           "denies sinus tenderness"
          ],
          [
           "flovent 50mcg"
          ],
          [
           "flushing"
          ],
          [
           "exertional chest pain"
          ],
          [
           "troponint21004"
          ],
          [
           "image002jpg\n                            2156121  1207 pm\n                            2156121  0350 pm"
          ],
          [
           "l cn6 palsy"
          ],
          [
           "pleural abscess"
          ],
          [
           "hilar enlargement"
          ],
          [
           "valve\n   stenosis"
          ],
          [
           "active gi bleeding"
          ],
          [
           "subsegmental atelectasis"
          ],
          [
           "ra w o2 sats"
          ],
          [
           "end organ damage"
          ],
          [
           "crohn\n    iv"
          ],
          [
           "bladder bleeding"
          ],
          [
           "lantus 28u"
          ],
          [
           "image002jpg\n                            21661127  "
          ],
          [
           "right\n   cerebellar stroke"
          ],
          [
           "lp"
          ],
          [
           "heeltoshin"
          ],
          [
           "ventricular thrombus"
          ],
          [
           "multivessel cad"
          ],
          [
           "nonischemic cardiomyopathy"
          ],
          [
           "ischemic stroke"
          ],
          [
           "propanolol"
          ],
          [
           "effusions trached"
          ],
          [
           "tib"
          ],
          [
           "tri ecr io ip quad ham ta gas\nlast name"
          ],
          [
           "obstructive coronary artery disease"
          ],
          [
           "blurred\nvision"
          ],
          [
           "breathing looks labored"
          ],
          [
           "intracranial bleeding"
          ],
          [
           "disp21 tablets"
          ],
          [
           "loop of transverse colon"
          ],
          [
           "tri last name"
          ],
          [
           "pronation"
          ],
          [
           "edb"
          ],
          [
           "obstruction or ileus"
          ],
          [
           "amitryptyline"
          ],
          [
           "homocystine"
          ],
          [
           "intrahepatic biliary dilatation"
          ],
          [
           "perichole"
          ],
          [
           "dop abdpel"
          ],
          [
           "pd exchanges q"
          ],
          [
           "image002jpg\n                            21321112  0601 am\n                            21321112  1034 am\n                            21321112  0414 pm"
          ],
          [
           "lower face weakness"
          ],
          [
           "image002jpg\n                            21451025  0259 am\n                            21451025  0540 am"
          ],
          [
           "cholhd43"
          ],
          [
           "cortonary artery disease"
          ],
          [
           "o2  2lmin via"
          ],
          [
           "conjunctival icterus"
          ],
          [
           "patent intrahepatic ivc"
          ],
          [
           "eo bleed"
          ],
          [
           "euvolemia"
          ],
          [
           "hypo"
          ],
          [
           "lorazepam 12 mg"
          ],
          [
           "amitriptylline"
          ],
          [
           "left buttock cellulitis"
          ],
          [
           "losartan potassium"
          ],
          [
           "lumbar disc degeneration"
          ],
          [
           "hyperalgesia"
          ],
          [
           "constipating"
          ],
          [
           "interstitial cystitis"
          ],
          [
           "pentosan"
          ],
          [
           "bupivacaine"
          ],
          [
           "acute active bleeding"
          ],
          [
           "diminutive celiac trunk"
          ],
          [
           "dilated esophagus"
          ],
          [
           "avelox"
          ],
          [
           "trimethoprim"
          ],
          [
           "gall bladder\n   ultrasound negative\n   nutrition\n   renal foley progressive atn"
          ],
          [
           "stiff"
          ],
          [
           "pleural\n effusion or pneumothorax"
          ],
          [
           "chronic or acute blood products"
          ],
          [
           "ptt268"
          ],
          [
           "lv hypokinesis"
          ],
          [
           "bibasilar platelike atelectasis"
          ],
          [
           "asp pna"
          ],
          [
           "pown leter"
          ],
          [
           "montelukast 10 mg tablet po daily"
          ],
          [
           "dystonic reaction"
          ],
          [
           "periampullary diverticulum"
          ],
          [
           "vaginal hemorrhage"
          ],
          [
           "percocet od"
          ],
          [
           "acetaminophen od"
          ],
          [
           "chiari type 1 malformation sp"
          ],
          [
           "l shoulder dislocation"
          ],
          [
           "sciatic nerve irritation"
          ],
          [
           "uterine fibroid embolization"
          ],
          [
           "coarse breath sounds and small"
          ],
          [
           "peripheral pulmonary embolism"
          ],
          [
           "kidney failure"
          ],
          [
           "vasculitic lesion"
          ],
          [
           "ptosis dysphagia"
          ],
          [
           "unconscious in renal failure"
          ],
          [
           "amphet"
          ],
          [
           "pneumoniae"
          ],
          [
           "ibandronate"
          ],
          [
           "nonprod"
          ],
          [
           "lleswelling"
          ],
          [
           "afls"
          ],
          [
           "ro vascular malformation"
          ],
          [
           "adriamycin"
          ],
          [
           "cytoxan"
          ],
          [
           "nausea with vomiting"
          ],
          [
           "pulmonary infarction"
          ],
          [
           "r rib pain"
          ],
          [
           "malabsorption syndrome"
          ],
          [
           "vc"
          ],
          [
           "grandmal with loss of consciousness"
          ],
          [
           "tmj"
          ],
          [
           "sinemet"
          ],
          [
           "emtricitabinetenofovir"
          ],
          [
           "orphenadrine citrate"
          ],
          [
           "albuterol inhaler 2"
          ],
          [
           "toxic shock syndrome"
          ],
          [
           "chlamydia trachomatis"
          ],
          [
           "congenital heart disease"
          ],
          [
           "pioglitazone"
          ],
          [
           "gouty"
          ],
          [
           "abnormal systolic septal\nmotionposition"
          ],
          [
           "wmin serosang"
          ],
          [
           "hct311"
          ],
          [
           "small bowel obstructions"
          ],
          [
           "degenerative joint disease"
          ],
          [
           "left ankle pain"
          ],
          [
           "fibrosiscirrhosis"
          ],
          [
           "l lip droop"
          ],
          [
           "sp cabgx5"
          ],
          [
           "pod5  sp"
          ],
          [
           "ct215"
          ],
          [
           "status migrainosus"
          ],
          [
           "combivent inhaler"
          ],
          [
           "facet hypertrophy"
          ],
          [
           "obstruction in biliary tree"
          ],
          [
           "left ventricular outflow tract obstruction"
          ],
          [
           "trospium"
          ],
          [
           "maleate"
          ],
          [
           "zincbacitracin"
          ],
          [
           "forehead skin impairment"
          ],
          [
           "ino"
          ],
          [
           "rifampin"
          ],
          [
           "carbapenems"
          ],
          [
           "carbacephems"
          ],
          [
           "staphylococci"
          ],
          [
           "abdominal swelling"
          ],
          [
           "bilious nonbloody vomiting"
          ],
          [
           "ho depression"
          ],
          [
           "muscle aches"
          ],
          [
           "hyperdense"
          ],
          [
           "calcification of the aortic valve"
          ],
          [
           "phos56"
          ],
          [
           "bp7040"
          ],
          [
           "visceral stenosis"
          ],
          [
           " ho cva"
          ],
          [
           "vulvovaginitis"
          ],
          [
           "abnormal left kidney"
          ],
          [
           "diphtheria"
          ],
          [
           "requip"
          ],
          [
           "left cerebellar mass"
          ],
          [
           "left cerebellar edema"
          ],
          [
           "mediastinal adenopathy"
          ],
          [
           "extensive coronary arterial calcification"
          ],
          [
           "oxacillin"
          ],
          [
           "bronchoalveolar"
          ],
          [
           "difficile"
          ],
          [
           "percocet 75325"
          ],
          [
           "hem stroke"
          ],
          [
           "fluro"
          ],
          [
           "epipitressin"
          ],
          [
           "innominate injury"
          ],
          [
           "image002jpg\n                            2132113  0448"
          ],
          [
           "milk of\n   magnesia"
          ],
          [
           "valvular endocarditis"
          ],
          [
           "cardiac arrhthmia"
          ],
          [
           "daunorubicin"
          ],
          [
           "neupogen"
          ],
          [
           "regional systolic dysfunction"
          ],
          [
           "normoactive"
          ],
          [
           "rubs"
          ],
          [
           "image002jpg\n                            21561218  1045 am\n                            21561218  0100 pm\n                            21561218  0134"
          ],
          [
           "pulmonary aspergillosis"
          ],
          [
           "magnum"
          ],
          [
           "tonsilar herniation"
          ],
          [
           "heaviness"
          ],
          [
           "sulci"
          ],
          [
           "right subarachnoid hemorrhage"
          ],
          [
           "nerve block"
          ],
          [
           "frontal lobe tumor"
          ],
          [
           "denies fevers"
          ],
          [
           "vfvt arrest"
          ],
          [
           "tsh11"
          ],
          [
           "aortic valve replacement"
          ],
          [
           "parasthesiae"
          ],
          [
           "nonocclusive vasospasm"
          ],
          [
           "vomiting diarrhea"
          ],
          [
           "sp bowel"
          ],
          [
           "na k cl hco3"
          ],
          [
           "o2 sat98ra"
          ],
          [
           "valproate"
          ],
          [
           "cardiac recs"
          ],
          [
           "bleeding colitis"
          ],
          [
           "neoplasia"
          ],
          [
           "sp vomiting"
          ],
          [
           "angiodysplasia"
          ],
          [
           "ro infectious"
          ],
          [
           "azithromicin"
          ],
          [
           "highdose methotrexate"
          ],
          [
           "allergic reactions"
          ],
          [
           "buncreatinine"
          ],
          [
           "olmesartan"
          ],
          [
           "heart failure pw substernal chest pain"
          ],
          [
           "nonaneurysmal sah"
          ],
          [
           "traumatic sp extubation"
          ],
          [
           "sp emergent"
          ],
          [
           "pid"
          ],
          [
           "sp hysterectomy"
          ],
          [
           "peptic ulcer"
          ],
          [
           "bleeding peptic"
          ],
          [
           "nonerythematous"
          ],
          [
           "duodenal stricture"
          ],
          [
           "chronic constipation"
          ],
          [
           "painheadache"
          ],
          [
           "ceclor"
          ],
          [
           "outlet obstruction sp"
          ],
          [
           "parotid gland tumor"
          ],
          [
           "cerbrovascular aneurysms"
          ],
          [
           "image002jpg\n   hct"
          ],
          [
           "no biliary ductal dilation"
          ],
          [
           "duodenal bulb stricture"
          ],
          [
           "nonbleeding diverticulum"
          ],
          [
           "leucovorin"
          ],
          [
           "papillary stenosis"
          ],
          [
           "dilatation of ampullary orifice"
          ],
          [
           "dilated duodenal stricture"
          ],
          [
           "4the cbd"
          ],
          [
           "acetazolamide"
          ],
          [
           "tbm"
          ],
          [
           "antibxs"
          ],
          [
           "lumbar subluxation"
          ],
          [
           "backache"
          ],
          [
           "ptt"
          ],
          [
           "functioning av fistula"
          ],
          [
           "qwed"
          ],
          [
           "crohns flare \n   last dose of antibiotics\n   infusions"
          ],
          [
           "aggressive\n   pulmonary toilet"
          ],
          [
           "cholycystitis"
          ],
          [
           "image002jpg\n                            21561214  0651"
          ],
          [
           "ventricular fibrillation"
          ],
          [
           "chronic microvascular ischemic disease"
          ],
          [
           "creat10 na140"
          ],
          [
           "t1dm"
          ],
          [
           "vascular abnormality"
          ],
          [
           "leftsided breast cancer sp lumpectomy"
          ],
          [
           "q4h fsbg"
          ],
          [
           "chronic small vessel ischemic"
          ],
          [
           "co fever"
          ],
          [
           "haparin"
          ],
          [
           "valve and cardiac disease"
          ],
          [
           "dyspareunia"
          ],
          [
           "carinii"
          ],
          [
           "pneumocystis jirovecii"
          ],
          [
           "cdifficile"
          ],
          [
           "ph735"
          ],
          [
           "nph insulin"
          ],
          [
           "wihtout"
          ],
          [
           "temp103"
          ],
          [
           "contusions"
          ],
          [
           "churg"
          ],
          [
           "vomiting and"
          ],
          [
           "prerenal azotemina"
          ],
          [
           "unremarkable renal ultrasound"
          ],
          [
           "acetaminophenmorphine"
          ],
          [
           "cogentin"
          ],
          [
           "conjunctival palor"
          ],
          [
           "eating pizza"
          ],
          [
           "metabolic encephalopathy"
          ],
          [
           "pulmonary artery enlargement"
          ],
          [
           "sp arrest"
          ],
          [
           "chric microangiopathic small vessel disease"
          ],
          [
           "vascular occlusions"
          ],
          [
           "clr"
          ],
          [
           "conscioutious"
          ],
          [
           "rates20"
          ],
          [
           "thrombosed aneurysm"
          ],
          [
           "extr"
          ],
          [
           "sudden vertigo"
          ],
          [
           "renal or ureteric calculi"
          ],
          [
           "ro renal stone"
          ],
          [
           "dyscoordination"
          ],
          [
           "bibasilar rales"
          ],
          [
           "coronary artery calcifications"
          ],
          [
           "o2\nsats"
          ],
          [
           "blockages"
          ],
          [
           "chronic venous stasis"
          ],
          [
           "nitropaste"
          ],
          [
           "cranial nerve vi palsy"
          ],
          [
           "enterococci from\n   blood last name"
          ],
          [
           "regional lv systolic dysfunction"
          ],
          [
           "gatrointestinal bleed"
          ],
          [
           "abi"
          ],
          [
           "tibial artery disease"
          ],
          [
           "hct287"
          ],
          [
           "hct368"
          ],
          [
           "left leg weakness"
          ],
          [
           "morning stiffness"
          ],
          [
           "head traumas"
          ],
          [
           "watery diarrhea"
          ],
          [
           "active colitis"
          ],
          [
           "variceal bleed"
          ],
          [
           "geodon"
          ],
          [
           "ro fracture"
          ],
          [
           "lateral ankle pain"
          ],
          [
           "ovarian uterine cervical\n   endometrial\n   assessment"
          ],
          [
           "metabolic\n   syndrome"
          ],
          [
           "sensory loss"
          ],
          [
           "paraparesis"
          ],
          [
           "ache"
          ],
          [
           "nonraptured aneurysm"
          ],
          [
           "right frontotemporal"
          ],
          [
           "esomeprazole magnesium"
          ],
          [
           "trapezium"
          ],
          [
           "spasms"
          ],
          [
           "parietal lobe abscess"
          ],
          [
           "ectopy"
          ],
          [
           "fentanyl 100mcg"
          ],
          [
           "dicyclomine"
          ],
          [
           "cortical edema"
          ],
          [
           "paratonia"
          ],
          [
           "periarticular edema"
          ],
          [
           "aneurism"
          ],
          [
           "abdominal abcess"
          ],
          [
           "temporal bleed"
          ],
          [
           "uncal herniation"
          ],
          [
           "intracranial\n arterial aneurysm"
          ],
          [
           "q4h blood sugar"
          ],
          [
           "fever pain"
          ],
          [
           "duodenal fistula"
          ],
          [
           "alert"
          ],
          [
           "gastric distention"
          ],
          [
           "barium esophagram"
          ],
          [
           "immunosupressed"
          ],
          [
           "30cchr\n    fu surgery"
          ],
          [
           "aorta  descending thoracic"
          ],
          [
           "sternoclavicular swelling"
          ],
          [
           "sternoclavicular joints"
          ],
          [
           "hemophagocytic syndrome"
          ],
          [
           "lymphohistiocytosis"
          ],
          [
           "drowsiness"
          ],
          [
           "sp sprain"
          ],
          [
           "disp6 tablets"
          ],
          [
           "hazy opacification"
          ],
          [
           "left\n external carotid artery"
          ],
          [
           "auras"
          ],
          [
           "hyperventilation"
          ],
          [
           "endophthalmitis"
          ],
          [
           "ep fxd"
          ],
          [
           "ffect"
          ],
          [
           "cisternal hemorrhage"
          ],
          [
           "anuerysmsah"
          ],
          [
           "laxative abuse"
          ],
          [
           "munchausens syndrome"
          ],
          [
           "anomia"
          ],
          [
           "pleural abnormality"
          ],
          [
           "fingertonose"
          ],
          [
           "thorascopic"
          ],
          [
           "numbnessparesthesia"
          ],
          [
           "vitamin supplements"
          ],
          [
           "cerebral artery infarction"
          ],
          [
           "ankle swelling"
          ],
          [
           "sp pcomm"
          ],
          [
           "a ruptured ovarian cyst"
          ],
          [
           "osteogenesis imperfecta"
          ],
          [
           "loculated right pleural effusion"
          ],
          [
           "rv hypertrophy"
          ],
          [
           "prandial"
          ],
          [
           "enalapril"
          ],
          [
           "mdd"
          ],
          [
           "small bowel injury"
          ],
          [
           "w vomiting"
          ],
          [
           "o2 nc"
          ],
          [
           "4lmin"
          ],
          [
           "robitussin"
          ],
          [
           "hypercoagulopathy"
          ],
          [
           "left cerebellar hematomas"
          ],
          [
           "right flank pain"
          ],
          [
           "sigmoid hemorrhage"
          ],
          [
           "rabeprazole"
          ],
          [
           "sphenoid sinus fracture"
          ],
          [
           "bicuspid aortic valveaortic stenosis"
          ],
          [
           "aortic insuffiency"
          ],
          [
           "p132129"
          ],
          [
           "right breast hematoma"
          ],
          [
           "cerebral anuerysm"
          ],
          [
           "supraventricular extrasystoles"
          ],
          [
           "decreased bowel sound"
          ],
          [
           "perihepatic ascites"
          ],
          [
           "abnormal liver function"
          ],
          [
           "barbituate"
          ],
          [
           "chronic lung disease"
          ],
          [
           "overdistended"
          ],
          [
           "fludrocortisone"
          ],
          [
           "hypertensive gastropathy"
          ],
          [
           "coingestions"
          ],
          [
           "occular migraines"
          ],
          [
           "fulminant hepatitis"
          ],
          [
           "cw encephalopathy"
          ],
          [
           "o2 40"
          ],
          [
           "pneumoencephalus"
          ],
          [
           "rheumatic fever"
          ],
          [
           "c6 radiculopathy"
          ],
          [
           "lichen planus"
          ],
          [
           "o2\n"
          ],
          [
           "k35"
          ],
          [
           "chestabdomenpelvis"
          ],
          [
           "denies focal weakness"
          ],
          [
           "palp pp"
          ],
          [
           "angulation"
          ],
          [
           "agonal"
          ],
          [
           "ptosis left eye"
          ],
          [
           "cniii palsy"
          ],
          [
           "hiv diagnosed 2150 on doctor last name 291 therapy\n   2 hep bc\n   3 ovarian cancer"
          ],
          [
           "congenital hepatic fibrosis hepatic htn"
          ],
          [
           "mitral valve repair"
          ],
          [
           "malformation"
          ],
          [
           "dysmenorrhea"
          ],
          [
           "gastric spillage"
          ],
          [
           "anaemia"
          ],
          [
           "fatiguability"
          ],
          [
           "liver cancer"
          ],
          [
           "cord damage"
          ],
          [
           "buttock pain"
          ],
          [
           "pelvic injuries"
          ],
          [
           "image002jpg\n                            21681117  0515 am\n                            21681117  1008 am\n                            21681117  1120 am\n                            21681117  0907"
          ],
          [
           "painchronic dt neuropathy"
          ],
          [
           "vasodilators"
          ],
          [
           "unresectable cholangiocarcinoma"
          ],
          [
           "pt hypoglycemic"
          ],
          [
           "avn"
          ],
          [
           "myeloproliferative disorder"
          ],
          [
           "zonisamide"
          ],
          [
           "fumarate"
          ],
          [
           "ro failure"
          ],
          [
           "pt denies"
          ],
          [
           "lungswheezes"
          ],
          [
           "delusional"
          ],
          [
           "bibasilar"
          ],
          [
           "l sided deficits"
          ],
          [
           "sinusmigraine"
          ],
          [
           "oxybutynin"
          ],
          [
           "cavit d"
          ],
          [
           "nonhodgkins lymphoma"
          ],
          [
           "cyproheptadine"
          ],
          [
           "pelvic thrombophlebitis"
          ],
          [
           "pfoasd"
          ],
          [
           "hand clumsiness"
          ],
          [
           "complaint of\n   "
          ],
          [
           "peritonitisenteritis"
          ],
          [
           "etohsubstance abuse"
          ],
          [
           "lip swelling"
          ],
          [
           "nodular hyperplasia"
          ],
          [
           "left shoulder dislocation"
          ],
          [
           "gb edema"
          ],
          [
           "though"
          ],
          [
           "frontal lobe hemorrhage"
          ],
          [
           "endstage renal disease"
          ],
          [
           "ruq"
          ],
          [
           "nonanion"
          ],
          [
           "urinary tract stone"
          ],
          [
           "anaphylactic reaction"
          ],
          [
           "cloride"
          ],
          [
           "mesenteric vein thrombosis sp small intestine"
          ],
          [
           "r radial nerve damage"
          ],
          [
           "ho\n   bleeding"
          ],
          [
           "appitite"
          ],
          [
           "1236pm"
          ],
          [
           "tangental"
          ],
          [
           "pleural or pericardial\n effusion"
          ],
          [
           "malignant glioma"
          ],
          [
           "bibasal pneumonia"
          ],
          [
           "extrahepatic bile duct"
          ],
          [
           "osteolytic"
          ],
          [
           "left basal ganglia mass"
          ],
          [
           "lowdensity ascites"
          ],
          [
           "mastoiditis"
          ],
          [
           "multiorgan system dysfunction"
          ],
          [
           "periureteric infected fluid collection"
          ],
          [
           "complains of r knee pain"
          ],
          [
           "sleeping and desats"
          ],
          [
           "cga"
          ],
          [
           "multiorgan system dysfunction sp"
          ],
          [
           "injury to\n  aorta"
          ],
          [
           "psychiatric illness"
          ],
          [
           "cephaly"
          ],
          [
           "fan"
          ],
          [
           "penicillin g"
          ],
          [
           "numbnessweakness"
          ],
          [
           "amiodarone gtts"
          ],
          [
           "chest wall abscess"
          ],
          [
           "cognitive impairment"
          ],
          [
           "mesenteric bleed"
          ],
          [
           "ectopic ventricular beats"
          ],
          [
           "retching"
          ],
          [
           "acneform rash"
          ],
          [
           "semipurposeful movements"
          ],
          [
           "1222 tr"
          ],
          [
           "herniation of gastric contents"
          ],
          [
           "chronic chest pain"
          ],
          [
           "jacksonian"
          ],
          [
           "cordisintroducer  21671214 0420 pm"
          ],
          [
           "nitro 04"
          ],
          [
           "metoclopramide milk"
          ],
          [
           "pulm hemorrhage"
          ],
          [
           "co pain"
          ],
          [
           "hydroxyzine"
          ],
          [
           "esophageal candidiasis"
          ],
          [
           "neosyneph"
          ],
          [
           "premarin 0625"
          ],
          [
           "s95"
          ],
          [
           "cirrhosis gastric volvulus"
          ],
          [
           "hitial hernia"
          ],
          [
           "effusions after aggressive\n "
          ],
          [
           "complaint"
          ],
          [
           "vf arrest"
          ],
          [
           "acetaminophen toxicity"
          ],
          [
           "multiloculated"
          ],
          [
           "graves ds and hep c"
          ],
          [
           "tubeline"
          ],
          [
           "bibasal consolidations"
          ],
          [
           "effusions after aggressive ivf"
          ],
          [
           "sp small bowel"
          ],
          [
           "hypokalemic hypochloremic metabolic alkalosis"
          ],
          [
           "subcortical dysfunction"
          ],
          [
           "obstruction or inflammation"
          ],
          [
           "septic arthritis"
          ],
          [
           "hypoglycemic seizure"
          ],
          [
           "liver\n   disease\n   6"
          ],
          [
           "chloraseptic"
          ],
          [
           "fibroadipose"
          ],
          [
           "vomiting weakness"
          ],
          [
           "sp jejunal perforation"
          ],
          [
           "biliary dilation"
          ],
          [
           "intraabdominal\n abscess"
          ],
          [
           "chronic vaginal itching"
          ],
          [
           "torsion"
          ],
          [
           "fibrinogenelev"
          ],
          [
           "lanolin"
          ],
          [
           "aloe first name4 namepattern1"
          ],
          [
           "of magnesia potassium chloride"
          ],
          [
           "pleural\n  effusions"
          ],
          [
           "obese abdomen"
          ],
          [
           "image002jpg\n                            21671214  0438"
          ],
          [
           "dry\nmouth"
          ],
          [
           "primarily obstructive"
          ],
          [
           "iron deficiency anemia"
          ],
          [
           "mpgn sp renal"
          ],
          [
           "hypertensive sbp 140"
          ],
          [
           "sp avm"
          ],
          [
           "caffeine"
          ],
          [
           "gi illness"
          ],
          [
           "opportunistic infection"
          ],
          [
           "image002jpg\n                             213534  0504 am"
          ],
          [
           "xalatan"
          ],
          [
           "tcell lymphoma"
          ],
          [
           "sirssepsis"
          ],
          [
           "left buttock hematoma"
          ],
          [
           "mucinous cystadenocarcinoma"
          ],
          [
           "cystic neoplasm"
          ],
          [
           "unstable aneurysm"
          ],
          [
           "modafinil"
          ],
          [
           "chem"
          ],
          [
           "ischemic disease"
          ],
          [
           "actonel"
          ],
          [
           "asthmabronchitis"
          ],
          [
           "porphyrins"
          ],
          [
           "abx w"
          ],
          [
           "intrapelvic mass"
          ],
          [
           "aciphex"
          ],
          [
           "fluticasonesalmeterol 25050"
          ],
          [
           "bullous emphysema"
          ],
          [
           "regurgitationmitral"
          ],
          [
           "cerebellar ich"
          ],
          [
           "intraabdominal lesions"
          ],
          [
           "acuteonchronic pancreatitis"
          ],
          [
           "ro obstruction"
          ],
          [
           "hoursrandom"
          ],
          [
           "vss nad"
          ],
          [
           "intraoperative injury"
          ],
          [
           "tylenol toxicity"
          ],
          [
           "r frontal sah"
          ],
          [
           "hepatopathy"
          ],
          [
           "cerebellar strokes"
          ],
          [
           "disposition"
          ],
          [
           "zelnorm"
          ],
          [
           "diabetes mellitus type 2\n   pulmonary arterial hypertension"
          ],
          [
           "percocet 5325"
          ],
          [
           "urean164"
          ],
          [
           "am"
          ],
          [
           "advair 25050"
          ],
          [
           "tenosynovitis"
          ],
          [
           "imuran"
          ],
          [
           "sp renal\n   transplant 713 and recurrent mpgn"
          ],
          [
           "admissionbaseline"
          ],
          [
           "muscular movements"
          ],
          [
           "vessel occlusion"
          ],
          [
           "hiatus hernia"
          ],
          [
           "neurogenic cardiac failure"
          ],
          [
           "tibial dvt"
          ],
          [
           "periureteric infected fluid"
          ],
          [
           "pelvis abscess"
          ],
          [
           "frontal hematoma"
          ],
          [
           "myocardial injury"
          ],
          [
           "ventricular\n   septal defect"
          ],
          [
           "subarachnoid\n  hemorrhage"
          ],
          [
           "upper lobe lucency"
          ],
          [
           "suppurative"
          ],
          [
           "iud"
          ],
          [
           "ishemic bowel"
          ],
          [
           "bibasal\n pneumonia"
          ],
          [
           "biventricular decompensation"
          ],
          [
           "co of"
          ],
          [
           "loose green"
          ],
          [
           "right basilar opacification"
          ],
          [
           "ischemic colitis"
          ],
          [
           "stregnth"
          ],
          [
           "right subfalcine herniation"
          ],
          [
           "pulmonary artery\n   systolic pressure"
          ],
          [
           "r external iliac\n  "
          ],
          [
           "bicycle injury"
          ],
          [
           "ovarian and renal cysts"
          ],
          [
           "10units"
          ],
          [
           "disc herniation"
          ],
          [
           "axis"
          ],
          [
           "euthroid syndrome"
          ],
          [
           "anaerobic infection"
          ],
          [
           "milrinone gtts"
          ],
          [
           "pulmonary\n   infection"
          ],
          [
           "aortic valve\n   stenosis"
          ],
          [
           "mildmoderate pulmonary artery systolic"
          ],
          [
           " t bili16"
          ],
          [
           "image002jpg\n                            21561220  0600 pm\n                            21561220  0700 pm\n                            21561220  0914 pm"
          ],
          [
           "sp stroke"
          ],
          [
           "sp redo"
          ],
          [
           "vallium"
          ],
          [
           "r flank pain"
          ],
          [
           "kidney stone pain"
          ],
          [
           "grandmother  dm2"
          ],
          [
           "sternal drainage"
          ],
          [
           "scaly eczematous rash"
          ],
          [
           "parainfluenza 123"
          ],
          [
           "ancef"
          ],
          [
           "respiratory syncytial virus"
          ],
          [
           "altsgpt30"
          ],
          [
           "synephrine"
          ],
          [
           "nsaids"
          ],
          [
           "medrelated disease"
          ],
          [
           "hus"
          ],
          [
           "upper extremity weakness"
          ],
          [
           "pneumothoraxpneumomediastinum"
          ],
          [
           "man syndrome"
          ],
          [
           "dilated cm"
          ],
          [
           "hepatic subsegmental branch arterial"
          ],
          [
           "hemmorhage"
          ],
          [
           "acute dehydration"
          ],
          [
           "dextroscoliosis"
          ],
          [
           "aggressive pulmonary\n   "
          ],
          [
           "motion abnormality"
          ],
          [
           "nares"
          ],
          [
           "takotsubo cardiomyopathy"
          ],
          [
           "myofascial pain"
          ],
          [
           "cancer heart disease"
          ],
          [
           "respiratory decompensation"
          ],
          [
           "o2 or"
          ],
          [
           "diastoic dysfunction"
          ],
          [
           "o2 company"
          ],
          [
           "highdose prednisone"
          ],
          [
           "irritation of trachea from lmatube along with frequent secretions"
          ],
          [
           "chlorhexidine mouthwash"
          ],
          [
           "gpc sepsis"
          ],
          [
           "chronic obstructive\npulmonary disease"
          ],
          [
           "milk of magnesia 14"
          ],
          [
           "72f sp asd"
          ],
          [
           "image002jpg\n                            21761119  1108 am\n                            21761119  1204 pm\n                            21761119  0257 pm\n                            21761119  0427"
          ],
          [
           "hyperdense material hemorrhage"
          ],
          [
           "hernation"
          ],
          [
           "depressed skull fracture"
          ],
          [
           "1gram"
          ],
          [
           "pruritic"
          ],
          [
           "dm stage iiib"
          ],
          [
           "glucose 296"
          ],
          [
           "bronchial breath"
          ],
          [
           "sinusitus"
          ],
          [
           "femoral vein dvt"
          ],
          [
           "malignant melenoma"
          ],
          [
           "choreatic"
          ],
          [
           "torodol"
          ],
          [
           "toxicmetabolic encephalopathy"
          ],
          [
           "splenic hematoma"
          ],
          [
           "psuedocysts"
          ],
          [
           "vancomycin meropenum"
          ],
          [
           "cyst gastric oulet obstruction"
          ],
          [
           "throm"
          ],
          [
           "alcoholismalcohol"
          ],
          [
           "l abdomen  shoulder"
          ],
          [
           "no nv"
          ],
          [
           "nonbilious"
          ],
          [
           "tol cpt"
          ],
          [
           "pt sxnd"
          ],
          [
           "anterior inferior cerebellar"
          ],
          [
           "finger stick blood glucose"
          ],
          [
           "left hand clumsiness"
          ],
          [
           "crowding of bronchovascular markings"
          ],
          [
           "goosebumps"
          ],
          [
           "creatinine1"
          ],
          [
           "ranitidine simvastatin"
          ],
          [
           "image002jpg\n                            21681124  0500 am\n                            21681124  0600 am\n                            21681124  0642 am\n                            21681124  0900 am\n                            21681124  0300 pm\n                            21681124  0600 pm\n                            21681125  0216 am\n                            21681125  0954"
          ],
          [
           "ardspancreaitis"
          ],
          [
           "hwoever"
          ],
          [
           "speech remains slurred"
          ],
          [
           "creatitine"
          ],
          [
           "nuero"
          ],
          [
           "polysubstance\n abuse"
          ],
          [
           "gadobutrol"
          ],
          [
           "ho kidney stones"
          ],
          [
           "clonazepam overdose"
          ],
          [
           "beta blocker coingestion"
          ],
          [
           "benzo overdose"
          ],
          [
           "ft3"
          ],
          [
           "left insular oligoastrocytoma"
          ],
          [
           "neurological\ndeficits"
          ],
          [
           "warfarin sodium"
          ],
          [
           "alertness"
          ],
          [
           "q48"
          ],
          [
           "volume overload and vascular congestion"
          ],
          [
           "cw pen g"
          ],
          [
           "lv lead dysfunction sp lv lead placement via small left\nanterior thoracotomy"
          ],
          [
           "cirrhosis nash"
          ],
          [
           "hypoxemic respiratory failure"
          ],
          [
           "hd line bedside"
          ],
          [
           "squamous cell ca sp multiple"
          ],
          [
           "enlargement of lesions"
          ],
          [
           "esophageal\ndismotility"
          ],
          [
           "candiduria"
          ],
          [
           "squamous cell cancer"
          ],
          [
           "hoarse voice"
          ],
          [
           "morpine"
          ],
          [
           "sequlae of small\n"
          ],
          [
           "displaced rib fracture"
          ],
          [
           "acuteonchronic maxillary sinus disease"
          ],
          [
           "left sided weakness\n\n"
          ],
          [
           "glucose finger stick\n   119\n   213534 0900 am\n   bun\n   14 mgdl\n   213534 0504 am"
          ],
          [
           "migraines headaches"
          ],
          [
           "embolic\ndz mra"
          ],
          [
           "na140 k37"
          ],
          [
           "bun7"
          ],
          [
           "embolic dz"
          ],
          [
           "leftsided paresis"
          ],
          [
           "menigoencephalitis"
          ],
          [
           "lungs  ctab"
          ],
          [
           "speech arrest"
          ],
          [
           "furture"
          ],
          [
           "ventricular diastolic compression"
          ],
          [
           "venous congestion"
          ],
          [
           "circumfirential pericardial effusion"
          ],
          [
           "right maxillary sinus thickening"
          ],
          [
           "viii liver lesion"
          ],
          [
           "wheezeshead ct done"
          ],
          [
           "trival"
          ],
          [
           "ureteric malignant obstruction"
          ],
          [
           "menieres disease"
          ],
          [
           "magrainesvisual disturbance"
          ],
          [
           "right plantar fascitis"
          ],
          [
           "proventil hfa"
          ],
          [
           "enlargement with pericardial patch"
          ],
          [
           "via ng"
          ],
          [
           "peg insertion  at 2193123 0300"
          ],
          [
           "breast\n   cancer mets"
          ],
          [
           "aldactone lasix"
          ],
          [
           "hepatic dysfunction"
          ],
          [
           "copious amts"
          ],
          [
           "labetalol 100 hospital1 "
          ],
          [
           "neurological defecits"
          ],
          [
           "paincontrol"
          ],
          [
           "flipped"
          ],
          [
           "o2 sat99"
          ],
          [
           "kidneys have small exophytic"
          ],
          [
           "ureteric obstruction"
          ],
          [
           "100cchr"
          ],
          [
           "doxycyline"
          ],
          [
           "percocet 5325 12 tablets po"
          ],
          [
           "1ngkgmin q"
          ],
          [
           "pph"
          ],
          [
           "betablockade"
          ],
          [
           "left lung disease"
          ],
          [
           "vpaced"
          ],
          [
           "chronic insufficiency"
          ],
          [
           "pud\n sp"
          ],
          [
           "synovitis"
          ],
          [
           "glucose92 urean124"
          ],
          [
           "maalox"
          ],
          [
           "muscle spasms"
          ],
          [
           "tolterodine"
          ],
          [
           "lower extremity swelling status post"
          ],
          [
           "cefazolin  2193123 0800"
          ],
          [
           "image002jpg\n                            2193122  0320 am\n                            2193122  0343 am\n                            2193123  0216 am\n                            2193123  0241 am\n                            2193123  0714 pm"
          ],
          [
           "intrahepatic biliary radical dilatation"
          ],
          [
           "calculi or hydronephrosis"
          ],
          [
           "3mi"
          ],
          [
           "adenitis"
          ],
          [
           "gait difficulties"
          ],
          [
           "squamous cell carcinoma of the\ntongua and is sp resection"
          ],
          [
           "hamartoma"
          ],
          [
           "redose nimodipine"
          ],
          [
           "cysts\n "
          ],
          [
           "t3 vertebral\n body is redemonstrated"
          ],
          [
           "splenic hypodensities"
          ],
          [
           "constipation or abdominal pain"
          ],
          [
           "stage ii squamous cell carcinoma of the tongue sp resection"
          ],
          [
           "rdcs"
          ],
          [
           "basal cell carcinom of skin\n"
          ],
          [
           "hd tomorrow  dw renal\n    cont sevelamer"
          ],
          [
           "lower lobe collapseconsolidation"
          ],
          [
           "deficits to pinprick on left arm in hand and along the\nmedial aspect of forearm absent proprioception"
          ],
          [
           "nmo"
          ],
          [
           "acute demyelinating disease"
          ],
          [
           "infarcts demyelinating\ndisease"
          ],
          [
           "squamous\ncell carcinoma of the tongue"
          ],
          [
           "ortho spine"
          ],
          [
           "cord impingment"
          ],
          [
           "infectiousinflammatory myelitis"
          ],
          [
           "lower lobe 3104"
          ],
          [
           "hemisensory"
          ],
          [
           "groin bleed"
          ],
          [
           "aggressive pulmonary toileting"
          ],
          [
           "hirschsprung disease"
          ],
          [
           "dangle"
          ],
          [
           "neuromuscular\ndisorders"
          ],
          [
           "bibasilar opacifications"
          ],
          [
           "o265 intubatintubated ventcontrolled"
          ],
          [
           "ph731"
          ],
          [
           "facual weakness"
          ],
          [
           "cacl amio 150"
          ],
          [
           "movement disorders"
          ],
          [
           "learning disorders"
          ],
          [
           "groaning"
          ],
          [
           "panick disorder"
          ],
          [
           "developmental disability"
          ],
          [
           "substance"
          ],
          [
           "heroine"
          ],
          [
           "occipitalfrontal headache"
          ],
          [
           "thin sliver"
          ],
          [
           "deceased\n\n"
          ],
          [
           "o2  4l"
          ],
          [
           "glucose finger stick\n   104\n   2162930 1000 am\n   bun\n   18 mgdl\n   2162930 0143 am"
          ],
          [
           "scoliosis of the thoracolumbar"
          ],
          [
           "o2 sat90"
          ],
          [
           "chronic sacroiliitis"
          ],
          [
           "thorasic"
          ],
          [
           "o2 3l"
          ],
          [
           "obstructionileus"
          ],
          [
           "gasdistended colon and small bowel"
          ],
          [
           "thickened bowel\nwall most\nlikely represents peristalsis"
          ],
          [
           "vent chnages"
          ],
          [
           "gap25"
          ],
          [
           "mchc324"
          ],
          [
           "phos81 tot"
          ],
          [
           "tourettes and\nocd\n\nphysical exam\npatient expired\n\n"
          ],
          [
           "dens fracture"
          ],
          [
           "neomycin"
          ],
          [
           "aortic stenosis sp aortic valve replacement"
          ],
          [
           "enalapril maleate"
          ],
          [
           "biliary ductal dilatation"
          ],
          [
           "alt33 ast30"
          ],
          [
           "subcortical infarcts"
          ],
          [
           "encephalomalacic"
          ],
          [
           "intermittent aphasia"
          ],
          [
           "hypoplastic right a1"
          ],
          [
           "na135 k40 cl98"
          ],
          [
           "totbili69"
          ],
          [
           "totbili04"
          ],
          [
           "left homonymous hemianopia"
          ],
          [
           "ttgiga1"
          ],
          [
           "embolic\n "
          ],
          [
           "metabolic alkalemia"
          ],
          [
           "bibasilar\n pleural effusions"
          ],
          [
           "crohns flare \n   last dose of antibiotics\n   vancomycin  2155410 1200 am\n   "
          ],
          [
           "eo hematoma"
          ],
          [
           "embolic infarcts"
          ],
          [
           "tachycradia ddx dehydration"
          ],
          [
           "vaginal cream\n\n"
          ],
          [
           "hiv 219727\nvl 931 cd4 318"
          ],
          [
           "atrial fibrillationatrial flutter"
          ],
          [
           "estradiol"
          ],
          [
           "lll cracklesdecreased breath"
          ],
          [
           "blurring of the doctor last name 107white matter\n junction and slight global effacement of the ventricles"
          ],
          [
           "calcitrate"
          ],
          [
           "hypoxicischemic encephalopathy"
          ],
          [
           "paravalvular leaks"
          ],
          [
           "retrocardiac opacification"
          ],
          [
           "herpes zoster"
          ],
          [
           "nbnb"
          ],
          [
           "b carotids\n\n"
          ],
          [
           "ruptured aortic aneurysm"
          ],
          [
           "pleural\n effusions are present but overall there"
          ],
          [
           "complaint of high fever"
          ],
          [
           "showd"
          ],
          [
           "crohns disease presenting for\n evaluation of crohn"
          ],
          [
           "sacroileitis"
          ],
          [
           "human immunodeficiency virus"
          ],
          [
           "03mcg"
          ],
          [
           "cvp6"
          ],
          [
           "nonhco3"
          ],
          [
           "dilated small bowel"
          ],
          [
           "chronic pulmonary embolus"
          ],
          [
           "upper lobe groundglass"
          ],
          [
           "splenic pain"
          ],
          [
           "collagen vascular disease"
          ],
          [
           "thromboembolic disease"
          ],
          [
           "trembling"
          ],
          [
           "dilantinl"
          ],
          [
           "chronic dysfunction"
          ],
          [
           "thallium"
          ],
          [
           "right ventricular hypertrophy"
          ],
          [
           "iron gluconate"
          ],
          [
           "disorder stigmata"
          ],
          [
           "upper extremity symptoms"
          ],
          [
           "bite jaw claudication"
          ],
          [
           "atrial tumor"
          ],
          [
           "pts cr"
          ],
          [
           "tachypnia"
          ],
          [
           "pss fri"
          ],
          [
           "cerebellar hemorrhage"
          ],
          [
           "flolan overdose"
          ],
          [
           "imipenem"
          ],
          [
           "right hip cellulitis"
          ],
          [
           "aeruginosa"
          ],
          [
           "decreased cardiac output secondary"
          ],
          [
           "stenotrophomonas maltophilia"
          ],
          [
           "left ventricular compression"
          ],
          [
           "nonsustained ventricular tachycardia"
          ],
          [
           "human immunodeficiency virus test was negative"
          ],
          [
           "sodium 140"
          ],
          [
           "ambulated aroung"
          ],
          [
           "worsening renal fuction"
          ],
          [
           "gi pain"
          ],
          [
           "impaired filllingtamponade"
          ],
          [
           "circumferential pericardial effusion"
          ],
          [
           "aortic insufficiency sp redo sternotomy aortic valve"
          ],
          [
           "left uncal herniation"
          ],
          [
           "image002jpg\n   ekg"
          ],
          [
           "weight loss w"
          ],
          [
           "nasonex"
          ],
          [
           "normal active bowel sounds"
          ],
          [
           "satiety"
          ],
          [
           "somatizationsecondary gain"
          ],
          [
           "anorexic"
          ],
          [
           "rhythm"
          ],
          [
           "oxycontin abuse"
          ],
          [
           "levo milrinone"
          ],
          [
           "pod0  sp cerebral"
          ],
          [
           "onx"
          ],
          [
           "dilated small bowel loops and portal vein"
          ],
          [
           "subarachnoid hemorrhage right central sulcus"
          ],
          [
           "o2 sat99ra"
          ],
          [
           "weight158 lbs"
          ],
          [
           "patent foramen ovale versus secundum asd"
          ],
          [
           "left maxillary airfluid"
          ],
          [
           "hyperdensity"
          ],
          [
           "wean vent slowly"
          ],
          [
           "bone aches"
          ],
          [
           "exertional chest tightness"
          ],
          [
           "daytime sleepiness"
          ],
          [
           "flids"
          ],
          [
           "cv vpaced via ddd"
          ],
          [
           "gastroesophageal reflux"
          ],
          [
           "graves status post radiation"
          ],
          [
           " rectal abscess"
          ],
          [
           "gastrointestinal disease"
          ],
          [
           "thrill"
          ],
          [
           "spells"
          ],
          [
           "mefoxin"
          ],
          [
           "periportal edema"
          ],
          [
           "lower lobe hazy opacity"
          ],
          [
           "reticular bibasilar opacities"
          ],
          [
           "gastric volvulus"
          ],
          [
           "addisons disease"
          ],
          [
           "addison disease"
          ],
          [
           "stressdose steroids"
          ],
          [
           "parafon"
          ],
          [
           "septra"
          ],
          [
           "stadol"
          ],
          [
           "compartment syndrome sp debridementfasciotomy x5 and\n  low grade temps"
          ],
          [
           "resolving renal failure"
          ],
          [
           "softy"
          ],
          [
           "addison"
          ],
          [
           "angio wnl"
          ],
          [
           "talwin"
          ],
          [
           "abnormal flexion activity"
          ],
          [
           "copmazine"
          ],
          [
           "calcium citratevit d3 2 tabs"
          ],
          [
           "perianal"
          ],
          [
           "irregular bowel bovements"
          ],
          [
           "left infrahilar atelectasis"
          ],
          [
           "enlargement of the effusions"
          ],
          [
           "left ventricular dysnchrony"
          ],
          [
           "head draining frank red blood"
          ],
          [
           "ventricular dyssynchrony"
          ],
          [
           "right"
          ],
          [
           "fentanyl 50mcg"
          ],
          [
           "head nodding"
          ],
          [
           "2 left mca aneurysms"
          ],
          [
           "higherdose"
          ],
          [
           "dilaudidzofran"
          ],
          [
           "left basilar opacity"
          ],
          [
           "crohns\n   exacerbations"
          ],
          [
           "pt217"
          ],
          [
           "code stroke"
          ],
          [
           "injury of r hand"
          ],
          [
           "sp amputation"
          ],
          [
           "co mouth pain"
          ],
          [
           "gangrene"
          ],
          [
           "crps"
          ],
          [
           "conjugated estrogens"
          ],
          [
           "left\nhemiparesis with left drift"
          ],
          [
           "volume overload or potentially\n developing"
          ],
          [
           "abdgas pains"
          ],
          [
           "hiccoughs"
          ],
          [
           "ho vertigo"
          ],
          [
           "vomiting 1l green bile"
          ],
          [
           "top normalborderline dilated"
          ],
          [
           "lsided weakness"
          ],
          [
           "hemianopia"
          ],
          [
           "leucopoenia"
          ],
          [
           "datetime2190514 830\nprovider first name8"
          ],
          [
           "depakene"
          ],
          [
           "50meq"
          ],
          [
           "gluocse 1 amp"
          ],
          [
           "dystrophy of the r arm sp forearm amputation"
          ],
          [
           "datetime2190510 100"
          ],
          [
           "levothyroxine 25mcg"
          ],
          [
           "green"
          ],
          [
           "anxietypanic"
          ],
          [
           "mm dry\n   neck supple no lad jvp flat"
          ],
          [
           "vaginal spotting"
          ],
          [
           "embolic etiology"
          ],
          [
           "sequelae of portal congestion"
          ],
          [
           "exvacuo"
          ],
          [
           "spinous tenderness"
          ],
          [
           "portal venous thrombosis"
          ],
          [
           "adrenal insuffieciency"
          ],
          [
           "chronic postthoracotomy pain"
          ],
          [
           "clostridium"
          ],
          [
           "eo cerebral"
          ],
          [
           "propylene glycol toxicity"
          ],
          [
           "colonic ileus"
          ],
          [
           "image002jpg\n                            2174923  0504 am"
          ],
          [
           "ips"
          ],
          [
           " gi bleed"
          ],
          [
           "dzda wed"
          ],
          [
           "occult blood loss"
          ],
          [
           "o2 sats maint sats"
          ],
          [
           "malignant effusion"
          ],
          [
           "multiloculated right pleural effusion"
          ],
          [
           "emphysematous bullae"
          ],
          [
           "clindamycin hcl"
          ],
          [
           "neurontin tablets"
          ],
          [
           "ischemic injury"
          ],
          [
           "lle edema"
          ],
          [
           "rupture of the achilles"
          ],
          [
           "postherpetic neuralgia"
          ],
          [
           "scarring"
          ],
          [
           "co neck pain"
          ],
          [
           "toxic metabolic encephalopathy"
          ],
          [
           "airway inflammation"
          ],
          [
           "dystonic type reaction"
          ],
          [
           "left eye"
          ],
          [
           "bibasilar\n consolidations"
          ],
          [
           "painful to touch\n reason for this examination"
          ],
          [
           "disp36"
          ],
          [
           "hiv\nchronic hepatitis c"
          ],
          [
           "inattention and perseveration paraphasic errors"
          ],
          [
           "nsr no"
          ],
          [
           "op 5"
          ],
          [
           "niv to"
          ],
          [
           "intralobular septal thickening"
          ],
          [
           "veillonella female first name un 564 albicans"
          ],
          [
           "enlarging pericardial effusion"
          ],
          [
           "perc"
          ],
          [
           "bactremia"
          ],
          [
           "no cp"
          ],
          [
           "choroidal aneursym"
          ],
          [
           "on2156114 1223 "
          ],
          [
           "hippocampal sclerosis"
          ],
          [
           "siezures"
          ],
          [
           "left eyelid ptosis"
          ],
          [
           "skin infection"
          ],
          [
           "710 back\n   pain"
          ],
          [
           "gall bladder wall edema"
          ],
          [
           "complaints of 720 back"
          ],
          [
           "dilaudid 24 mg po q3h"
          ],
          [
           "vomiting or constipation"
          ],
          [
           "laxatives"
          ],
          [
           "l23"
          ],
          [
           "vomiting and abdomimal"
          ],
          [
           "upper back pain"
          ],
          [
           "but she"
          ],
          [
           "purulent pericarditis"
          ],
          [
           "vanco q12"
          ],
          [
           "photoand phonophobia"
          ],
          [
           "ngkgmin"
          ],
          [
           "humate"
          ],
          [
           "rfacial droop"
          ],
          [
           "respiratory\nfailure"
          ],
          [
           "physical abuse"
          ],
          [
           "inguinal adenopathy"
          ],
          [
           "splinter hemorrhages"
          ],
          [
           "0946pm"
          ],
          [
           "neuts817"
          ],
          [
           "occlusive"
          ],
          [
           "intercosts to breath"
          ],
          [
           "nonctrast"
          ],
          [
           "fsbg wnl"
          ],
          [
           "duodenal ulcer sp"
          ],
          [
           "splenectomy "
          ],
          [
           "basilar artery  very severe on high doses"
          ],
          [
           "stoolsmall"
          ],
          [
           "learning disabilities"
          ],
          [
           "duodenal ulcer sp gastric bypass"
          ],
          [
           "mononucleosis"
          ],
          [
           "congenital adrenal hyperplasia"
          ],
          [
           "hypogonadism"
          ],
          [
           "intracranial arterial stenosis"
          ],
          [
           "wilsons disease"
          ],
          [
           "dicloxacillin"
          ],
          [
           "myocardial involvment"
          ],
          [
           "frontal ventricular\n catheter with tip likely terminating in the location of foramen of last name un  \n superior third ventricle"
          ],
          [
           "mgkgday"
          ],
          [
           "pcom origin aneurism"
          ],
          [
           "ckckmb"
          ],
          [
           "intrancranial hemorrhage"
          ],
          [
           "wilsons disease chronic migraine"
          ],
          [
           "o2 sat96ra"
          ],
          [
           "duodenal bulb stricture sp\n   multiple dilitations"
          ],
          [
           "hemeonc recs"
          ],
          [
           "benign papillary stenosis"
          ],
          [
           "6lasix"
          ],
          [
           "coronary aretery disease sp lad stent andvfib arrest"
          ],
          [
           "upper lobar pulmonary artery"
          ],
          [
           "ventricular\nsystolic dysfunction"
          ],
          [
           "postthoracotomy pleural"
          ],
          [
           "left ventricular thrombus"
          ],
          [
           "hypertension\n   asthma\n   anemia  profound"
          ],
          [
           "lisinopril  40 mg tablet  qd"
          ],
          [
           "thorazine"
          ],
          [
           "lantus  100 unitml cartridge  72"
          ],
          [
           "uri symptoms 2"
          ],
          [
           "rv dysfuction"
          ],
          [
           "prerenal acute renal failure"
          ],
          [
           "interventricular hemorrhage"
          ],
          [
           "pulmonary abnormality"
          ],
          [
           "pelvic adenopathy"
          ],
          [
           "medicationtoxic"
          ],
          [
           "sma"
          ],
          [
           "regurgitation"
          ],
          [
           "atherosclerotic aortic disease"
          ],
          [
           "partialintermittent obstruction"
          ],
          [
           "highgrade mechanical obstruction"
          ],
          [
           "vit d"
          ],
          [
           "splenic artery calcifications"
          ],
          [
           "fatty\n "
          ],
          [
           "mildmoderate pulmonary edema"
          ],
          [
           "loose nonprod cough"
          ],
          [
           "fingernose"
          ],
          [
           "ipatroprium"
          ],
          [
           "artifactssmall outpouchings"
          ],
          [
           "attentional deficits"
          ],
          [
           "effusions r"
          ],
          [
           "5mi"
          ],
          [
           "lasix 10"
          ],
          [
           "milk of magnesia ondansetron"
          ],
          [
           "sulfate metoclopramide"
          ],
          [
           "ureteral stricture sp right nephrectomy"
          ],
          [
           "sodium magnesium"
          ],
          [
           "abdiminal pain"
          ],
          [
           "probable qt"
          ],
          [
           "cal"
          ],
          [
           "sp l cerebellar"
          ],
          [
           "ad"
          ],
          [
           "chronic vertigo"
          ],
          [
           "convulsing"
          ],
          [
           "horizontal nystagmus"
          ],
          [
           "lateral malleolus fracture"
          ],
          [
           "thrombocytopenia thrombotic purpura"
          ],
          [
           "mg30 12 tabs"
          ],
          [
           "intrahepatic or extrahepatic biliary\nductal\ndilatation"
          ],
          [
           "chestepigastric abd pain"
          ],
          [
           "robaxin"
          ],
          [
           "gastric abscess"
          ],
          [
           "photophobiaphonophobia"
          ],
          [
           "ro abdominal bleed"
          ],
          [
           "venous sinus occlusion"
          ],
          [
           "transient leftsided weakness"
          ],
          [
           "secondary gain"
          ],
          [
           "bedridden"
          ],
          [
           "vitamin\nd renin"
          ],
          [
           "headspine"
          ],
          [
           "corgard"
          ],
          [
           "l arm paresis"
          ],
          [
           "hospital1"
          ],
          [
           "l leg"
          ],
          [
           "fasciculation"
          ],
          [
           "hyperesthesias"
          ],
          [
           "idiopathic history"
          ],
          [
           "discitisosteomyelitis"
          ],
          [
           "color vision"
          ],
          [
           "org"
          ],
          [
           "right lung atelectasis"
          ],
          [
           "hypoxic resp failure"
          ],
          [
           "renal cell cardinoma to lungs presented with pericardial effusion"
          ],
          [
           "respiratory\n   alkalosis"
          ],
          [
           "ocular bruits"
          ],
          [
           "normal fingertonose"
          ],
          [
           "ceftazidine"
          ],
          [
           "demyelinating or metastatic disease"
          ],
          [
           "postdvt"
          ],
          [
           "vaigue adventitious sounds"
          ],
          [
           "hamatemesisupper"
          ],
          [
           "ugi gastrograffin"
          ],
          [
           "neurological deterioration"
          ],
          [
           "vsensation"
          ],
          [
           "neurological problems"
          ],
          [
           "tensiontype headache"
          ],
          [
           "right hilar lymphadenopathy"
          ],
          [
           "hematologic malignancies"
          ],
          [
           "apperent distress"
          ],
          [
           "tot bili24"
          ],
          [
           "myositis"
          ],
          [
           "posttussive vomiting"
          ],
          [
           "r arm weakness"
          ],
          [
           "variant hypoplastic right a1 segment"
          ],
          [
           "affecting supraspinatus"
          ],
          [
           "mch303 mchc362 rdw174"
          ],
          [
           "hct204"
          ],
          [
           "abnormality of blood\n volume"
          ],
          [
           "complaints of right\n  shoulder pain"
          ],
          [
           "hepatic\ndisease such"
          ],
          [
           "thrombotic thrombocytopenic purpura"
          ],
          [
           "numbnesstingling or muscle weakness"
          ],
          [
           "polymyositis"
          ],
          [
           "lumbar disc disease"
          ],
          [
           "imitrex  iodine"
          ],
          [
           "lower extremities\n\n"
          ],
          [
           "lower extremity numbnesstingling"
          ],
          [
           "posturing l ue"
          ],
          [
           "abnormal flexion"
          ],
          [
           "triple flexion b"
          ],
          [
           "perineum"
          ],
          [
           "cordisintroducer  2144131 0105 pm"
          ],
          [
           "viral myositis"
          ],
          [
           "tingling visual\nor hearing changes"
          ],
          [
           "temporal lobe hematoma"
          ],
          [
           "multi system organ failure"
          ],
          [
           "teds"
          ],
          [
           "pyomyositis"
          ],
          [
           "denies\nvisual changes"
          ],
          [
           "globuln28 calcium95 phos30"
          ],
          [
           "seizurerelated"
          ],
          [
           "intrapelvic bowel"
          ],
          [
           "totprot74 albumin46"
          ],
          [
           "upj obstruction"
          ],
          [
           "tropn t"
          ],
          [
           "left upj obstruction"
          ],
          [
           "memory deficits"
          ],
          [
           "1002pm"
          ],
          [
           "n24 creat12 sodium141"
          ],
          [
           "membranoproliferative glomerulonephritis"
          ],
          [
           "subfalcine\n herniation"
          ],
          [
           "assisttol"
          ],
          [
           "leg weakness"
          ],
          [
           "congested cough"
          ],
          [
           "lower extremity plegia"
          ],
          [
           "thoracic subdural thrombus"
          ],
          [
           "hate"
          ],
          [
           "cerebellar and pontine cvas"
          ],
          [
           "gastrointestinal sp exlap"
          ],
          [
           "hyperchloremia w"
          ],
          [
           "volume\n loss"
          ],
          [
           "pulmonary edemahemorrhage"
          ],
          [
           "violent"
          ],
          [
           "dystonic neck"
          ],
          [
           "d52"
          ],
          [
           "speek"
          ],
          [
           "b12 deficiency"
          ],
          [
           "chnages"
          ],
          [
           "glucose finger stick\n   59\n   21321030 1100 pm\n   bun\n   15 mgdl\n   21321031 0458 am"
          ],
          [
           "vit k 10mg"
          ],
          [
           "ct showed small bowel hernia"
          ],
          [
           "nabicarbonate"
          ],
          [
           "intraparenchmyal bleed"
          ],
          [
           "sternal jp"
          ],
          [
           "titrate insulin gtt"
          ],
          [
           "o2 needed"
          ],
          [
           "ho stroke"
          ],
          [
           "pedal arterial vasospasm"
          ],
          [
           "cardioembolic stroke"
          ],
          [
           "nasal fullness"
          ],
          [
           "n762"
          ],
          [
           "m43 e07"
          ],
          [
           "triscaphe"
          ],
          [
           "abductor pollicis longus tendons"
          ],
          [
           "glucose finger stick\n   142\n   21931129 1000 am\n   bun\n   19 mgdl\n   21931129 0415 am"
          ],
          [
           "impaired\nventricular filling"
          ],
          [
           "active bowel sounds"
          ],
          [
           "acut"
          ],
          [
           "forceful"
          ],
          [
           "comfortably"
          ],
          [
           "710 abdominal incisional pain"
          ],
          [
           "sellarsuprasellar lesion"
          ],
          [
           "asthma sarcoid and chf"
          ],
          [
           "headache dx"
          ],
          [
           "white matter hypoattenuation"
          ],
          [
           "851 am"
          ],
          [
           "radiocarpal joint effusion"
          ],
          [
           "lumbar djd"
          ],
          [
           "tendinosis"
          ],
          [
           "salpingo"
          ],
          [
           "abnormal cord t2signal"
          ],
          [
           "occult bleeding"
          ],
          [
           "d    b     t"
          ],
          [
           "mg 2"
          ],
          [
           "renal necrosis"
          ],
          [
           "dm i"
          ],
          [
           "l hemiparesis\n\n"
          ],
          [
           "infiltrative hepatic disease"
          ],
          [
           "highgrade compression deformity"
          ],
          [
           "submassive"
          ],
          [
           "dm and lupus"
          ],
          [
           "complains of pain"
          ],
          [
           "migrane head ache"
          ],
          [
           "nonvisualization of right\na1 otherwise normal cta of the head"
          ],
          [
           "deficits in recall of general\ninformation"
          ],
          [
           "tnk"
          ],
          [
           "na wnl"
          ],
          [
           "intracranial\n aneurysm or arteriovenous malformation"
          ],
          [
           "comminuted left scapular fx left clavicular fx left 216 rib fx mosly at 2\n  "
          ],
          [
           "vessel injury"
          ],
          [
           "vessel rupture"
          ],
          [
           "coronary arterial calcification"
          ],
          [
           "pt sp gastric bypass"
          ],
          [
           "ro"
          ],
          [
           "vomiting pain"
          ],
          [
           "epoprostenol"
          ],
          [
           "taht"
          ],
          [
           "septic hematoma"
          ],
          [
           "right ventricular diastolic dysfunction"
          ],
          [
           "pleural\n effusions or pneumothorax"
          ],
          [
           "inferior myocardial infarct"
          ],
          [
           "ca granuloma"
          ],
          [
           "small secondum asd"
          ],
          [
           "miconazole ointment"
          ],
          [
           "buprenorphine"
          ],
          [
           "wbc74 rbc550 hgb160 hct483 mcv88 137 plt ct276\npt126 ptt190 inrpt11"
          ],
          [
           "nearresolution of the previously seen flair hyperintensities"
          ],
          [
           "bizarre episodes approx every\nother day for the last 5 years with a one year hiatus"
          ],
          [
           "dermatophytosis"
          ],
          [
           " foot"
          ],
          [
           "left shoulder pain"
          ],
          [
           "injurypronchopleural fistula"
          ],
          [
           "leftsided pneumonia"
          ],
          [
           "hydrocodonehomatropine"
          ],
          [
           "simvastatin 40 mg qhs"
          ],
          [
           "image002jpg\n                                  21281129\n                         233 a11302131"
          ],
          [
           "cancers of git"
          ],
          [
           "inferior cerebellar\n artery and vertebrobasilar junction"
          ],
          [
           "dilated main pulmonary artery"
          ],
          [
           "left thoracic hematoma"
          ],
          [
           "inferior  akinetic"
          ],
          [
           "obese nontender bowel sounds\nextrem warm no edema palpable distal pulses\nneuro when sedation lightened opens eyes to voice"
          ],
          [
           "hypomagnasemia"
          ],
          [
           "amoxicillin allergy"
          ],
          [
           "larygeal edema"
          ],
          [
           "ekg sinus bradycardia"
          ],
          [
           "brain hemorrhage"
          ],
          [
           "l orbital floor blowout"
          ],
          [
           "pulm lungs clear"
          ],
          [
           "la enlargement"
          ],
          [
           "sp hysterectomy\n\nsocial history"
          ],
          [
           "diabetic\n   diet"
          ],
          [
           "coronary atery disease sp coronary artery bypass graft x 4\npmh sp stents x 2 2126"
          ],
          [
           "ro pneumothorax"
          ],
          [
           "methylnaltrexone"
          ],
          [
           "coronary atery disease sp stents x 2 2126"
          ],
          [
           "polychondritis"
          ],
          [
           "regional dysfunction"
          ],
          [
           "head to ro bleedmass"
          ],
          [
           "postintubation"
          ],
          [
           "probable lymphoma"
          ],
          [
           "sensori motor deficits"
          ],
          [
           "ha dizziness"
          ],
          [
           "pleural\n effusions are present larger on the right  an orogastric tube extends into\n the stomach"
          ],
          [
           "left clavicle fracture"
          ],
          [
           "neuro deficits"
          ],
          [
           "echymosis"
          ],
          [
           "op w"
          ],
          [
           "larygneal edema"
          ],
          [
           "mvt"
          ],
          [
           "nasal bone fractures"
          ],
          [
           "folate wnl"
          ],
          [
           "thiaminefolate"
          ],
          [
           "anhedonia"
          ],
          [
           "papaverine"
          ],
          [
           "frontal intraparenchymal"
          ],
          [
           "chloride 2 mg tabs 1 to 3 tablets po"
          ],
          [
           "gagging and vomiting"
          ],
          [
           " intertrigo\n    miconazole"
          ],
          [
           "idiopathic"
          ],
          [
           "kcld mon 2155120 1127 pm\n  no acute"
          ],
          [
           "clear infection"
          ],
          [
           "occ"
          ],
          [
           "amorph"
          ],
          [
           "yeasty smell\n   "
          ],
          [
           "esp lul"
          ],
          [
           "inh q6h"
          ],
          [
           "idiopathic itch"
          ],
          [
           "intermittent chronic constipation"
          ],
          [
           "hemotypsis"
          ],
          [
           "infarctionischemia"
          ],
          [
           "rhinorrhoea"
          ],
          [
           "bibasilar\n platelike atelectasis"
          ],
          [
           "ls"
          ],
          [
           "obstructive ureterolithiasis"
          ],
          [
           "cervical stenosis"
          ],
          [
           "hypotensiontachycardia"
          ],
          [
           "lower gi tract"
          ],
          [
           "image008gif\n   image006gif\n                                    245"
          ],
          [
           "hypoplastic left a1 and p1"
          ],
          [
           "image008gif\n   image006gif\n                                    "
          ],
          [
           "irrregular"
          ],
          [
           "int"
          ],
          [
           "switchedpacer"
          ],
          [
           "right facet arthropathy"
          ],
          [
           "basilar\n artery aneurysm"
          ],
          [
           "basilar artery aneurysm sp"
          ],
          [
           "ro thrombus"
          ],
          [
           "skin jaundice"
          ],
          [
           "methemoglobine"
          ],
          [
           "left facet arthropathy"
          ],
          [
           "ventricular apical abnormalities"
          ],
          [
           "pulmonary\nartery systolic hypertension"
          ],
          [
           "muscles withhout tachypnea o2"
          ],
          [
           "posttransplant lymphoproliferative disorder"
          ],
          [
           "fdg"
          ],
          [
           "adq"
          ],
          [
           "anasarca edema"
          ],
          [
           "abnormal bedside ecg"
          ],
          [
           "vent"
          ],
          [
           "glucose finger stick\n   129\n   2193123 1000 am\n   bun\n   20 mgdl\n   2193123 0216 am"
          ],
          [
           "volume overload w anasarca"
          ],
          [
           "intracranial vascular calcifications"
          ],
          [
           "hemorrhagic cyst"
          ],
          [
           "hyperdense lesion"
          ],
          [
           "l  small"
          ],
          [
           "beats nystagmus"
          ],
          [
           "hearing impaired"
          ],
          [
           "amyloid angiopathy"
          ],
          [
           "severe chronic small vessel ischemic change"
          ],
          [
           "dm regimen"
          ],
          [
           "ischemic bowel or abdominal catastrophe"
          ],
          [
           "syringeneedle u100"
          ],
          [
           "hp"
          ],
          [
           "femoral groin line"
          ],
          [
           "offlabetolol"
          ],
          [
           "lidocaineprilocaine"
          ],
          [
           "hearing impairment"
          ],
          [
           "ultrasoft"
          ],
          [
           "viagra  100 mg tablet  05"
          ],
          [
           "stomach aneurysms"
          ],
          [
           "dissolve  1 tablets"
          ],
          [
           "humalog pen "
          ],
          [
           "lantus "
          ],
          [
           "renal\nfailure and inability to clear trops"
          ],
          [
           "micva"
          ],
          [
           "mildmoderate distress"
          ],
          [
           "image008gif\n   image006gif\n                                  "
          ],
          [
           "cl116"
          ],
          [
           "biiventricular hypertrophy"
          ],
          [
           "repiratory failure"
          ],
          [
           "right diaphragmatic pleural surface suggests\nsmall effusion"
          ],
          [
           "g2 retrievable inferior vena cava filter"
          ],
          [
           "bactiuria"
          ],
          [
           "amylase41"
          ],
          [
           "ast37"
          ],
          [
           "pulm infarct"
          ],
          [
           "hypoplastic left\n transverse sinus"
          ],
          [
           "right hemiparesis"
          ],
          [
           "s"
          ],
          [
           "schitophrenia"
          ],
          [
           "propofol gtts"
          ],
          [
           "kcl 20meq given"
          ],
          [
           "ro bleed  visual changes sp cabg"
          ],
          [
           "crohns disease and gi bleed"
          ],
          [
           "cutaneous bleeding"
          ],
          [
           "calcium vitamin d"
          ],
          [
           "ho seizure"
          ],
          [
           "antitrypsin"
          ],
          [
           "lobular neutrophilic inflammation"
          ],
          [
           "dysmorphic facies"
          ],
          [
           "upper extremity phlebitiscellulitis"
          ],
          [
           "liver\ninjury with extensive hepatocyte damage"
          ],
          [
           "valvular lesions"
          ],
          [
           "monitortreat pain"
          ],
          [
           "viral hepatitis"
          ],
          [
           "cyclosporin neoral"
          ],
          [
           "hyperammonemia"
          ],
          [
           "diaphragmatic defect"
          ],
          [
           "reduction of hiatal hernia"
          ],
          [
           "man sp redo asc aorta"
          ],
          [
           "small nonocclusive right upper lobe subsegmental acute pulmonary embolus"
          ],
          [
           "rt cavernous ica aneurysm"
          ],
          [
           "lower extremity dvt\n \n                                 final report\n bilateral lower extremity veins"
          ],
          [
           "r leg pain"
          ],
          [
           "lower gi subacute bleed"
          ],
          [
           "hydrocodoneacetaminophen"
          ],
          [
           "image002jpg\n                            21681124  0642 am\n                            21681124  0900 am\n                            21681124  0300 pm\n                            21681124  0600 pm\n                            21681125  0216 am\n                            21681125  0954"
          ],
          [
           "hps"
          ],
          [
           "pnabacteremia"
          ],
          [
           "volume overlaod and small effusions"
          ],
          [
           "metamucil"
          ],
          [
           "a r mca stroke"
          ],
          [
           "lutein"
          ],
          [
           "loss of consciousnessdelirium"
          ],
          [
           "bupivacainehydromorphone"
          ],
          [
           "buprivanehydromorphone"
          ],
          [
           "bradycardia sinus rhythm"
          ],
          [
           "crohns\n\nphysical exam\nvitals t 982  bp"
          ],
          [
           "p aggressive pulmonary toileting"
          ],
          [
           "colonic lesions"
          ],
          [
           "mydrin"
          ],
          [
           "sagital sinus thrombosis"
          ],
          [
           "chrons disease and gi bleed"
          ],
          [
           "nausea med wazemet wgood"
          ],
          [
           "bzdspropofol"
          ],
          [
           "vap pneumonia"
          ],
          [
           "fluid\n overload"
          ],
          [
           "flatulence noted"
          ],
          [
           "carotid bruits"
          ],
          [
           "prolapsemitral regurgitation"
          ],
          [
           "intracranial vascular flowvoids"
          ],
          [
           "breathing unlabor"
          ],
          [
           "white matter infarcts"
          ],
          [
           "hypointensity"
          ],
          [
           "gyriform swelling"
          ],
          [
           "acamca"
          ],
          [
           "unruptured basilar aneurysm"
          ],
          [
           "sp basilar artery aneurysm"
          ],
          [
           "intraventricular ich"
          ],
          [
           "vasospastic"
          ],
          [
           "hiccups"
          ],
          [
           "nontraumatic right frontal subarachnoid hemorrhage"
          ],
          [
           "right ventricular pressurevolume overload"
          ],
          [
           "rv pressurevolume overload"
          ],
          [
           "melena hematochezia"
          ],
          [
           "lower extremity oedema"
          ],
          [
           "lower extremity arterial\n systems at rest"
          ],
          [
           "ativan 9"
          ],
          [
           "o2 sats of"
          ],
          [
           "esophageal\nrupture"
          ],
          [
           "adultonset diabetes"
          ],
          [
           "musculo"
          ],
          [
           "tingling loss of sensation"
          ],
          [
           "rightsided headache"
          ],
          [
           "petichiae"
          ],
          [
           "rifaximin 400"
          ],
          [
           "congenital hepatic fibrosis gastric varices"
          ],
          [
           "w pulm congestion"
          ],
          [
           "extremitis"
          ],
          [
           "prerenal arf"
          ],
          [
           "right sided weakness"
          ],
          [
           "jejeunal ulcer"
          ],
          [
           "cardiac lymphoma"
          ],
          [
           "gallbladder calculus"
          ],
          [
           "hypervascularity"
          ],
          [
           "jejeunal ulcer disease"
          ],
          [
           "peptic"
          ],
          [
           "hyperexpansion"
          ],
          [
           "image002jpg\n                            21931125  0350 am\n                            21931125  "
          ],
          [
           "headacheincisional pain"
          ],
          [
           "htn urgency"
          ],
          [
           "sp stage"
          ],
          [
           "respiratory decline\n   gastrointestinal npo except meds speech  swollow eval pending\n   renal uop appropriate"
          ],
          [
           "culturesurine"
          ],
          [
           "pulm\n   congestion"
          ],
          [
           "viral infections"
          ],
          [
           "esophageal rupture"
          ],
          [
           "congenital hepatic"
          ],
          [
           "polysubstance\n   abuse"
          ],
          [
           "jrke"
          ],
          [
           "glucose finger stick\n   130\n   2183113 1000 am\n   bun\n   11 mgdl\n   2183113 0330 am\n   "
          ],
          [
           "vitamin\n   "
          ],
          [
           "pneumohemothorax"
          ],
          [
           "ventricular hypokinesis"
          ],
          [
           "periannular leak"
          ],
          [
           "thickness"
          ],
          [
           "pulm lungs"
          ],
          [
           "right intracerebellar bleed"
          ],
          [
           "intracerebellar\n hemorrhage"
          ],
          [
           "right intracerebellar hemorrhage"
          ],
          [
           "inferior tonsillar"
          ],
          [
           "oxycodone q"
          ],
          [
           "hespan"
          ],
          [
           "lisinoprilhctz"
          ],
          [
           "sp tonsillectomy\n\nsocial history"
          ],
          [
           "detemir"
          ],
          [
           "fehas had marginal urinary outputurine"
          ],
          [
           "causes venous clotting"
          ],
          [
           "cvvs"
          ],
          [
           "pyleonephritis"
          ],
          [
           "checkingdifficult"
          ],
          [
           "lactic acid12"
          ],
          [
           "bili9807"
          ],
          [
           "vomiting and not eating"
          ],
          [
           "insulinglucose"
          ],
          [
           "socialson"
          ],
          [
           "image002jpg\n                            2165111  0755 pm"
          ],
          [
           "3650son"
          ],
          [
           "resting tachycardia"
          ],
          [
           "heart enlargement"
          ],
          [
           "hirshsprungs\n   disease sp colostomy takedown"
          ],
          [
           "chronic gastric ulceration"
          ],
          [
           "extracranial abnormality"
          ],
          [
           "infarcts\n or postinflammatory residua"
          ],
          [
           "stomach cancer"
          ],
          [
           "basiliar aneurysms"
          ],
          [
           "aortic valve\n   leaflets 3 appear structurally normal with good leaflet excursion"
          ],
          [
           "na137 k47"
          ],
          [
           "wbc61 rbc431"
          ],
          [
           "intermittent neuropathy"
          ],
          [
           "epidermidis bacteremia"
          ],
          [
           "shortterm disability"
          ],
          [
           "hbv hcc sp"
          ],
          [
           "rales\n\nneurologic"
          ],
          [
           "left umn facial droop"
          ],
          [
           "liver tumor"
          ],
          [
           "chills gi upsets"
          ],
          [
           "subarachnoid hemorhage"
          ],
          [
           "enlargement of right frontal intracranial"
          ],
          [
           "parttime"
          ],
          [
           "fentanyl 120mchr"
          ],
          [
           "vascular occlusion or stenosis"
          ],
          [
           "deficit"
          ],
          [
           "graves disease\n    check tsh"
          ],
          [
           "incoordination"
          ],
          [
           "perihilar opacities"
          ],
          [
           "backside"
          ],
          [
           "pericardial\n effusion"
          ],
          [
           "muscular pain"
          ],
          [
           "bileaflet mitral valve prosthesis"
          ],
          [
           "biting or loss or bowelbladder function"
          ],
          [
           "image002jpg\n                            2161112  0400 am"
          ],
          [
           "pofamotidine"
          ],
          [
           "obstruction or mass"
          ],
          [
           "trendelenberg"
          ],
          [
           "tenofovir disoproxil fumarate"
          ],
          [
           "hepatitis b status"
          ],
          [
           "lamivudine"
          ],
          [
           "b infection"
          ],
          [
           "ventricular\n stroke volume and pulmonic flow"
          ],
          [
           "hemolytic"
          ],
          [
           "renal lesions"
          ],
          [
           "l renal lesions"
          ],
          [
           "distortion of the fourth ventricle"
          ],
          [
           "herniation of the cerebellar vermis"
          ],
          [
           "supraglottic"
          ],
          [
           "supraventricular ectopy"
          ],
          [
           "upper gastrointestinal bleed"
          ],
          [
           "postgadolinium"
          ],
          [
           "cerebellar tonsillar"
          ],
          [
           "acetaminophencaffeine"
          ],
          [
           "tfe"
          ],
          [
           "dissolve"
          ],
          [
           "perporated ulcer"
          ],
          [
           "dermatitis herpetiformis"
          ],
          [
           "muscular hypertrophy"
          ],
          [
           "primary disease"
          ],
          [
           "tachycardiahypovolemia"
          ],
          [
           "43f sp gastric banding"
          ],
          [
           "tachypeic"
          ],
          [
           "left frontal hemorrhage"
          ],
          [
           "septic embolus"
          ],
          [
           "perivavluvar abscess"
          ],
          [
           "o2 nasal"
          ],
          [
           "venous thrombus"
          ],
          [
           "lisinopril regimen"
          ],
          [
           "primary malignancy"
          ],
          [
           "ncse"
          ],
          [
           "perivalvular abcess"
          ],
          [
           "paraspinal abnormalities"
          ],
          [
           "hip joints"
          ],
          [
           "right leg weakness"
          ],
          [
           "renally"
          ],
          [
           "left atrial tumor"
          ],
          [
           "head hematoma"
          ],
          [
           "procainamide"
          ],
          [
           "epigastic pain"
          ],
          [
           "coronary calcification"
          ],
          [
           "lingular atelectasis"
          ],
          [
           "acute aortic syndrome"
          ],
          [
           "k35 cl103 hco330 angap14"
          ],
          [
           "myelos0"
          ],
          [
           "baso27"
          ],
          [
           "mch316"
          ],
          [
           "ct16"
          ],
          [
           "alt33"
          ],
          [
           "head and neck cancer"
          ],
          [
           "dietcontrolled hypercholesterolemia"
          ],
          [
           "knee arthritis"
          ],
          [
           "docetaxel"
          ],
          [
           "doxorubicin"
          ],
          [
           "her2negative"
          ],
          [
           "celiac artery ostium"
          ],
          [
           "anthracyclines"
          ],
          [
           "tumor blush"
          ],
          [
           "chloride99"
          ],
          [
           "thoracic epidural abscess"
          ],
          [
           "vertebral osteomyelitis"
          ],
          [
           "nalbuphine hcl"
          ],
          [
           "nubain"
          ],
          [
           "upper thoracic spine"
          ],
          [
           "wbc77"
          ],
          [
           "dm type 2\n2"
          ],
          [
           "worsening renal failure"
          ],
          [
           "thoracic pain"
          ],
          [
           "puritis"
          ],
          [
           "oxygen desaturation"
          ],
          [
           "emergent thoracic laminectomies t1t8"
          ],
          [
           "pleural\n effusions with adjacent atelectasis"
          ],
          [
           "acute lymphoblastic\nleukemia"
          ],
          [
           "prpositive"
          ],
          [
           "erpositive"
          ],
          [
           "her2negative mixed ductal"
          ],
          [
           "mdis"
          ],
          [
           "hypodense lesions"
          ],
          [
           "tumormass"
          ],
          [
           "inferolateral myocardial"
          ],
          [
           "ggo"
          ],
          [
           "pulmonary vascular redistribution"
          ],
          [
           "liver asbcess"
          ],
          [
           "diurese  14l los"
          ],
          [
           "anoxic injury"
          ],
          [
           "sp allo transplant"
          ],
          [
           "acute lymphocytic leukemia"
          ],
          [
           "hemorrhage of anterior doctor last name 503 of corpus callosum w"
          ],
          [
           "hemorrhage of third and fourth ventricles\n \n                                 final report\n cta head without and with contrast 214917\n\n "
          ],
          [
           "hyperlipidema"
          ],
          [
           "namepattern1 2951 md"
          ],
          [
           "wihtout edema"
          ],
          [
           "manitol"
          ],
          [
           "hormonereceptorpositive"
          ],
          [
           "thoracic\n spine abnormality"
          ],
          [
           "tmpsmx"
          ],
          [
           "nonsinus supraventricular rhythm"
          ],
          [
           "arhb wed"
          ],
          [
           "denture"
          ],
          [
           "acute thoracic fracture"
          ],
          [
           "acute thoracic spine fracture"
          ],
          [
           "celiac\n arterial system"
          ],
          [
           "she was able"
          ],
          [
           "traumatic tspine injury"
          ],
          [
           "couamdin"
          ],
          [
           "foudn"
          ],
          [
           "gi complaints"
          ],
          [
           "highgrade celiac artery\n stenosis"
          ],
          [
           "aline was dcd"
          ],
          [
           "narcoticinduced"
          ],
          [
           "lactates"
          ],
          [
           "bladder atony"
          ],
          [
           "migraine pains"
          ],
          [
           "mural thrombus"
          ],
          [
           "irregular stones"
          ],
          [
           "wihich"
          ],
          [
           "left maxillary sinusitis"
          ],
          [
           "cancer sp tah"
          ],
          [
           "denies nausea vomitting"
          ],
          [
           "o2 but"
          ],
          [
           "oxycontin 140"
          ],
          [
           "lactic acid19 mmoll"
          ],
          [
           "fascitis"
          ],
          [
           "leak or obstruction"
          ],
          [
           "keppra  500"
          ],
          [
           "b12\n   deficiency"
          ],
          [
           "erythema noted eczema"
          ],
          [
           "abnormal right vertebral artery"
          ],
          [
           "famotidine magnesium phenytoin propofol"
          ],
          [
           "mr of the head from 1115 2124"
          ],
          [
           "triamterene"
          ],
          [
           "milk of magnesia first and then"
          ],
          [
           "peritoneal catheter obstruction"
          ],
          [
           "shunt failure"
          ],
          [
           "n"
          ],
          [
           "enlargement of the third"
          ],
          [
           "upgaze palsy"
          ],
          [
           "agodone"
          ],
          [
           "propranolol hcl"
          ],
          [
           "visual blurriness"
          ],
          [
           "carisoprodol"
          ],
          [
           "rotatory"
          ],
          [
           "extensive asymmetric degenerative"
          ],
          [
           "facet joints"
          ],
          [
           "image002jpg\n                            21931128  0313 am\n                            21931128  0338 am\n                            21931128  1101 am\n                            21931128  0210"
          ],
          [
           "prehospitalization neurologic examination"
          ],
          [
           "electrolyte disturbance"
          ],
          [
           "spastic"
          ],
          [
           "right basal ganglia caudate head"
          ],
          [
           "sinus abnormalities"
          ],
          [
           "ocular migraine"
          ],
          [
           "decreased vision"
          ],
          [
           "thrombose"
          ],
          [
           "conjunctival hematoma"
          ],
          [
           "70s respiratory rate 14"
          ],
          [
           "lenticulostriate infarct"
          ],
          [
           "abnx"
          ],
          [
           "puffiness"
          ],
          [
           "puffy"
          ],
          [
           "ho dvt"
          ],
          [
           "chest\n compression"
          ],
          [
           "markedly dilated colon"
          ],
          [
           "diabetes mellitus type"
          ],
          [
           "intradural extramedullary tumor"
          ],
          [
           "acute liver injury"
          ],
          [
           "relect"
          ],
          [
           "sbo  sp sb rsxn"
          ],
          [
           "gait instability"
          ],
          [
           "a bowel perforation"
          ],
          [
           "cpt11"
          ],
          [
           "1p19q deletions"
          ],
          [
           "aniongap"
          ],
          [
           "primary respiratory alkalosis"
          ],
          [
           "patent right basilic\n vein"
          ],
          [
           "neurogenic tumor"
          ],
          [
           "pod0  abscess"
          ],
          [
           "alveolar hypoventilation"
          ],
          [
           "parenchymal disease"
          ],
          [
           "vbg 7512547"
          ],
          [
           "lowprob"
          ],
          [
           "dilated pancreatic duct"
          ],
          [
           "sacroiliac joints"
          ],
          [
           "image002jpg\n                                  21831229\n                          "
          ],
          [
           "beclomethasone"
          ],
          [
           "bronchogenic\n neoplasm"
          ],
          [
           "typecentral ve po2"
          ],
          [
           "obestiy hypoventilation"
          ],
          [
           "breathing\n\n"
          ],
          [
           "right hip pain"
          ],
          [
           "r hip pain"
          ],
          [
           "hl htn"
          ],
          [
           "lv enlargement"
          ],
          [
           "adrenal insufficieny"
          ],
          [
           "vertebral a aneurysm"
          ],
          [
           "metanephrines"
          ],
          [
           "burkitt"
          ],
          [
           "burkitt lymphoma"
          ],
          [
           "upper extremity venous"
          ],
          [
           "echogenic thrombus"
          ],
          [
           "hypokinetic"
          ],
          [
           "schizoaffective disoder"
          ],
          [
           "prom"
          ],
          [
           "shortness\n\nof breath"
          ],
          [
           "ventricular drainage catheter ending"
          ],
          [
           "contiuous"
          ],
          [
           "hemorrhagic mets"
          ],
          [
           "fusiform aneurysm"
          ],
          [
           "thyroid melanoma"
          ],
          [
           "obesity hypoventilaton"
          ],
          [
           "periorbital"
          ],
          [
           "erythrocytosis"
          ],
          [
           "hypoventilatory disorder"
          ],
          [
           "anterolateral depressions"
          ],
          [
           "diabetes melitus type ii"
          ],
          [
           "alkphos149"
          ],
          [
           "sobdialstolic chf"
          ],
          [
           "renal vascular disease"
          ],
          [
           "occlusive basilic vein dvt"
          ],
          [
           "tlso brace"
          ],
          [
           "brain death"
          ],
          [
           "chronic venous stasis ulcer"
          ],
          [
           "stuartii"
          ],
          [
           "ventricular congestive heart failure"
          ],
          [
           "thiamine mononitrate"
          ],
          [
           "polacrilex"
          ],
          [
           "inhaler  2"
          ],
          [
           "hypertensive urgency"
          ],
          [
           "right heart failure"
          ],
          [
           "ambien 10mg 12 tabs"
          ],
          [
           "hydrocholorothiazide"
          ],
          [
           "respiratory\nfailure secondary to acute on chronic diastolic heart failure"
          ],
          [
           "chronic venous ulcers"
          ],
          [
           "lle 2"
          ],
          [
           "p59 r15 o2"
          ],
          [
           "lle cellulitis"
          ],
          [
           "percocet 5325mg 1 tab qid"
          ],
          [
           "enoxaparin sodium"
          ],
          [
           "on21561113 1456 \n"
          ],
          [
           "humalog insulin"
          ],
          [
           "naloxone"
          ],
          [
           "amitryptline"
          ],
          [
           "image002jpg\n                            21561112  1230 am\n                            21561112  0600 am\n                            21561112  1230 pm"
          ],
          [
           "pantoprozole"
          ],
          [
           "chest rash"
          ],
          [
           "ketosis"
          ],
          [
           "ss humalog"
          ],
          [
           "midling neck tenderness"
          ],
          [
           "monos57"
          ],
          [
           "csf infection"
          ],
          [
           "mm tachy"
          ],
          [
           "chronic renal insufficency"
          ],
          [
           "screaming"
          ],
          [
           "midline neck tenderness"
          ],
          [
           "cardiac death"
          ],
          [
           "adenomatous polyp"
          ],
          [
           "flonase 2 puffs"
          ],
          [
           "coumadin 75"
          ],
          [
           "lactic acid36"
          ],
          [
           "trilafon"
          ],
          [
           "rrr no murmur"
          ],
          [
           "ro infectious processawaiting checklist"
          ],
          [
           "vessel ischemic sequela"
          ],
          [
           "sah r superior temporal lobe on osh ct sudden onset l\n  numbness"
          ],
          [
           "librium"
          ],
          [
           "nephrosclerisrenal failure"
          ],
          [
           "guaiacnegative"
          ],
          [
           "guaiacpositive"
          ],
          [
           "peripelvic renal cysts"
          ],
          [
           "pulmonary artery diastolic hypertension"
          ],
          [
           "pulmonic valve stenosis"
          ],
          [
           "a bioprosthetic mitral valve prosthesis"
          ],
          [
           "gi swelling\n   gastrointestinal npo ppi\n   renal follow uop"
          ],
          [
           "l shoulder swelling"
          ],
          [
           "rbc3"
          ],
          [
           "doss"
          ],
          [
           "trimeth"
          ],
          [
           "advair 50050"
          ],
          [
           "glucose72 urean12"
          ],
          [
           "heroine addiction"
          ],
          [
           "88ra"
          ],
          [
           "tissue neck infection"
          ],
          [
           "elocon"
          ],
          [
           "dm i sp multiple"
          ],
          [
           "protonix 40mg po"
          ],
          [
           "diabetic\ngastroparesis"
          ],
          [
           "phosphorus"
          ],
          [
           "cortical defects"
          ],
          [
           "angap30"
          ],
          [
           "esbl utis"
          ],
          [
           "abod"
          ],
          [
           "bad heart"
          ],
          [
           "carotid\n   disease"
          ],
          [
           "po q 24h"
          ],
          [
           "doxil"
          ],
          [
           "peripheral\n\nneuropathy"
          ],
          [
           "liver metastatasis"
          ],
          [
           "navelbine"
          ],
          [
           "pamidronate"
          ],
          [
           "infiltrating lobular carcinoma"
          ],
          [
           "oral pain"
          ],
          [
           "azmacort 2 puffs hospital1 \n\n\n"
          ],
          [
           "lobular carcinoma"
          ],
          [
           "acute respiratory obstruction"
          ],
          [
           "reintubate"
          ],
          [
           "cc3"
          ],
          [
           "boardline htn"
          ],
          [
           "good breath"
          ],
          [
           "ovarian or breast ca\n\nphysical exam\nt"
          ],
          [
           "pseudocirrhosis"
          ],
          [
           "supraglottic on 914"
          ],
          [
           "cerebral artery aneurysmal"
          ],
          [
           "15cmh2o"
          ],
          [
           "sp hammertoe"
          ],
          [
           "benzodiazapines"
          ],
          [
           "tingling in extremities"
          ],
          [
           "fall"
          ],
          [
           "acamprosate"
          ],
          [
           "read awaits"
          ],
          [
           "right adnexal mass"
          ],
          [
           "awaits"
          ],
          [
           "ca77"
          ],
          [
           "cmv esophagitis"
          ],
          [
           "albuterol 2 puffs q46h"
          ],
          [
           "immunocopromised"
          ],
          [
           "peripheral anasarca"
          ],
          [
           "memory\nloss or difficulty speaking"
          ],
          [
           "bowels or bladder"
          ],
          [
           "instructionsinformation"
          ],
          [
           "lac"
          ],
          [
           "dilaudid 24 mg"
          ],
          [
           "na138 k47"
          ],
          [
           "cerbral"
          ],
          [
           "ductal hyperplasia of left breast"
          ],
          [
           " q 2 hr"
          ],
          [
           "chest pains"
          ],
          [
           "ductal breast hyperplasia"
          ],
          [
           "small erosions"
          ],
          [
           "ro pancreatitis"
          ],
          [
           "pinklocation"
          ],
          [
           "cvheme"
          ],
          [
           "decreased breath sounds anterior r"
          ],
          [
           "t1dm sp kidney transplant pw"
          ],
          [
           "datetime2129"
          ],
          [
           "right ovarian mass"
          ],
          [
           "nonsmallcell lung cancer"
          ],
          [
           "sp laprascopic reduction"
          ],
          [
           "cinacalcet"
          ],
          [
           "monos61"
          ],
          [
           "epilepsies"
          ],
          [
           "muscle jerks"
          ],
          [
           "tsh56"
          ],
          [
           "jerks"
          ],
          [
           "diganosis"
          ],
          [
           "simvastatin 20 mg po"
          ],
          [
           "upper lobe nonsmallcell lung cancer"
          ],
          [
           "impaired memory"
          ],
          [
           "grandmal"
          ],
          [
           "diarrhea 4xday"
          ],
          [
           "foulsmelling"
          ],
          [
           "aortobiiliac occlusive disease"
          ],
          [
           "lower extremity arterial systems"
          ],
          [
           "pt co"
          ],
          [
           "syndrome of inappropriate\nrelease of the antidiuretic hormone"
          ],
          [
           "ast12"
          ],
          [
           "image002jpg\n                                  2143114\n                         233 a10132145  0111 am\n                                  2143118\n                         1020 p10132145  0259 am\n                                  2143119\n                                   "
          ],
          [
           "pp palp"
          ],
          [
           "complaints of pain"
          ],
          [
           "na nitroprusside"
          ],
          [
           "unformed"
          ],
          [
           "left hemothorax"
          ],
          [
           "sp l hemothorax"
          ],
          [
           "dilated\n   cardiovascular s1 normal"
          ],
          [
           "lower lobe pulmonary embolism"
          ],
          [
           "occ etoh"
          ],
          [
           "organ injury"
          ],
          [
           "sp intrauterine fertilization"
          ],
          [
           "vitreal hemmorhage"
          ],
          [
           "rhinocort"
          ],
          [
           "calcification of the thoracic aorta"
          ],
          [
           "patent hepatic veins"
          ],
          [
           "noninsulin"
          ],
          [
           "cystic encephalomalacia"
          ],
          [
           "a nervous feelings"
          ],
          [
           "wrex  fex fflx io"
          ],
          [
           "ovarian cysts"
          ],
          [
           "febrile seizure"
          ],
          [
           "febrile\nillness"
          ],
          [
           "pulm toilet"
          ],
          [
           "pt bronched"
          ],
          [
           "upper lobe calcification"
          ],
          [
           "crohns disease sx onset 2134\n restless leg syndrome"
          ],
          [
           "complaints of dizziness"
          ],
          [
           "pyridostgmine"
          ],
          [
           "baclofen overdose"
          ],
          [
           "ast19"
          ],
          [
           "unprovoked"
          ],
          [
           "complaints of abdominal discomfort"
          ],
          [
           "alkphos175"
          ],
          [
           "abnormal behavior"
          ],
          [
           "35mcgkgmin"
          ],
          [
           "gastrointestinal functioning"
          ],
          [
           "fluticasonesalmeterol 25050 ih"
          ],
          [
           "50mcg octreotide"
          ],
          [
           "alt39"
          ],
          [
           "postoperative ileus"
          ],
          [
           "diabetis"
          ],
          [
           "pannus"
          ],
          [
           "pedunculated fibroid"
          ],
          [
           "r ankle injury"
          ],
          [
           "cystic adnexal mass"
          ],
          [
           "vent decrease fio2"
          ],
          [
           "54yearold gravida 0 woman"
          ],
          [
           "adnexal mass\n\n"
          ],
          [
           "predominantly cystic mass"
          ],
          [
           "vascular\n abnormalities"
          ],
          [
           "impingement of the thecal sac outline\nplease note that ct\ncannot visualize intrathecal detail"
          ],
          [
           "asthma exacerbations"
          ],
          [
           "apc"
          ],
          [
           "methadone hcl"
          ],
          [
           "right adnexal cystic lesion"
          ],
          [
           "anomalous pulmonary venous"
          ],
          [
           "atelectases"
          ],
          [
           "tibs"
          ],
          [
           "flushing or confusion"
          ],
          [
           "fluoxetine hcl"
          ],
          [
           "celiac disease"
          ],
          [
           "multiple sclerosis"
          ],
          [
           "upper gastrointestinal bleeding"
          ],
          [
           "musculoskeletal pain"
          ],
          [
           "celecoxib"
          ],
          [
           "sttw"
          ],
          [
           "pt131 ptt269"
          ],
          [
           "patent branch vessel"
          ],
          [
           "aneurysmal dilatation"
          ],
          [
           "end stage als"
          ],
          [
           "multiple suicidal attemptsideations"
          ],
          [
           "mucinous cystadenoma"
          ],
          [
           "right pariental hemorrhage"
          ],
          [
           "multiseptated right adnexal lesion"
          ],
          [
           "d  400"
          ],
          [
           "maxalt mlt"
          ],
          [
           "2xweek"
          ],
          [
           "charchoal"
          ],
          [
           "multiple uterine fibroids"
          ],
          [
           "underlining rythem"
          ],
          [
           "aado2340"
          ],
          [
           "alkphos58"
          ],
          [
           "sp forearm amputation"
          ],
          [
           "reflex sympathetic dystrophy of the r"
          ],
          [
           "cerebrovascular disease"
          ],
          [
           "grandmal seizure"
          ],
          [
           "s188"
          ],
          [
           "interstitial pneumonia"
          ],
          [
           "stiff joints"
          ],
          [
           "chemoradiation"
          ],
          [
           "intracranial injury"
          ],
          [
           "frontal subdural hemorrhage"
          ],
          [
           "hypogastrium"
          ],
          [
           "left clavicular fracture"
          ],
          [
           "hypoxiahypercarbic respiratory failure"
          ],
          [
           "nausea w emesis"
          ],
          [
           "r hemiplegia"
          ],
          [
           "right mca aneurysm rupture sp right hemicraniectomy"
          ],
          [
           "intracranial arterial aneurysm"
          ],
          [
           "r facial droop"
          ],
          [
           "d  b t wr grip"
          ],
          [
           "hand grasps and pedal pushes are strong and equal smile sticking tongue out and brwo raising"
          ],
          [
           "herniation of the abnormal brain\n "
          ],
          [
           "herniation of the brain"
          ],
          [
           "achiness"
          ],
          [
           "paradoxic septal motion"
          ],
          [
           "intracerebral hypotension"
          ],
          [
           "painsoreness"
          ],
          [
           "  sore"
          ],
          [
           "datetime2170"
          ],
          [
           "  bleeding"
          ],
          [
           "  blindness"
          ],
          [
           "  sweats"
          ],
          [
           "vomiting nonbloody"
          ],
          [
           "zanaflex"
          ],
          [
           "  tinnitus"
          ],
          [
           "escitalopram oxalate"
          ],
          [
           "gi loss"
          ],
          [
           "right podagra"
          ],
          [
           "q48h"
          ],
          [
           "lll opacity"
          ],
          [
           "infarctions"
          ],
          [
           "  epistaxis"
          ],
          [
           "  ca"
          ],
          [
           "4cc"
          ],
          [
           "  jt swelling"
          ],
          [
           "stt abnormalities"
          ],
          [
           "hashimoto"
          ],
          [
           "  adenopathy"
          ],
          [
           "insp wheezes r base"
          ],
          [
           "  weakness"
          ],
          [
           "  visual"
          ],
          [
           "  pruritus"
          ],
          [
           "  wheeze"
          ],
          [
           "  constipation"
          ],
          [
           "  dysphagia"
          ],
          [
           "stt chnages"
          ],
          [
           "  edema"
          ],
          [
           "  palpitations"
          ],
          [
           "  hemoptysis"
          ],
          [
           "ckcpk77"
          ],
          [
           "bbr"
          ],
          [
           "hematobilia"
          ],
          [
           "right hemispheric extraaxial postoperative"
          ],
          [
           "vaphap"
          ],
          [
           "slight reduction"
          ],
          [
           "right frontal headache"
          ],
          [
           "copd exacerbations"
          ],
          [
           "occipital hypodensities and loss of doctor last name 352white matter\ndifferentiation"
          ],
          [
           "dishwasher"
          ],
          [
           "metabolic disturbance"
          ],
          [
           "bibasilar heterogenous opacities"
          ],
          [
           "cerebral dysfunction"
          ],
          [
           "gca"
          ],
          [
           "aids cholangiopathy"
          ],
          [
           "basilar apex aneurysmal dilatation"
          ],
          [
           "hiv gbs bacteremia"
          ],
          [
           "bladder distention"
          ],
          [
           "rhonchus"
          ],
          [
           "abp 110"
          ],
          [
           "graves disease\n    check free t4"
          ],
          [
           "poss colitis"
          ],
          [
           "hemorrhagic tumor"
          ],
          [
           "height loss"
          ],
          [
           "image002jpg\n                            21931124  0307 am\n                            21931124  0951 am\n                            21931125  0350 am\n                            21931125  "
          ],
          [
           "septic cardiomyopathy"
          ],
          [
           "infiltrative metastatic disease"
          ],
          [
           "infiltrative liver"
          ],
          [
           "colorectal"
          ],
          [
           "aloe"
          ],
          [
           "t3"
          ],
          [
           "incidentaly"
          ],
          [
           "vasoline"
          ],
          [
           "describes emesis"
          ],
          [
           "renal or hepatic issues"
          ],
          [
           "equall"
          ],
          [
           "sp traumatic compression"
          ],
          [
           "repolarization abnormalities"
          ],
          [
           "image002jpg\n                            21651029"
          ],
          [
           "ho abnormal paps sp colposcopy"
          ],
          [
           "cetirizine"
          ],
          [
           "polyethylene\nglycol"
          ],
          [
           "leftsided headache"
          ],
          [
           "temp368"
          ],
          [
           "retention cystpolyp"
          ],
          [
           "g6p1"
          ],
          [
           "man wperfd sigmoid diverticulitis"
          ],
          [
           "nmka"
          ],
          [
           "uptitrate hydralazine"
          ],
          [
           "clonidiine"
          ],
          [
           "proteus mirabilis"
          ],
          [
           "proximal obstruction"
          ],
          [
           "glucose81 urean9"
          ],
          [
           "ventilator dependence"
          ],
          [
           "abnormal vaginal"
          ],
          [
           "septal thickening"
          ],
          [
           "humalog insulin scale w"
          ],
          [
           "atelecatsis"
          ],
          [
           "cntl"
          ],
          [
           "cardiogenic edema"
          ],
          [
           "prostatic enlargement"
          ],
          [
           "noncardiogenic edema"
          ],
          [
           "projectile vomiting"
          ],
          [
           "125poor pain"
          ],
          [
           "outbursts"
          ],
          [
           "myelinolysis"
          ],
          [
           "na137 k37"
          ],
          [
           "ischemiainjury"
          ],
          [
           "intrahepatic biliary\n ductal dilatation"
          ],
          [
           "hypodense liver"
          ],
          [
           "hiv abnegative"
          ],
          [
           "intrahepatic\n  biliary ductal dilatation"
          ],
          [
           "w morphine"
          ],
          [
           "metabolic\n   acidosis"
          ],
          [
           "tobaccoetohillicits"
          ],
          [
           "acute abnormality"
          ],
          [
           "pca morphine"
          ],
          [
           "manic"
          ],
          [
           "absent bowel sounds midline incision"
          ],
          [
           "calcified fibroids"
          ],
          [
           "pericholecystic ascites"
          ],
          [
           "adrenal insuffiency"
          ],
          [
           "primary adrenal insufficiency"
          ],
          [
           "responed"
          ],
          [
           "pentosan polysulfate sodium"
          ],
          [
           "levothyroxine 50mcg"
          ],
          [
           "lyme"
          ],
          [
           "delusional disorder"
          ],
          [
           "hct386"
          ],
          [
           "acute pain distress"
          ],
          [
           "gm magnesium"
          ],
          [
           "right extremity weakness"
          ],
          [
           "d5w"
          ],
          [
           "image002jpg\n                            2132115  0635 pm"
          ],
          [
           "pharyngeal dysphagia"
          ],
          [
           "myoclonic jerking"
          ],
          [
           "impaired cough"
          ],
          [
           "polydipsia"
          ],
          [
           "glucose finger stick\n   142\n   21681125 1000 am\n   bun\n   77 mgdl\n   21681125 0820 am"
          ],
          [
           "sternal incisional"
          ],
          [
           "milk of magnesia\n   21"
          ],
          [
           "shampoo"
          ],
          [
           "hypochloremia"
          ],
          [
           "pleural effusions right"
          ],
          [
           "image002jpg\n                            21651031  1209 pm\n                            21651031  0320"
          ],
          [
           "erythromycin base  hives"
          ],
          [
           "vitk"
          ],
          [
           "failureacute kidney injury"
          ],
          [
           "allergic\n   "
          ],
          [
           "superinfected chronic ulcer"
          ],
          [
           "valproate sodium"
          ],
          [
           "obesity hyperventilation"
          ],
          [
           "sems inatct"
          ],
          [
           "bp was trending"
          ],
          [
           "reactional"
          ],
          [
           "o2 sat but"
          ],
          [
           "femoral hematoma"
          ],
          [
           "cerebral artery stroke"
          ],
          [
           "lsided neglect"
          ],
          [
           "verpamil"
          ],
          [
           "r insular cerebral infarction"
          ],
          [
           "valve fibroelastoma"
          ],
          [
           "cholhd22"
          ],
          [
           " lumbar radiculopathy"
          ],
          [
           "mracta"
          ],
          [
           "ferritn18"
          ],
          [
           "presyncopal"
          ],
          [
           "nausea medicated wreglan"
          ],
          [
           "breate dispite"
          ],
          [
           "right femoral hernia"
          ],
          [
           "amoxicillinclavulanic acid"
          ],
          [
           "fi02"
          ],
          [
           "milk of magnesia 24"
          ],
          [
           "distended bowel"
          ],
          [
           "nausea and leg weakness"
          ],
          [
           "sp traumatic aortic injury"
          ],
          [
           "right ventricular systolic dysfunction"
          ],
          [
           "prod cough"
          ],
          [
           "basilar opacities"
          ],
          [
           "artery aneurysm rupture"
          ],
          [
           "mitral anular calcification"
          ],
          [
           "obstructive\ncoronary artery disease"
          ],
          [
           "residentcortisone"
          ],
          [
           "obstructive coronary artery\ndisease"
          ],
          [
           "obstructive\ncoronary\nartery disease"
          ],
          [
           "ldlcalc141"
          ],
          [
           "diverticulosis of the sigmoid colon"
          ],
          [
           "aminophylline"
          ],
          [
           "renal lesion"
          ],
          [
           "codeine syrup"
          ],
          [
           "tums"
          ],
          [
           "tracheobronchomalacia sp sp"
          ],
          [
           "malacia"
          ],
          [
           "bronchomalacia"
          ],
          [
           "obstruction of ureter"
          ],
          [
           "amnestic of the events"
          ],
          [
           "xtramadol"
          ],
          [
           "urinary bleeding"
          ],
          [
           "postoctal right parietal depression"
          ],
          [
           "subarachnoid hemmorhage"
          ],
          [
           "albicans"
          ],
          [
           "abnormal enhancement mass or vascular\nmalformation along the thoracic spinal cord"
          ],
          [
           "abnormal vascular flowvoids"
          ],
          [
           "xcyclobenzaprine"
          ],
          [
           "ihd"
          ],
          [
           "spaceoccupying lesion"
          ],
          [
           "left sidedlimb weakness"
          ],
          [
           "esophageal erosions"
          ],
          [
           "gastritisesophagitis"
          ],
          [
           "decreased fluency"
          ],
          [
           "language disorder"
          ],
          [
           "nih stroke scale  total 8\n1a"
          ],
          [
           "head injury or loss"
          ],
          [
           "pseudogout"
          ],
          [
           "cystic duct stones"
          ],
          [
           "secreations"
          ],
          [
           "airway narrowing"
          ],
          [
           "hydrocodoneacetaminophen 5500"
          ],
          [
           "xpromethazine"
          ],
          [
           "ro obstructive"
          ],
          [
           "xranitidine"
          ],
          [
           "oxycodoneacetaminophen 5325"
          ],
          [
           "a112193"
          ],
          [
           "liver\n lesions"
          ],
          [
           "lside"
          ],
          [
           "congenitally\n small artery"
          ],
          [
           "infarcts of the frontoparietal lobes"
          ],
          [
           "simvastatin 10 mg po"
          ],
          [
           "lue 45"
          ],
          [
           "r basal ganglia hemorrhage"
          ],
          [
           "lue weakness"
          ],
          [
           "hd 2 pod 1"
          ],
          [
           "staples"
          ],
          [
           "dysethesia"
          ],
          [
           "right basal ganglia hemorrhage"
          ],
          [
           "aneurysmal subarachnoid hemorrhage sp pcom aneurysm"
          ],
          [
           "newe"
          ],
          [
           "dysmotility syndrome"
          ],
          [
           "asp"
          ],
          [
           "right bg hemorrhage"
          ],
          [
           "atrial septal aneursym"
          ],
          [
           "brochospasm"
          ],
          [
           "acalculous cholecystitis"
          ],
          [
           "carotid artery dissections"
          ],
          [
           "embolic strokes"
          ],
          [
           "abn"
          ],
          [
           "embolic\n strokes"
          ],
          [
           "hypodensities of the left frontal and parietal lobes"
          ],
          [
           "viagra "
          ],
          [
           "pleural\n  effusion sp"
          ],
          [
           "left neglect\n\n"
          ],
          [
           "eo endocarditis"
          ],
          [
           "left main disease"
          ],
          [
           "clopidogrel docusate"
          ],
          [
           "ranitidine simvastatin tricor venlafaxine"
          ],
          [
           "infarcts of the upper frontal and parietal lobes seen"
          ],
          [
           "glucose finger stick\n   145\n   2201911 1200 pm\n   bun\n   4 mgdl\n   2201911 0249 am"
          ],
          [
           "eosinophilic lung disease"
          ],
          [
           "pneumoniacap"
          ],
          [
           "cerebral hemispheric subdural hematoma"
          ],
          [
           "visual and sensory inattention"
          ],
          [
           "crusting"
          ],
          [
           "ptt292"
          ],
          [
           "hiv hepatitis c"
          ],
          [
           "occipital stroke"
          ],
          [
           "vancomycincefepimeazithromycin"
          ],
          [
           "cerebellar artery branch"
          ],
          [
           "painlower extremity weakness"
          ],
          [
           "ovarian uterine cancer"
          ],
          [
           "transverse myelitis"
          ],
          [
           "emtricitabine nrti"
          ],
          [
           "tenofovir nrti"
          ],
          [
           "astsgot12"
          ],
          [
           "widebased"
          ],
          [
           "subdural hemorrhage of the right cerebral"
          ],
          [
           "mannitol 50gm"
          ],
          [
           "motor apraxia"
          ],
          [
           "image002jpg\n                            2132114  0215 pm"
          ],
          [
           "dark coffeeground"
          ],
          [
           "right finger numbness"
          ],
          [
           "eosinphilia"
          ],
          [
           "fulldose aspirin"
          ],
          [
           "type headache"
          ],
          [
           "left occipital stroke"
          ],
          [
           "left cerebellar stroke"
          ],
          [
           "no loss of vision"
          ],
          [
           "12ppd"
          ],
          [
           "mg0625"
          ],
          [
           "ica stenosis"
          ],
          [
           "head and neck"
          ],
          [
           "left hemiparesis hd essentially resolved in\naddition to left neglect"
          ],
          [
           "patiennt"
          ],
          [
           "infarct edema"
          ],
          [
           "left neglect"
          ],
          [
           "slurred\n\n"
          ],
          [
           "mentate"
          ],
          [
           "right ventricular failure"
          ],
          [
           "cryptogenic"
          ],
          [
           "right eye"
          ],
          [
           "anterolateral ischemia"
          ],
          [
           "lateral rib deformities"
          ],
          [
           "infected pacing wire\n   and pocket and continues to have positive blood culture"
          ],
          [
           "low cardiac output status\n   nutrition npo\n   renal foley adequate urine output"
          ],
          [
           "b cell nonhodgkins lymphoma\n\nmajor surgical or invasive procedure\nnone\n\nhistory of present illness"
          ],
          [
           "myeloproliferativelymphproliferative\ndisorders"
          ],
          [
           "o2 low"
          ],
          [
           "criticaly"
          ],
          [
           "submassive pe"
          ],
          [
           "adnexal mass"
          ],
          [
           "right fibroid"
          ],
          [
           "multiorgan failure sp"
          ],
          [
           "visioncentral vision loss"
          ],
          [
           "multiple crusted lesions"
          ],
          [
           "bp 116080 hr 110"
          ],
          [
           "bizarre aggressive and often hypersexual behaviour"
          ],
          [
           "marrow insufficiency"
          ],
          [
           "cll infiltration"
          ],
          [
           "retinal hemorrhage"
          ],
          [
           "mca infarct"
          ],
          [
           "failurethis"
          ],
          [
           "right eye blindness"
          ],
          [
           "herpetic lip lesion"
          ],
          [
           "convulsive"
          ],
          [
           "abnormal neurologic exam"
          ],
          [
           "lle swelling"
          ],
          [
           "elevation"
          ],
          [
           "pneumonia meningitis"
          ],
          [
           "crusted lip lesions"
          ],
          [
           "wbc7700"
          ],
          [
           "bisacodyl 10 mg pr"
          ],
          [
           "zevalin"
          ],
          [
           "right eye vision loss"
          ],
          [
           "fluconazole ppx"
          ],
          [
           "die"
          ],
          [
           "vod"
          ],
          [
           "sulfa allergy"
          ],
          [
           "gmcsf"
          ],
          [
           "tamponadepericarditis"
          ],
          [
           "nondyspneic"
          ],
          [
           "hhv6 infection"
          ],
          [
           "elevated trop sp arrest"
          ],
          [
           "interstitial\n pulmonary edema"
          ],
          [
           "sp r heart cath"
          ],
          [
           "pah sp kidney"
          ],
          [
           "cardiovascular pump dysfunction"
          ],
          [
           "knowledge deficit"
          ],
          [
           "impaired functional mobility\n   2\n   impaired balance\n   3\n   impaired endurance"
          ],
          [
           "lft abnormalities"
          ],
          [
           "cerebral avm"
          ],
          [
           "hr76"
          ],
          [
           "rle bleed"
          ],
          [
           "interstitial pneumonitis"
          ],
          [
           "chestabdpelvisbone"
          ],
          [
           "chronic microvascular ischemic"
          ],
          [
           "rashs"
          ],
          [
           "vaginal bleed"
          ],
          [
           "breast\n   reduction"
          ],
          [
           "upper extremity bleed"
          ],
          [
           "cystic l paracentral cerebellar mass w"
          ],
          [
           "loc"
          ],
          [
           "acute paralytic ileus"
          ],
          [
           "hypoxic respiratory distresscxr"
          ],
          [
           "electrolytes abnormalities"
          ],
          [
           "bibasilar volume loss"
          ],
          [
           "advancetolerate"
          ],
          [
           "acute renal failure  will attempt lasix"
          ],
          [
           "prednisolone"
          ],
          [
           "lidocaineepinephrine"
          ],
          [
           "1222 reflexes"
          ],
          [
           "30cchr\n    placement of aline\n    will"
          ],
          [
           "effusions or inflitrate"
          ],
          [
           "cardiovascular accident"
          ],
          [
           "sp gastric aneurysm"
          ],
          [
           "image002jpg\n                                  21551222\n                          "
          ],
          [
           "sp ventral hernia"
          ],
          [
           "biliary duct"
          ],
          [
           "pernicious anemia"
          ],
          [
           "basal cell carcinoma"
          ],
          [
           "effusions or edema"
          ],
          [
           "atrial flutter sp avj"
          ],
          [
           "catarrhalis"
          ],
          [
           "small bowel obstruction alcohol"
          ],
          [
           "acute respiratory distress"
          ],
          [
           "hypercapneic respiratory distress"
          ],
          [
           "diltazem"
          ],
          [
           "labatolol"
          ],
          [
           "pt cr"
          ],
          [
           "doudenal perforation"
          ],
          [
           "elevated venous pressurevenous infarcts"
          ],
          [
           "anterior aphasia"
          ],
          [
           "carafate"
          ],
          [
           "asp pneumonia"
          ],
          [
           "dilated common bile duct status post"
          ],
          [
           "gi compliants"
          ],
          [
           "occipital lobe infarcts"
          ],
          [
           "manic depression"
          ],
          [
           "septal aneurysm"
          ],
          [
           "microvascular disease"
          ],
          [
           "left neglect essentially resolved no reproduceible\nextinction to double simultaneous stimulation"
          ],
          [
           "chronic lymphatic leukemia"
          ],
          [
           "covert infection"
          ],
          [
           "pleural\n effusions right greater"
          ],
          [
           "weight sp gastric bypass"
          ],
          [
           "frank edema"
          ],
          [
           "pmb"
          ],
          [
           "eating beef"
          ],
          [
           "ckcpk45 alkphos147"
          ],
          [
           "graves disease sp rai 2129\n5"
          ],
          [
           "punctured aorta sp"
          ],
          [
           "ro ischemia"
          ],
          [
           "right groin sheath"
          ],
          [
           "q4h pre"
          ],
          [
           "serevent"
          ],
          [
           "denies blurriness"
          ],
          [
           "av block  mobitz 2\n   wgt current 91 kg admission"
          ],
          [
           "fatty hila"
          ],
          [
           "image002jpg\n                            2132111  0900 pm\n                            2132111  1000 pm\n                            2132111  1122 pm\n                            2132112  1200 am\n                            2132112  0100 am\n                            2132112  0200 am\n                            2132112  0222 am\n                            2132112  0238 am"
          ],
          [
           "microangiopathic small"
          ],
          [
           "ldh1077"
          ],
          [
           "euthyroid syndrome"
          ],
          [
           "simvastatin 10 mg po qd"
          ],
          [
           "tingling or weakness"
          ],
          [
           "right maxillary sinus disease"
          ],
          [
           "visual\nloss"
          ],
          [
           "abnormal narrowing of\nyour blood vessels"
          ],
          [
           "cerebral angiopathy"
          ],
          [
           "angiopathy"
          ],
          [
           "sp c5c6"
          ],
          [
           "temporal subarachnoid hemorrhage"
          ],
          [
           "patent major dural venous sinuses"
          ],
          [
           "pontine stroke"
          ],
          [
           "axillae"
          ],
          [
           "bowel ischemia"
          ],
          [
           "hd8"
          ],
          [
           "abdominal aortic aneurysm"
          ],
          [
           "postinflammatory or postoperative"
          ],
          [
           "cranial fissure"
          ],
          [
           "b groin hernia"
          ],
          [
           "multiple allergies"
          ],
          [
           "inferior ischemia"
          ],
          [
           "carbidopalevodopa"
          ],
          [
           "hyporeflexic"
          ],
          [
           "bronchospastic"
          ],
          [
           "lacunes"
          ],
          [
           "right rib fractures"
          ],
          [
           "simvistatin"
          ],
          [
           "primary movement disorder"
          ],
          [
           "dm2 cb neuropathy"
          ],
          [
           "gmdb mon 2193122 229"
          ],
          [
           "misoprostal"
          ],
          [
           "rle rhabodmyosarcoma sp chemo"
          ],
          [
           "r thigh sarcoma"
          ],
          [
           "reactive lymphadenopathy"
          ],
          [
           "pulmonary vascular\n   congestion"
          ],
          [
           "rrr tachy"
          ],
          [
           "right uncal herniation"
          ],
          [
           "xopenexipatropium"
          ],
          [
           "diastolic chf"
          ],
          [
           "cardiac mass"
          ],
          [
           "purpura"
          ],
          [
           "biliary stones"
          ],
          [
           "unasyn  2141819 0210"
          ],
          [
           "chronic infection sp gastric bypas"
          ],
          [
           "nonheparin"
          ],
          [
           "ethanol acetmnp"
          ],
          [
           "linealine"
          ],
          [
           "servic"
          ],
          [
           "left ventricular systolic\n   dysfunction"
          ],
          [
           "mg uricacd"
          ],
          [
           "aortic\n   regurgitation"
          ],
          [
           "mdrd"
          ],
          [
           "hypoplastic left transverse sinus"
          ],
          [
           "heterogeneous right frontal lobe hematoma"
          ],
          [
           "abx levofloxacin"
          ],
          [
           "o2 reduced"
          ],
          [
           "densitylobulated lesion"
          ],
          [
           "l renal vein "
          ],
          [
           "portal hypertensive"
          ],
          [
           "volume overload and small leftsided pleural effusion"
          ],
          [
           "small effusion"
          ],
          [
           "diffuse loss of sulcation"
          ],
          [
           "viral encephalitis"
          ],
          [
           "patent"
          ],
          [
           "thin bilious"
          ],
          [
           "mirtazipine"
          ],
          [
           "fiio2"
          ],
          [
           "potasium"
          ],
          [
           "fentany"
          ],
          [
           "repleted kca"
          ],
          [
           "nausea this"
          ],
          [
           "dry\n mouth"
          ],
          [
           "dysurea"
          ],
          [
           "gemfibrizol"
          ],
          [
           "head mass"
          ],
          [
           "closedloop obstruction"
          ],
          [
           "decreased breath sounds bases"
          ],
          [
           "am7"
          ],
          [
           "zophran"
          ],
          [
           "psychiatric disorder"
          ],
          [
           "hypoxemiahypercarbia resp failure"
          ],
          [
           "small bowel dilatation"
          ],
          [
           "highgrade obstruction"
          ],
          [
           "febrile blood"
          ],
          [
           "colon"
          ],
          [
           "colon diverticula"
          ],
          [
           "siezure disorder"
          ],
          [
           "antisocial disorder"
          ],
          [
           "retroperitoneal abcess"
          ],
          [
           "olanzipine"
          ],
          [
           "enterocolitis"
          ],
          [
           "dm1 graves disease"
          ],
          [
           "l pulmonary embolism"
          ],
          [
           "pulmonary mass"
          ],
          [
           "darvocet"
          ],
          [
           "apparent gi bleed"
          ],
          [
           "multiple renal infarcts"
          ],
          [
           "left and small right pleural effusion"
          ],
          [
           "volume loss lll"
          ],
          [
           "right kidney abnormality"
          ],
          [
           "parapneumonic effusion"
          ],
          [
           "2xwk"
          ],
          [
           "coronary arterial calcifications"
          ],
          [
           "healfoot pain"
          ],
          [
           "anusol"
          ],
          [
           "small subgaleal"
          ],
          [
           "ointment  q"
          ],
          [
           "hydrocortisone acetate"
          ],
          [
           "aw neck pain"
          ],
          [
           "chillssweats"
          ],
          [
           "perphenazine"
          ],
          [
           "hemodynimic instability"
          ],
          [
           "image002jpg\n                            21681118  0528 am\n                            21681118  0351"
          ],
          [
           "right external auditory canal likely represents cerumen"
          ],
          [
           "image002jpg\n                            21651031  0306 am\n                            21651031  0912 am"
          ],
          [
           "abdback pain"
          ],
          [
           "nmb"
          ],
          [
           "infectionabscess"
          ],
          [
           "renal\nstones and weight loss"
          ],
          [
           "vanco allergic"
          ],
          [
           "o2 at 4l"
          ],
          [
           "sinus venous thrombosis"
          ],
          [
           "pseudotumor"
          ],
          [
           "neuts587"
          ],
          [
           "normal angina"
          ],
          [
           "na 130"
          ],
          [
           "yeast candidiasis"
          ],
          [
           "mirtazepine"
          ],
          [
           "count359"
          ],
          [
           "type 1 diabetes mellitus"
          ],
          [
           "lateral gaze deficit"
          ],
          [
           "attention deficit disorder"
          ],
          [
           "ventimask"
          ],
          [
           "rinorrhea"
          ],
          [
           "complaints of malaise"
          ],
          [
           "viagra"
          ],
          [
           "polyarthritis"
          ],
          [
           "res"
          ],
          [
           "neuropathic painneuropathy"
          ],
          [
           "crampy pain"
          ],
          [
           "pulmonary artery systolic pressures"
          ],
          [
           "corneal abrasion"
          ],
          [
           "mg150"
          ],
          [
           "complaints of angina"
          ],
          [
           "pod6"
          ],
          [
           "o2 sat98"
          ],
          [
           "gonorrheachlamydia"
          ],
          [
           "right sided droop"
          ],
          [
           "vulvar irritation"
          ],
          [
           "yeast infections"
          ],
          [
           "itchingburning"
          ],
          [
           "xopenex hfa"
          ],
          [
           "copd w emphysema"
          ],
          [
           "patellar subluxation"
          ],
          [
           "sensations"
          ],
          [
           "creat10 na136"
          ],
          [
           "hiv viral lode"
          ],
          [
           "alcian blue"
          ],
          [
           "anaplastic"
          ],
          [
           "heterogeneous opacification"
          ],
          [
           "subdurals"
          ],
          [
           "atonic colon"
          ],
          [
           "hydro small right kidney"
          ],
          [
           "upper lobe vascular congestion"
          ],
          [
           "fioricet 12 tabs po q 4"
          ],
          [
           "37f endometriosis"
          ],
          [
           "diphenhydramine hcl"
          ],
          [
           "mr of the head"
          ],
          [
           "desaturating"
          ],
          [
           "tingling and weakness"
          ],
          [
           "necrotic left kidney\n   "
          ],
          [
           "redose mannitol"
          ],
          [
           "euvolemic"
          ],
          [
           "atrial septal"
          ],
          [
           "tongue cancer"
          ],
          [
           "circulatory arrest"
          ],
          [
           "calcium embolus"
          ],
          [
           "poly substance abuse"
          ],
          [
           "nonsteroidals"
          ],
          [
           "chest wall abnormality"
          ],
          [
           "lumbar discitis"
          ],
          [
           "cordisintroducer  21321029 1028"
          ],
          [
           "chest abnormality"
          ],
          [
           "msir"
          ],
          [
           "o2 adeq"
          ],
          [
           "ro small bowel obstruction"
          ],
          [
           "infarcts\n   including cortical and subcortical areas of aca"
          ],
          [
           "aldactazide"
          ],
          [
           "enlargement of the\n cardiac silhouette"
          ],
          [
           "reduction of small bowel obstruction"
          ],
          [
           "renal cell carcinoma to lungs with bilateral\n  effusions\n reason"
          ],
          [
           "enlargement of\n the cardiac silhouette with evidence of elevated pulmonary venous pressure"
          ],
          [
           "loose stool"
          ],
          [
           "cvp10"
          ],
          [
           "acute pain serbice"
          ],
          [
           "pee 10 5"
          ],
          [
           "her mouth"
          ],
          [
           "ace inhibitors"
          ],
          [
           "pleural effusion w"
          ],
          [
           "frontal parenchymal hemorrhage"
          ],
          [
           "130140 ss"
          ],
          [
           "skeletal\n abnormalities"
          ],
          [
           "connective tissue disorder"
          ],
          [
           "nonsustained"
          ],
          [
           "she was initally"
          ],
          [
           "she was alertorientated x 3 on"
          ],
          [
           "wbc84 rbc467"
          ],
          [
           "htn disease"
          ],
          [
           "bicuspid aortic valve\nsp aortic"
          ],
          [
           "marfans or other\nconnective tissue disorders"
          ],
          [
           "o2 cool"
          ],
          [
           "o2 frequently"
          ],
          [
           "pipercillin"
          ],
          [
           "agd"
          ],
          [
           "abnormal stress"
          ],
          [
           "enlargement of the cardiopericardial silhouette"
          ],
          [
           "1basilar tip"
          ],
          [
           "postoperative bleeding"
          ],
          [
           "partiallythrombosed aneurysm"
          ],
          [
           "pmx"
          ],
          [
           "pre op"
          ],
          [
           "boluscoma"
          ],
          [
           "vascular distention"
          ],
          [
           "conjunctival hemorrhageedema"
          ],
          [
           "takotsubo cm"
          ],
          [
           "bileaflet leaflet mitral valve prolapse"
          ],
          [
           "peripheral blood eosinophilia"
          ],
          [
           "sm bowel obstructions"
          ],
          [
           "allergic\n   rhinitis"
          ],
          [
           "sunscreen"
          ],
          [
           "embolis"
          ],
          [
           "visual and auditory\n   "
          ],
          [
           "aneuryams"
          ],
          [
           "auditory and visual hallucinations"
          ],
          [
           "o2 down"
          ],
          [
           "pts"
          ],
          [
           "infectio"
          ],
          [
           "sp cholangitis"
          ],
          [
           "sp lad"
          ],
          [
           "diabetic ulcer"
          ],
          [
           "crohns pain"
          ],
          [
           "percocet 75500 mg every 6"
          ],
          [
           "diffuse bcell lymphoma"
          ],
          [
           "3114this"
          ],
          [
           "diabetic foot ulcer"
          ],
          [
           "obstructive disese"
          ],
          [
           "subcortical hypodensities"
          ],
          [
           "doperidol was"
          ],
          [
           "she was awoken"
          ],
          [
           "ischemic pain"
          ],
          [
           "heart\ndisease or diabetes"
          ],
          [
           "q8hours"
          ],
          [
           "crohns flares per dr last name stitle 2563"
          ],
          [
           "crohns exacerbations"
          ],
          [
           "cluster migraines"
          ],
          [
           "copper"
          ],
          [
           "glucose finger stick\n   143\n   21681122 1000 am\n   bun\n   99 mgdl\n   21681122 0427 am"
          ],
          [
           "abnormal liver"
          ],
          [
           "phosphrous"
          ],
          [
           "etoh pancreatitis"
          ],
          [
           "tgs"
          ],
          [
           "belching"
          ],
          [
           "trental"
          ],
          [
           "alcoholic beverage"
          ],
          [
           "hypomagnesemia"
          ],
          [
           "etoh hepatitis"
          ],
          [
           "fatty\ninfiltration"
          ],
          [
           "neurologic complaints"
          ],
          [
           "gallstone pancreatitis"
          ],
          [
           "gtc"
          ],
          [
           "vitamin c"
          ],
          [
           "exertional angina"
          ],
          [
           "ventricular pressurevolume overload"
          ],
          [
           "elevated cardiac enzymes"
          ],
          [
           "intrahepatic\n biliary duct"
          ],
          [
           "emphysematous bullous"
          ],
          [
           "chronic\ndisease vs ckd"
          ],
          [
           "antabuse"
          ],
          [
           "chronic renal injury"
          ],
          [
           "guanfacine"
          ],
          [
           "neurologic\ndeficits chest pain"
          ],
          [
           "mass or obstruction"
          ],
          [
           "dietary indiscretion"
          ],
          [
           "alkphos121"
          ],
          [
           "creat26"
          ],
          [
           "benzathine"
          ],
          [
           "sbo sp small bowel resection"
          ],
          [
           "avrmvr"
          ],
          [
           "renal laceration"
          ],
          [
           "atherosclerotic\n calcifications"
          ],
          [
           "non q"
          ],
          [
           "phaeochromocytoma"
          ],
          [
           "ceftriaxonedextrose"
          ],
          [
           "lantus 5 qam"
          ],
          [
           "end stage"
          ],
          [
           "alzheimers disease"
          ],
          [
           "tumour"
          ],
          [
           "sudden vision"
          ],
          [
           "kidney or liver disease"
          ],
          [
           "lower thoracic spine"
          ],
          [
           "haemangioblastoma"
          ],
          [
           "36yom"
          ],
          [
           "vomiting or diarrhea"
          ],
          [
           "deliriums tremens"
          ],
          [
           " mitral valve"
          ],
          [
           "petct"
          ],
          [
           "retinal vein thrombosis"
          ],
          [
           "squamous intraepithelial lesion"
          ],
          [
           "right frontal edema"
          ],
          [
           "vancceftriaxone"
          ],
          [
           "130s160s"
          ],
          [
           "highdose atorvastatin"
          ],
          [
           "r csdh sp drain placement 21361124\n reason for this examination\n  eval sdh\n no"
          ],
          [
           "reexpansion of the right\n lateral ventricle"
          ],
          [
           "appetite\n\n"
          ],
          [
           "hypokinesis of the basal half of the\nanterolateral wall"
          ],
          [
           "mildmoderate mitral\nregurgitation"
          ],
          [
           "left armshoulder pain"
          ],
          [
           "bivalirudin"
          ],
          [
           "r groin bruit sp 2"
          ],
          [
           "occlusion of\nsmall om branch"
          ],
          [
           "right groin bruit"
          ],
          [
           "stelevation"
          ],
          [
           "small hematoma"
          ],
          [
           "diabetic triopathy"
          ],
          [
           "via urinal"
          ],
          [
           "vessel coronary artery disease  lateral stemi"
          ],
          [
           "statin myopathy"
          ],
          [
           "but mae"
          ],
          [
           "intolerance of wean"
          ],
          [
           "nephrotoxic tubular injury"
          ],
          [
           "oliguric acute renal failure"
          ],
          [
           "small hiatal hernia"
          ],
          [
           "deformity"
          ],
          [
           "uc so lap"
          ],
          [
           "leukocytosisbandemia"
          ],
          [
           "tracheobronchomegaly"
          ],
          [
           "fungal uti"
          ],
          [
           "tbm sp tracheoplasty"
          ],
          [
           "frontal meningioma"
          ],
          [
           "myelodysplasia"
          ],
          [
           "milk of magnesia prn"
          ],
          [
           "om branch of the left circumflex artery"
          ],
          [
           "flovent 110mcg"
          ],
          [
           "kidney\ndamage"
          ],
          [
           "methotrexate sodium"
          ],
          [
           "kidney damage"
          ],
          [
           "lacunar stroke"
          ],
          [
           "hypercapneic"
          ],
          [
           "gammopathy"
          ],
          [
           "eyelid droop"
          ],
          [
           "degenerative disc disease"
          ],
          [
           "ll5s2"
          ],
          [
           "vancceftazflagyl"
          ],
          [
           " renal vitamins"
          ],
          [
           "degenerative joint disease of the cervical spine with\n anterior displacement of the c4 and c6 vertebrae"
          ],
          [
           "trendelenbergsupine"
          ],
          [
           "complains"
          ],
          [
           "sp stelevation inferior myocardial infarction"
          ],
          [
           "csf"
          ],
          [
           "glucose\n   124\n   119\n   104\n   108\n   other labs pt  ptt  inr15726914 ca86 mgdl mg21 mgdl\n   po459 mgdl\n   assessment and plan\n   pain control acute pain chronic pain impaired skin integrity\n   hypertension benign anemia chronic\n   assessment and plan 43 year old female readmitted on 115 for sternal\n   pain"
          ],
          [
           "atelectatic streaks"
          ],
          [
           "opacification of right lung"
          ],
          [
           "dry abrasion"
          ],
          [
           "difficulty swallowing"
          ],
          [
           "right eye visual loss"
          ],
          [
           "hypoactive bowel sounds \n   occasional nausea"
          ],
          [
           "facet degenerative"
          ],
          [
           "question dural tear"
          ],
          [
           "bursitis"
          ],
          [
           "chronic diarrhea\n   sp"
          ],
          [
           "om branch"
          ],
          [
           "paranoid schizophrenia"
          ],
          [
           "major depression"
          ],
          [
           "borderline microcytic"
          ],
          [
           "denies blood"
          ],
          [
           "paranoid type"
          ],
          [
           "lateral nystagmus"
          ],
          [
           "lipase96"
          ],
          [
           "discoid opacity"
          ],
          [
           "acetominophen overdose"
          ],
          [
           "acetominophen toxicity"
          ],
          [
           "denies suicide ideation"
          ],
          [
           "brain aneursyms"
          ],
          [
           "muscle tightnes"
          ],
          [
           "aneurysmal subarachnoid hemorrhage"
          ],
          [
           "transient loss of consciousness"
          ],
          [
           "chronic back spasms"
          ],
          [
           "funguria"
          ],
          [
           "blood loss from surgeriescolitis"
          ],
          [
           "combination of small"
          ],
          [
           "supraclinoid ica stenosis"
          ],
          [
           "visual loss"
          ],
          [
           "venous blood\n   "
          ],
          [
           "norepi"
          ],
          [
           "tahxrt"
          ],
          [
           "shortgut syndrome"
          ],
          [
           "denies any vomiting"
          ],
          [
           "lung abnormality"
          ],
          [
           "l 2 2 2 2 2 flexor"
          ],
          [
           "k 4 mg"
          ],
          [
           "mg sulfate"
          ],
          [
           "right hand numbness and"
          ],
          [
           "stable r neck hematoma"
          ],
          [
           "bipolar\n    continue outpt meds for now\n    psych"
          ],
          [
           "given pt"
          ],
          [
           "bladder motility"
          ],
          [
           "cough shortness of breath"
          ],
          [
           "right effusion"
          ],
          [
           "aml sp multiple chemosct and infxn complications"
          ],
          [
           "b cell nhl sp allo bmt"
          ],
          [
           "cerebral artery bleed"
          ],
          [
           "totbili167"
          ],
          [
           "skin abrassions"
          ],
          [
           "rny gb 2125\n\n\nsocial history"
          ],
          [
           "bullosa"
          ],
          [
           "image002jpg\n   see ho"
          ],
          [
           "congestive\n heart failure"
          ],
          [
           "verapmil"
          ],
          [
           "backneck pain"
          ],
          [
           "abp"
          ],
          [
           "bibasilar linear atelectasis"
          ],
          [
           "renal\n osteodystrophy"
          ],
          [
           "commentsplan"
          ],
          [
           "occlusion of the right internal carotid artery"
          ],
          [
           "stenosis of carotid arteries"
          ],
          [
           "postangioplasty"
          ],
          [
           "amsdelirium"
          ],
          [
           "ast58"
          ],
          [
           "acute cholecystitis  cholangitis"
          ],
          [
           "ln cancer"
          ],
          [
           "asthma pw acute"
          ],
          [
           "basilar\n atelectasis"
          ],
          [
           "mcas"
          ],
          [
           "aml sp transplant"
          ],
          [
           "fungal infections"
          ],
          [
           "asperigillosis"
          ],
          [
           "glucose finger stick\n   121\n   2140328 0800 am\n   bun\n   30 mgdl\n   2140328 0203 am"
          ],
          [
           "prevacid"
          ],
          [
           "dexamethsone"
          ],
          [
           "steatorrhea"
          ],
          [
           "respiratory infections"
          ],
          [
           "sao2"
          ],
          [
           "obese bs"
          ],
          [
           "ventricular premature contractions"
          ],
          [
           "pituitary\n macroadenoma"
          ],
          [
           "grimaces to mouth"
          ],
          [
           "modsevere pulmonary hypertension"
          ],
          [
           "ampicllin"
          ],
          [
           "decreasing basilar\n "
          ],
          [
           "evaluate hemorrhage"
          ],
          [
           "image002jpg\n                            21761119  1058 am\n                            21761119  1108 am\n                            21761119  1204 pm\n                            21761119  0257 pm\n                            21761119  0427"
          ],
          [
           "amiodarone aspirin"
          ],
          [
           "5min"
          ],
          [
           "abprx"
          ],
          [
           "1121transfer"
          ],
          [
           "midline inciscion"
          ],
          [
           "sp septic shock"
          ],
          [
           "hyperattenuating"
          ],
          [
           "chloramphenicol"
          ],
          [
           "ortho"
          ],
          [
           "ranolazine"
          ],
          [
           "modsevere"
          ],
          [
           "salaine"
          ],
          [
           "alspneumonia"
          ],
          [
           "perivalvular leaks"
          ],
          [
           "right mandibular fracture"
          ],
          [
           "hemodynam significant stenosis"
          ],
          [
           "mtt"
          ],
          [
           "hemorrhage or loss of doctor last name 107white matter differentiation"
          ],
          [
           "cerebral artery\n branch which was seen to be occluded in the previous angiogram"
          ],
          [
           "leiden deficiency"
          ],
          [
           "esophagael motility disorder"
          ],
          [
           "tracheal obstruction"
          ],
          [
           "ba"
          ],
          [
           "esophagus dysmotility"
          ],
          [
           "lower extremity neuropathy"
          ],
          [
           "breathlessness"
          ],
          [
           "myasthenic symptoms"
          ],
          [
           "pod6 fever"
          ],
          [
           "right renal cysts"
          ],
          [
           "t10 hemangioma"
          ],
          [
           "impaired cognitive status"
          ],
          [
           "impairments aw nonprogressive cns disorder"
          ],
          [
           "coughs"
          ],
          [
           "eps"
          ],
          [
           "qid ssri"
          ],
          [
           "motilin"
          ],
          [
           "dorzolamidetimolol 205"
          ],
          [
           "coiling"
          ],
          [
           "trachobronchoplasty"
          ],
          [
           "milk of magnesia 19"
          ],
          [
           "nmba"
          ],
          [
           "pulmonary opacification"
          ],
          [
           "acute cardiopulmonary abnormalities"
          ],
          [
           "dysmotility"
          ],
          [
           "paraesophageal hiatal"
          ],
          [
           "q6h tylenol"
          ],
          [
           "medrol"
          ],
          [
           "probable inferior"
          ],
          [
           "tracheomalasia"
          ],
          [
           "bronchomalacia sp right"
          ],
          [
           "artery disease lad w"
          ],
          [
           "colonvaginal fistula"
          ],
          [
           "h2o q6h"
          ],
          [
           "k35 cl110"
          ],
          [
           "cosopt 205"
          ],
          [
           "tooth pain"
          ],
          [
           "loop of small"
          ],
          [
           "dietary allergies"
          ],
          [
           "intraabdominal muscular wall laterally"
          ],
          [
           "intubated sp new l ij hd line\n  placement\n reason for this examination\n  assess for consolidation effusion"
          ],
          [
           "metabolic syndrome"
          ],
          [
           "l ij hd line posi\n admitting"
          ],
          [
           "fenofibrate"
          ],
          [
           "lower thoracic spine and lumbosacral junction"
          ],
          [
           "spinal degenerative"
          ],
          [
           "intraabdominal inflammation"
          ],
          [
           "montiro"
          ],
          [
           "meningiomas"
          ],
          [
           "novolog 100 unitml"
          ],
          [
           "alveolar opacities"
          ],
          [
           "clonazepam 2 mg pong hospital1 \n"
          ],
          [
           "small bowel followthrough"
          ],
          [
           "pseudoephedrine"
          ],
          [
           "loss of 50lbs"
          ],
          [
           "volume ascites"
          ],
          [
           "l ij hd line"
          ],
          [
           "shortness of\n breath"
          ],
          [
           "aggressive acid"
          ],
          [
           "orthostatic symptoms"
          ],
          [
           "ple"
          ],
          [
           "pt sp knee"
          ],
          [
           "dilantin 1gr"
          ],
          [
           "hd sp"
          ],
          [
           "vomiting fevers"
          ],
          [
           "valvular\nregurgitation or stenosis"
          ],
          [
           "hypoveolemia"
          ],
          [
           "obstructive cad"
          ],
          [
           "left lung bleed"
          ],
          [
           "hepatic decompensation"
          ],
          [
           "depressed hepatic synthetic function"
          ],
          [
           "acutealcoholic pancreatitis"
          ],
          [
           "adenocarcinoma"
          ],
          [
           "gi"
          ],
          [
           "onc"
          ],
          [
           "lung bleed"
          ],
          [
           "image002jpg\n                            2132112  0100 pm\n                            2132112  0152"
          ],
          [
           "chronic cardiopulmonary disease"
          ],
          [
           "occlusion"
          ],
          [
           "hickman"
          ],
          [
           "av\n malformation or dural av fistula"
          ],
          [
           "respiratory alkalemia"
          ],
          [
           "vascular fullness"
          ],
          [
           "fibrous midline septum"
          ],
          [
           "hemosiderin"
          ],
          [
           "hemorrhagic mass lesion"
          ],
          [
           "primary neoplasm"
          ],
          [
           "bathroom"
          ],
          [
           "failure to void\n   "
          ],
          [
           "nor"
          ],
          [
           "liquefactive necrosis"
          ],
          [
           "right frontal small"
          ],
          [
           "phytonadione"
          ],
          [
           "dysopyramide"
          ],
          [
           "vitamine k"
          ],
          [
           "occassional dry"
          ],
          [
           "chiari type 1 malformation"
          ],
          [
           "thin liquids"
          ],
          [
           "uterine fibroid"
          ],
          [
           "percocet abuse"
          ],
          [
           "s164"
          ],
          [
           "membranous glomerulonephritis"
          ],
          [
           "rp"
          ],
          [
           "image002jpg\n                            21561220  0200"
          ],
          [
           "dulcolax suppository"
          ],
          [
           "scoliosis of the thoracic spine convex\n to the right"
          ],
          [
           "denies suicide"
          ],
          [
           "ps abuse"
          ],
          [
           "left lobar pneumoniadecreasing white count"
          ],
          [
           "occult fracture"
          ],
          [
           "head incision ota"
          ],
          [
           "sp stentingleft"
          ],
          [
           "pulmonary\n abnormalities"
          ],
          [
           "subpulmonic elevating the lung base"
          ],
          [
           "intracranial\n hemorrhage or infarction"
          ],
          [
           "agenesis of\n the septum pellucidum"
          ],
          [
           "rectosigmoid cancer"
          ],
          [
           "uterine\n fibroid embolization"
          ],
          [
           "lower extremity\n   weakness"
          ],
          [
           "pw lower extremity weakness"
          ],
          [
           "anterolateral wall myocardial infarction"
          ],
          [
           "left renal cyst"
          ],
          [
           "bibasilar pulmonary consoloidation"
          ],
          [
           "urinary\n  retention"
          ],
          [
           "le weakness"
          ],
          [
           "buttock abscess"
          ],
          [
           "o2 prn"
          ],
          [
           "metablic alkalosis"
          ],
          [
           "dilated\n  bladder"
          ],
          [
           "image002jpg\n                            21251217  0815"
          ],
          [
           "ppm repair 1217 cb"
          ],
          [
           "cordisintroducer  21251217 0801"
          ],
          [
           "repolarization abnormality"
          ],
          [
           "diclofenac"
          ],
          [
           "adr"
          ],
          [
           "stenosis cervicallumbar"
          ],
          [
           "left radial arterial line"
          ],
          [
           "pursed lip"
          ],
          [
           "hmd"
          ],
          [
           "ccb"
          ],
          [
           "aneurysmal hemorrhage"
          ],
          [
           "darkened"
          ],
          [
           "protein40"
          ],
          [
           "anterior myocardial infarctions"
          ],
          [
           "lymph23"
          ],
          [
           "30cchr\n    cont broad spectrum antiobiotics"
          ],
          [
           "airway\n   gastrointestinal  abdomen npo c"
          ],
          [
           "neisseria meningitis"
          ],
          [
           "distended urinary bladder"
          ],
          [
           "ss active bleeding"
          ],
          [
           "pt hypotensive"
          ],
          [
           "nbp"
          ],
          [
           "compartment syndrome w"
          ],
          [
           "prazosin"
          ],
          [
           "ipratropiumalbuterol"
          ],
          [
           "sc pain"
          ],
          [
           "trsngressed"
          ],
          [
           "left hepatic arterial branch"
          ],
          [
           "stc"
          ],
          [
           "postlobectomy"
          ],
          [
           "back and neck pain"
          ],
          [
           "lymphatic obstruction"
          ],
          [
           "left supraclavicular adenopathy"
          ],
          [
           "frank hemoptysis"
          ],
          [
           "deaths"
          ],
          [
           "image002jpg\n                            2162122  1046 am\n                            2162122  0913"
          ],
          [
           "10050 hr"
          ],
          [
           "docitaxel"
          ],
          [
           "herparin"
          ],
          [
           "cisplatinetoposide x2xrtru"
          ],
          [
           "pinkness"
          ],
          [
           "o2 96"
          ],
          [
           "pulmonary embolus\n\n"
          ],
          [
           "crohns disease\nlower gi bleed"
          ],
          [
           "vitamin b12folic acid 051 mg"
          ],
          [
           "vitamin b6"
          ],
          [
           "barretts esophagus"
          ],
          [
           "nonproductive cough"
          ],
          [
           "chronic illness"
          ],
          [
           "image002jpg\n   wbc\n   hgb\n   hct"
          ],
          [
           "hl"
          ],
          [
           "r neck hematoma"
          ],
          [
           "clear suctioned small"
          ],
          [
           "88 fibrinogen"
          ],
          [
           "given k"
          ],
          [
           "pneuomonia"
          ],
          [
           "vancomycin readded"
          ],
          [
           "asses pain"
          ],
          [
           "right frontal meningioma"
          ],
          [
           "excruciating"
          ],
          [
           "nicorette"
          ],
          [
           "ischemiainfarct"
          ],
          [
           "kidney necrosis"
          ],
          [
           "intrahepatic bile\n duct dilatation"
          ],
          [
           "dopamin"
          ],
          [
           "30mcgkgmin neosynepherine"
          ],
          [
           "crohns  she was continued on"
          ],
          [
           "timentin"
          ],
          [
           "decreased pericardial effusion"
          ],
          [
           "dehydrationhypovolemia"
          ],
          [
           "transverse colon and descending colon"
          ],
          [
           "lupus nepritis"
          ],
          [
           "azulfidine"
          ],
          [
           "ifn"
          ],
          [
           "w k"
          ],
          [
           "image002jpg\n                            21451025  0111 am\n                            21451025  0259 am\n                            21451025  0540 am"
          ],
          [
           "46f"
          ],
          [
           "6mp"
          ],
          [
           "membranous glomeruloneprhitis"
          ],
          [
           "burr hole drsgs"
          ],
          [
           "anastomotic leak"
          ],
          [
           "ro le dvt"
          ],
          [
           "chronic back pains"
          ],
          [
           "crohns dx 20 years ago sp partial sm"
          ],
          [
           "appetite slowly"
          ],
          [
           "talon"
          ],
          [
           "crohns disease  the patient presented with worsening\nabdominal pain"
          ],
          [
           "shoulder injury"
          ],
          [
           "lupus or rheumatoid arthritis"
          ],
          [
           "morbilliform"
          ],
          [
           "crohns disease or other\nautoimmune diseases"
          ],
          [
           "slothing"
          ],
          [
           "hydrocortisone cream"
          ],
          [
           "ureaplasma"
          ],
          [
           "listeria"
          ],
          [
           "chlamydia trichomatosis"
          ],
          [
           "stomatitis"
          ],
          [
           "pt allergic"
          ],
          [
           "lightheadness"
          ],
          [
           "lower extremity venous ultrasound"
          ],
          [
           "unasyn  213633 1213 am"
          ],
          [
           "remicade"
          ],
          [
           "volume\n   overload"
          ],
          [
           "ekg nsr"
          ],
          [
           "vomiting dark guaic bilious"
          ],
          [
           "dypnea"
          ],
          [
           "noted"
          ],
          [
           "biliary colic"
          ],
          [
           "disorderfibromyalgia"
          ],
          [
           "subdural effusions"
          ],
          [
           "assist"
          ],
          [
           "sq edema"
          ],
          [
           "tibial vein thrombosis"
          ],
          [
           "right sided jawneckmouth pain"
          ],
          [
           "inferior t wave changes"
          ],
          [
           "p"
          ],
          [
           "basilar pulmonary opacities"
          ],
          [
           "hiv\npulmonary edema"
          ],
          [
           "alcoholwithdrawal"
          ],
          [
           "esomeprazole"
          ],
          [
           "hiv\ndisease"
          ],
          [
           "poiv"
          ],
          [
           "azacitidine 140"
          ],
          [
           "sodium fluoride"
          ],
          [
           "ckcpk132"
          ],
          [
           "acyclovir 400"
          ],
          [
           "right inferior pericallosal avm"
          ],
          [
           "she was bolused"
          ],
          [
           "guwnl"
          ],
          [
           "avg"
          ],
          [
           "acetaminophen6"
          ],
          [
           "image002jpg\n                            2108118  0523 am"
          ],
          [
           "septicemiacellulitis"
          ],
          [
           "yankauer"
          ],
          [
           "rv enddiastolic"
          ],
          [
           "right ventricular stroke"
          ],
          [
           "phlebotomy"
          ],
          [
           "hypertriglyceridimia"
          ],
          [
           "arrived but she ao"
          ],
          [
           "ruq abscess"
          ],
          [
           "hypoactive bs\n   assessment of nutritional status"
          ],
          [
           "necrotic pancreatitis"
          ],
          [
           "antisocial"
          ],
          [
           "psychiatric disorders"
          ],
          [
           "someone was"
          ],
          [
           "epileptic disorder"
          ],
          [
           "psychwnl"
          ],
          [
           "cvwnl"
          ],
          [
           "ht"
          ],
          [
           "insulindependent diabetes"
          ],
          [
           "left basilar opacification"
          ],
          [
           "basilar volume loss"
          ],
          [
           "myloid hyperplasia"
          ],
          [
           "trisomy 8 abnormality"
          ],
          [
           "dacogen"
          ],
          [
           "periorbital cellulitis"
          ],
          [
           "aml fab"
          ],
          [
           "restless legs syndrome"
          ],
          [
           "hematopoiesis"
          ],
          [
           "breast cysts"
          ],
          [
           "gastric cancer"
          ],
          [
           "on disability"
          ],
          [
           "image002jpg\n                                                                    1224a\n   \n   "
          ],
          [
           "pnd"
          ],
          [
           "pansensitive e"
          ],
          [
           "hepatic abscess"
          ],
          [
           "erythroid dyspoiesis"
          ],
          [
           "erythroid dominant"
          ],
          [
           "acute myeloid leukemia"
          ],
          [
           "congestionsinus pain"
          ],
          [
           "highdose arac"
          ],
          [
           "transient weakness"
          ],
          [
           "shakiness"
          ],
          [
           "conversion disorder"
          ],
          [
           "eyewnl anicteric"
          ],
          [
           "busulfan"
          ],
          [
           "cmv viremia"
          ],
          [
           "parainfluenza"
          ],
          [
           "20mgm2"
          ],
          [
           "zithromax"
          ],
          [
           "genwnl nad"
          ],
          [
           "cytarabine"
          ],
          [
           "fevers and right hand"
          ],
          [
           "cellulits"
          ],
          [
           "antecedant uri"
          ],
          [
           "intermittent pain"
          ],
          [
           "sternal erythemia"
          ],
          [
           "respiratory\n   decompensation"
          ],
          [
           "cl104"
          ],
          [
           "motivate"
          ],
          [
           "hypophyseal aneurysm"
          ],
          [
           "moderatetolarge left pleural effusion"
          ],
          [
           "chest effusion"
          ],
          [
           "occlusion of the aneurysm"
          ],
          [
           "hypophyseal widenecked aneurysm"
          ],
          [
           "cough of mod\n   amts thick white sputum"
          ],
          [
           "biv"
          ],
          [
           "deepbreathcough"
          ],
          [
           "sm"
          ],
          [
           "no temp"
          ],
          [
           "paf"
          ],
          [
           "sp trachaelplasty"
          ],
          [
           "ureteral stricture sp right"
          ],
          [
           "humor"
          ],
          [
           "image002jpg\n                             218319"
          ],
          [
           "lactic acid35 mmoll"
          ],
          [
           "left basal atelectasis"
          ],
          [
           "nimodapine q 2"
          ],
          [
           "parietal dural calcification"
          ],
          [
           "awaiting recs of acute pain"
          ],
          [
           "twaves"
          ],
          [
           "nitro 04sl"
          ],
          [
           "heart damage"
          ],
          [
           "naproxyn"
          ],
          [
           "prostate ca sp suprapubic prostatectomy\n   7"
          ],
          [
           "cad  sp anterior"
          ],
          [
           "r hip fracture"
          ],
          [
           "morning pain"
          ],
          [
           "ductal narrowing"
          ],
          [
           "neck abscess"
          ],
          [
           "uipipf"
          ],
          [
           "percocet 2 given"
          ],
          [
           "ild"
          ],
          [
           "bppt"
          ],
          [
           "nutritional deficiencies"
          ],
          [
           "herniated bowel"
          ],
          [
           "hyperchloremic acidosis"
          ],
          [
           "pneumoniawbc"
          ],
          [
           "heart disease sp mvr  first name8"
          ],
          [
           "deficit on visual fields"
          ],
          [
           "left popliteal dvt"
          ],
          [
           "histoplasmosis"
          ],
          [
           "nocardia"
          ],
          [
           "pseudomembranes"
          ],
          [
           "clostridium difficile"
          ],
          [
           "chlorideacetate"
          ],
          [
           "bone mets"
          ],
          [
           "vision\ndeficits headaches"
          ],
          [
           "spiculation"
          ],
          [
           "overloading the small bowel"
          ],
          [
           "decreases in blood\npressure increased"
          ],
          [
           "lidocaine hcl"
          ],
          [
           "vein thrombosispulmonary embolus"
          ],
          [
           "nonbacterial"
          ],
          [
           "mpa"
          ],
          [
           "venous stricture"
          ],
          [
           "cancer sp"
          ],
          [
           "sepsislike"
          ],
          [
           "ischemic bowel"
          ],
          [
           "upj\n obstruction on the right side"
          ],
          [
           "received 1u"
          ],
          [
           "mycotic anuerysms"
          ],
          [
           "placedangio"
          ],
          [
           "illicit hand grasps to command but pt moves upper extremities"
          ],
          [
           "mycotic emboliabscesses sp r clavicle excision"
          ],
          [
           "cheeks"
          ],
          [
           "bp9946"
          ],
          [
           "p54"
          ],
          [
           "sodium138"
          ],
          [
           "shortness of breath x 2"
          ],
          [
           "w r oopherectomy"
          ],
          [
           "rva thrombus"
          ],
          [
           "mantain"
          ],
          [
           "indetermingate"
          ],
          [
           "fibrocystic breast disease  sp multiple"
          ],
          [
           "cdiff infection"
          ],
          [
           "bp 11880"
          ],
          [
           "bladder cancer  sp recurrence"
          ],
          [
           "innapropiate"
          ],
          [
           "head cerebellar\n swelling"
          ],
          [
           "diabetes type ii"
          ],
          [
           "coronary atherosclerotic calcification"
          ],
          [
           "hospital1 \n10"
          ],
          [
           "capsaicin"
          ],
          [
           "arteriovenous fistulas"
          ],
          [
           "downward cerebellar herniation"
          ],
          [
           "acute cerebellar infarction"
          ],
          [
           "herniation of the cerebellum"
          ],
          [
           "nerve pain"
          ],
          [
           "decreased downward tonsillar herniation"
          ],
          [
           "downward\n tonsillar herniation"
          ],
          [
           "osseous\n abnormalities"
          ],
          [
           "lumbar disc herniation"
          ],
          [
           "cts"
          ],
          [
           "glucose finger stick\n   373\n   2201922 1000 pm"
          ],
          [
           "overfeeding"
          ],
          [
           " occult malignancy"
          ],
          [
           "left foot pain"
          ],
          [
           "calcification of the aorta"
          ],
          [
           "intrahepatic or extrahepatic biliary ductal"
          ],
          [
           "obstructive\n   sleep apnea"
          ],
          [
           "sbp110"
          ],
          [
           "rheumatic heart diseasemrms"
          ],
          [
           "brain aneurysms"
          ],
          [
           "disp132 capsules"
          ],
          [
           "astsgot20 alk"
          ],
          [
           "small aneurysm"
          ],
          [
           "major intrahepatic vasculature"
          ],
          [
           "renal\nfailure"
          ],
          [
           "major intrahepatic vasculature patent"
          ],
          [
           "salt"
          ],
          [
           "metoprolol tartate"
          ],
          [
           "bp15986"
          ],
          [
           "nonbleeding hemorrhoids"
          ],
          [
           "angioectasia"
          ],
          [
           "interlobar pulmonary embolism"
          ],
          [
           "calcification of the right"
          ],
          [
           "senile calcification"
          ],
          [
           "rheumatic heart\ndisease sp mvr"
          ],
          [
           "leuckocytosis"
          ],
          [
           "shortness of breath of 2\ndays duration"
          ],
          [
           "shellfish\n\nattendingmale"
          ],
          [
           "pleural\n effusions and left lower lobe infiltrates"
          ],
          [
           "uip"
          ],
          [
           "menieres dz\n\n\nsocial history"
          ],
          [
           "dp           right 2"
          ],
          [
           "menieres dz\n\n\ndischarge condition"
          ],
          [
           "rle pain"
          ],
          [
           "nafcillingentamicin"
          ],
          [
           "hepatitis c b"
          ],
          [
           "nonischemia"
          ],
          [
           "subarachnoid empyema"
          ],
          [
           "bloodurine"
          ],
          [
           "tricuspid\n   regurgitation"
          ],
          [
           "postcraniotomy"
          ],
          [
           "ugib erosive esophagitis"
          ],
          [
           "impaired lungs"
          ],
          [
           "ddavp w"
          ],
          [
           "pda disease"
          ],
          [
           "nausea malaise"
          ],
          [
           "frontal cortical stroke"
          ],
          [
           "pelvic bone tumor"
          ],
          [
           "phos45 amylase54 tot"
          ],
          [
           "atrial or ventricular enlargement"
          ],
          [
           "sp pelvic cyst"
          ],
          [
           "ct390"
          ],
          [
           "decreased breath sounds left base"
          ],
          [
           "occlusion of the basilar artery"
          ],
          [
           "orthopenia"
          ],
          [
           "acutesubacute infarction"
          ],
          [
           "right mca stroke"
          ],
          [
           "petichial hemorrhage"
          ],
          [
           "eo perforation"
          ],
          [
           "hydrocortisone na"
          ],
          [
           "pituitary\n   adenoma"
          ],
          [
           " cnvi palsy"
          ],
          [
           "vasculitic"
          ],
          [
           "nucleic acid"
          ],
          [
           "grimacing and nonverbal cues"
          ],
          [
           "pud\nsp cholecystectomy\n"
          ],
          [
           "septal myocardial"
          ],
          [
           "vitamin drinks"
          ],
          [
           "right cerebellar hematoma"
          ],
          [
           "chronic\n small vessel"
          ],
          [
           "appreciate pain"
          ],
          [
           "crohns disease\n\n"
          ],
          [
           "tea"
          ],
          [
           "mucosal prolapse polyp"
          ],
          [
           "chronic active enteritis"
          ],
          [
           "adls"
          ],
          [
           "dilated small bowel loops partially imaged"
          ],
          [
           "ast29"
          ],
          [
           "herpes simplex virus"
          ],
          [
           "watery green"
          ],
          [
           "ibd uc"
          ],
          [
           "desonide"
          ],
          [
           "dilated small bowel loops and portal venous"
          ],
          [
           "vasculitic or encephalitic  cerbritis"
          ],
          [
           "sinus\n disease"
          ],
          [
           "normalappearing basilar\n artery"
          ],
          [
           "active hemorrhage"
          ],
          [
           "eg"
          ],
          [
           "cmg"
          ],
          [
           "mediastinitis"
          ],
          [
           "delayed motor skills"
          ],
          [
           "sp lap hiatal hernia"
          ],
          [
           "hd again tommorow"
          ],
          [
           "pancreatic insufficiency"
          ],
          [
           "carotidcavernous sinus fistulization"
          ],
          [
           "aggressive infection"
          ],
          [
           "hodgkins\n lymphoma"
          ],
          [
           "left atrial abnormality"
          ],
          [
           "disconjugate"
          ],
          [
           "dm and renal disease sp kidney transplant"
          ],
          [
           "bilat carotid stenosis"
          ],
          [
           "w r"
          ],
          [
           "anomaly"
          ],
          [
           "basilar\n effusions"
          ],
          [
           "lowattenuation renal lesions"
          ],
          [
           "hrsdecreased"
          ],
          [
           "from back injury"
          ],
          [
           "lactic acid26"
          ],
          [
           "gi swelling\n   gastrointestinal  abdomen"
          ],
          [
           "r medial orbital\n  wall"
          ],
          [
           "right lamina papyracea fracture"
          ],
          [
           "vit k malabsorption"
          ],
          [
           "traumatic ich"
          ],
          [
           "naphos"
          ],
          [
           "respiratory decline\n   gastrointestinal  abdomen"
          ],
          [
           "vecuronium bromide"
          ],
          [
           "cerebral bleeding"
          ],
          [
           "hd line\n \n                                 final report\n indication"
          ],
          [
           "fatty\n   liver"
          ],
          [
           "multiple leftsided rib fractures"
          ],
          [
           "pneumoni"
          ],
          [
           "hep b"
          ],
          [
           "fioricet 12tabs q6hrsprn"
          ],
          [
           "traumatic intracranial hemorrhage"
          ],
          [
           "temporal subgaleal hematoma"
          ],
          [
           "aortic disease"
          ],
          [
           "intraosseous lesions"
          ],
          [
           "renal edema"
          ],
          [
           "pericholecystic"
          ],
          [
           "lower abdominal cramping"
          ],
          [
           "small bowel disease"
          ],
          [
           "atheromatous"
          ],
          [
           "fibrotic cicatrizing mesenteric changes"
          ],
          [
           "duodenal ulcer perforation"
          ],
          [
           "image002jpg\n   wbc\n   hct\n   plt"
          ],
          [
           "nasal bone fracture"
          ],
          [
           "vasculopathy"
          ],
          [
           "mitral valve\n regurgitation"
          ],
          [
           "b cell nonhodgkins lymphoma"
          ],
          [
           "coronary artery disease status"
          ],
          [
           "subgaleal hematoma"
          ],
          [
           "trace subarachnoid hemorrhage"
          ],
          [
           "mucus impaction"
          ],
          [
           "lingual swelling"
          ],
          [
           "cholangioca sp ptcx3 cb bleed"
          ],
          [
           "mult asp"
          ],
          [
           "inferior myocardial"
          ],
          [
           "anosognosia"
          ],
          [
           "asomatognosia"
          ],
          [
           "mil dleft facial droop"
          ],
          [
           "dph"
          ],
          [
           "ph65"
          ],
          [
           "menieres syndrome"
          ],
          [
           "mitral vlave prolapse"
          ],
          [
           "leftsided basal atelectasis"
          ],
          [
           "demyelinating conditions \nautoimmune conditions \nprocoagulant conditions "
          ],
          [
           "mirabilis"
          ],
          [
           "8am bowel regimen"
          ],
          [
           "supraclavicular lipoma"
          ],
          [
           "ankle injury"
          ],
          [
           "bone destructive lesion or acute fracture"
          ],
          [
           "eval"
          ],
          [
           "varix"
          ],
          [
           "prosopagnosia"
          ],
          [
           "drinke wine 3xwk"
          ],
          [
           "23xwk"
          ],
          [
           "blurring of the doctor last name 107white matter junction"
          ],
          [
           "left ventricular aneurysm"
          ],
          [
           "arrest sp multiple"
          ],
          [
           "obese"
          ],
          [
           "bu"
          ],
          [
           "rib fractures"
          ],
          [
           "was pan"
          ],
          [
           "wrists"
          ],
          [
           "o2 while"
          ],
          [
           "right cerebellar stroke"
          ],
          [
           "herniated bowel loops"
          ],
          [
           "disipate"
          ],
          [
           "transfusiondependent"
          ],
          [
           "trace edema"
          ],
          [
           "cardiac pump dysfunction"
          ],
          [
           "mitral regurgitationprolapse sp minimally invasive mitral\nvalve repair\n"
          ],
          [
           "pleural leak"
          ],
          [
           "crohns sp pea arrest w"
          ],
          [
           "rheumatic arthritis"
          ],
          [
           "cerebellar hemorrhagic lesion"
          ],
          [
           "posttraumatic stress"
          ],
          [
           "head and neck circulation"
          ],
          [
           "romberg"
          ],
          [
           "homocysteine"
          ],
          [
           "respiratory instability"
          ],
          [
           "temproal"
          ],
          [
           "o2 to"
          ],
          [
           "antiseizure"
          ],
          [
           "type disorder"
          ],
          [
           "nonepileptic seizures"
          ],
          [
           "lung opacities"
          ],
          [
           "ependymoma"
          ],
          [
           "plexus papilloma"
          ],
          [
           "pectus deformity"
          ],
          [
           "left cerebellar hemorrhage"
          ],
          [
           "bowel\n obstruction"
          ],
          [
           "left cerebellar abnormality"
          ],
          [
           "basilar thrombosis"
          ],
          [
           "o2 while sleeping"
          ],
          [
           "titrate levo"
          ],
          [
           "nonblanching"
          ],
          [
           "white frothy nasal secretions"
          ],
          [
           "gbm pw mental status\n   change and word finding"
          ],
          [
           "ics"
          ],
          [
           "extensive cystic encephalomalacia"
          ],
          [
           "sinus vein thrombosis"
          ],
          [
           "cirrhosis sp ogt placement\n reason for this examination\n  please eval for ogt placement\n \n                                 final report\n history  52yearold woman with"
          ],
          [
           "image002jpg\n                            21651031  0325"
          ],
          [
           "op wnl"
          ],
          [
           "atlantoaxial"
          ],
          [
           "td"
          ],
          [
           "l np tol"
          ],
          [
           "hypercholesterolemia sp carpal"
          ],
          [
           "blood in mouth\ncv rrr"
          ],
          [
           "lipase30"
          ],
          [
           "vascular\n\nmalformation"
          ],
          [
           "hemorrhage of the anterior corpus callosum and frontal ventricular"
          ],
          [
           "dp           right    left \npt           name"
          ],
          [
           "scattered rhonchi"
          ],
          [
           "nadquite anxious"
          ],
          [
           "ventricular premature depolarizations"
          ],
          [
           "dilantin q8h"
          ],
          [
           "anticoagulationautoimmune disorders"
          ],
          [
           "autoimmuneanticoagulation disorders"
          ],
          [
           "hepatic artery"
          ],
          [
           "3xday"
          ],
          [
           "ptc\n catheters"
          ],
          [
           "occlusion of right anterior"
          ],
          [
           "ronchi bilat and exp wheezes"
          ],
          [
           "lcws"
          ],
          [
           "cough  prod"
          ],
          [
           "archnoid cyst"
          ],
          [
           "uterine bleedinglikely cyst rupture"
          ],
          [
           "4the aortic"
          ],
          [
           "bowelbladder incontinence"
          ],
          [
           "valvular abnormalities"
          ],
          [
           "adjustment disorder"
          ],
          [
           "painful urination"
          ],
          [
           "intracranial tumor"
          ],
          [
           "left basal pleural effusion"
          ],
          [
           "hyperprolactinemia"
          ],
          [
           "oliguric"
          ],
          [
           "preeclampsia"
          ],
          [
           "twovessel disease"
          ],
          [
           "ostial stenosis"
          ],
          [
           "vancomeropenimposiconazole"
          ],
          [
           "anterior ischemia"
          ],
          [
           "electrocradiogram"
          ],
          [
           "risperdal"
          ],
          [
           "aneurysmal interatrial"
          ],
          [
           "acute myelogenous leukemia"
          ],
          [
           "selfmutilation"
          ],
          [
           "hiv disease"
          ],
          [
           "elevated pulmonary venous"
          ],
          [
           "sp copd"
          ],
          [
           "lamotrigene"
          ],
          [
           "aline"
          ],
          [
           "preganacy"
          ],
          [
           "pt critically ill"
          ],
          [
           "na q6h"
          ],
          [
           "chest burning"
          ],
          [
           "asds"
          ],
          [
           "2xday"
          ],
          [
           "hyperplasia posttransplant lymphoproliferative disorder"
          ],
          [
           "cd138"
          ],
          [
           "perinephric mass\n\n2101727 resection of medial 124 of right clavicle"
          ],
          [
           "pectoralis myofascial flap"
          ],
          [
           "nausea and nonbloody"
          ],
          [
           "esophageal irritation"
          ],
          [
           "sp right femoral hernia"
          ],
          [
           "violent vomiting"
          ],
          [
           "fibrous"
          ],
          [
           "maaloxsimethiconelidocaine"
          ],
          [
           "cipro 400"
          ],
          [
           "intermittent chills"
          ],
          [
           "kl"
          ],
          [
           "v617f"
          ],
          [
           "secundum atrial septal defects"
          ],
          [
           "ptld or lymphoma"
          ],
          [
           "hypoxia ro effusion"
          ],
          [
           "fluid loss from vomiting"
          ],
          [
           "hypoxia ro"
          ],
          [
           "albuterol inh"
          ],
          [
           "microangiopathic small vessel disease"
          ],
          [
           "image002jpg\n   21591220 cxr ap"
          ],
          [
           "turningactivity"
          ],
          [
           "o2 weened"
          ],
          [
           "o2 reapplied"
          ],
          [
           "vasovagal syncopal"
          ],
          [
           "small right effusion"
          ],
          [
           "gbs"
          ],
          [
           "amipicillin"
          ],
          [
           "gbs infection"
          ],
          [
           "nicardipin"
          ],
          [
           "pcn allergy"
          ],
          [
           "a leftsided small"
          ],
          [
           "elevated pulmonary venous pressure"
          ],
          [
           "dilation of small bowel loops proximally measuring up to 34 cm\n in maximal dimensions"
          ],
          [
           "l cerebellar mass sp"
          ],
          [
           "left arm posturing"
          ],
          [
           "erythematous dermatographic rash"
          ],
          [
           "left pleural effusion"
          ],
          [
           "atelectasis wp"
          ],
          [
           "hemorrhagic left effusion"
          ],
          [
           "lle weakness"
          ],
          [
           "hydrate w"
          ],
          [
           "image002jpg\n                            21681122  0427 am\n                            21681122  0354 pm"
          ],
          [
           "emeses"
          ],
          [
           "upper lobe opacification"
          ],
          [
           "pt afebrilelow"
          ],
          [
           "upper lobe abnormality"
          ],
          [
           "mediastinal fullness"
          ],
          [
           "comapazine"
          ],
          [
           "htz"
          ],
          [
           "image002jpg\n                            21281115  1057 pm\n                            21281116  0412 am"
          ],
          [
           "neurologic sp ir r mca"
          ],
          [
           "image002jpg\n                            21561215  0323"
          ],
          [
           "mycobacterium avium intracellulare infection"
          ],
          [
           "atroventalbuterol"
          ],
          [
           "acromioclavicular osteoarthritis"
          ],
          [
           "image002jpg\n                            2170105  0739 am\n                            2170105  1225 pm\n                            2170105"
          ],
          [
           "small hemorrhage"
          ],
          [
           "thiamine folate"
          ],
          [
           "lspine"
          ],
          [
           "dm type 2 insulin"
          ],
          [
           "wellbutrin overdose"
          ],
          [
           "aids dementia"
          ],
          [
           "sbr"
          ],
          [
           "diabetes mellitus type 2\n   atrial septal defect"
          ],
          [
           "hi"
          ],
          [
           "chloroquine blurred vision"
          ],
          [
           "nph regimen"
          ],
          [
           "hydroxychloroquine sulfate rash"
          ],
          [
           "lisinopril 10mg"
          ],
          [
           "cholestyramine"
          ],
          [
           "humulin n 100 unitml"
          ],
          [
           "sodium diet"
          ],
          [
           "lactic acid33"
          ],
          [
           "ue sluggish decerebrate posturing"
          ],
          [
           "headaches blurred vision"
          ],
          [
           "methanol"
          ],
          [
           "elevated blood pressures"
          ],
          [
           "postphlebitic syndrome"
          ],
          [
           "left leg dvt"
          ],
          [
           "clonidine patch"
          ],
          [
           "tonight"
          ],
          [
           "o2\n   sats 98"
          ],
          [
           "left eye droop"
          ],
          [
           "o2 flow3 po292 pco238"
          ],
          [
           "bloody nonmelanotic stools"
          ],
          [
           "alcohol profiletest"
          ],
          [
           "eo acute infection"
          ],
          [
           "r knee effusion"
          ],
          [
           "knee effusion"
          ],
          [
           "gbs pharyngitis"
          ],
          [
           "dilated branch"
          ],
          [
           "pulmonary artery"
          ],
          [
           "breathdyspnea on exertion"
          ],
          [
           "urean9 creat09"
          ],
          [
           "loss of bladder\n   "
          ],
          [
           "bipolar\n    continue outpt meds for now\n    psych consult   recommend 11 sitter and limit usage of sedatives\n    confirm diagnosismedications w"
          ],
          [
           "trachea  bronchus"
          ],
          [
           "pt anxiety"
          ],
          [
           "cerebral vasculitis"
          ],
          [
           "left spigelian hernia"
          ],
          [
           "colon herniated"
          ],
          [
           "strangulation"
          ],
          [
           "bcell nonhodgkins lymphoma"
          ],
          [
           "treanding"
          ],
          [
           "lobar segmental pulmonary arteries"
          ],
          [
           "sp allo"
          ],
          [
           "small bloody"
          ],
          [
           "rij trauma cordis"
          ],
          [
           "enlargement of mediastinal lymph nodes"
          ],
          [
           "dm type 1"
          ],
          [
           "hcv"
          ],
          [
           "sterday"
          ],
          [
           "abnormal left ventricular contour"
          ],
          [
           "lymphs77"
          ],
          [
           "breast\nreduction surgery"
          ],
          [
           "reexpanded"
          ],
          [
           "t2 n0 m0 er"
          ],
          [
           "denies urinary or abdominal symptoms"
          ],
          [
           "painnausea"
          ],
          [
           "fsbg qid"
          ],
          [
           "calcification of the\n aorta"
          ],
          [
           "abnormal arteriovenous shunting"
          ],
          [
           "sp meningioma"
          ],
          [
           "delta delta"
          ],
          [
           "a sp right occipital craniotomy for mass\np hospital  transfer"
          ],
          [
           "hypoxiashortness of breath"
          ],
          [
           "heart\n   disease"
          ],
          [
           "hypercholesteremia"
          ],
          [
           "hydrocortisone valerate"
          ],
          [
           "occipital headache"
          ],
          [
           "constipationdiarrhea"
          ],
          [
           "levsin"
          ],
          [
           "s my"
          ],
          [
           "rlq tenderness"
          ],
          [
           "chronic ureterovesical junction obstruction"
          ],
          [
           "uterine or adnexal abnormality"
          ],
          [
           "metoprolol q 6 hrs"
          ],
          [
           "hypodense renal lesions"
          ],
          [
           "bordeline personality disorder"
          ],
          [
           "aslo"
          ],
          [
           "questionsremians"
          ],
          [
           "pentobarbital"
          ],
          [
           "902 am"
          ],
          [
           "disarthria"
          ],
          [
           "sulfate 25 mg"
          ],
          [
           "left frontotemporal edema"
          ],
          [
           "planing"
          ],
          [
           "tyramine"
          ],
          [
           "t3b n0"
          ],
          [
           "parkinson"
          ],
          [
           "hyperoxic"
          ],
          [
           "infantile febrile seizures"
          ],
          [
           "labetalol 400"
          ],
          [
           "ulcer disease"
          ],
          [
           "volume\n overload"
          ],
          [
           "subglottic edema"
          ],
          [
           "levalbuterol hcl"
          ],
          [
           "levoalbuterol"
          ],
          [
           "abnormal blush"
          ],
          [
           "occlusion of the right distal middle cerebral artery"
          ],
          [
           "ectopy small runs"
          ],
          [
           "shortness of\nbreath\n start"
          ],
          [
           "mitral\nregurgitation and will need to follow up with cardiology upon\nleaving the hospital  you also developed a clot"
          ],
          [
           "nephrotic"
          ],
          [
           "bronchial intercostal trunk"
          ],
          [
           "hr 112 rr 16 sao2"
          ],
          [
           "diabetic retinopathy"
          ],
          [
           "accquired hemophilia"
          ],
          [
           "cancer or bleeding blood disorders"
          ],
          [
           "heart valve disease"
          ],
          [
           "tenderneess"
          ],
          [
           "lipase10"
          ],
          [
           "trimethoprimsulfamethoxazole"
          ],
          [
           "blush"
          ],
          [
           " bladder neck stricture"
          ],
          [
           "o2 sats intermittantly"
          ],
          [
           "constipation vomiting"
          ],
          [
           "enalaprilat"
          ],
          [
           "inferior t wave abnormalities"
          ],
          [
           "gi or musculoskeletal pain"
          ],
          [
           "hyptertensive"
          ],
          [
           "nitro\n   gtt given 2 l ns"
          ],
          [
           "thio cyanate"
          ],
          [
           "lightheadedness shortness of breath"
          ],
          [
           "diabetes endstage renal disease"
          ],
          [
           "quadriplegia"
          ],
          [
           "tarry bowel"
          ],
          [
           "bibasilar airspace opacification"
          ],
          [
           "atonic"
          ],
          [
           "inanition"
          ],
          [
           "vomiting coffe ground like stuff\n\n"
          ],
          [
           "probable inferior wall myocardial infarction"
          ],
          [
           "thiamin"
          ],
          [
           "migrain headache"
          ],
          [
           "dm with stage iv"
          ],
          [
           "7mgkg"
          ],
          [
           "bacterial peritonitis"
          ],
          [
           "o2 sata"
          ],
          [
           "clinicnephrology"
          ],
          [
           "constipations"
          ],
          [
           "left wrist abscess"
          ],
          [
           "ankle pain"
          ],
          [
           "peg sp"
          ],
          [
           "sp closed reduction"
          ],
          [
           "fecal incontinence"
          ],
          [
           "agitateduncooperative"
          ],
          [
           "dural venous sinuses"
          ],
          [
           "cerebral  edema"
          ],
          [
           "glucose finger stick\n   147\n   2192430 1200 pm\n   bun\n   23 mgdl\n   2192430 0116 am"
          ],
          [
           "esoph spasm"
          ],
          [
           "st depressions"
          ],
          [
           "feversp"
          ],
          [
           "chronic neuropathic pain"
          ],
          [
           "splinter"
          ],
          [
           "nutritional bowel and cardiac status"
          ],
          [
           "gsw"
          ],
          [
           "hypopigmentation"
          ],
          [
           "hiv infection"
          ],
          [
           "astsgot37 alk"
          ],
          [
           "hypertensive encephalopathy"
          ],
          [
           "intraabdominal bullets"
          ],
          [
           "hiv\n      "
          ],
          [
           "vasculitiscerebritis"
          ],
          [
           "autoimmune disorders"
          ],
          [
           "rheum"
          ],
          [
           "bowel disease"
          ],
          [
           "lupus enteritis"
          ],
          [
           "rheum recs"
          ],
          [
           "alt237"
          ],
          [
           "alkphos106"
          ],
          [
           "subarachnoid bleed"
          ],
          [
           "lupus cerebritis"
          ],
          [
           "gout flarepain"
          ],
          [
           "fibrous adhesions"
          ],
          [
           "protein40g lipids"
          ],
          [
           "appendix"
          ],
          [
           "combination of polycystic\n   kidney disease"
          ],
          [
           "feverinfection"
          ],
          [
           "infected kidney stones sp"
          ],
          [
           "ureter stones"
          ],
          [
           "abdpelv polycystic kidney"
          ],
          [
           "thyroid\n   disease"
          ],
          [
           "renal\n insufficiency"
          ],
          [
           "osteitis"
          ],
          [
           "pain headache"
          ],
          [
           "obstructive\n   diuresis from the percutaneous nephrostomy tube placed today\n   ivf boluses until rehydrated\n   lopressor iv"
          ],
          [
           "polycystic kidneys with one\n   group of anterior stones"
          ],
          [
           "urinary urgency  frequency"
          ],
          [
           "inferior q"
          ],
          [
           "chiari"
          ],
          [
           "tussive"
          ],
          [
           "kidney infection"
          ],
          [
           "mesenteric adenopathy"
          ],
          [
           "conray"
          ],
          [
           "small bowel segmental resection"
          ],
          [
           "nonobstructing renal calculi"
          ],
          [
           "cerebral vasospasms"
          ],
          [
           "headacheseizuresro"
          ],
          [
           "ro sinusitis"
          ],
          [
           "excoriation"
          ],
          [
           "complaints of abdominal pain"
          ],
          [
           "mortise"
          ],
          [
           "csurg"
          ],
          [
           "nephrocalcinosis"
          ],
          [
           "shivering"
          ],
          [
           "calcification of the medullary pyramids"
          ],
          [
           "had an"
          ],
          [
           "lasted"
          ],
          [
           "impairments aw cns dysfunction"
          ],
          [
           "rhonchi b upper bs"
          ],
          [
           "sp b"
          ],
          [
           "diverticular dz sp appy"
          ],
          [
           "osteoperosis"
          ],
          [
           "twave flattening"
          ],
          [
           "mental retardation"
          ],
          [
           "edema esp"
          ],
          [
           "sp hysterectomy\n   her father died of"
          ],
          [
           "sp small right infarct"
          ],
          [
           "teated"
          ],
          [
           "abnormal extension"
          ],
          [
           "right groin angio"
          ],
          [
           "sp ruptured r mca aneurysm"
          ],
          [
           "sp r mca aneurysm"
          ],
          [
           "asymmetric noncardiogenic pulmonary edema"
          ],
          [
           "neb soln 2"
          ],
          [
           "lungs predominantly in the perihilar regions"
          ],
          [
           "o2 x2"
          ],
          [
           "pedis artery"
          ],
          [
           "intervertebral disc disease"
          ],
          [
           "right external auditory canal"
          ],
          [
           "37f obesity"
          ],
          [
           "viral prodrome"
          ],
          [
           "image002jpg\n   ecg"
          ],
          [
           "strep viridans bacteremia"
          ],
          [
           "pleural and midline drains"
          ],
          [
           "catheterrelated bloodstream infection"
          ],
          [
           "clubbing or edema"
          ],
          [
           "ciprofloxacin 400"
          ],
          [
           "coagulasenegative staphylococcus"
          ],
          [
           "marcaine"
          ],
          [
           "fluticasone nasal"
          ],
          [
           "neb soln 1 neb ih"
          ],
          [
           "conjugated estrogens 0625"
          ],
          [
           "focal weakness"
          ],
          [
           "renal cell carcinoma metastatic to the lung pleura and pericardium"
          ],
          [
           "cefoxitin"
          ],
          [
           "hbsag"
          ],
          [
           "bibasilar infiltrates"
          ],
          [
           "ems was"
          ],
          [
           "lisinoprol"
          ],
          [
           "noticeable"
          ],
          [
           "pan"
          ],
          [
           "loss of\n doctor last name 265white differentiation"
          ],
          [
           "hemorrhagic conjuntivitis"
          ],
          [
           "urinary tract infections"
          ],
          [
           "bigeminy"
          ],
          [
           "sp tumor"
          ],
          [
           "headache throbbing"
          ],
          [
           "eos69"
          ],
          [
           "append"
          ],
          [
           "lp headache"
          ],
          [
           "hearing deficit"
          ],
          [
           "bitemporal headache"
          ],
          [
           "small glioma"
          ],
          [
           "mvr"
          ],
          [
           "left ptosis "
          ],
          [
           "transverse sinus thrombosis"
          ],
          [
           "left arm twitching"
          ],
          [
           "hbsagnegative hbs"
          ],
          [
           "astsgot16 alk"
          ],
          [
           "image002jpg\n                            21681119  0303 am"
          ],
          [
           "liver\n   dysfunction"
          ],
          [
           "mitral bioprosthetic"
          ],
          [
           "sinus"
          ],
          [
           "drainageact"
          ],
          [
           "left ventricle  inferolateral thickness"
          ],
          [
           "distended hypoactive\n   left extremities"
          ],
          [
           "requiring"
          ],
          [
           "stomache"
          ],
          [
           "cordisintroducer  2153216 0140 pm"
          ],
          [
           "sp prostate"
          ],
          [
           "sp appy\n\nsocial history"
          ],
          [
           "pleural effusions\n\n"
          ],
          [
           "left ventricle  diastolic dimension"
          ],
          [
           "image002jpg\n                            2129125  0521 am"
          ],
          [
           "left ventricle  systolic dimension"
          ],
          [
           "left ventricle  ejection fraction"
          ],
          [
           "aorta  descending thoracic 24 cm"
          ],
          [
           "valve  lvot"
          ],
          [
           "av dissociation"
          ],
          [
           "ce pericardial valve"
          ],
          [
           "right bundle branch block"
          ],
          [
           "ruqepigastrium"
          ],
          [
           "cyclophosphamide"
          ],
          [
           "metabolic abnormalities"
          ],
          [
           "phenazopyridine"
          ],
          [
           "knwn vaginal fistula"
          ],
          [
           "urinary infections"
          ],
          [
           "prn bladder"
          ],
          [
           "pilocarpine hcl"
          ],
          [
           "estradiol 00375 mg24"
          ],
          [
           "primary arrhythmia"
          ],
          [
           "bladder spasm"
          ],
          [
           "proctocolitis"
          ],
          [
           "left hemisacrum"
          ],
          [
           "datetime2125920 200"
          ],
          [
           "elevated white blood cell count"
          ],
          [
           "lisinopril uptitrated"
          ],
          [
           "failure of intubation"
          ],
          [
           "lobar pneumonia"
          ],
          [
           "isopropyl alcohol"
          ],
          [
           "cough cough"
          ],
          [
           "intrahepatic and extrahepatic biliary"
          ],
          [
           "biliary\ninfection or dilitation"
          ],
          [
           "pneumoniae pneumonia"
          ],
          [
           "left supraclavicular lipoma"
          ],
          [
           "12 tablets po qd"
          ],
          [
           "rac"
          ],
          [
           "atelectsis"
          ],
          [
           "bedsidewiofe"
          ],
          [
           "initiation of paralytic"
          ],
          [
           "xthiamine"
          ],
          [
           "xfluoxetine"
          ],
          [
           "cancer sp tahxrt"
          ],
          [
           "extensive posttraumatic"
          ],
          [
           "shortgut\nsyndrome from radiation enteritis"
          ],
          [
           "infectious colitis of sigmoid"
          ],
          [
           "plexopathy"
          ],
          [
           "xranitidine hcl"
          ],
          [
           "xaspirin"
          ],
          [
           "buproprion"
          ],
          [
           "gall bladder edema"
          ],
          [
           "isopropanol"
          ],
          [
           "fioricetfioranol"
          ],
          [
           "dilated large bowel\n   "
          ],
          [
           "bibasal lung atelectasis"
          ],
          [
           "tririver"
          ],
          [
           "sp aortic injury sp repair"
          ],
          [
           "multiple gallstones"
          ],
          [
           "echogenic liver"
          ],
          [
           "liver\n disease"
          ],
          [
           "lower extremity venous ultrasound right"
          ],
          [
           "lower extremity venous study"
          ],
          [
           "diabetes sarcoid"
          ],
          [
           "zovirax"
          ],
          [
           "pulmonary sarcoid"
          ],
          [
           "airways disease"
          ],
          [
           "q4hours"
          ],
          [
           "morheine"
          ],
          [
           "combination of compressive"
          ],
          [
           "q1min"
          ],
          [
           "glycopurolate"
          ],
          [
           "nicotine patch"
          ],
          [
           "eztimibe"
          ],
          [
           "chronic systolic heart failure"
          ],
          [
           "head laceration"
          ],
          [
           "dilated gall bladder edema"
          ],
          [
           "overload and congestive failure"
          ],
          [
           "normalborderline dilated"
          ],
          [
           "heroin overdose"
          ],
          [
           "coil back\n displacement"
          ],
          [
           "bitemporal"
          ],
          [
           "denies vomiting"
          ],
          [
           "flu ab"
          ],
          [
           "affliate"
          ],
          [
           "denies illicit drug"
          ],
          [
           "bone cancer"
          ],
          [
           "creat10 na137"
          ],
          [
           "sp liver"
          ],
          [
           "ivp"
          ],
          [
           "enlargement of the medial"
          ],
          [
           "rul pneumonia"
          ],
          [
           "assessment43yow sp"
          ],
          [
           "systemic illness"
          ],
          [
           "fob"
          ],
          [
           "hypernatremic hyperchloremic"
          ],
          [
           "hypoplasic"
          ],
          [
           "hypoplastic left transverse and sigmoid sinuses"
          ],
          [
           "acutesubacute stroke"
          ],
          [
           "backeache"
          ],
          [
           "chronic loss"
          ],
          [
           "left homonymous inferior quadrantanopsia"
          ],
          [
           "embolic in the setting of recurrent\n"
          ],
          [
           "nephrolitiasis"
          ],
          [
           "dmtype ii"
          ],
          [
           "cerebral blood autoregulation sp infarction"
          ],
          [
           "oropharyngeal paresis"
          ],
          [
           "crohns diseasesp sbr"
          ],
          [
           "visual scotomata"
          ],
          [
           "rmca"
          ],
          [
           "acute subarachnoid blood"
          ],
          [
           "sma occlusion"
          ],
          [
           "artery occlusion"
          ],
          [
           "head and neck "
          ],
          [
           "hct427"
          ],
          [
           "cerebral venous"
          ],
          [
           "droop or lateralized weakness"
          ],
          [
           "asthma sinus disease"
          ],
          [
           "neurologic\ndeficits"
          ],
          [
           "phos32 mg22\n\nbrief hospital course\n rhythm patient had been having ongoing problems with his ppm"
          ],
          [
           "paroxysmal nocturnal dyspnea"
          ],
          [
           "silver sulfadiazine"
          ],
          [
           "dysathria"
          ],
          [
           "frontal dysfunction"
          ],
          [
           "phos32 mg21\n\n22001017 ultrasound  impressions"
          ],
          [
           "cerebral venous thrombosis"
          ],
          [
           "left inferior quadrantanopsia"
          ],
          [
           "diastolic congestive heart failure  echo 2197 with ef 55"
          ],
          [
           "left facearm sensory loss"
          ],
          [
           "casodex"
          ],
          [
           "l inferior quadrantanopsia"
          ],
          [
           "adenocarcinoma of the prostate biopsy 2199624 doctor last name  910\n"
          ],
          [
           "contrecoup injury"
          ],
          [
           "sma partial occlusion"
          ],
          [
           "prostate hypertrophy"
          ],
          [
           "spirits"
          ],
          [
           "ph55"
          ],
          [
           "glucose ketone"
          ],
          [
           "desaturate"
          ],
          [
           "ph729"
          ],
          [
           "complains of coldcough"
          ],
          [
           "hypoventilation syndrome"
          ],
          [
           "obstructive pulmonary disease"
          ],
          [
           "diabetes mellitus 2"
          ],
          [
           "obesity hypoventilation syndrome"
          ],
          [
           "image002jpg\n                            21081114  1112 am\n                            21081114  0137 pm"
          ],
          [
           "nonadherence"
          ],
          [
           "maaloxbenadryllidocaine"
          ],
          [
           "anbother"
          ],
          [
           "fluticasone 110 mcgactuation 2 puff hospital1 \n11"
          ],
          [
           "opioid abuse"
          ],
          [
           "hsv2"
          ],
          [
           "cerebellar atrophy"
          ],
          [
           "urobiln"
          ],
          [
           "milk of magnesia\n   17"
          ],
          [
           "renal infarcts"
          ],
          [
           "diovan 160 qd"
          ],
          [
           "pharyngeal paresis"
          ],
          [
           "potssium"
          ],
          [
           "hr nsr"
          ],
          [
           "tape"
          ],
          [
           "specifics"
          ],
          [
           "overdistention"
          ],
          [
           "533 am"
          ],
          [
           "oa right knee"
          ],
          [
           "na k"
          ],
          [
           "epidural abscess"
          ],
          [
           "epidiral"
          ],
          [
           "pulmonary embolisms"
          ],
          [
           "nonbacterial pneumonia"
          ],
          [
           "w gabapentin"
          ],
          [
           "refracture"
          ],
          [
           "breast pain"
          ],
          [
           "swollen bleeding"
          ],
          [
           "venous occlusion"
          ],
          [
           "bilious emesis"
          ],
          [
           "34 cr"
          ],
          [
           "hepatic granuloma"
          ],
          [
           "leak at gastric bypass"
          ],
          [
           "complete bowel obstruction"
          ],
          [
           "disp160 tablets"
          ],
          [
           "diazepam q6h"
          ],
          [
           "basilar airspace opacities"
          ],
          [
           "montelukast 10 mg"
          ],
          [
           "fever chills"
          ],
          [
           "gastrografin oral contrast was administered via gastrostomy"
          ],
          [
           "aggressive pulmonary toilets"
          ],
          [
           "urean9"
          ],
          [
           "glucose158"
          ],
          [
           "niece"
          ],
          [
           "papillary thyroid cancer"
          ],
          [
           "septic pulmonary emboli"
          ],
          [
           "basilar artery"
          ],
          [
           "distended distal small bowel"
          ],
          [
           "lyte abnormalities this syndrome"
          ],
          [
           "unremarkable postsphincterotomy"
          ],
          [
           "anterior infarct"
          ],
          [
           "sahiphaneurysm sp clipping  per dr  last name stitle 10521\n reason for this examination\n  eval vasospasm"
          ],
          [
           "nausea abdominal pain"
          ],
          [
           "denies numbnesstingling visual disturbance"
          ],
          [
           "rt"
          ],
          [
           "htn\n   angina"
          ],
          [
           "groin arterial"
          ],
          [
           "painsedation  fentany"
          ],
          [
           "visual field deficit"
          ],
          [
           "failure to thrive"
          ],
          [
           "chestepigastric"
          ],
          [
           "visual field deficits\n reason for this examination\n  mri with diffusion and perfusion"
          ],
          [
           "assess"
          ],
          [
           "delirium hallucinations"
          ],
          [
           "jejunal injury"
          ],
          [
           "sp repair jejunal injury"
          ],
          [
           "image002jpg\n                            21931127  0924 pm"
          ],
          [
           "traumatic sah"
          ],
          [
           "raynauds syndrome\n alcohol"
          ],
          [
           "rue bullous blisters"
          ],
          [
           "temp371"
          ],
          [
           "agitationanxiety"
          ],
          [
           "toxic metabolic syndrome"
          ],
          [
           "albuterol sulfate hfa"
          ],
          [
           "nephrotoxic"
          ],
          [
           "feurea"
          ],
          [
           "bactrim ppx"
          ],
          [
           "abnormal leg movements"
          ],
          [
           "o284 assistcon intubatintubated\n21691229 1107am blood"
          ],
          [
           "tongue swelling"
          ],
          [
           "o284 assistcon intubatintubated\n21691229 0334am blood"
          ],
          [
           "totbili07"
          ],
          [
           "ckcpk3195"
          ],
          [
           "ptt324"
          ],
          [
           "depressive disorder"
          ],
          [
           "left groin"
          ],
          [
           "image002jpg\n                            2129125  1129 pm\n                            2129126  0359 am\n                            2129126  0410 am\n                            2129126  0806 am\n                            2129126  0833 am\n                            2129126  1146 am\n                            2129126  0443"
          ],
          [
           "epipen"
          ],
          [
           "nose pain"
          ],
          [
           "intrahepatic biliary ductal dilation"
          ],
          [
           "nausea  loss"
          ],
          [
           "31f sp gastric bypass"
          ],
          [
           "sp intubation"
          ],
          [
           "esophageal foreign body"
          ],
          [
           "bibasilar airspace opacities"
          ],
          [
           "folatethiamine"
          ],
          [
           "magendie and luschka\nwith"
          ],
          [
           "hemotympanum"
          ],
          [
           "headacheblurred"
          ],
          [
           "left forearm pain"
          ],
          [
           "ulcers mouth"
          ],
          [
           "530cchr"
          ],
          [
           "anteverted"
          ],
          [
           "novolog"
          ],
          [
           "blood infection"
          ],
          [
           "amphetamine overdose"
          ],
          [
           "b12testosterone"
          ],
          [
           "hepatic and renal dysfunction"
          ],
          [
           "fulminant hepatic injury"
          ],
          [
           "amnestic"
          ],
          [
           "small liver lesions"
          ],
          [
           "glucose finger stick\n   136\n   21561217 1000 am\n   bun\n   38 mgdl\n   21561217 1049 am\n   "
          ],
          [
           "dilated left ventricle with preserved global and regional\nsystolic function"
          ],
          [
           "epitaxis"
          ],
          [
           "acute loss"
          ],
          [
           "awaiting morning chest"
          ],
          [
           "repiratory distress"
          ],
          [
           "renal atrophy"
          ],
          [
           "distal esophageal obstruction"
          ],
          [
           "intraabdominal calcifications"
          ],
          [
           "highgrade renal artery stenoses"
          ],
          [
           "injury or ischemic change"
          ],
          [
           "renal\n  artery stenosis"
          ],
          [
           "ro ras"
          ],
          [
           "interlobular septal\n thickening most prominent"
          ],
          [
           "liver abnormalities"
          ],
          [
           "intrahepatic biliary\n dilatation"
          ],
          [
           "unremarkable abdomen"
          ],
          [
           "glucose finger stick\n   161\n   2181822 1100 pm\n   bun\n   12 mgdl\n   2181823 0342 am"
          ],
          [
           "intraabdominal\n ascites"
          ],
          [
           "loculated pleural effusion"
          ],
          [
           "hemodynamicaly"
          ],
          [
           "haem"
          ],
          [
           "hyperattenuating lesion"
          ],
          [
           "cr thickthin bloodtinged"
          ],
          [
           "ings"
          ],
          [
           "sorbitol"
          ],
          [
           "depression anxiety"
          ],
          [
           "silver"
          ],
          [
           "upper lobe atelectasis"
          ],
          [
           "omega3 fatty acids"
          ],
          [
           "mucinex d "
          ],
          [
           "ankle fracture"
          ],
          [
           "mitral valve\n regurgitations"
          ],
          [
           "ramelteon"
          ],
          [
           "rrr"
          ],
          [
           "afflutter sp avn"
          ],
          [
           "5mcg fentanyl"
          ],
          [
           "hacking cough"
          ],
          [
           "hypercholeremia"
          ],
          [
           "claudication sp left sfa"
          ],
          [
           "mitral  regurgitation"
          ],
          [
           "fnt"
          ],
          [
           "l legback pain"
          ],
          [
           "vision loss"
          ],
          [
           "tri bic"
          ],
          [
           "right pronator\n\n"
          ],
          [
           "abdominal cramps"
          ],
          [
           "hydrocele sp indigo"
          ],
          [
           "comminuted radial fractures"
          ],
          [
           "adenocarcinoma of the rectosigmoid monthdayyear 499 sp surgery"
          ],
          [
           "bph\n\nsocial history"
          ],
          [
           "r foot"
          ],
          [
           "cig"
          ],
          [
           "image002jpg\n                                  21901122\n                          "
          ],
          [
           "carotid arterty stenosis"
          ],
          [
           "hypoxic hypercarbic respiratory failure"
          ],
          [
           "carbon"
          ],
          [
           "dioxide"
          ],
          [
           "premature ventricular contractions"
          ],
          [
           "normoactive\nbowel sounds"
          ],
          [
           "glucose finger stick\n   128\n   2183110 1000 am\n   bun\n   18 mgdl\n   2183110 0259 am"
          ],
          [
           "loop obstruction"
          ],
          [
           "aortic valve sp aortic"
          ],
          [
           "gadovist"
          ],
          [
           "daypro"
          ],
          [
           "thoraxic"
          ],
          [
           "lower thoracic and lumbar back pain"
          ],
          [
           "articular joint facet hypertrophy"
          ],
          [
           "hypohyperglycemia"
          ],
          [
           "right ventricular\n   pressurevolume overload"
          ],
          [
           "dobuta"
          ],
          [
           "sp sp sigmoid colectomy"
          ],
          [
           "ms04 2mg iv2"
          ],
          [
           "neurosurg"
          ],
          [
           "fact"
          ],
          [
           "ms04 ivp"
          ],
          [
           "reexpansion of the lung bases"
          ],
          [
           "chest pain abnormal stress"
          ],
          [
           "excruciating midfrontal"
          ],
          [
           "intralumenal necrotic debris"
          ],
          [
           "arteriolar hyalinosis"
          ],
          [
           "lower lobe small"
          ],
          [
           "iga nephropathy"
          ],
          [
           "intrahepatic\n or extrahepatic bile dilatation"
          ],
          [
           "enlargement and stranding surrounding the right\n "
          ],
          [
           "intimal fibroplasia"
          ],
          [
           "acute injury"
          ],
          [
           "tubular atrophy"
          ],
          [
           "partial occlusion"
          ],
          [
           "acute tubular injury"
          ],
          [
           "lymphomas"
          ],
          [
           "bcell nonhodgkin"
          ],
          [
           "hempath"
          ],
          [
           "hodgkin lymphoma"
          ],
          [
           "extensive sclerosis"
          ],
          [
           "congestive splenomegaly"
          ],
          [
           "groundglass nodular opacities"
          ],
          [
           "acute thrombus"
          ],
          [
           "necrotizing"
          ],
          [
           "ct225"
          ],
          [
           "v"
          ],
          [
           "hemophagocytosis"
          ],
          [
           "exophoria"
          ],
          [
           "esotropia"
          ],
          [
           "carsickness"
          ],
          [
           "granulomatous diseases"
          ],
          [
           "wbc108 rbc504 hgb141"
          ],
          [
           "intrahepatic biliary ductal"
          ],
          [
           "enlargement of 3cm wellcircumscribed fluid"
          ],
          [
           "osseous metastatic disease"
          ],
          [
           "extrahepatic common bile duct"
          ],
          [
           "hodgkins\nlymphoma"
          ],
          [
           "o2 sats wnl"
          ],
          [
           "co nausea"
          ],
          [
           "bactrium"
          ],
          [
           "lower lobe consolidationatelectasis"
          ],
          [
           "lca"
          ],
          [
           "hemophagocytic histiocytes"
          ],
          [
           "ps5"
          ],
          [
           "cranial nerves ii"
          ],
          [
           "restless leg"
          ],
          [
           "redose"
          ],
          [
           "thallasemia"
          ],
          [
           "volume overload or electrolyte\n   derrangement"
          ],
          [
           "complaint of neck stiffness"
          ],
          [
           "photophobia or visual loss"
          ],
          [
           "carpal tunnel surgery right wrist"
          ],
          [
           "cereblral aneurysm"
          ],
          [
           "uremic encephalopathy"
          ],
          [
           "obstruction or leak"
          ],
          [
           "calcitriol 025mcg"
          ],
          [
           "r groin hematoma"
          ],
          [
           "resting lvot obstruction"
          ],
          [
           "left ich"
          ],
          [
           "sp thoracic surgery"
          ],
          [
           "ventricular couplets"
          ],
          [
           "dm diet\n             "
          ],
          [
           "tahchemoxrt"
          ],
          [
           "pulp congestion"
          ],
          [
           "vomiting dysuria"
          ],
          [
           "unremarkable fibroadipose"
          ],
          [
           "verruca vulgaris"
          ],
          [
           "herpes virus 6 pcr 2130427 not detected\nhsv 1 and 2 igg"
          ],
          [
           "mg2"
          ],
          [
           "nonpitting edema"
          ],
          [
           "nontender supple neck"
          ],
          [
           "opioid addiction"
          ],
          [
           "150mcg"
          ],
          [
           "image002jpg\n                            2193124  0317 am\n                            2193124  1059 am\n                            2193125  0208 am"
          ],
          [
           "sinusititis"
          ],
          [
           "effusion most promient anterior"
          ],
          [
           "bedtime"
          ],
          [
           "cordisintroducer  21671214 0522 pm"
          ],
          [
           "systolic heart failure"
          ],
          [
           "hd sp mvc"
          ],
          [
           "pes"
          ],
          [
           "graves\ndisease"
          ],
          [
           "t9t10 disc herniation"
          ],
          [
           "ct198"
          ],
          [
           "minimalno"
          ],
          [
           "right thumb dislocation"
          ],
          [
           "metop succinate"
          ],
          [
           "temporal lobe epilepsy"
          ],
          [
           "r thumb fracture"
          ],
          [
           "complaints of chest"
          ],
          [
           "maitain"
          ],
          [
           "chric microangiopathic"
          ],
          [
           "onevessel coronary disease"
          ],
          [
           "acute systolic dysfunction"
          ],
          [
           "diastoclic chf"
          ],
          [
           "residual leftsided facial droop"
          ],
          [
           "thrombotic\nocclusion"
          ],
          [
           "peripheral vascular disease sp right sfa"
          ],
          [
           "onevessel disease"
          ],
          [
           "coronary artery disease or sudden\ncardiac death"
          ],
          [
           "na140 k27"
          ],
          [
           "acitinobacter pneumonia"
          ],
          [
           "heart arrhthmia"
          ],
          [
           "rates14"
          ],
          [
           "returned"
          ],
          [
           "proptosis"
          ],
          [
           "conjestion"
          ],
          [
           "periorbital edema"
          ],
          [
           "broncho spasm"
          ],
          [
           "airway impairment"
          ],
          [
           "vascular calcifications"
          ],
          [
           "amps"
          ],
          [
           "30son"
          ],
          [
           "sphenoid sinus"
          ],
          [
           "amiodorone was"
          ],
          [
           "overload and"
          ],
          [
           "pelviectasis"
          ],
          [
           "pleural\n effusions are also noted"
          ],
          [
           "fevers and involuntary\n guarding"
          ],
          [
           "gallbladder or liver pathology"
          ],
          [
           "o2\n   saturation"
          ],
          [
           "o270 assistcon intubatintubated"
          ],
          [
           "femoral\n   aline\n   "
          ],
          [
           "vivelle"
          ],
          [
           "nonhereditary increase"
          ],
          [
           "mupirocin"
          ],
          [
           "chlorpromazine"
          ],
          [
           "codeine sulfate"
          ],
          [
           "resultant bowel infarct"
          ],
          [
           "shortgut\nsyndrome 12 multiple bowel"
          ],
          [
           "by mouth"
          ],
          [
           "flovent hfa  110 mcgactuation aerosol  1"
          ],
          [
           "shortbowel syndrome"
          ],
          [
           "bilateral renal cysts"
          ],
          [
           "svc syndrome"
          ],
          [
           "catheter infection"
          ],
          [
           "vertebral fracture"
          ],
          [
           "upper extremity clots"
          ],
          [
           "nostrils\n\n"
          ],
          [
           "renal stones sp shockwave"
          ],
          [
           "sib"
          ],
          [
           "bowel injury"
          ],
          [
           "lv diastolic dysfunction"
          ],
          [
           "femoral\n   aline\n   multi lumen  2181817 0518 pm"
          ],
          [
           "lower lobe volume loss"
          ],
          [
           "o297 assistcon intubatintubated\n218198 1203pm blood"
          ],
          [
           "avr  cardiac surgery"
          ],
          [
           "femoral tandemheart"
          ],
          [
           "defib"
          ],
          [
           "facialbody lacerations"
          ],
          [
           "sp vfvt arrest"
          ],
          [
           "medical renal disease"
          ],
          [
           "vs lymphoma"
          ],
          [
           "femoral artery occlusion"
          ],
          [
           "l basal gangliathalamus"
          ],
          [
           "sensitivites"
          ],
          [
           "decreased ventricular blood"
          ],
          [
           "cerebral\n  edema"
          ],
          [
           "right basal abnormality"
          ],
          [
           "hallucination"
          ],
          [
           "adenomatous polyps"
          ],
          [
           "ckcpk27"
          ],
          [
           "poisoning"
          ],
          [
           "aspirin overdose"
          ],
          [
           "loose bowel movements"
          ],
          [
           "21 block"
          ],
          [
           "neuropathic pain"
          ],
          [
           "datetime21659"
          ],
          [
           "ph68"
          ],
          [
           "image002jpg\n                            2129124  1122 am\n   wbc"
          ],
          [
           "lll atelectasis"
          ],
          [
           "2pea arrestlikely"
          ],
          [
           "12 puffs"
          ],
          [
           "54units"
          ],
          [
           "invanz"
          ],
          [
           "anginosis throat"
          ],
          [
           "anginosis"
          ],
          [
           "left ventricular bleed"
          ],
          [
           "pulmonary diseasethree chest"
          ],
          [
           "r groin sheath"
          ],
          [
           "arhb"
          ],
          [
           "6units"
          ],
          [
           "albuterol neb"
          ],
          [
           "necrotizing fascitis"
          ],
          [
           "image002jpg\n                             2113516  0646"
          ],
          [
           "shakesnods"
          ],
          [
           "titrate furosemide"
          ],
          [
           "temporal lobe lesion"
          ],
          [
           "edema of the right frontal lobe"
          ],
          [
           "na141"
          ],
          [
           "image002jpg\n                                  21611221\n                          "
          ],
          [
           "colon cancer sp resection"
          ],
          [
           "clorazepate dipotassium"
          ],
          [
           "ro aneurysm"
          ],
          [
           "image002jpg\n                            21931129  0421 am\n                            21931129  0830 am\n                            21931129  0315 pm\n                            21931130  0358 am\n                            2193121  0218 am\n                            2193121  0719 am"
          ],
          [
           "intravent hemorrhage"
          ],
          [
           "cook"
          ],
          [
           "ua x3d"
          ],
          [
           "multivitamin 1 po"
          ],
          [
           "nystatintriamcinolone cream"
          ],
          [
           "trandolapril"
          ],
          [
           "mitral annulus calcification"
          ],
          [
           "necrotizing myositis"
          ],
          [
           "pernicious"
          ],
          [
           "upper extremity edema"
          ],
          [
           "left buttock"
          ],
          [
           "allergic drug reaction"
          ],
          [
           "pleural effusions right greater"
          ],
          [
           "fatty\n infiltration of the liver"
          ],
          [
           "pleural thickening or small pleural effusion"
          ],
          [
           "renal or ureteral stones"
          ],
          [
           "platelike atelectasis"
          ],
          [
           "nimodipinehydralazine"
          ],
          [
           "coronary artery diseasesp"
          ],
          [
           "visual field deficits\n reason for this examination\n  ro"
          ],
          [
           "hoarseness cough"
          ],
          [
           "adeno lung cancer"
          ],
          [
           "inferior vena cava and inferior cavogram"
          ],
          [
           "vertebral artery pseudoaneurysm"
          ],
          [
           "dolasetron mesylate"
          ],
          [
           "atorvastin"
          ],
          [
           "gbm pw mental status change"
          ],
          [
           "lateral ventricular enlargement"
          ],
          [
           "gallstones  dilated gallbladder\n \n wet read"
          ],
          [
           "thoracic spine osteophytosis"
          ],
          [
           "extrahepatic ductal"
          ],
          [
           "denies palpitations"
          ],
          [
           "nonbloody watery diarrhea"
          ],
          [
           "occlusion of\n the base of the aneurysm"
          ],
          [
           "multilobulated aneurysm"
          ],
          [
           "enlargement of the left adrenal\n gland without a focal mass"
          ],
          [
           "sux q 24 hours"
          ],
          [
           "upper bronchial stenosis"
          ],
          [
           "cornary artery disease"
          ],
          [
           "occlusion of the apical and posterior right upper lobe\n segmental bronchi"
          ],
          [
           "hand  2x1cm  1x1cm"
          ],
          [
           "upper lobe bronchial stenosis"
          ],
          [
           "enlargement of the supraclavicular or axillary lymph nodes"
          ],
          [
           "stepmother"
          ],
          [
           "thyroid enlargement"
          ],
          [
           "benign renal lesion"
          ],
          [
           "luq pain"
          ],
          [
           "headache w visual changes"
          ],
          [
           "suboptimal bowel prep"
          ],
          [
           "inferolateral repolarization abnormalities"
          ],
          [
           "denies fevers or chills"
          ],
          [
           "80cchr"
          ],
          [
           "denies nausea"
          ],
          [
           "metastatis"
          ],
          [
           "o2 5l nc w"
          ],
          [
           "bend"
          ],
          [
           "evaluate nutritional goalplan"
          ],
          [
           "abxlevofloxacin"
          ],
          [
           "opioid dependence"
          ],
          [
           "copious"
          ],
          [
           "45f emphysema"
          ],
          [
           "w resp failure"
          ],
          [
           "consults"
          ],
          [
           "bioprosthetic aortic valve prosthesis"
          ],
          [
           "cw gib"
          ],
          [
           "herniation of the cerebellum\n "
          ],
          [
           "optic atrophy"
          ],
          [
           "nodularis"
          ],
          [
           "upper lip\n   neurologic"
          ],
          [
           "airway compression"
          ],
          [
           "coronary artery disease sp cabgx2"
          ],
          [
           "tachybrady syndrome sp pacemaker"
          ],
          [
           "appts"
          ],
          [
           "intermittent leg pain"
          ],
          [
           "immunodeficiency syndrome"
          ],
          [
           "hiv human immunodeficiency virus"
          ],
          [
           "30sats"
          ],
          [
           "paranasal sinus mucosal"
          ],
          [
           "nonpitting"
          ],
          [
           "sphenoidal sinus mucosal"
          ],
          [
           "intraaxial hematoma"
          ],
          [
           "docusate calcium"
          ],
          [
           "agitationdiscomfortpain"
          ],
          [
           "vemurafenib"
          ],
          [
           "dic  fibrinogen"
          ],
          [
           "alkphos751"
          ],
          [
           "heart\n failure"
          ],
          [
           "ondansetron hcl"
          ],
          [
           "asymmetric\n pulmonary edema"
          ],
          [
           "mononitrate"
          ],
          [
           "foot pain"
          ],
          [
           "gastrointestinal tract"
          ],
          [
           "depressionbipolar disease"
          ],
          [
           "polyethylene glycol 17 g po"
          ],
          [
           "thrombophilia"
          ],
          [
           "hgb68"
          ],
          [
           "hgb68 hct231"
          ],
          [
           "arteriovenous malformations"
          ],
          [
           "left anterior head pain"
          ],
          [
           "hereditary telangectasia disorders"
          ],
          [
           "intracranial avm"
          ],
          [
           "o2 2lmin"
          ],
          [
           "muscle pain"
          ],
          [
           "acetaminophenoxycodone"
          ],
          [
           "  isosorbide"
          ],
          [
           "venous malformations"
          ],
          [
           "hematemasis"
          ],
          [
           "ovarian tumor"
          ],
          [
           "fluticasone nose spray 2 sprays"
          ],
          [
           "left frontal subdural hemorrhage"
          ],
          [
           "hand weakness"
          ],
          [
           "citric acid"
          ],
          [
           "vitamin\nc"
          ],
          [
           "cyclosporine gtts"
          ],
          [
           "timolol"
          ],
          [
           "hemorrhagic cva"
          ],
          [
           "o2 sat100"
          ],
          [
           "sp rouxeny"
          ],
          [
           "idiopathic pulmonary fibrosis"
          ],
          [
           "left hemispheric subdural hematoma"
          ],
          [
           "highdose acid"
          ],
          [
           "wheezing or rhonchi"
          ],
          [
           "anicteric sclerae"
          ],
          [
           "granulomatosis"
          ],
          [
           "colorectal cancer"
          ],
          [
           "type b thoracic aaa"
          ],
          [
           "hiv  and hepatitis"
          ],
          [
           "colazal 750 mg  4 tablets"
          ],
          [
           "cavernous sinuses thrombosis"
          ],
          [
           "spina bifida"
          ],
          [
           "media  iodine"
          ],
          [
           "hodgkinssteroids"
          ],
          [
           "lung mets"
          ],
          [
           "multiple chemo"
          ],
          [
           "bronchus intermedius tumors"
          ],
          [
           "everolimus"
          ],
          [
           "overloadpulm edema"
          ],
          [
           "rcc sp"
          ],
          [
           "annuloplasty"
          ],
          [
           "l  r haziness"
          ],
          [
           "dyspneia"
          ],
          [
           "fever 1021w rigors"
          ],
          [
           "500mcg"
          ],
          [
           "vomit yellowish emesis"
          ],
          [
           "r groin tlc"
          ],
          [
           "uric acid nephrolithiasis"
          ],
          [
           "monosodium glutamate"
          ],
          [
           "phenegran po"
          ],
          [
           "chronic liver disease"
          ],
          [
           " back pain"
          ],
          [
           "denies visual or auditory"
          ],
          [
           "thickened bowel wall"
          ],
          [
           "pain lactose"
          ],
          [
           "coumadin 75 qod"
          ],
          [
           "fever nausea andro"
          ],
          [
           "pulmonary\n venous hypertension"
          ],
          [
           "hd qod"
          ],
          [
           "hypokinesis of the inferior"
          ],
          [
           "intermittent cough"
          ],
          [
           "by2176210"
          ],
          [
           "ambulating gait steady"
          ],
          [
           "sp mitral"
          ],
          [
           "dronedarone"
          ],
          [
           "multaq"
          ],
          [
           "mn1700   800 ccs"
          ],
          [
           "antigentest"
          ],
          [
           "op lesions"
          ],
          [
           "carpal tunnel\n   surgery r"
          ],
          [
           "fluticasone 110 mcg 2 puffs hospital1 \nbutalbitalacetaminophencaffeine 5032540"
          ],
          [
           "jugular vein thrombosis"
          ],
          [
           "degenerative disease of the cervical spine"
          ],
          [
           "intal "
          ],
          [
           "acute stroke  visual changes"
          ],
          [
           "tachybrady sp ppm"
          ],
          [
           "lemierre syndrome"
          ],
          [
           "corneal dystrophy"
          ],
          [
           "hearing loss sensory"
          ],
          [
           "left ankle fracture"
          ],
          [
           "anaphylactic shock"
          ],
          [
           "peritonsillar abscess"
          ],
          [
           "right jaw pain"
          ],
          [
           "neck fullness"
          ],
          [
           "eag140"
          ],
          [
           "teeth pain"
          ],
          [
           "woth depression"
          ],
          [
           "left pulmonary edema"
          ],
          [
           "heterogenous left frontal\n "
          ],
          [
           "o2 via nc"
          ],
          [
           "cardura"
          ],
          [
           "impairments aw cardiovascular pump dysfunction"
          ],
          [
           "74 k"
          ],
          [
           "ro sah"
          ],
          [
           "circ arrest"
          ],
          [
           "aortic insufficiencyredo"
          ],
          [
           "sp aortic valve replacement"
          ],
          [
           "memory defecits"
          ],
          [
           "venous\n  ischemia"
          ],
          [
           "agerelated atrophy"
          ],
          [
           "decreased breath sounds l"
          ],
          [
           "kidney\n   stones"
          ],
          [
           "congestion cough"
          ],
          [
           "cc7"
          ],
          [
           "in bowel habits"
          ],
          [
           "small bowel distention"
          ],
          [
           "subpulmonic\n effusion"
          ],
          [
           "colonovaginal fistula"
          ],
          [
           "furosemide 2 mghr"
          ],
          [
           "pulm sp tracheal stenosisreconstruction"
          ],
          [
           "alfuzosin"
          ],
          [
           "ekg abnormalities"
          ],
          [
           "alt39 ast44"
          ],
          [
           "lthough"
          ],
          [
           "hgb123 hct368"
          ],
          [
           "occular"
          ],
          [
           "biliary or bowel disease"
          ],
          [
           "neurologic sp craniotomy"
          ],
          [
           "tobacco dependence\n\nsocial history"
          ],
          [
           "left hepatic duct"
          ],
          [
           "l hepatic artery"
          ],
          [
           "left intrahepatic biliary system and external drain"
          ],
          [
           "cetriaxone"
          ],
          [
           "biliary ductal mass  noted"
          ],
          [
           "aortic arterial injuries"
          ],
          [
           "breast bxs"
          ],
          [
           "mastitis"
          ],
          [
           "cholangiocarcinoma w liver mets"
          ],
          [
           "distress or verbalization of\n   "
          ],
          [
           "l hepatic artery bleed"
          ],
          [
           "hhh"
          ],
          [
           "diabetic cardiac diet"
          ],
          [
           "serous loss"
          ],
          [
           "dural av fistula"
          ],
          [
           "right hemispheric subarachnoid hemorrhage"
          ],
          [
           "axial malignancy"
          ],
          [
           "mitral annuloplasty"
          ],
          [
           "hypertensiontachycardia"
          ],
          [
           "hypervascular heterogeneous right\n frontal mass"
          ],
          [
           "azithryomycin"
          ],
          [
           "l hepatic ptc"
          ],
          [
           "benzodiazepine overdose"
          ],
          [
           "tramadol overdose"
          ],
          [
           "breast ca mets to liver and bone"
          ],
          [
           "image002jpg\n                            21381030  0358 am"
          ],
          [
           "hepatic artery bleeding"
          ],
          [
           "flovent 110mcg 2 puffs"
          ],
          [
           "l biliary"
          ],
          [
           "vaspopressin"
          ],
          [
           "dural avm"
          ],
          [
           "basilar vasospasm"
          ],
          [
           "cerebrovascular accident"
          ],
          [
           "lantus 40units qam"
          ],
          [
           "prain"
          ],
          [
           "skelaxin"
          ],
          [
           "infraction"
          ],
          [
           "cor  rrr"
          ],
          [
           "bp instability"
          ],
          [
           "autonomic neuropathy"
          ],
          [
           "aprosody"
          ],
          [
           "pramipexole"
          ],
          [
           "thalassemia"
          ],
          [
           "complaints of blindness"
          ],
          [
           "cortical blindness"
          ],
          [
           "carotid artery dural sinus fistula"
          ],
          [
           "diabetic foot ulcers"
          ],
          [
           "dm 1 sp recent admission to osh for"
          ],
          [
           "hypoproteinemia"
          ],
          [
           "florinef"
          ],
          [
           "dm1\n\n"
          ],
          [
           "asdsecundum\n   "
          ],
          [
           "simvastatin 40 mg po"
          ],
          [
           "image002jpg\n                            21561112  1230 am"
          ],
          [
           "arteriovenous fistula"
          ],
          [
           "dural arteriovenous malformation"
          ],
          [
           "systemic infection"
          ],
          [
           "2renal failure"
          ],
          [
           "rle weakness"
          ],
          [
           "sp r pcom"
          ],
          [
           "diaphragm weakness"
          ],
          [
           "irregularity"
          ],
          [
           "diverticular disease"
          ],
          [
           "op per"
          ],
          [
           "but did co"
          ],
          [
           "ntsxn"
          ],
          [
           "ckcpk87"
          ],
          [
           "alt10"
          ],
          [
           "recuronium"
          ],
          [
           "av dural"
          ],
          [
           "image002jpg\n                            21681124  0255 am\n                            21681124  0300 am\n                            21681124  0400 am\n                            21681124  0500 am\n                            21681124  0600 am\n                            21681124  0642 am\n                            21681124  0900 am\n                            21681124  0300 pm\n                            21681124  0600 pm\n                            21681125  0216"
          ],
          [
           "pancreatic ductal"
          ],
          [
           "superinfection"
          ],
          [
           "hcpcontact"
          ],
          [
           "pulmonary arterial"
          ],
          [
           "enlargement of the right atrium"
          ],
          [
           "man sp avrasc"
          ],
          [
           "dypneic"
          ],
          [
           "upper lobe pulmonary arterial"
          ],
          [
           "vap verses pulmonary edema"
          ],
          [
           "congestive failurefluid overload"
          ],
          [
           "temporariily"
          ],
          [
           "pericholecystic edema"
          ],
          [
           "decreased right pneumothorax"
          ],
          [
           "anterolateral stelevation myocardial"
          ],
          [
           "dystrophic calcification"
          ],
          [
           "interstitial septal thickening"
          ],
          [
           "etiology of her abdominal"
          ],
          [
           "dystrophic calcifications"
          ],
          [
           "cis"
          ],
          [
           "headachenausea"
          ],
          [
           "tactile neglect"
          ],
          [
           "marginal sclerosis"
          ],
          [
           "teus"
          ],
          [
           "adrenal failure"
          ],
          [
           "hypthyroidism"
          ],
          [
           "tacycardia"
          ],
          [
           "vitamin b12 600mcg"
          ],
          [
           "fludricortisone"
          ],
          [
           "rightsided hemorrhage"
          ],
          [
           "multiple bowel"
          ],
          [
           "hiv\n reason for this examination\n  evalf or acute process\n \n wet read"
          ],
          [
           "sp partial small bowel resection"
          ],
          [
           "titrate nitro"
          ],
          [
           "pt esrd"
          ],
          [
           "cipro cystitis"
          ],
          [
           "meckels diverticulum"
          ],
          [
           "headachesub q"
          ],
          [
           "feverurine"
          ],
          [
           "etiology of her respiratory distress"
          ],
          [
           "left sided pain"
          ],
          [
           "sternal chest painnon"
          ],
          [
           "centropheoxine"
          ],
          [
           "respiratory distresshypoxia"
          ],
          [
           "chronic paranasal sinus disease"
          ],
          [
           "cortical or dural sinus venous thrombosis"
          ],
          [
           "hypertensive 140"
          ],
          [
           "bp"
          ],
          [
           "orotate"
          ],
          [
           "pregnesolone"
          ],
          [
           "augmentin xr"
          ],
          [
           "basos11"
          ],
          [
           "statusconfusion loss of\nconsciousness"
          ],
          [
           "atrovent mdis"
          ],
          [
           "image002jpg\n                            21681124  0255 am\n                            21681124  0300 am\n                            21681124  0400 am\n                            21681124  0500 am\n                            21681124  0600 am\n                            21681124  0642 am\n                            21681124  0900 am\n                            21681124  0300 pm\n                            21681124  0600 pm\n                            21681125  0216 am"
          ],
          [
           "keppra seizure"
          ],
          [
           "dystonic\n   reactions"
          ],
          [
           "intrahepatic ductal dilitation"
          ],
          [
           "migrainetype"
          ],
          [
           "thyroid lesion"
          ],
          [
           "eos16"
          ],
          [
           "umn pattern weakness"
          ],
          [
           "cancer of the spleen"
          ],
          [
           "head and neck to characterize vessels"
          ],
          [
           "white matter lesions"
          ],
          [
           "leftsided neglect"
          ],
          [
           "arthroplasty"
          ],
          [
           "diastolic congestive heart failure"
          ],
          [
           "na 139  k"
          ],
          [
           "respiratory\ndistress"
          ],
          [
           "sp left eye surgery 21411115\n\nsocial history"
          ],
          [
           "lymphs390"
          ],
          [
           "ra w"
          ],
          [
           "varicose vein stripping"
          ],
          [
           "ho angioneurotic edema"
          ],
          [
           "chronic eosinophilic lung disease"
          ],
          [
           "ho myocarditis"
          ],
          [
           "ho mssa"
          ],
          [
           "lr sided"
          ],
          [
           "septated cystic lesion"
          ],
          [
           "intrahepatic lesion"
          ],
          [
           "nonruptured aneurysm"
          ],
          [
           "3units"
          ],
          [
           "adactazide"
          ],
          [
           "approp"
          ],
          [
           "left ovarian cyst"
          ],
          [
           "dilutional"
          ],
          [
           "medications"
          ],
          [
           "endorgan hypoperfusion"
          ],
          [
           "narcotic abuse"
          ],
          [
           "alt58"
          ],
          [
           "hemispheric infarct"
          ],
          [
           "seizures  abuse relatedlast 6 weeks prior\n   "
          ],
          [
           "volume diarrhea"
          ],
          [
           "atx"
          ],
          [
           "lupus\n  nephritis sp"
          ],
          [
           "pah w"
          ],
          [
           "mitral regurgitation sp mitral valve repair"
          ],
          [
           "aortic insufficiency sp aortic"
          ],
          [
           "fe so4"
          ],
          [
           "slurred speech and cerebellar signs"
          ],
          [
           "hippocampal atrophy"
          ],
          [
           "image002jpg\n                            2128122  0306 am"
          ],
          [
           "memory lossdementia"
          ],
          [
           "left limb weakness and sensory changes"
          ],
          [
           "aspergillus infection"
          ],
          [
           "tabx"
          ],
          [
           "palineintroducer dcedimmediate"
          ],
          [
           "ethoxzolamide"
          ],
          [
           "enlargement of the\n enhancement within the right frontal lobe"
          ],
          [
           "sp endoscopic"
          ],
          [
           "aneurym"
          ],
          [
           "thoracic aneurysm"
          ],
          [
           "oobambulate"
          ],
          [
           "artery paraophthalmic aneurysm"
          ],
          [
           "narrownecked aneurysm"
          ],
          [
           "distal branch occlusion"
          ],
          [
           "artery paraclinoid aneurysm"
          ],
          [
           "benzo toxic"
          ],
          [
           "varicella zoster"
          ],
          [
           "hiv viral infection"
          ],
          [
           "atrial premature depolarizations"
          ],
          [
           "bupivacane"
          ],
          [
           "multiple stressors"
          ],
          [
           "d62"
          ],
          [
           "left ureteral stone"
          ],
          [
           "muscle rigidity"
          ],
          [
           "man sp fall\n reason for this examination\n  interval eval\n no"
          ],
          [
           "left lung atelectasis"
          ],
          [
           "ro sepsis"
          ],
          [
           "denies dizziness"
          ],
          [
           "phenoxybenzamine"
          ],
          [
           "leucopenia"
          ],
          [
           "renal veinartery thrombosis"
          ],
          [
           "intrahepatic bile dilatation"
          ],
          [
           "ofpyelonephritis"
          ],
          [
           "vasculature abnormalities"
          ],
          [
           "necrotic left kidney"
          ],
          [
           "aphasia sp tpa"
          ],
          [
           "catecholamines"
          ],
          [
           "inferior repolarization"
          ],
          [
           "demyelination"
          ],
          [
           "dibenzyline"
          ],
          [
           "toxoplasmosis"
          ],
          [
           "suturesstaples"
          ],
          [
           "sennosides senna"
          ],
          [
           "prn lasix"
          ],
          [
           "coumadin 9"
          ],
          [
           "phenylepherine"
          ],
          [
           "vinyl"
          ],
          [
           "flomax"
          ],
          [
           "anterior myocardial"
          ],
          [
           "postoperative urinary retention"
          ],
          [
           "incision ota"
          ],
          [
           "thyroid abnormalities"
          ],
          [
           "quadruple"
          ],
          [
           "leftsided effusion"
          ],
          [
           "valtrex"
          ],
          [
           "atrial fibrillationflutter sp dccv"
          ],
          [
           "basilar\nartery occlusion"
          ],
          [
           "scotoma"
          ],
          [
           "rvt"
          ],
          [
           "klebsiella urinary tract infection"
          ],
          [
           "multiple adverse reactions"
          ],
          [
           "acute renal failureacute interstitial nephritis"
          ],
          [
           "dyspepsianauseatransaminitishepatitis"
          ],
          [
           "cholestatic"
          ],
          [
           "u q"
          ],
          [
           "diabetic cardiac\nhealthy diet"
          ],
          [
           "simvastatin 10 mg tablet hospital1 "
          ],
          [
           "acute renal failure\n\n"
          ],
          [
           "floroquinolones"
          ],
          [
           "abnormal the liver"
          ],
          [
           "right renal stones"
          ],
          [
           "no neck stiffness"
          ],
          [
           "pituitary hemorrhage"
          ],
          [
           "ld"
          ],
          [
           "r thigh edema"
          ],
          [
           "uterine atony"
          ],
          [
           "interstitial nephritis"
          ],
          [
           "bacteriuria"
          ],
          [
           "endocrine disorders"
          ],
          [
           "hiss"
          ],
          [
           "artery stenosis"
          ],
          [
           "alk phos"
          ],
          [
           "dm1 nephrotic syndrome"
          ],
          [
           "postoperative fever"
          ],
          [
           "noncardiogenic"
          ],
          [
           "21 atrioventricular block"
          ],
          [
           "glucose finger stick\n   419\n   21941229 1000 am\n   bun\n   12 mgdl\n   21941229 0149 am\n   "
          ],
          [
           "inferior vena cava filter"
          ],
          [
           "left intrahepatic biliary ductal"
          ],
          [
           "neurogenic bladder with chronic foley\nasthma"
          ],
          [
           "leukocytoclastic vasculitis"
          ],
          [
           "ast31"
          ],
          [
           "right ureteral stricture"
          ],
          [
           "right external iliac thrombosis"
          ],
          [
           "indigestion"
          ],
          [
           "hepatic lesion"
          ],
          [
           "iol"
          ],
          [
           "rp hematoma"
          ],
          [
           "left hemibody"
          ],
          [
           "occlusions"
          ],
          [
           "embolic cause"
          ],
          [
           "sucralfate"
          ],
          [
           "medications micafungin"
          ],
          [
           "qfever"
          ],
          [
           " hodgkins lymphoma"
          ],
          [
           "cerebrovascular\ndisease"
          ],
          [
           "basilar\ninsufficiency"
          ],
          [
           "flow stenotic lesions"
          ],
          [
           "sphenoid fracture"
          ],
          [
           "partial occlusion of the basilar"
          ],
          [
           "tls"
          ],
          [
           "hollucis longis\n\nreflexes"
          ],
          [
           "horizontal leftbeating nystagmus"
          ],
          [
           "bipuvacaine"
          ],
          [
           "cadmi"
          ],
          [
           "artery thrombosis"
          ],
          [
           "pseudoobstruction"
          ],
          [
           "nasoseptoplasty"
          ],
          [
           "right rp bleed"
          ],
          [
           "airway\n obstruction"
          ],
          [
           "patellar tendons"
          ],
          [
           "hemorrhage or midline shift"
          ],
          [
           "ivc clot sp"
          ],
          [
           "pelvic venous thromboses"
          ],
          [
           "sinus headache"
          ],
          [
           "eclampsia"
          ],
          [
           "left sided effusion"
          ],
          [
           "pleural\n abnormality"
          ],
          [
           "ureteral stricture"
          ],
          [
           "peg vscomfort"
          ],
          [
           "calcified granuloma"
          ],
          [
           "leucocytosis"
          ],
          [
           "left external iliac vein"
          ],
          [
           "occlusion of the\nposterior tibial veins"
          ],
          [
           "abnormal bleeding"
          ],
          [
           "cook tulip inferior vena cava"
          ],
          [
           "pegylated interferon"
          ],
          [
           "radiolucent kidney stones"
          ],
          [
           "shortness of br\n   last dose of antibiotics\n   cefazolin  2138221 1215 am"
          ],
          [
           "emphyema"
          ],
          [
           "infectious or apathic"
          ],
          [
           "renovascular disease"
          ],
          [
           "nonbullous"
          ],
          [
           "atherosclerotic coronary calcification"
          ],
          [
           "septal q waves suggesets left ventricular"
          ],
          [
           "pleural disease"
          ],
          [
           "ho galactorrhea"
          ],
          [
           "anginosis pneumonia"
          ],
          [
           "enlargement of\nthe pulmonary arteries"
          ],
          [
           "multivitamin\n\n"
          ],
          [
           "lightheadedness weakness"
          ],
          [
           "pt sp r"
          ],
          [
           "dimentia"
          ],
          [
           "metropolol"
          ],
          [
           "hypoacusis"
          ],
          [
           "retinal detachment"
          ],
          [
           "calcification of the acromioclavicular"
          ],
          [
           "pseudoarthrosis"
          ],
          [
           "left rib fracture"
          ],
          [
           "hida"
          ],
          [
           "glenohumeral degenerative"
          ],
          [
           "cord infarct"
          ],
          [
           "gouty tophi"
          ],
          [
           "chondrocalcinosis"
          ],
          [
           "calcification of the pubic"
          ],
          [
           "intraventricular bleed"
          ],
          [
           "right hip fracture"
          ],
          [
           "pulmonary artery htn"
          ],
          [
           "dilated common bile duct"
          ],
          [
           "mother  dm"
          ],
          [
           "image002jpg\n   remainder of labs"
          ],
          [
           "lv hypertrophy"
          ],
          [
           "aortic atherosclerotic"
          ],
          [
           "intrahepatic biliary\nductal dilatation"
          ],
          [
           "extrahepatic biliary\nductal dilatation"
          ],
          [
           "bentyl"
          ],
          [
           "carpal tunnel"
          ],
          [
           "respiratory arrest"
          ],
          [
           "ace inhibitor"
          ],
          [
           "seizurept"
          ],
          [
           "skin infections"
          ],
          [
           "biliary\nobstruction"
          ],
          [
           "chronic right foot ulcer"
          ],
          [
           "rusb wo"
          ],
          [
           "decubitus ulcer"
          ],
          [
           "hip knee ankle shoulder elbow wrist grip bilat gait"
          ],
          [
           "creat87"
          ],
          [
           "uptitration"
          ],
          [
           "hearing"
          ],
          [
           "dilantin toxicity"
          ],
          [
           "demyelinating lesion"
          ],
          [
           "neurosyphillis"
          ],
          [
           "pts headache"
          ],
          [
           "sumitriptan"
          ],
          [
           "deicits"
          ],
          [
           "pts renal failure"
          ],
          [
           "extraheptic duct"
          ],
          [
           "tachy cardia"
          ],
          [
           "r rib"
          ],
          [
           "anomalous coronary vessel"
          ],
          [
           "fibrinous"
          ],
          [
           "herniation of the\ncerebellar tonsils"
          ],
          [
           "cerebellar hemispheric infarcts"
          ],
          [
           "cord infarction"
          ],
          [
           "downward tonsillar herniation"
          ],
          [
           "minerals"
          ],
          [
           "kphos"
          ],
          [
           "o2 this"
          ],
          [
           "uric acid"
          ],
          [
           "cbd stones"
          ],
          [
           "vitamin d3 600400 mgunit"
          ],
          [
           "caltrate"
          ],
          [
           "image002jpg\n                            2170105  0739 am"
          ],
          [
           "mesentric vessel bleed"
          ],
          [
           "coreg"
          ],
          [
           "albuterol 12 puffs 4xday"
          ],
          [
           "abnormal vascular meningeal or parenchymal enhancement\n identified"
          ],
          [
           "vagina"
          ],
          [
           "ast94"
          ],
          [
           "pulm overload sp"
          ],
          [
           "prbc gi bleed"
          ],
          [
           "hematochezia a lower gi bleed"
          ],
          [
           "neurontin 400"
          ],
          [
           "hitt"
          ],
          [
           "image002jpg\n                            2132112  0152"
          ],
          [
           "piperacillintazobactam potassium"
          ],
          [
           "midazolam norepinephrine"
          ],
          [
           "pulmonary overload"
          ],
          [
           "l internalexternal"
          ],
          [
           "citrate furosemide"
          ],
          [
           "flaccid plegia"
          ],
          [
           "diabetes type 1 cb neuropathy"
          ],
          [
           "basal gangliathalamic glioma"
          ],
          [
           "oxycodoneacetaminophen 5 mg325"
          ],
          [
           "hsv infection"
          ],
          [
           "pneumonia bacteremia"
          ],
          [
           "gi disease"
          ],
          [
           "frequent mouth"
          ],
          [
           "ganglia lesion"
          ],
          [
           "pulmonary\n   contusion"
          ],
          [
           "arteriesbulb"
          ],
          [
           "diphenoxylateatropine"
          ],
          [
           "iddm fibromyalgia"
          ],
          [
           "alfuzosin 10 mg"
          ],
          [
           "prostatic hyperplasia"
          ],
          [
           "fractured ribs"
          ],
          [
           "glucose finger stick\n   166\n   21561221 1100 am\n   bun\n   48 mgdl\n   21561221 0226 am"
          ],
          [
           "23cm bleb"
          ],
          [
           "intestine lesions"
          ],
          [
           "noncardiogenic pulmonary\n edema"
          ],
          [
           "acute toxic pulmonary reactions"
          ],
          [
           "dilaudid q3h"
          ],
          [
           " restless"
          ],
          [
           "haro"
          ],
          [
           "bleb"
          ],
          [
           "anal fissure"
          ],
          [
           "malignanct glioma"
          ],
          [
           "left basal ganglia mass lesion"
          ],
          [
           "decreased breath sounds right base\n   abdomen"
          ],
          [
           "o2 tank"
          ],
          [
           "ddimer714"
          ],
          [
           "14bpm"
          ],
          [
           "hepatic steatosis"
          ],
          [
           "micub"
          ],
          [
           "datetime2190526 1030"
          ],
          [
           "datetime219053 1150\n3"
          ],
          [
           "datetime2190428 145\n2"
          ],
          [
           "collagenous colitis"
          ],
          [
           "nvdiarrhea"
          ],
          [
           "shoulder anterior dislocation"
          ],
          [
           "hypoxemic respiratory distress"
          ],
          [
           "thoracic\n compression deformities"
          ],
          [
           "hyperkyphosis"
          ],
          [
           "anterior dislocation"
          ],
          [
           "intermittent choledocholithiasis"
          ],
          [
           "hiv and hepatitis"
          ],
          [
           "crampy abd pain"
          ],
          [
           "abx bowel"
          ],
          [
           "datetime219097\n230\nprovider"
          ],
          [
           "hepatic abnormality"
          ],
          [
           "left basal ganglia hemorrhage"
          ],
          [
           "datetime2190916 110"
          ],
          [
           "hypertensive hemorrhage"
          ],
          [
           "image002jpg\n                            21681117  1008 am\n                            21681117  1120 am\n                            21681117  0907"
          ],
          [
           "hypophonia"
          ],
          [
           "r neglect"
          ],
          [
           "behavioral arrest"
          ],
          [
           "decorticate posturing"
          ],
          [
           "glucose finger stick\n   111\n   219511 0900 am\n   bun\n   32 mgdl\n   219511 0420 am"
          ],
          [
           "iso"
          ],
          [
           "aneurysm clippings"
          ],
          [
           "sigmoid colon diverticulosis"
          ],
          [
           "image002jpg\n                             2154116  0905"
          ],
          [
           "s147"
          ],
          [
           "cpm 23"
          ],
          [
           "glargine qam"
          ],
          [
           "pd renal diet"
          ],
          [
           "loperamide hcl"
          ],
          [
           "synthroid"
          ],
          [
           "respiratory alkolosis"
          ],
          [
           "tramodol"
          ],
          [
           "edema to"
          ],
          [
           "myoclonic movements"
          ],
          [
           "ble wd"
          ],
          [
           "lue flexion to nox"
          ],
          [
           "inpatient pulmonary rehab"
          ],
          [
           "basilar artery vasospasm"
          ],
          [
           "herniation of edematous brain"
          ],
          [
           "mrge wed"
          ],
          [
           "lower lobe infiltrateaspirate"
          ],
          [
           "ovarian cystic lesion"
          ],
          [
           "cta head 828\n1"
          ],
          [
           "malignant hypertension"
          ],
          [
           "handedness right"
          ],
          [
           "trapezius"
          ],
          [
           "hemorhage"
          ],
          [
           "adnexal cystic lesion"
          ],
          [
           "hyperperfusion syndrome"
          ],
          [
           "vessel vasculitis"
          ],
          [
           "right pelvic rp hematoma"
          ],
          [
           "intrapelvic hematoma"
          ],
          [
           "replacement"
          ],
          [
           "scarlet fever"
          ],
          [
           "mitral stenosis"
          ],
          [
           "calcific mitral stenosis"
          ],
          [
           "vit dcalcium"
          ],
          [
           "abnormal lvot flow"
          ],
          [
           "rlq abd"
          ],
          [
           "cmh2o\n                                   lung sounds"
          ],
          [
           "mr of the head from 21251115 218 2125 and a"
          ],
          [
           "ibuprophen"
          ],
          [
           "myalgiasarthralgias"
          ],
          [
           "lwcs"
          ],
          [
           "adenomyomatosis"
          ],
          [
           "endometrial polyps"
          ],
          [
           "unremarkable liver"
          ],
          [
           "temproal artery"
          ],
          [
           "subluxation"
          ],
          [
           "echocardiograms"
          ],
          [
           "image002jpg\n                            21081130  0211 am"
          ],
          [
           "caltibc386"
          ],
          [
           "o2 sat97"
          ],
          [
           "lsd"
          ],
          [
           "ribavirin"
          ],
          [
           "norpace"
          ],
          [
           "disopyramide phosphate"
          ],
          [
           "quinidine"
          ],
          [
           "cerebral swelling"
          ],
          [
           "ferritn27"
          ],
          [
           "vit k 10 qd x 2"
          ],
          [
           "pulmonary ho allergy"
          ],
          [
           "ho left flankabd pain"
          ],
          [
           "radiolucent stones"
          ],
          [
           "ho nephrolithiasis"
          ],
          [
           "fpp"
          ],
          [
           "hypothyrodism"
          ],
          [
           "l arm weakness"
          ],
          [
           "ammonia131"
          ],
          [
           "canal narrowing"
          ],
          [
           "sestamibi"
          ],
          [
           "anterior subluxation"
          ],
          [
           "c7 fracture"
          ],
          [
           "denies numbness"
          ],
          [
           "magnesium sulfate metoclopramide"
          ],
          [
           "phenylephrine potassium chloride"
          ],
          [
           "ventricle bleed"
          ],
          [
           "supervening pneumonia"
          ],
          [
           "loculated effusion sp chest"
          ],
          [
           "lactate24"
          ],
          [
           "otcs"
          ],
          [
           "xifaxan"
          ],
          [
           "antidepressant"
          ],
          [
           "valproic acid"
          ],
          [
           "cirrhotic liver"
          ],
          [
           "head achaes"
          ],
          [
           "soft bs"
          ],
          [
           "cyclosporine toxicity"
          ],
          [
           "etiology of respiratory distress"
          ],
          [
           "alkphos896"
          ],
          [
           "migrane headaches"
          ],
          [
           "nonst"
          ],
          [
           "contraction metabolic alkalosis"
          ],
          [
           "phos32 mg14\n219762 0221pm blood"
          ],
          [
           "glioblastoma multiform"
          ],
          [
           "tissue deficency"
          ],
          [
           "floppy wire"
          ],
          [
           "atms"
          ],
          [
           "phos32 mg17\n\nbrief hospital course\nprinciple reason for admission\n74 yo woman admitted with shortness of breath"
          ],
          [
           "myocardial necrosis"
          ],
          [
           "rescucitated"
          ],
          [
           "occlusion of\ncircumflex with narrowing of his proximal lad"
          ],
          [
           "small left nondisplaced zygomatic fx"
          ],
          [
           "iptratroprium"
          ],
          [
           "left frontal swelling"
          ],
          [
           "fistulous communication"
          ],
          [
           "paraclinoid"
          ],
          [
           "rosc"
          ],
          [
           "hepatitis c infection"
          ],
          [
           "fistulas"
          ],
          [
           "athetosis"
          ],
          [
           "dilated common bile\nduct and fragmented stones"
          ],
          [
           "hectorol"
          ],
          [
           "percocet 5325 mg 12 tablets po every 46"
          ],
          [
           "clonidine hcl"
          ],
          [
           "head aches"
          ],
          [
           "gib  coffee"
          ],
          [
           "radicular pain"
          ],
          [
           "loss of sensation"
          ],
          [
           "nearakinesis"
          ],
          [
           "temporomandibular joints"
          ],
          [
           "sma occusion"
          ],
          [
           "bibasilar atelectatic"
          ],
          [
           "upper lobe venous diversion"
          ],
          [
           "pw bleeding"
          ],
          [
           "aspirate bld"
          ],
          [
           "lightened"
          ],
          [
           "alendronate sodium"
          ],
          [
           "status ox3"
          ],
          [
           "impaired gag"
          ],
          [
           "retroperitoneal bleeding"
          ],
          [
           "graves\n   disease"
          ],
          [
           "idiopathic history\n   of tpn gj tube for gastroparesis po intake supported by tube feeds\n   supraclavicular clot 2110723 "
          ],
          [
           "lowdensity pleural effusions"
          ],
          [
           "frontal cortical atrophy"
          ],
          [
           "paranasal sinuses mastoid air"
          ],
          [
           "cypher"
          ],
          [
           "pleural\n effusions of low density and bilateral dependent"
          ],
          [
           "o2 sat95"
          ],
          [
           "no difficulties swallowing"
          ],
          [
           "rbc460"
          ],
          [
           "lisnopril"
          ],
          [
           "vessel ischemia"
          ],
          [
           "pts blood pressure"
          ],
          [
           "pelvic hematoma"
          ],
          [
           "right midureteral obstruction"
          ],
          [
           "r groin di"
          ],
          [
           "phenargan"
          ],
          [
           "o2 2"
          ],
          [
           "attn"
          ],
          [
           "osteophytosis"
          ],
          [
           "egdproven"
          ],
          [
           "t 974 hr 124 bp"
          ],
          [
           "wpleural effusion"
          ],
          [
           "knee brace"
          ],
          [
           "aggressive pulmonary toilet  oob"
          ],
          [
           "hyperreflexive"
          ],
          [
           "left groin di"
          ],
          [
           "stm"
          ],
          [
           "right ptosis"
          ],
          [
           "watery thin"
          ],
          [
           "centralobular bronchiectasis"
          ],
          [
           "scrofulaceum"
          ],
          [
           "pullmonary edema"
          ],
          [
           "mycobacterium infection"
          ],
          [
           "thymoma"
          ],
          [
           "giveway weakness"
          ],
          [
           " renal vitamin"
          ]
         ],
         "hovertemplate": "x=%{x}<br>y=%{y}<br>word=%{customdata[0]}<extra></extra>",
         "legendgroup": "",
         "marker": {
          "color": "#636efa",
          "symbol": "circle"
         },
         "mode": "markers",
         "name": "",
         "showlegend": false,
         "textposition": "top center",
         "type": "scattergl",
         "x": {
          "bdata": "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",
          "dtype": "f4"
         },
         "xaxis": "x",
         "y": {
          "bdata": "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",
          "dtype": "f4"
         },
         "yaxis": "y"
        }
       ],
       "layout": {
        "legend": {
         "tracegroupgap": 0
        },
        "template": {
         "data": {
          "bar": [
           {
            "error_x": {
             "color": "#2a3f5f"
            },
            "error_y": {
             "color": "#2a3f5f"
            },
            "marker": {
             "line": {
              "color": "#E5ECF6",
              "width": 0.5
             },
             "pattern": {
              "fillmode": "overlay",
              "size": 10,
              "solidity": 0.2
             }
            },
            "type": "bar"
           }
          ],
          "barpolar": [
           {
            "marker": {
             "line": {
              "color": "#E5ECF6",
              "width": 0.5
             },
             "pattern": {
              "fillmode": "overlay",
              "size": 10,
              "solidity": 0.2
             }
            },
            "type": "barpolar"
           }
          ],
          "carpet": [
           {
            "aaxis": {
             "endlinecolor": "#2a3f5f",
             "gridcolor": "white",
             "linecolor": "white",
             "minorgridcolor": "white",
             "startlinecolor": "#2a3f5f"
            },
            "baxis": {
             "endlinecolor": "#2a3f5f",
             "gridcolor": "white",
             "linecolor": "white",
             "minorgridcolor": "white",
             "startlinecolor": "#2a3f5f"
            },
            "type": "carpet"
           }
          ],
          "choropleth": [
           {
            "colorbar": {
             "outlinewidth": 0,
             "ticks": ""
            },
            "type": "choropleth"
           }
          ],
          "contour": [
           {
            "colorbar": {
             "outlinewidth": 0,
             "ticks": ""
            },
            "colorscale": [
             [
              0,
              "#0d0887"
             ],
             [
              0.1111111111111111,
              "#46039f"
             ],
             [
              0.2222222222222222,
              "#7201a8"
             ],
             [
              0.3333333333333333,
              "#9c179e"
             ],
             [
              0.4444444444444444,
              "#bd3786"
             ],
             [
              0.5555555555555556,
              "#d8576b"
             ],
             [
              0.6666666666666666,
              "#ed7953"
             ],
             [
              0.7777777777777778,
              "#fb9f3a"
             ],
             [
              0.8888888888888888,
              "#fdca26"
             ],
             [
              1,
              "#f0f921"
             ]
            ],
            "type": "contour"
           }
          ],
          "contourcarpet": [
           {
            "colorbar": {
             "outlinewidth": 0,
             "ticks": ""
            },
            "type": "contourcarpet"
           }
          ],
          "heatmap": [
           {
            "colorbar": {
             "outlinewidth": 0,
             "ticks": ""
            },
            "colorscale": [
             [
              0,
              "#0d0887"
             ],
             [
              0.1111111111111111,
              "#46039f"
             ],
             [
              0.2222222222222222,
              "#7201a8"
             ],
             [
              0.3333333333333333,
              "#9c179e"
             ],
             [
              0.4444444444444444,
              "#bd3786"
             ],
             [
              0.5555555555555556,
              "#d8576b"
             ],
             [
              0.6666666666666666,
              "#ed7953"
             ],
             [
              0.7777777777777778,
              "#fb9f3a"
             ],
             [
              0.8888888888888888,
              "#fdca26"
             ],
             [
              1,
              "#f0f921"
             ]
            ],
            "type": "heatmap"
           }
          ],
          "histogram": [
           {
            "marker": {
             "pattern": {
              "fillmode": "overlay",
              "size": 10,
              "solidity": 0.2
             }
            },
            "type": "histogram"
           }
          ],
          "histogram2d": [
           {
            "colorbar": {
             "outlinewidth": 0,
             "ticks": ""
            },
            "colorscale": [
             [
              0,
              "#0d0887"
             ],
             [
              0.1111111111111111,
              "#46039f"
             ],
             [
              0.2222222222222222,
              "#7201a8"
             ],
             [
              0.3333333333333333,
              "#9c179e"
             ],
             [
              0.4444444444444444,
              "#bd3786"
             ],
             [
              0.5555555555555556,
              "#d8576b"
             ],
             [
              0.6666666666666666,
              "#ed7953"
             ],
             [
              0.7777777777777778,
              "#fb9f3a"
             ],
             [
              0.8888888888888888,
              "#fdca26"
             ],
             [
              1,
              "#f0f921"
             ]
            ],
            "type": "histogram2d"
           }
          ],
          "histogram2dcontour": [
           {
            "colorbar": {
             "outlinewidth": 0,
             "ticks": ""
            },
            "colorscale": [
             [
              0,
              "#0d0887"
             ],
             [
              0.1111111111111111,
              "#46039f"
             ],
             [
              0.2222222222222222,
              "#7201a8"
             ],
             [
              0.3333333333333333,
              "#9c179e"
             ],
             [
              0.4444444444444444,
              "#bd3786"
             ],
             [
              0.5555555555555556,
              "#d8576b"
             ],
             [
              0.6666666666666666,
              "#ed7953"
             ],
             [
              0.7777777777777778,
              "#fb9f3a"
             ],
             [
              0.8888888888888888,
              "#fdca26"
             ],
             [
              1,
              "#f0f921"
             ]
            ],
            "type": "histogram2dcontour"
           }
          ],
          "mesh3d": [
           {
            "colorbar": {
             "outlinewidth": 0,
             "ticks": ""
            },
            "type": "mesh3d"
           }
          ],
          "parcoords": [
           {
            "line": {
             "colorbar": {
              "outlinewidth": 0,
              "ticks": ""
             }
            },
            "type": "parcoords"
           }
          ],
          "pie": [
           {
            "automargin": true,
            "type": "pie"
           }
          ],
          "scatter": [
           {
            "fillpattern": {
             "fillmode": "overlay",
             "size": 10,
             "solidity": 0.2
            },
            "type": "scatter"
           }
          ],
          "scatter3d": [
           {
            "line": {
             "colorbar": {
              "outlinewidth": 0,
              "ticks": ""
             }
            },
            "marker": {
             "colorbar": {
              "outlinewidth": 0,
              "ticks": ""
             }
            },
            "type": "scatter3d"
           }
          ],
          "scattercarpet": [
           {
            "marker": {
             "colorbar": {
              "outlinewidth": 0,
              "ticks": ""
             }
            },
            "type": "scattercarpet"
           }
          ],
          "scattergeo": [
           {
            "marker": {
             "colorbar": {
              "outlinewidth": 0,
              "ticks": ""
             }
            },
            "type": "scattergeo"
           }
          ],
          "scattergl": [
           {
            "marker": {
             "colorbar": {
              "outlinewidth": 0,
              "ticks": ""
             }
            },
            "type": "scattergl"
           }
          ],
          "scattermap": [
           {
            "marker": {
             "colorbar": {
              "outlinewidth": 0,
              "ticks": ""
             }
            },
            "type": "scattermap"
           }
          ],
          "scattermapbox": [
           {
            "marker": {
             "colorbar": {
              "outlinewidth": 0,
              "ticks": ""
             }
            },
            "type": "scattermapbox"
           }
          ],
          "scatterpolar": [
           {
            "marker": {
             "colorbar": {
              "outlinewidth": 0,
              "ticks": ""
             }
            },
            "type": "scatterpolar"
           }
          ],
          "scatterpolargl": [
           {
            "marker": {
             "colorbar": {
              "outlinewidth": 0,
              "ticks": ""
             }
            },
            "type": "scatterpolargl"
           }
          ],
          "scatterternary": [
           {
            "marker": {
             "colorbar": {
              "outlinewidth": 0,
              "ticks": ""
             }
            },
            "type": "scatterternary"
           }
          ],
          "surface": [
           {
            "colorbar": {
             "outlinewidth": 0,
             "ticks": ""
            },
            "colorscale": [
             [
              0,
              "#0d0887"
             ],
             [
              0.1111111111111111,
              "#46039f"
             ],
             [
              0.2222222222222222,
              "#7201a8"
             ],
             [
              0.3333333333333333,
              "#9c179e"
             ],
             [
              0.4444444444444444,
              "#bd3786"
             ],
             [
              0.5555555555555556,
              "#d8576b"
             ],
             [
              0.6666666666666666,
              "#ed7953"
             ],
             [
              0.7777777777777778,
              "#fb9f3a"
             ],
             [
              0.8888888888888888,
              "#fdca26"
             ],
             [
              1,
              "#f0f921"
             ]
            ],
            "type": "surface"
           }
          ],
          "table": [
           {
            "cells": {
             "fill": {
              "color": "#EBF0F8"
             },
             "line": {
              "color": "white"
             }
            },
            "header": {
             "fill": {
              "color": "#C8D4E3"
             },
             "line": {
              "color": "white"
             }
            },
            "type": "table"
           }
          ]
         },
         "layout": {
          "annotationdefaults": {
           "arrowcolor": "#2a3f5f",
           "arrowhead": 0,
           "arrowwidth": 1
          },
          "autotypenumbers": "strict",
          "coloraxis": {
           "colorbar": {
            "outlinewidth": 0,
            "ticks": ""
           }
          },
          "colorscale": {
           "diverging": [
            [
             0,
             "#8e0152"
            ],
            [
             0.1,
             "#c51b7d"
            ],
            [
             0.2,
             "#de77ae"
            ],
            [
             0.3,
             "#f1b6da"
            ],
            [
             0.4,
             "#fde0ef"
            ],
            [
             0.5,
             "#f7f7f7"
            ],
            [
             0.6,
             "#e6f5d0"
            ],
            [
             0.7,
             "#b8e186"
            ],
            [
             0.8,
             "#7fbc41"
            ],
            [
             0.9,
             "#4d9221"
            ],
            [
             1,
             "#276419"
            ]
           ],
           "sequential": [
            [
             0,
             "#0d0887"
            ],
            [
             0.1111111111111111,
             "#46039f"
            ],
            [
             0.2222222222222222,
             "#7201a8"
            ],
            [
             0.3333333333333333,
             "#9c179e"
            ],
            [
             0.4444444444444444,
             "#bd3786"
            ],
            [
             0.5555555555555556,
             "#d8576b"
            ],
            [
             0.6666666666666666,
             "#ed7953"
            ],
            [
             0.7777777777777778,
             "#fb9f3a"
            ],
            [
             0.8888888888888888,
             "#fdca26"
            ],
            [
             1,
             "#f0f921"
            ]
           ],
           "sequentialminus": [
            [
             0,
             "#0d0887"
            ],
            [
             0.1111111111111111,
             "#46039f"
            ],
            [
             0.2222222222222222,
             "#7201a8"
            ],
            [
             0.3333333333333333,
             "#9c179e"
            ],
            [
             0.4444444444444444,
             "#bd3786"
            ],
            [
             0.5555555555555556,
             "#d8576b"
            ],
            [
             0.6666666666666666,
             "#ed7953"
            ],
            [
             0.7777777777777778,
             "#fb9f3a"
            ],
            [
             0.8888888888888888,
             "#fdca26"
            ],
            [
             1,
             "#f0f921"
            ]
           ]
          },
          "colorway": [
           "#636efa",
           "#EF553B",
           "#00cc96",
           "#ab63fa",
           "#FFA15A",
           "#19d3f3",
           "#FF6692",
           "#B6E880",
           "#FF97FF",
           "#FECB52"
          ],
          "font": {
           "color": "#2a3f5f"
          },
          "geo": {
           "bgcolor": "white",
           "lakecolor": "white",
           "landcolor": "#E5ECF6",
           "showlakes": true,
           "showland": true,
           "subunitcolor": "white"
          },
          "hoverlabel": {
           "align": "left"
          },
          "hovermode": "closest",
          "mapbox": {
           "style": "light"
          },
          "paper_bgcolor": "white",
          "plot_bgcolor": "#E5ECF6",
          "polar": {
           "angularaxis": {
            "gridcolor": "white",
            "linecolor": "white",
            "ticks": ""
           },
           "bgcolor": "#E5ECF6",
           "radialaxis": {
            "gridcolor": "white",
            "linecolor": "white",
            "ticks": ""
           }
          },
          "scene": {
           "xaxis": {
            "backgroundcolor": "#E5ECF6",
            "gridcolor": "white",
            "gridwidth": 2,
            "linecolor": "white",
            "showbackground": true,
            "ticks": "",
            "zerolinecolor": "white"
           },
           "yaxis": {
            "backgroundcolor": "#E5ECF6",
            "gridcolor": "white",
            "gridwidth": 2,
            "linecolor": "white",
            "showbackground": true,
            "ticks": "",
            "zerolinecolor": "white"
           },
           "zaxis": {
            "backgroundcolor": "#E5ECF6",
            "gridcolor": "white",
            "gridwidth": 2,
            "linecolor": "white",
            "showbackground": true,
            "ticks": "",
            "zerolinecolor": "white"
           }
          },
          "shapedefaults": {
           "line": {
            "color": "#2a3f5f"
           }
          },
          "ternary": {
           "aaxis": {
            "gridcolor": "white",
            "linecolor": "white",
            "ticks": ""
           },
           "baxis": {
            "gridcolor": "white",
            "linecolor": "white",
            "ticks": ""
           },
           "bgcolor": "#E5ECF6",
           "caxis": {
            "gridcolor": "white",
            "linecolor": "white",
            "ticks": ""
           }
          },
          "title": {
           "x": 0.05
          },
          "xaxis": {
           "automargin": true,
           "gridcolor": "white",
           "linecolor": "white",
           "ticks": "",
           "title": {
            "standoff": 15
           },
           "zerolinecolor": "white",
           "zerolinewidth": 2
          },
          "yaxis": {
           "automargin": true,
           "gridcolor": "white",
           "linecolor": "white",
           "ticks": "",
           "title": {
            "standoff": 15
           },
           "zerolinecolor": "white",
           "zerolinewidth": 2
          }
         }
        },
        "title": {
         "text": "tSNE Plot"
        },
        "xaxis": {
         "anchor": "y",
         "domain": [
          0,
          1
         ],
         "title": {
          "text": "x"
         }
        },
        "yaxis": {
         "anchor": "x",
         "domain": [
          0,
          1
         ],
         "title": {
          "text": "y"
         }
        }
       }
      }
     },
     "metadata": {},
     "output_type": "display_data"
    }
   ],
   "source": [
    "import plotly.express as px\n",
    "import pandas as pd\n",
    "\n",
    "df_tsne = pd.DataFrame({\n",
    "    'word': words,\n",
    "    'x': word_vecs_2d[:, 0],\n",
    "    'y': word_vecs_2d[:, 1]\n",
    "})\n",
    "\n",
    "fig = px.scatter(df_tsne, x='x', y='y',\n",
    "                 hover_data=['word'],\n",
    "                 title=\"tSNE Plot\")\n",
    "fig.update_traces(textposition='top center')\n",
    "fig.show()\n"
   ]
  },
  {
   "cell_type": "code",
   "execution_count": 34,
   "metadata": {},
   "outputs": [
    {
     "data": {
      "application/vnd.plotly.v1+json": {
       "config": {
        "plotlyServerURL": "https://plot.ly"
       },
       "data": [
        {
         "customdata": [
          [
           "swollen bleeding"
          ],
          [
           "aortic regurgitation"
          ],
          [
           "vomits"
          ],
          [
           "screaming"
          ],
          [
           "bibasilar\n consolidations"
          ],
          [
           "embolic\n "
          ],
          [
           "sc pain"
          ],
          [
           "vq"
          ],
          [
           "complaints of abdominal distension"
          ],
          [
           "chronic pain w"
          ],
          [
           "myocardial fatty infiltration"
          ],
          [
           "dyspepsianauseatransaminitishepatitis"
          ],
          [
           "cerebellar ich"
          ],
          [
           "cardiogenic edema"
          ],
          [
           "malignanct glioma"
          ],
          [
           "airway narrowing"
          ],
          [
           "abdgas pains"
          ],
          [
           "upper lobe groundglass"
          ],
          [
           "vascular\n\nmalformation"
          ],
          [
           "esomeprazole"
          ],
          [
           "a bioprosthetic mitral valve prosthesis"
          ],
          [
           "nimodipine"
          ],
          [
           "mitral valve repair"
          ],
          [
           "acute gi bleeding"
          ],
          [
           "sodium magnesium"
          ],
          [
           " back pain"
          ],
          [
           "barium"
          ],
          [
           "ranolazine"
          ],
          [
           "w dilaudid"
          ],
          [
           "clopidogrel"
          ],
          [
           "trazodone"
          ],
          [
           " mouth"
          ],
          [
           "deep breath"
          ],
          [
           "pleural\n effusions and left lower lobe infiltrates"
          ],
          [
           "hemoglobinuria"
          ],
          [
           "dorzolamidetimolol 205"
          ],
          [
           "seizures"
          ],
          [
           "ple"
          ],
          [
           "calcipotriene"
          ],
          [
           "respiratory instability"
          ],
          [
           "wideneck aneurysm"
          ],
          [
           "tachypnia"
          ],
          [
           "fluticasonesalmeterol 25050"
          ],
          [
           "7mgkg"
          ],
          [
           "polysubstance\n   abuse"
          ],
          [
           "unconscious in renal failure"
          ],
          [
           "l sided stone"
          ],
          [
           "nonst"
          ],
          [
           "sleep apnea"
          ],
          [
           "liver tumor"
          ],
          [
           "lidocaine hcl"
          ],
          [
           "impaired\nventricular filling"
          ],
          [
           "adrenal failure"
          ],
          [
           "overhydration"
          ],
          [
           "inferior vena cava"
          ],
          [
           "trimethoprim"
          ],
          [
           "lower extremity dvt\n \n                                 final report\n bilateral lower extremity veins"
          ],
          [
           "cough nausea vomiting and shortness of breath"
          ],
          [
           "sp right femoral hernia"
          ],
          [
           "integrilin"
          ],
          [
           "av dural"
          ],
          [
           "lowdensity pleural effusions"
          ],
          [
           "decreased breath sounds l"
          ],
          [
           "low cardiac output status\n   nutrition npo\n   renal foley adequate urine output"
          ],
          [
           "prod cough"
          ],
          [
           "geodon"
          ],
          [
           "lorazepam"
          ],
          [
           "pituitary lesion"
          ],
          [
           "vagina"
          ],
          [
           "flovent 50mcg"
          ],
          [
           "erythroid dominant"
          ],
          [
           "glucose finger stick\n   59\n   21321030 1100 pm\n   bun\n   15 mgdl\n   21321031 0458 am"
          ],
          [
           "asplenia"
          ],
          [
           "hypochloremia"
          ],
          [
           "crohns disease"
          ],
          [
           "head trauma"
          ],
          [
           "gca"
          ],
          [
           "augmentin xr"
          ],
          [
           "nafcillingentamicin"
          ],
          [
           "lexapro"
          ],
          [
           "pulmonary artery\n   systolic pressure"
          ],
          [
           "p aggressive pulmonary toileting"
          ],
          [
           "mucinous cystadenoma"
          ],
          [
           "type 1 diabetes mellitus"
          ],
          [
           "headache pain"
          ],
          [
           "ho mssa"
          ],
          [
           "db"
          ],
          [
           "cerebral atrophy"
          ],
          [
           "cyclosporin neoral"
          ],
          [
           "cordisintroducer  2144131 0105 pm"
          ],
          [
           "prpositive"
          ],
          [
           "atrovent"
          ],
          [
           "sah sp aneurysm"
          ],
          [
           "apperent distress"
          ],
          [
           "ild"
          ],
          [
           "luminal"
          ],
          [
           "hypertensive hemorrhage"
          ],
          [
           "advancetolerate"
          ],
          [
           "cdifficile"
          ],
          [
           "nitrodopamine"
          ],
          [
           "fibromuscu"
          ],
          [
           "pitressin"
          ],
          [
           "moxifloxacin"
          ],
          [
           "hectorol"
          ],
          [
           "l arm weakness"
          ],
          [
           "iron gluconate"
          ],
          [
           "atrial bigeminy"
          ],
          [
           "cystic l paracentral cerebellar mass w"
          ],
          [
           "seizures  abuse relatedlast 6 weeks prior\n   current medications\n   hydromorphone"
          ],
          [
           "postoctal right parietal depression"
          ],
          [
           "muscle ache"
          ],
          [
           "psychosis"
          ],
          [
           "decreased breath sounds left base"
          ],
          [
           "temporariily"
          ],
          [
           "image002jpg\n                            21281115  1057 pm\n                            21281116  0412 am"
          ],
          [
           "cipro 400"
          ],
          [
           "deficits to pinprick on left arm in hand and along the\nmedial aspect of forearm absent proprioception"
          ],
          [
           "percocet"
          ],
          [
           "titrate insulin gtt"
          ],
          [
           "image002jpg\n                            2193124  0317 am\n                            2193124  1059 am\n                            2193125  0208 am"
          ],
          [
           "prolonged qt 125 hospital 8596"
          ],
          [
           "someone was"
          ],
          [
           "glu"
          ],
          [
           "green bile"
          ],
          [
           "migraines with visual aura"
          ],
          [
           "cirrhosis sp ogt placement\n reason for this examination\n  please eval for ogt placement\n \n                                 final report\n history  52yearold woman with"
          ],
          [
           "ventriculitis"
          ],
          [
           "via ng"
          ],
          [
           "acute subarachnoid blood"
          ],
          [
           "acute leukemia"
          ],
          [
           "nonsinus supraventricular rhythm"
          ],
          [
           "type headache"
          ],
          [
           "tablets"
          ],
          [
           "synovitis"
          ],
          [
           "aortic valve\n   leaflets 3 are mildly thickened"
          ],
          [
           "flagyl"
          ],
          [
           "paraparesis"
          ],
          [
           "isordil"
          ],
          [
           "pneumothoraces"
          ],
          [
           "dilantin"
          ],
          [
           "902 am"
          ],
          [
           "chlorpromazine"
          ],
          [
           "acute active bleeding"
          ],
          [
           "valvular abnormality"
          ],
          [
           "dizziness"
          ],
          [
           "hd sp"
          ],
          [
           "polyuria"
          ],
          [
           "mm tachy"
          ],
          [
           "embolic\n strokes"
          ],
          [
           "abx w"
          ],
          [
           "timolol"
          ],
          [
           "noncardiogenic"
          ],
          [
           "hydrate"
          ],
          [
           "prerenal failure"
          ],
          [
           "no difficulties swallowing"
          ],
          [
           "myositis"
          ],
          [
           "oliguria"
          ],
          [
           "phos32 mg14\n219762 0221pm blood"
          ],
          [
           "gn"
          ],
          [
           "ventriculomegaly"
          ],
          [
           "lower thoracic spine"
          ],
          [
           "pneumohemothorax"
          ],
          [
           "eczema"
          ],
          [
           "aortic insuffiency"
          ],
          [
           "lipase10"
          ],
          [
           "lbp"
          ],
          [
           "clear infection"
          ],
          [
           "lansoprazole"
          ],
          [
           "bibasilar atelectasis"
          ],
          [
           "levalbuterol hcl"
          ],
          [
           "digoxin"
          ],
          [
           "  sore"
          ],
          [
           "serosanguinous"
          ],
          [
           "uterine\n fibroid embolization"
          ],
          [
           "sensory loss"
          ],
          [
           "ideations"
          ],
          [
           "dangle"
          ],
          [
           "dysdiadochokinesia"
          ],
          [
           "progesterone"
          ],
          [
           "cordisintroducer  21761119 1100 am\n   "
          ],
          [
           "right flank abscess"
          ],
          [
           "hypovolemic"
          ],
          [
           "altsgpt30"
          ],
          [
           "basilar opacification"
          ],
          [
           "mitral anular calcification"
          ],
          [
           "verapamil"
          ],
          [
           "injury to blood vessels"
          ],
          [
           "image002jpg\n                            2161112  0400 am\n                             2161113  0243 am\n                             2161115  0218"
          ],
          [
           "lle"
          ],
          [
           "right hemiparesis"
          ],
          [
           "septra"
          ],
          [
           "cerebral artery aneurysm"
          ],
          [
           "cordisintroducer  2153216 0140 pm"
          ],
          [
           "hoarse voice"
          ],
          [
           "ste"
          ],
          [
           "cholesterol"
          ],
          [
           "iga nephropathy"
          ],
          [
           "03mcg"
          ],
          [
           "viral infections"
          ],
          [
           "peptic ulcer"
          ]
         ],
         "hovertemplate": "x=%{x}<br>y=%{y}<br>word=%{customdata[0]}<extra></extra>",
         "legendgroup": "",
         "marker": {
          "color": "#636efa",
          "symbol": "circle"
         },
         "mode": "markers+text",
         "name": "",
         "orientation": "v",
         "showlegend": false,
         "text": [
          "swollen bleeding",
          "aortic regurgitation",
          "vomits",
          "screaming",
          "bibasilar\n consolidations",
          "embolic\n ",
          "sc pain",
          "vq",
          "complaints of abdominal distension",
          "chronic pain w",
          "myocardial fatty infiltration",
          "dyspepsianauseatransaminitishepatitis",
          "cerebellar ich",
          "cardiogenic edema",
          "malignanct glioma",
          "airway narrowing",
          "abdgas pains",
          "upper lobe groundglass",
          "vascular\n\nmalformation",
          "esomeprazole",
          "a bioprosthetic mitral valve prosthesis",
          "nimodipine",
          "mitral valve repair",
          "acute gi bleeding",
          "sodium magnesium",
          " back pain",
          "barium",
          "ranolazine",
          "w dilaudid",
          "clopidogrel",
          "trazodone",
          " mouth",
          "deep breath",
          "pleural\n effusions and left lower lobe infiltrates",
          "hemoglobinuria",
          "dorzolamidetimolol 205",
          "seizures",
          "ple",
          "calcipotriene",
          "respiratory instability",
          "wideneck aneurysm",
          "tachypnia",
          "fluticasonesalmeterol 25050",
          "7mgkg",
          "polysubstance\n   abuse",
          "unconscious in renal failure",
          "l sided stone",
          "nonst",
          "sleep apnea",
          "liver tumor",
          "lidocaine hcl",
          "impaired\nventricular filling",
          "adrenal failure",
          "overhydration",
          "inferior vena cava",
          "trimethoprim",
          "lower extremity dvt\n \n                                 final report\n bilateral lower extremity veins",
          "cough nausea vomiting and shortness of breath",
          "sp right femoral hernia",
          "integrilin",
          "av dural",
          "lowdensity pleural effusions",
          "decreased breath sounds l",
          "low cardiac output status\n   nutrition npo\n   renal foley adequate urine output",
          "prod cough",
          "geodon",
          "lorazepam",
          "pituitary lesion",
          "vagina",
          "flovent 50mcg",
          "erythroid dominant",
          "glucose finger stick\n   59\n   21321030 1100 pm\n   bun\n   15 mgdl\n   21321031 0458 am",
          "asplenia",
          "hypochloremia",
          "crohns disease",
          "head trauma",
          "gca",
          "augmentin xr",
          "nafcillingentamicin",
          "lexapro",
          "pulmonary artery\n   systolic pressure",
          "p aggressive pulmonary toileting",
          "mucinous cystadenoma",
          "type 1 diabetes mellitus",
          "headache pain",
          "ho mssa",
          "db",
          "cerebral atrophy",
          "cyclosporin neoral",
          "cordisintroducer  2144131 0105 pm",
          "prpositive",
          "atrovent",
          "sah sp aneurysm",
          "apperent distress",
          "ild",
          "luminal",
          "hypertensive hemorrhage",
          "advancetolerate",
          "cdifficile",
          "nitrodopamine",
          "fibromuscu",
          "pitressin",
          "moxifloxacin",
          "hectorol",
          "l arm weakness",
          "iron gluconate",
          "atrial bigeminy",
          "cystic l paracentral cerebellar mass w",
          "seizures  abuse relatedlast 6 weeks prior\n   current medications\n   hydromorphone",
          "postoctal right parietal depression",
          "muscle ache",
          "psychosis",
          "decreased breath sounds left base",
          "temporariily",
          "image002jpg\n                            21281115  1057 pm\n                            21281116  0412 am",
          "cipro 400",
          "deficits to pinprick on left arm in hand and along the\nmedial aspect of forearm absent proprioception",
          "percocet",
          "titrate insulin gtt",
          "image002jpg\n                            2193124  0317 am\n                            2193124  1059 am\n                            2193125  0208 am",
          "prolonged qt 125 hospital 8596",
          "someone was",
          "glu",
          "green bile",
          "migraines with visual aura",
          "cirrhosis sp ogt placement\n reason for this examination\n  please eval for ogt placement\n \n                                 final report\n history  52yearold woman with",
          "ventriculitis",
          "via ng",
          "acute subarachnoid blood",
          "acute leukemia",
          "nonsinus supraventricular rhythm",
          "type headache",
          "tablets",
          "synovitis",
          "aortic valve\n   leaflets 3 are mildly thickened",
          "flagyl",
          "paraparesis",
          "isordil",
          "pneumothoraces",
          "dilantin",
          "902 am",
          "chlorpromazine",
          "acute active bleeding",
          "valvular abnormality",
          "dizziness",
          "hd sp",
          "polyuria",
          "mm tachy",
          "embolic\n strokes",
          "abx w",
          "timolol",
          "noncardiogenic",
          "hydrate",
          "prerenal failure",
          "no difficulties swallowing",
          "myositis",
          "oliguria",
          "phos32 mg14\n219762 0221pm blood",
          "gn",
          "ventriculomegaly",
          "lower thoracic spine",
          "pneumohemothorax",
          "eczema",
          "aortic insuffiency",
          "lipase10",
          "lbp",
          "clear infection",
          "lansoprazole",
          "bibasilar atelectasis",
          "levalbuterol hcl",
          "digoxin",
          "  sore",
          "serosanguinous",
          "uterine\n fibroid embolization",
          "sensory loss",
          "ideations",
          "dangle",
          "dysdiadochokinesia",
          "progesterone",
          "cordisintroducer  21761119 1100 am\n   ",
          "right flank abscess",
          "hypovolemic",
          "altsgpt30",
          "basilar opacification",
          "mitral anular calcification",
          "verapamil",
          "injury to blood vessels",
          "image002jpg\n                            2161112  0400 am\n                             2161113  0243 am\n                             2161115  0218",
          "lle",
          "right hemiparesis",
          "septra",
          "cerebral artery aneurysm",
          "cordisintroducer  2153216 0140 pm",
          "hoarse voice",
          "ste",
          "cholesterol",
          "iga nephropathy",
          "03mcg",
          "viral infections",
          "peptic ulcer"
         ],
         "textposition": "top center",
         "type": "scatter",
         "x": {
          "bdata": "UeuAQnlGtEAHo0TC7bFDQmzvY0LI/FhCE9NGQhmyycEP0LTBGXwTwuS+KcIwZ3xCtYfYwarNNULR7/7Bcv5bQsNoOkErjYRA0Uu5wdYwNEJnpxDBV5OGQXYAwz9z/F/CiVVEwp/eQULE3ZRAkPhRQXoKaMJlTe1ANB/pQP+E7cA/HGHC5N8CQkXIRsLL3UDBXUiOQfzOcUL01ZXB3XfhQYV3+0EzwKdBgN6Nwf4v1UFCgy1C2aKJQQSdIMLi0yFCLGh1wOsPYEKXLxVCamN9QWYsDEF7jSLCuxdJwuGWWsIJv0DCQRLFwWvbcUH368rB8ESywZoIFkGDD/5B6P+9QAzhekLYw3XBeVCJQTgu68GaBThC4/B1wk4CRMLuTRVC/cUJwpk+F0LtE4HCv9vrwA70l0EjSmlBOwgTQiTAfsIihxdBQxy3QdduKcKSpdtBZRkHwlP6L0JVFmvBhKrcwcKc+kAxN45CdBpqwnU50MGV5S/CVVxBQnLcGMGcmzLCXxufwSETMkLW5TzCIY41wgdMPcKaqDHCoPFPwkUENEFzsGRCzM0Iwsm5KUK7AQZCRRoYQaoEj7+lxAHCrl6FwQq6i8AtIsdBEXgZQvIRf0GjlBbCYUZHQZ7JFUKxFhRCwSoawp/2HcJ2FunAzcRNwgORBcICx2ZCAJ3swUqmg0JjPVBC3qpgwksvGUIBoTNCd1+YQeys0UEfazrCO3dIQauyUcL74G/CC+X/wVOtjkHaC1RCB3ovwQBZS8KBD+zBDLVuQdb9OkLOVJ/BBaEDQvQ8xsHd3MXBPJ8Mwlu/TUKNiCzCuJ7IwWind0Ku3BvCjnU3wbBLgUJdl4jBZKemwcCNRcCMTVtCbTMKwhJxrsHYH4VCxIX4wWTlQ0JByxG+urgoQY0E2EGxaMLBjjRCwijfAsEKF3DByGVcwlTMTsJPWcVBNn82wplfPMK6YEvB1K/SwUX7qcEiW0VC7FZnQmWaXEDI+GpBfMoNwTqf5UFFfRdB5pWSwHc74MHqpLbBgakUQvFXI0LmpTHCLP8QQCSWJ8IpQjFCXR89QlvZQcI=",
          "dtype": "f4"
         },
         "xaxis": "x",
         "y": {
          "bdata": "VDfDwTIEnELeGRa/NEwnwoOiML6BJiLBzLMKwmNjWkLUokM9wGj+QLtEeb8QA+zBGiM3wb38D7945b7BWU0jwvBwf8GAeLHBrlECwkp68cH323XB86RhQgRD/T8hajJAhg6gwZVq+8FQd4JCYaDYwel550Hi+FBCHaFQQkI+9ECL+LpB5O8owNp7DEJUPQHCdwVqQocUn0BoPWnB6CgNwVzDUMKpoODAXZmvwS/pSsKPFyfCtNU4QbXoLEIBzlDB5oBWQguqA8IxW39B4EfIv4QkAcLWMupBMMAJQvNL78CZJeXA7plGQkGfP8F8qjlC2kVAwfNgXED0HpdBO7AZwbmz28H4ZwjCKOJNQqxqpMAduUtBPKEwPYdnpsFaYw1Ba6T+wZadzMETGKrAWnWHQkJZLsKYeRfCBo7kwZtr6ED4UN/BguJwweBVC8DfuwTCNYqKv8YJIkExDkHB2pz4wAbNSMFtWzXBl9N5QXinKEJ8KZFB3npFQVhSm8H85nVBi5KkwW1ED8KkKAnCcmadQHy1nD+4PZTB4v7hQf8CG8Jo8brB/NvVwReD68GHocTBHvEnwixGFsInx31BhfJPQhOKMEAVhBPCnTiMQQOg/sGwQILBL+lOQps4AMLShSRBaICmweJLjsEvDnlCrkKYwWe+CMJyPwxAKTr8Qd7058Fn/YTAVh7XQX+vjMGrwBfCuktRQm5IOEGStupBEwljQiTr1UDq1b9BhfdqQsqyYkI/PLDAGir/wQiyA8EHQHpC4y+EQuf1FcKYoSpArVuiwTOqC8ENMQvCQnLawbJPMEGKS0NCtIbEwbIfxcGppmjB7lx3Qmb8LcErKxfCWcJ3QhBQNMHfYtDBZRRCQgtsJsKIfi3BuF9HQq1hQMKzQztC/ReUQjXAqcFomylCn+A/wV1MMELEZNrB9yVPQKjhLkI6RhLC2kkdQiYIJ0Ir6rK/Tqy2wbY5P0LitXxBL9sgwr2whECsa1lCD9Mewn7rw0H6eitCYaf2wSakjMF3tL/ATA7iwV01x8BY5QhCupd6Qvomm8AlOixBnDHkwSksvME=",
          "dtype": "f4"
         },
         "yaxis": "y"
        }
       ],
       "layout": {
        "legend": {
         "tracegroupgap": 0
        },
        "template": {
         "data": {
          "bar": [
           {
            "error_x": {
             "color": "#2a3f5f"
            },
            "error_y": {
             "color": "#2a3f5f"
            },
            "marker": {
             "line": {
              "color": "#E5ECF6",
              "width": 0.5
             },
             "pattern": {
              "fillmode": "overlay",
              "size": 10,
              "solidity": 0.2
             }
            },
            "type": "bar"
           }
          ],
          "barpolar": [
           {
            "marker": {
             "line": {
              "color": "#E5ECF6",
              "width": 0.5
             },
             "pattern": {
              "fillmode": "overlay",
              "size": 10,
              "solidity": 0.2
             }
            },
            "type": "barpolar"
           }
          ],
          "carpet": [
           {
            "aaxis": {
             "endlinecolor": "#2a3f5f",
             "gridcolor": "white",
             "linecolor": "white",
             "minorgridcolor": "white",
             "startlinecolor": "#2a3f5f"
            },
            "baxis": {
             "endlinecolor": "#2a3f5f",
             "gridcolor": "white",
             "linecolor": "white",
             "minorgridcolor": "white",
             "startlinecolor": "#2a3f5f"
            },
            "type": "carpet"
           }
          ],
          "choropleth": [
           {
            "colorbar": {
             "outlinewidth": 0,
             "ticks": ""
            },
            "type": "choropleth"
           }
          ],
          "contour": [
           {
            "colorbar": {
             "outlinewidth": 0,
             "ticks": ""
            },
            "colorscale": [
             [
              0,
              "#0d0887"
             ],
             [
              0.1111111111111111,
              "#46039f"
             ],
             [
              0.2222222222222222,
              "#7201a8"
             ],
             [
              0.3333333333333333,
              "#9c179e"
             ],
             [
              0.4444444444444444,
              "#bd3786"
             ],
             [
              0.5555555555555556,
              "#d8576b"
             ],
             [
              0.6666666666666666,
              "#ed7953"
             ],
             [
              0.7777777777777778,
              "#fb9f3a"
             ],
             [
              0.8888888888888888,
              "#fdca26"
             ],
             [
              1,
              "#f0f921"
             ]
            ],
            "type": "contour"
           }
          ],
          "contourcarpet": [
           {
            "colorbar": {
             "outlinewidth": 0,
             "ticks": ""
            },
            "type": "contourcarpet"
           }
          ],
          "heatmap": [
           {
            "colorbar": {
             "outlinewidth": 0,
             "ticks": ""
            },
            "colorscale": [
             [
              0,
              "#0d0887"
             ],
             [
              0.1111111111111111,
              "#46039f"
             ],
             [
              0.2222222222222222,
              "#7201a8"
             ],
             [
              0.3333333333333333,
              "#9c179e"
             ],
             [
              0.4444444444444444,
              "#bd3786"
             ],
             [
              0.5555555555555556,
              "#d8576b"
             ],
             [
              0.6666666666666666,
              "#ed7953"
             ],
             [
              0.7777777777777778,
              "#fb9f3a"
             ],
             [
              0.8888888888888888,
              "#fdca26"
             ],
             [
              1,
              "#f0f921"
             ]
            ],
            "type": "heatmap"
           }
          ],
          "histogram": [
           {
            "marker": {
             "pattern": {
              "fillmode": "overlay",
              "size": 10,
              "solidity": 0.2
             }
            },
            "type": "histogram"
           }
          ],
          "histogram2d": [
           {
            "colorbar": {
             "outlinewidth": 0,
             "ticks": ""
            },
            "colorscale": [
             [
              0,
              "#0d0887"
             ],
             [
              0.1111111111111111,
              "#46039f"
             ],
             [
              0.2222222222222222,
              "#7201a8"
             ],
             [
              0.3333333333333333,
              "#9c179e"
             ],
             [
              0.4444444444444444,
              "#bd3786"
             ],
             [
              0.5555555555555556,
              "#d8576b"
             ],
             [
              0.6666666666666666,
              "#ed7953"
             ],
             [
              0.7777777777777778,
              "#fb9f3a"
             ],
             [
              0.8888888888888888,
              "#fdca26"
             ],
             [
              1,
              "#f0f921"
             ]
            ],
            "type": "histogram2d"
           }
          ],
          "histogram2dcontour": [
           {
            "colorbar": {
             "outlinewidth": 0,
             "ticks": ""
            },
            "colorscale": [
             [
              0,
              "#0d0887"
             ],
             [
              0.1111111111111111,
              "#46039f"
             ],
             [
              0.2222222222222222,
              "#7201a8"
             ],
             [
              0.3333333333333333,
              "#9c179e"
             ],
             [
              0.4444444444444444,
              "#bd3786"
             ],
             [
              0.5555555555555556,
              "#d8576b"
             ],
             [
              0.6666666666666666,
              "#ed7953"
             ],
             [
              0.7777777777777778,
              "#fb9f3a"
             ],
             [
              0.8888888888888888,
              "#fdca26"
             ],
             [
              1,
              "#f0f921"
             ]
            ],
            "type": "histogram2dcontour"
           }
          ],
          "mesh3d": [
           {
            "colorbar": {
             "outlinewidth": 0,
             "ticks": ""
            },
            "type": "mesh3d"
           }
          ],
          "parcoords": [
           {
            "line": {
             "colorbar": {
              "outlinewidth": 0,
              "ticks": ""
             }
            },
            "type": "parcoords"
           }
          ],
          "pie": [
           {
            "automargin": true,
            "type": "pie"
           }
          ],
          "scatter": [
           {
            "fillpattern": {
             "fillmode": "overlay",
             "size": 10,
             "solidity": 0.2
            },
            "type": "scatter"
           }
          ],
          "scatter3d": [
           {
            "line": {
             "colorbar": {
              "outlinewidth": 0,
              "ticks": ""
             }
            },
            "marker": {
             "colorbar": {
              "outlinewidth": 0,
              "ticks": ""
             }
            },
            "type": "scatter3d"
           }
          ],
          "scattercarpet": [
           {
            "marker": {
             "colorbar": {
              "outlinewidth": 0,
              "ticks": ""
             }
            },
            "type": "scattercarpet"
           }
          ],
          "scattergeo": [
           {
            "marker": {
             "colorbar": {
              "outlinewidth": 0,
              "ticks": ""
             }
            },
            "type": "scattergeo"
           }
          ],
          "scattergl": [
           {
            "marker": {
             "colorbar": {
              "outlinewidth": 0,
              "ticks": ""
             }
            },
            "type": "scattergl"
           }
          ],
          "scattermap": [
           {
            "marker": {
             "colorbar": {
              "outlinewidth": 0,
              "ticks": ""
             }
            },
            "type": "scattermap"
           }
          ],
          "scattermapbox": [
           {
            "marker": {
             "colorbar": {
              "outlinewidth": 0,
              "ticks": ""
             }
            },
            "type": "scattermapbox"
           }
          ],
          "scatterpolar": [
           {
            "marker": {
             "colorbar": {
              "outlinewidth": 0,
              "ticks": ""
             }
            },
            "type": "scatterpolar"
           }
          ],
          "scatterpolargl": [
           {
            "marker": {
             "colorbar": {
              "outlinewidth": 0,
              "ticks": ""
             }
            },
            "type": "scatterpolargl"
           }
          ],
          "scatterternary": [
           {
            "marker": {
             "colorbar": {
              "outlinewidth": 0,
              "ticks": ""
             }
            },
            "type": "scatterternary"
           }
          ],
          "surface": [
           {
            "colorbar": {
             "outlinewidth": 0,
             "ticks": ""
            },
            "colorscale": [
             [
              0,
              "#0d0887"
             ],
             [
              0.1111111111111111,
              "#46039f"
             ],
             [
              0.2222222222222222,
              "#7201a8"
             ],
             [
              0.3333333333333333,
              "#9c179e"
             ],
             [
              0.4444444444444444,
              "#bd3786"
             ],
             [
              0.5555555555555556,
              "#d8576b"
             ],
             [
              0.6666666666666666,
              "#ed7953"
             ],
             [
              0.7777777777777778,
              "#fb9f3a"
             ],
             [
              0.8888888888888888,
              "#fdca26"
             ],
             [
              1,
              "#f0f921"
             ]
            ],
            "type": "surface"
           }
          ],
          "table": [
           {
            "cells": {
             "fill": {
              "color": "#EBF0F8"
             },
             "line": {
              "color": "white"
             }
            },
            "header": {
             "fill": {
              "color": "#C8D4E3"
             },
             "line": {
              "color": "white"
             }
            },
            "type": "table"
           }
          ]
         },
         "layout": {
          "annotationdefaults": {
           "arrowcolor": "#2a3f5f",
           "arrowhead": 0,
           "arrowwidth": 1
          },
          "autotypenumbers": "strict",
          "coloraxis": {
           "colorbar": {
            "outlinewidth": 0,
            "ticks": ""
           }
          },
          "colorscale": {
           "diverging": [
            [
             0,
             "#8e0152"
            ],
            [
             0.1,
             "#c51b7d"
            ],
            [
             0.2,
             "#de77ae"
            ],
            [
             0.3,
             "#f1b6da"
            ],
            [
             0.4,
             "#fde0ef"
            ],
            [
             0.5,
             "#f7f7f7"
            ],
            [
             0.6,
             "#e6f5d0"
            ],
            [
             0.7,
             "#b8e186"
            ],
            [
             0.8,
             "#7fbc41"
            ],
            [
             0.9,
             "#4d9221"
            ],
            [
             1,
             "#276419"
            ]
           ],
           "sequential": [
            [
             0,
             "#0d0887"
            ],
            [
             0.1111111111111111,
             "#46039f"
            ],
            [
             0.2222222222222222,
             "#7201a8"
            ],
            [
             0.3333333333333333,
             "#9c179e"
            ],
            [
             0.4444444444444444,
             "#bd3786"
            ],
            [
             0.5555555555555556,
             "#d8576b"
            ],
            [
             0.6666666666666666,
             "#ed7953"
            ],
            [
             0.7777777777777778,
             "#fb9f3a"
            ],
            [
             0.8888888888888888,
             "#fdca26"
            ],
            [
             1,
             "#f0f921"
            ]
           ],
           "sequentialminus": [
            [
             0,
             "#0d0887"
            ],
            [
             0.1111111111111111,
             "#46039f"
            ],
            [
             0.2222222222222222,
             "#7201a8"
            ],
            [
             0.3333333333333333,
             "#9c179e"
            ],
            [
             0.4444444444444444,
             "#bd3786"
            ],
            [
             0.5555555555555556,
             "#d8576b"
            ],
            [
             0.6666666666666666,
             "#ed7953"
            ],
            [
             0.7777777777777778,
             "#fb9f3a"
            ],
            [
             0.8888888888888888,
             "#fdca26"
            ],
            [
             1,
             "#f0f921"
            ]
           ]
          },
          "colorway": [
           "#636efa",
           "#EF553B",
           "#00cc96",
           "#ab63fa",
           "#FFA15A",
           "#19d3f3",
           "#FF6692",
           "#B6E880",
           "#FF97FF",
           "#FECB52"
          ],
          "font": {
           "color": "#2a3f5f"
          },
          "geo": {
           "bgcolor": "white",
           "lakecolor": "white",
           "landcolor": "#E5ECF6",
           "showlakes": true,
           "showland": true,
           "subunitcolor": "white"
          },
          "hoverlabel": {
           "align": "left"
          },
          "hovermode": "closest",
          "mapbox": {
           "style": "light"
          },
          "paper_bgcolor": "white",
          "plot_bgcolor": "#E5ECF6",
          "polar": {
           "angularaxis": {
            "gridcolor": "white",
            "linecolor": "white",
            "ticks": ""
           },
           "bgcolor": "#E5ECF6",
           "radialaxis": {
            "gridcolor": "white",
            "linecolor": "white",
            "ticks": ""
           }
          },
          "scene": {
           "xaxis": {
            "backgroundcolor": "#E5ECF6",
            "gridcolor": "white",
            "gridwidth": 2,
            "linecolor": "white",
            "showbackground": true,
            "ticks": "",
            "zerolinecolor": "white"
           },
           "yaxis": {
            "backgroundcolor": "#E5ECF6",
            "gridcolor": "white",
            "gridwidth": 2,
            "linecolor": "white",
            "showbackground": true,
            "ticks": "",
            "zerolinecolor": "white"
           },
           "zaxis": {
            "backgroundcolor": "#E5ECF6",
            "gridcolor": "white",
            "gridwidth": 2,
            "linecolor": "white",
            "showbackground": true,
            "ticks": "",
            "zerolinecolor": "white"
           }
          },
          "shapedefaults": {
           "line": {
            "color": "#2a3f5f"
           }
          },
          "ternary": {
           "aaxis": {
            "gridcolor": "white",
            "linecolor": "white",
            "ticks": ""
           },
           "baxis": {
            "gridcolor": "white",
            "linecolor": "white",
            "ticks": ""
           },
           "bgcolor": "#E5ECF6",
           "caxis": {
            "gridcolor": "white",
            "linecolor": "white",
            "ticks": ""
           }
          },
          "title": {
           "x": 0.05
          },
          "xaxis": {
           "automargin": true,
           "gridcolor": "white",
           "linecolor": "white",
           "ticks": "",
           "title": {
            "standoff": 15
           },
           "zerolinecolor": "white",
           "zerolinewidth": 2
          },
          "yaxis": {
           "automargin": true,
           "gridcolor": "white",
           "linecolor": "white",
           "ticks": "",
           "title": {
            "standoff": 15
           },
           "zerolinecolor": "white",
           "zerolinewidth": 2
          }
         }
        },
        "title": {
         "text": "Small Subset of tSNE Plot with visible labels"
        },
        "xaxis": {
         "anchor": "y",
         "domain": [
          0,
          1
         ],
         "title": {
          "text": "x"
         }
        },
        "yaxis": {
         "anchor": "x",
         "domain": [
          0,
          1
         ],
         "title": {
          "text": "y"
         }
        }
       }
      }
     },
     "metadata": {},
     "output_type": "display_data"
    }
   ],
   "source": [
    "df_tsne_small = pd.DataFrame({\n",
    "    'word': words,\n",
    "    'x': word_vecs_2d[:, 0],\n",
    "    'y': word_vecs_2d[:, 1]\n",
    "})\n",
    "\n",
    "df_tsne_small = df_tsne_small.sample(200)\n",
    "\n",
    "fig = px.scatter(df_tsne_small, x='x', y='y', text='word',\n",
    "                 hover_data=['word'],\n",
    "                 title=\"Small Subset of tSNE Plot with visible labels\")\n",
    "fig.update_traces(textposition='top center')\n",
    "fig.show()\n"
   ]
  },
  {
   "cell_type": "markdown",
   "metadata": {},
   "source": [
    "### Extra Credit: Using medspacy to do the NER"
   ]
  },
  {
   "cell_type": "code",
   "execution_count": null,
   "metadata": {},
   "outputs": [],
   "source": [
    "import sys\n",
    "sys.path.insert(0, \"..\")\n",
    "\n",
    "import spacy\n",
    "from spacy.tokens import Span\n",
    "\n",
    "import medspacy\n",
    "from medspacy.preprocess import PreprocessingRule, Preprocessor\n",
    "from medspacy.ner import TargetRule\n",
    "from medspacy.context import ConTextRule\n",
    "from medspacy.section_detection import Sectionizer, SectionRule\n",
    "from medspacy.postprocess import PostprocessingRule, PostprocessingPattern, postprocessing_functions\n",
    "from medspacy.visualization import visualize_ent\n",
    "import re\n",
    "\n",
    "nlp = medspacy.load()\n"
   ]
  },
  {
   "cell_type": "code",
   "execution_count": null,
   "metadata": {},
   "outputs": [],
   "source": [
    "# I got these preprocessing rules from the medspacy github repo (They are in this example notebook: https://github.com/medspacy/medspacy/blob/master/notebooks/05-Full-Pipeline.ipynb)\n",
    "preprocessor = Preprocessor(nlp.tokenizer)\n",
    "nlp.tokenizer = preprocessor\n",
    "\n",
    "preprocess_rules = [\n",
    "    PreprocessingRule(\n",
    "        r\"\\[\\*\\*[\\d]{1,4}-[\\d]{1,2}(-[\\d]{1,2})?\\*\\*\\]\",\n",
    "        repl=\"01-01-2010\",\n",
    "        desc=\"Replace MIMIC date brackets with a generic date.\"\n",
    "    ),\n",
    "    PreprocessingRule(\n",
    "        r\"\\[\\*\\*[\\d]{4}\\*\\*\\]\",\n",
    "        repl=\"2010\",\n",
    "        desc=\"Replace MIMIC year brackets with a generic year.\"\n",
    "    ),\n",
    "    PreprocessingRule(\n",
    "        \"dx'd\",\n",
    "        repl=\"Diagnosed\",\n",
    "        desc=\"Replace abbreviation\"\n",
    "    ),\n",
    "    PreprocessingRule(\n",
    "        \"tx'd\",\n",
    "        repl=\"Treated\",\n",
    "        desc=\"Replace abbreviation\"\n",
    "    ),\n",
    "    PreprocessingRule(\n",
    "        \"\\[\\*\\*[^\\]]+\\]\",\n",
    "        desc=\"Remove all other bracketed placeholder text from MIMIC\"\n",
    "    )\n",
    "]\n",
    "preprocessor.add(preprocess_rules)\n"
   ]
  },
  {
   "cell_type": "code",
   "execution_count": null,
   "metadata": {},
   "outputs": [],
   "source": [
    "Span.set_extension(\"icd9\", default=\"\")\n",
    "target_matcher = nlp.get_pipe(\"medspacy_target_matcher\")\n",
    "target_rules = [\n",
    "    TargetRule(literal=\"migraine headache\", category=\"PROBLEM\", attributes={\"icd9\": \"346\"}),\n",
    "]\n",
    "target_matcher.add(target_rules)\n",
    "\n",
    "context = nlp.get_pipe(\"medspacy_context\")\n",
    "context_rules = [\n",
    "    ConTextRule(\"diagnosed in <YEAR>\", \"HISTORICAL\", \n",
    "                pattern=[\n",
    "                    {\"LOWER\": \"diagnosed\"},\n",
    "                    {\"LOWER\": \"in\"},\n",
    "                    {\"LOWER\": {\"REGEX\": \"^[\\d]{4}$\"}}\n",
    "                ])\n",
    "]\n",
    "context.add(context_rules)"
   ]
  },
  {
   "cell_type": "code",
   "execution_count": 38,
   "metadata": {},
   "outputs": [
    {
     "name": "stdout",
     "output_type": "stream",
     "text": [
      "Pipeline components: ['medspacy_pyrush', 'medspacy_target_matcher', 'medspacy_context', 'medspacy_sectionizer', 'medspacy_postprocessor']\n"
     ]
    },
    {
     "data": {
      "text/html": [
       "<span class=\"tex2jax_ignore\"><div class=\"entities\" style=\"line-height: 2.5; direction: ltr\">Admission Date:  01-01-2010              Discharge Date:   01-01-2010<br><br>Date of Birth:  01-01-2010             Sex:   F<br><br>\n",
       "<mark class=\"entity\" style=\"background: #dee0e3; padding: 0.45em 0.6em; margin: 0 0.25em; line-height: 1; border-radius: 0.35em;\">\n",
       "    Service:\n",
       "    <span style=\"font-size: 0.8em; font-weight: bold; line-height: 1; border-radius: 0.35em; vertical-align: middle; margin-left: 0.5rem\"><< OTHER >></span>\n",
       "</mark>\n",
       " MED<br><br>\n",
       "<mark class=\"entity\" style=\"background: #dee0e3; padding: 0.45em 0.6em; margin: 0 0.25em; line-height: 1; border-radius: 0.35em;\">\n",
       "    Allergies:\n",
       "    <span style=\"font-size: 0.8em; font-weight: bold; line-height: 1; border-radius: 0.35em; vertical-align: middle; margin-left: 0.5rem\"><< ALLERGY >></span>\n",
       "</mark>\n",
       "<br>Iodine; Iodine Containing / Dilantin / Percocet<br><br>Attending:<br>\n",
       "<mark class=\"entity\" style=\"background: #dee0e3; padding: 0.45em 0.6em; margin: 0 0.25em; line-height: 1; border-radius: 0.35em;\">\n",
       "    Chief Complaint:\n",
       "    <span style=\"font-size: 0.8em; font-weight: bold; line-height: 1; border-radius: 0.35em; vertical-align: middle; margin-left: 0.5rem\"><< CHIEF_COMPLAINT >></span>\n",
       "</mark>\n",
       "<br>chest discomfort and shortness of breath x 2 months<br><br>Major Surgical or Invasive Procedure:<br>Mediastinoscopy with lymph node biopsy - pathology pending<br><br><br>\n",
       "<mark class=\"entity\" style=\"background: #dee0e3; padding: 0.45em 0.6em; margin: 0 0.25em; line-height: 1; border-radius: 0.35em;\">\n",
       "    History of Present Illness:\n",
       "    <span style=\"font-size: 0.8em; font-weight: bold; line-height: 1; border-radius: 0.35em; vertical-align: middle; margin-left: 0.5rem\"><< HISTORY_OF_PRESENT_ILLNESS >></span>\n",
       "</mark>\n",
       "<br>The patient is a 37 year old female with PMH endometrial cancer<br>s/p TAH w/ R oopherectomy who presented to a  clinic with<br>two month history of shortness of breath and chest pain. She<br>describes the chest pain as &quot;like an elephant standing on her<br>chest&quot;. She notes that it is associated with dyspnea,<br>diaphoresis, and lightheadedness. She was referred to a<br>cardiologist for a nuclear stress test about 6 weeks ago which<br>was normal per pt. Symptoms persisted over last three weeks with<br>increased fatigue and weakness. She also notes waxing and <br>feversv(Tm 100-101), productive cough and 18 pound weight loss<br>during this time. At the  clinic on 01-01-2010, a chest x-ray<br>was done which was significant for mediastinal widening. She was<br>immediately taken by ambulance to Falumouth ED. At , a<br>Chest CT showed diffuse mediastinal adenopathy and multiple<br>pulmonary nodules and splenomegaly. An echo showed small-<br>moderate pericardial effusion and increased tuerculation in RV<br>apex c/w RVA thrombus. NL EF/valves. Doppler US LE - Left<br>popliteal DVT. V/Q scan - indetermingate - 50% chance of PE.<br>Patient was stable during one day admission at  and was<br>transferred to   for further work up of the pulmonary<br>nodules and lymphadenopathy.  While in the , the patient was<br>seen by pulmonary and oncology. She was sent for a chest and<br>abdominal CT which suggested a 5x4 cm mediastinal mass with<br>precarinal lymph nodes, multiple smaller nodules throughout both<br>lungs and a small-moderate pericardial effusion. She was<br>hemodynamically stable in the  and transferred to the floors<br>on 01-01-2010 pm.<br><br>The patient denies headaches/abdominal pain/melena/hematochezia/<br>change in bowel movements/dysuria.<br><br>The patient does note 10 year history of perimenopausal symptoms<br>- fatigue, myalgias, hot flashes, low grade temps.<br><br>\n",
       "<mark class=\"entity\" style=\"background: #dee0e3; padding: 0.45em 0.6em; margin: 0 0.25em; line-height: 1; border-radius: 0.35em;\">\n",
       "    Past Medical History:\n",
       "    <span style=\"font-size: 0.8em; font-weight: bold; line-height: 1; border-radius: 0.35em; vertical-align: middle; margin-left: 0.5rem\"><< PAST_MEDICAL_HISTORY >></span>\n",
       "</mark>\n",
       "<br>1. ?Endometrial Cancer - age 25 - s/p TAH and RO, no chemo/xrt<br>(encapsulated tumor)<br><br>2. Migraine headaches - since age 8. Takes tylenol and motrin.<br><br>3. Cesarean Section x 3<br><br>4. History of fibrocystic breast disease - s/p multiple<br>mammograms and 7 negative biopsies<br><br>5. Per path report -Cervical cancer in situ 2010<br><br>\n",
       "<mark class=\"entity\" style=\"background: #dee0e3; padding: 0.45em 0.6em; margin: 0 0.25em; line-height: 1; border-radius: 0.35em;\">\n",
       "    Social History:\n",
       "    <span style=\"font-size: 0.8em; font-weight: bold; line-height: 1; border-radius: 0.35em; vertical-align: middle; margin-left: 0.5rem\"><< SOCIAL_HISTORY >></span>\n",
       "</mark>\n",
       "<br>The patient works as a bar manager. She has 3 children and is<br>separated<br>Tobacco -(+) 01-01-2010 -3 ppd x 22 years (~40 pack-year)<br>Alcohol - Rare<br>IVDA - none<br><br>\n",
       "<mark class=\"entity\" style=\"background: #dee0e3; padding: 0.45em 0.6em; margin: 0 0.25em; line-height: 1; border-radius: 0.35em;\">\n",
       "    Family History:\n",
       "    <span style=\"font-size: 0.8em; font-weight: bold; line-height: 1; border-radius: 0.35em; vertical-align: middle; margin-left: 0.5rem\"><< FAMILY_HISTORY >></span>\n",
       "</mark>\n",
       "<br>Ancestry - scandinavian, english<br><br>Mother - <br>Sister - Similar symptoms of fatigue, weakness, &quot;perimenopausal&quot;<br>on testosterone supplement<br>Great aunt - breast cancer<br>aunt - cervical cancer<br>&quot;history of clotting in legs&quot; in family<br><br>\n",
       "<mark class=\"entity\" style=\"background: #dee0e3; padding: 0.45em 0.6em; margin: 0 0.25em; line-height: 1; border-radius: 0.35em;\">\n",
       "    Physical Exam:\n",
       "    <span style=\"font-size: 0.8em; font-weight: bold; line-height: 1; border-radius: 0.35em; vertical-align: middle; margin-left: 0.5rem\"><< PHYSICAL_EXAM >></span>\n",
       "</mark>\n",
       "<br>Temp max 99.6; Tcurrent 98.6, BP 109/58, HR 86-100, RR 17-21,<br>93-94%RA<br><br>Gen - Alert, no acute distress, anxious, thin<br>HEENT - PERRL, extraocular motions intact, anicteric, mucous<br>membranes moist<br>Neck - supple, no JVD, positive R shotty cervical LAD,<br>Chest - diffuse expiratory wheezes, some scattered crackles;<br>otherwise Clear to auscultation bilaterally<br>CV - Normal S1/S2, RRR, no murmurs, rubs, or gallops<br>Abd - Soft, nontender, nondistended, with normoactive bowel<br>sounds<br>Back - No costovertebral angle tendernes; Left paraspinal (C7),<br>firm rubbery mass (+)tender to palpation<br>Extr - No clubbing, cyanosis, or edema. 2+ DP pulses<br>bilaterally. no axillary LAD<br>Neuro - Alert and oriented x 3, cranial nerves 01-01-2010 intact,<br>upper and lower extremity strength 5/5 bilaterally, sensation<br>grossly intact<br><br>Skin - No rash<br><br><br>\n",
       "<mark class=\"entity\" style=\"background: #dee0e3; padding: 0.45em 0.6em; margin: 0 0.25em; line-height: 1; border-radius: 0.35em;\">\n",
       "    Pertinent Results:\n",
       "    <span style=\"font-size: 0.8em; font-weight: bold; line-height: 1; border-radius: 0.35em; vertical-align: middle; margin-left: 0.5rem\"><< LABS_AND_STUDIES >></span>\n",
       "</mark>\n",
       "<br>01-01-2010 07:16PM   WBC-7.5 RBC-3.63* HGB-10.9* HCT-33.2* MCV-92<br>MCH-30.1 MCHC-32.9 RDW-12.7 PLT 211 NEUTS-75* BANDS-0 LYMPHS-21<br>MONOS-4 EOS-0 BASOS-0 ATYPS-0 METAS-0 MYELOS-0<br>01-01-2010 07:16PM   calTIBC-216* FERRITIN-142 TRF-166*IRON-17*<br><br>01-01-2010 07:16PM   GLUCOSE-91 UREA N-7 CREAT-0.5 SODIUM-138<br>POTASSIUM-3.9 CHLORIDE-100 TOTAL CO2-27 ANION GAP-15<br><br>01-01-2010 07:16PM   ALT(SGPT)-3 AST(SGOT)-9 LD(LDH)-153 ALK<br>PHOS-74 TOT BILI-0.3 ALBUMIN-3.5 CALCIUM-8.5 PHOSPHATE-3.7<br>MAGNESIUM-2.0<br><br>01-01-2010 07:16PM   FSH-3.4 LH-4.8<br><br>01-01-2010<br>CT OF THE CHEST WITHOUT CONTRAST: There is no axillary<br>lymphadenopathy. Small<br>axillary lymph nodes do not meet the criteria for pathologic<br>enlargement and<br>measure up to 6 mm in size. A large mediastinal mass, which<br>measures up to<br>5.4 x 4.7 cm in axial dimension, which extends from the right<br>paratracheal<br>region at the level of the thoracic inlet to the precarinal<br>lesion is present<br>with central regions of hypodensity suggesting necrotic change.<br>In addition,<br>there is an enlarged 4.5 x 2.5 cm subcarinal lymph node.<br>Bulkiness in the<br>right hilum is present as well. Evaluation of the central<br>airways demonstrate<br>patency to the segmental bronchi bilaterally. Examination of the<br>lung windows<br>demonstrate a dominant 13 x 11 mm nodule within the right upper<br>lobe, with a<br>satellite lesion in the subpleural right apex measuring 7 mm in<br>size. Most of<br>these lesions show some characteristics of spiculation. In<br>addition, there is<br>a 5 mm nodular region in the subpleural right lower lobe, which<br>has well-<br>defined forbers. The right lower lobe demonstrates mild<br>atelectasis, possibly<br>with a smaller degree of consolidation as well. There is a trace<br>right-sided<br>pleural effusion. The left lung is essentially clear, without<br>evidence of<br>pleural effusion. There are some peripheral blebs suggestive of<br>paraseptal<br>emphysema. Note is also made of a hypodense appearance of the<br>blood relative<br>to myocardium suggestive of anemia. There is a small pericardial<br>effusion.<br><br>CT OF THE ABDOMEN WITHOUT CONTRAST: Allowing for the noncontrast<br>technique,<br>the liver, gallbladder, spleen, kidneys, stomach, and small<br>bowel appear<br>unremarkable. The pancreas is grossly unremarkable as well.<br>Adrenal glands<br>are not clearly visualized due to the lack of IV contrast, and<br>no bulky<br>lymphadenopathy is the retroperitoneum or mesentery is noted.<br>There is no<br>abdominal free fluid present.<br><br>CT OF THE PELVIS WITHOUT CONTRAST: The large bowel and bladder<br>are<br>unremarkable. Distal ureters are not well visualized without IV<br>contrast. The<br>uterus is not seen, and the ovaries appear unremarkable.<br><br>Examination of the osseous structures show no suspicious lytic<br>or blastic<br>lesions.<br><br>IMRESSION:<br>1. Large mediastinal mass with precarinal and subcarinal lymph<br>nodes. These<br>have hypodense central regions suggestive or necrosis. These<br>would be most<br>ammenable for transbronchial biopsy.<br>2. Multiple lung nodules, two of which are spiculated at the<br>right lung apex.<br>3. There is a small pericardial effusion.<br><br>01-01-2010<br>MRI BRAIN.<br><br>CLINICAL INFORMATION: Patient with history of cervical cancer<br>with pulmonary<br>nodule and mediastinal mass and patient allergic to IV contrast<br>for CT, for<br>further evaluation to exclude metastatic disease.<br><br>\n",
       "<mark class=\"entity\" style=\"background: #dee0e3; padding: 0.45em 0.6em; margin: 0 0.25em; line-height: 1; border-radius: 0.35em;\">\n",
       "    TECHNIQUE:\n",
       "    <span style=\"font-size: 0.8em; font-weight: bold; line-height: 1; border-radius: 0.35em; vertical-align: middle; margin-left: 0.5rem\"><< IMAGING >></span>\n",
       "</mark>\n",
       " T1 sagittal and axial, and FLAIR, T2 and<br>susceptibility axial<br>images of the brain were obtained before gadolinium. T1 axial,<br>sagittal and<br>coronal images were obtained following the administration of<br>gadolinium.<br><br>\n",
       "<mark class=\"entity\" style=\"background: #dee0e3; padding: 0.45em 0.6em; margin: 0 0.25em; line-height: 1; border-radius: 0.35em;\">\n",
       "    FINDINGS:\n",
       "    <span style=\"font-size: 0.8em; font-weight: bold; line-height: 1; border-radius: 0.35em; vertical-align: middle; margin-left: 0.5rem\"><< LABS_AND_STUDIES >></span>\n",
       "</mark>\n",
       " In the right posterofrontal lobe, there are two small<br>areas of<br>signal abnormality seen within on the FLAIR images, one<br>laterally along the<br>anterior aspect of the central sulcus and the second superiorly<br>to the<br>posterior frontal lobe near the midline. Both of these foci<br>demonstrate<br>enhancement following the administration of gadolinium. No other<br>focal<br>abnormalities are identified. Specifically, no evidence of<br>periventricular<br>signal abnormalities are seen. No other areas of enhancement are<br>noted. The<br>ventricles and extraaxial spaces are normal in size. No evidence<br>for midline<br>shift, mass effect or hydrocephalus is seen.<br><br>\n",
       "<mark class=\"entity\" style=\"background: #dee0e3; padding: 0.45em 0.6em; margin: 0 0.25em; line-height: 1; border-radius: 0.35em;\">\n",
       "    IMPRESSION:\n",
       "    <span style=\"font-size: 0.8em; font-weight: bold; line-height: 1; border-radius: 0.35em; vertical-align: middle; margin-left: 0.5rem\"><< OBSERVATION_AND_PLAN >></span>\n",
       "</mark>\n",
       " Foci of signal abnormalities in the right frontal<br>lobe with<br>enhancement. The differential diagnosis includes metastatic<br>disease and<br>demyelinating process, given patient's age. However, given the<br>clinical<br>history and the location of the lesions, metastatic disease is<br>considered more<br>likely.<br><br><br>\n",
       "<mark class=\"entity\" style=\"background: #dee0e3; padding: 0.45em 0.6em; margin: 0 0.25em; line-height: 1; border-radius: 0.35em;\">\n",
       "    Brief Hospital Course:\n",
       "    <span style=\"font-size: 0.8em; font-weight: bold; line-height: 1; border-radius: 0.35em; vertical-align: middle; margin-left: 0.5rem\"><< HOSPITAL_COURSE >></span>\n",
       "</mark>\n",
       "<br>37 year old female with h/o cervical cancer s/p TAH transferred<br>from outside hospital with progressive chest discomfort, SOB,<br>and weight loss with Left popliteal DVT, possible PE and chest<br>xray/ CT evidence of mediastinal mass and multiple bilateral<br>nodules with mediastinal lymphadenopathy.<br><br>1. Pulmonary nodules - On admission a chest xray suggested a<br>small focal opacity in right upper lobe and right paratracheal<br>opacity. A chest CT the following day suggested a large<br>mediastinal mass with precarinal and subcarinal lymph nodes with<br>hypodense central regions suggestive of necrosis. It also showed<br>multiple nodules, two spiculated lung nodules at right lung<br>apex. These lesions were most consistent with lung cancer versus<br>lymphoma so a mediastinoscopy was planned. Other things<br>originally on the differential were: TB -PPD negative,<br>histoplasmosis -antigen still pending, coccidoiomycoses,<br>nocardia, sarcoidosis (scandinavian) - ACE-normal. On 01-01-2010 she<br>had a MRI-brain, which showed two foci of signal abnormalities<br>in the right frontal lobe with enhancement. No edema or mass<br>effect was seen secondary to the brain lesions. On 01-01-2010, she had<br>a mediastinoscopy. The frozen section was positive for non-small<br>cell lung cancer; paratracheal lymph nodes were sent for<br>pathology (still pending).<br><br>2. Non-small cell lung cancer - Multiple necrotic lymph nodes<br>radiographically and grossly, MRI of the brain with focal right<br>frontal brain mets; and a 1 by 1 inch paraspinal hard, rubbery<br>lesion on her Left upper back; presentation consistent with<br>metastatic NSCLC. Patient was told her diagnosis with her mother<br>and grandfather in the room. She seemed to take the news well,<br>appropriately becoming teary eyed. She was then seen by a social<br>worker and told the social worker that she was coping well and<br>did not need to be seen anymore. She was seen by oncology<br>\n",
       "<mark class=\"entity\" style=\"background: #dee0e3; padding: 0.45em 0.6em; margin: 0 0.25em; line-height: 1; border-radius: 0.35em;\">\n",
       "    consult\n",
       "    <span style=\"font-size: 0.8em; font-weight: bold; line-height: 1; border-radius: 0.35em; vertical-align: middle; margin-left: 0.5rem\"><< HISTORY_OF_PRESENT_ILLNESS >></span>\n",
       "</mark>\n",
       " and set up for<br>an outpatient follow up with multidisciplinary oncology team on<br>thursday 01-01-2010. During that time she will discuss chemo vs<br>biologic therapies vs palliation.<br>She will also have a bone scan to evaluate for bone mets also on<br>thursday as an o/p. On the last day of admission, the patient<br>noted blurriness in left periphery; no deficit on visual fields<br>or neuro exam; the patient was advised to have a head ct to<br>reevaluate for mass effect or bleeding in the brain lesions, but<br>she refused and wanted to go home with no further treatment. She<br>was counseled to go to the ED if she had worsening vision<br>deficits, headaches. The patient's shortness of breath was<br>stable during the admission; she required 2L oxygen especially<br>during long conversations; the patient will be sent home on home<br>oxygen.<br><br>2. Hypercoagulable state - DVT/PE/?RV thrombus - echo at outside<br>hospital also with possible thrombus in RV; pt obviously<br>hypercoagulable most likely secondary to primary lung<br>malignancy; she was maintained on heparin throughout the<br>admission and was switched to Lovenox and underwent Lovenox<br>administration teaching prior to discharge<br><br>3. Pericardial effusion - found on echo at ; stable on<br>chest CT at .Most likely secondary to the primary lung<br>malignancy; patient did not experience any decreases in blood<br>pressure, increased shortness of breath, or increased chest pain<br>during the admission. SHe was monitored throughout the admission<br>for tamponade physiology and did not present with any.<br><br>4. Fevers - low grade throughout admission; most likely<br>secondary to the malignancy; fungal, blood cultures were<br>negative; lyme antibody was negative; patient never mounted an<br>increased white blood cell count.<br><br>5. Pain/Nausea - The patient had back and chest (pleural) pain<br>throughout the admission well controlled PRN dilaudid q 3-4<br>hours. She was started on a fentanyl patch for pain on 01-01-2010<br>with dilaudid for breakthrough. SHe also noted increased nausea<br>with the dilaudid which was well controlled with phenergan.<br>After the mediastinoscopy, she had increased throat pain which<br>was relieved with viscous lidocaine.<br><br>6. 10 year hisory of perimenopausal symptoms - FSH, LH within<br>normal limits; no further work-up during the admission<br><br>7. PPX - She was maintained on a multivitamin and zantac during<br>the admission with colace and senna to releive constipation in<br>the setting of narcotics.)<br><br>8. Code Status - Full Code<br><br>\n",
       "<mark class=\"entity\" style=\"background: #dee0e3; padding: 0.45em 0.6em; margin: 0 0.25em; line-height: 1; border-radius: 0.35em;\">\n",
       "    Medications on Admission:\n",
       "    <span style=\"font-size: 0.8em; font-weight: bold; line-height: 1; border-radius: 0.35em; vertical-align: middle; margin-left: 0.5rem\"><< MEDICATIONS >></span>\n",
       "</mark>\n",
       "<br>Tylenol<br><br>(Heparin gtt from outside hospital)<br><br>\n",
       "<mark class=\"entity\" style=\"background: #dee0e3; padding: 0.45em 0.6em; margin: 0 0.25em; line-height: 1; border-radius: 0.35em;\">\n",
       "    Discharge Medications:\n",
       "    <span style=\"font-size: 0.8em; font-weight: bold; line-height: 1; border-radius: 0.35em; vertical-align: middle; margin-left: 0.5rem\"><< MEDICATIONS >></span>\n",
       "</mark>\n",
       "<br>1. Docusate Sodium 100 mg Capsule Sig: One (1) Capsule PO BID (2<br>times a day).<br>Disp:*60 Capsule(s)* Refills:*2*<br>2. Senna 8.6 mg Tablet Sig: One (1) Tablet PO BID (2 times a<br>day).<br>Disp:*60 Tablet(s)* Refills:*2*<br>3. Fentanyl 50 mcg/hr Patch 72HR Sig: One (1) Patch 72HR<br>Transdermal Q72H (every 72 hours): please place new patch on<br>Thursday 01-01-2010.<br>Disp:*10 Patch 72HR(s)* Refills:*2*<br>4. Promethazine HCl 25 mg Tablet Sig: One (1) Tablet PO Q3-4H ()<br>as needed.<br>Disp:*84 Tablet(s)* Refills:*0*<br>5. Lidocaine HCl 2 % Solution Sig: One (1) ML Mucous membrane<br>Q3-4H () as needed for throat pain.<br>Disp:*112 ML(s)* Refills:*0*<br>6. Enoxaparin Sodium 40 mg/0.4mL Syringe Sig: One (1)<br>Subcutaneous Q12H (every 12 hours).<br>Disp:*30 subcutaneous injection* Refills:*2*<br>7. Dilaudid 2 mg Tablet Sig: 1-2 Tablets PO every four (4)<br>hours.<br>Disp:*60 Tablet(s)* Refills:*2*<br>8. Ambien 10 mg Tablet Sig: One (1) Tablet PO at bedtime.<br>Disp:*30 Tablet(s)* Refills:*2*<br>9. Zantac 150 mg Capsule Sig: One (1) Capsule PO twice a day.<br><br><br>\n",
       "<mark class=\"entity\" style=\"background: #dee0e3; padding: 0.45em 0.6em; margin: 0 0.25em; line-height: 1; border-radius: 0.35em;\">\n",
       "    Discharge Disposition:\n",
       "    <span style=\"font-size: 0.8em; font-weight: bold; line-height: 1; border-radius: 0.35em; vertical-align: middle; margin-left: 0.5rem\"><< OBSERVATION_AND_PLAN >></span>\n",
       "</mark>\n",
       "<br>Home<br><br>\n",
       "<mark class=\"entity\" style=\"background: #dee0e3; padding: 0.45em 0.6em; margin: 0 0.25em; line-height: 1; border-radius: 0.35em;\">\n",
       "    Discharge Diagnosis:\n",
       "    <span style=\"font-size: 0.8em; font-weight: bold; line-height: 1; border-radius: 0.35em; vertical-align: middle; margin-left: 0.5rem\"><< OBSERVATION_AND_PLAN >></span>\n",
       "</mark>\n",
       "<br>Non-small cell lung cancer<br>Left popliteal deep vein thrombosis/pulmonary embolus<br><br><br>\n",
       "<mark class=\"entity\" style=\"background: #dee0e3; padding: 0.45em 0.6em; margin: 0 0.25em; line-height: 1; border-radius: 0.35em;\">\n",
       "    Discharge Condition:\n",
       "    <span style=\"font-size: 0.8em; font-weight: bold; line-height: 1; border-radius: 0.35em; vertical-align: middle; margin-left: 0.5rem\"><< OBSERVATION_AND_PLAN >></span>\n",
       "</mark>\n",
       "<br>stable<br><br>\n",
       "<mark class=\"entity\" style=\"background: #dee0e3; padding: 0.45em 0.6em; margin: 0 0.25em; line-height: 1; border-radius: 0.35em;\">\n",
       "    Discharge Instructions:\n",
       "    <span style=\"font-size: 0.8em; font-weight: bold; line-height: 1; border-radius: 0.35em; vertical-align: middle; margin-left: 0.5rem\"><< PATIENT_INSTRUCTIONS >></span>\n",
       "</mark>\n",
       "<br>Please go the the emergency department if you have increasing<br>shortness of breath or chest pain or if you have worsening<br>blurry vision or headaches.<br><br>\n",
       "<mark class=\"entity\" style=\"background: #dee0e3; padding: 0.45em 0.6em; margin: 0 0.25em; line-height: 1; border-radius: 0.35em;\">\n",
       "    Followup Instructions:\n",
       "    <span style=\"font-size: 0.8em; font-weight: bold; line-height: 1; border-radius: 0.35em; vertical-align: middle; margin-left: 0.5rem\"><< PATIENT_INSTRUCTIONS >></span>\n",
       "</mark>\n",
       "<br>Please go for bone scan on Thursday, 01-01-2010 at 9:30 am. Main<br>entrance  - by  elevators.<br><br>Please follow up with Dr.  in the Thoracic Oncology Center<br>this Thursday, 01-01-2010 at 10:30 am.<br><br><br><br></div></span>"
      ],
      "text/plain": [
       "<IPython.core.display.HTML object>"
      ]
     },
     "metadata": {},
     "output_type": "display_data"
    }
   ],
   "source": [
    "print(\"Pipeline components:\", nlp.pipe_names)\n",
    "\n",
    "def process_note(text):\n",
    "    doc = nlp(text)\n",
    "    return doc\n",
    "\n",
    "if len(df_notes) > 0:\n",
    "    doc_sample = process_note(df_notes.iloc[0]['text'])\n",
    "    visualize_ent(doc_sample)\n"
   ]
  }
 ],
 "metadata": {
  "kernelspec": {
   "display_name": "Python 3",
   "language": "python",
   "name": "python3"
  },
  "language_info": {
   "codemirror_mode": {
    "name": "ipython",
    "version": 3
   },
   "file_extension": ".py",
   "mimetype": "text/x-python",
   "name": "python",
   "nbconvert_exporter": "python",
   "pygments_lexer": "ipython3",
   "version": "3.11.1"
  }
 },
 "nbformat": 4,
 "nbformat_minor": 2
}
